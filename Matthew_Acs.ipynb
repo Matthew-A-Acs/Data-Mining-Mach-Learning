{
  "cells": [
    {
      "cell_type": "markdown",
      "source": [
        "# Assignment 2 CAP 6673\n",
        "PCA + KPCA\n",
        "\n",
        "In this assignment, I explored the power of Principal Component Analysis (PCA) and Kernel PCA for dimensionality reduction by applying them to image data.\n",
        "\n",
        "---\n",
        "\n",
        "*Matthew Acs*"
      ],
      "metadata": {
        "id": "NucXxX1d8fuz"
      },
      "id": "NucXxX1d8fuz"
    },
    {
      "cell_type": "markdown",
      "source": [
        "# Dataset"
      ],
      "metadata": {
        "id": "wwpQO1086DcW"
      },
      "id": "wwpQO1086DcW"
    },
    {
      "cell_type": "markdown",
      "source": [
        "In this assignment, I utilized two datasets: TrainData and TestData, both containing images of 40 individuals. This notebook will perform PCA and KPCA on the image data to reduce the dimensionality, which will be followed by a classification experiment."
      ],
      "metadata": {
        "id": "lW1Y56WX6x2R"
      },
      "id": "lW1Y56WX6x2R"
    },
    {
      "cell_type": "markdown",
      "source": [
        "The code cell below imports the general libraries necessary and loads the data. The data is then separated into the image data and labels."
      ],
      "metadata": {
        "id": "qXoR-U3_6naW"
      },
      "id": "qXoR-U3_6naW"
    },
    {
      "cell_type": "code",
      "execution_count": null,
      "id": "4a5a47f7",
      "metadata": {
        "id": "4a5a47f7"
      },
      "outputs": [],
      "source": [
        "# import general libraries\n",
        "import numpy as np\n",
        "import pandas as pd\n",
        "import plotly.express as px\n",
        "import matplotlib.pyplot as plt\n",
        "from sklearn.decomposition import KernelPCA\n",
        "\n",
        "# load training data\n",
        "df_1 = pd.read_csv('TrainData.csv')\n",
        "df_1_label = df_1.loc[:,\"T_10305\"]\n",
        "df_1 = df_1.drop(columns = 'T_10305')\n",
        "\n",
        "# load test data\n",
        "df_2 = pd.read_csv('TestData.csv')\n",
        "df_2_label = df_2.loc[:,\"Label\"]\n",
        "df_2 = df_2.drop(columns = 'Label')"
      ]
    },
    {
      "cell_type": "markdown",
      "source": [
        "The cell below explores the first 5 datapoints of the training data."
      ],
      "metadata": {
        "id": "7-_HoCyi7EcK"
      },
      "id": "7-_HoCyi7EcK"
    },
    {
      "cell_type": "code",
      "source": [
        "df_1.head()"
      ],
      "metadata": {
        "colab": {
          "base_uri": "https://localhost:8080/",
          "height": 253
        },
        "id": "BeHSjdgTPv0z",
        "outputId": "d6ec1d50-f852-459e-8919-f3efb970010b"
      },
      "id": "BeHSjdgTPv0z",
      "execution_count": null,
      "outputs": [
        {
          "output_type": "execute_result",
          "data": {
            "text/plain": [
              "   T_1  T_2  T_3  T_4  T_5  T_6  T_7  T_8  T_9  T_10  ...  T_10295  T_10296  \\\n",
              "0   48   51   43   44   56   50   39   46   57    50  ...       39       39   \n",
              "1   59   66   64   52   44   50   59   64   70    70  ...       32       30   \n",
              "2   40   40   54   47   56   35   69   43   37    37  ...       30       31   \n",
              "3   62   52   34   43   31   36   27   34   35    45  ...      174      170   \n",
              "4   62   74   71   51   44   57   69   69   63    52  ...       29       30   \n",
              "\n",
              "   T_10297  T_10298  T_10299  T_10300  T_10301  T_10302  T_10303  T_10304  \n",
              "0       41       43       46       47       48       47       47       47  \n",
              "1       30       31       32       32       35       35       34       34  \n",
              "2       32       31       30       31       30       30       29       28  \n",
              "3      165      159      162      168      141       37        8       27  \n",
              "4       32       34       34       34       37       38       38       39  \n",
              "\n",
              "[5 rows x 10304 columns]"
            ],
            "text/html": [
              "\n",
              "  <div id=\"df-1b944acf-1949-4188-b6c3-48f360a793da\" class=\"colab-df-container\">\n",
              "    <div>\n",
              "<style scoped>\n",
              "    .dataframe tbody tr th:only-of-type {\n",
              "        vertical-align: middle;\n",
              "    }\n",
              "\n",
              "    .dataframe tbody tr th {\n",
              "        vertical-align: top;\n",
              "    }\n",
              "\n",
              "    .dataframe thead th {\n",
              "        text-align: right;\n",
              "    }\n",
              "</style>\n",
              "<table border=\"1\" class=\"dataframe\">\n",
              "  <thead>\n",
              "    <tr style=\"text-align: right;\">\n",
              "      <th></th>\n",
              "      <th>T_1</th>\n",
              "      <th>T_2</th>\n",
              "      <th>T_3</th>\n",
              "      <th>T_4</th>\n",
              "      <th>T_5</th>\n",
              "      <th>T_6</th>\n",
              "      <th>T_7</th>\n",
              "      <th>T_8</th>\n",
              "      <th>T_9</th>\n",
              "      <th>T_10</th>\n",
              "      <th>...</th>\n",
              "      <th>T_10295</th>\n",
              "      <th>T_10296</th>\n",
              "      <th>T_10297</th>\n",
              "      <th>T_10298</th>\n",
              "      <th>T_10299</th>\n",
              "      <th>T_10300</th>\n",
              "      <th>T_10301</th>\n",
              "      <th>T_10302</th>\n",
              "      <th>T_10303</th>\n",
              "      <th>T_10304</th>\n",
              "    </tr>\n",
              "  </thead>\n",
              "  <tbody>\n",
              "    <tr>\n",
              "      <th>0</th>\n",
              "      <td>48</td>\n",
              "      <td>51</td>\n",
              "      <td>43</td>\n",
              "      <td>44</td>\n",
              "      <td>56</td>\n",
              "      <td>50</td>\n",
              "      <td>39</td>\n",
              "      <td>46</td>\n",
              "      <td>57</td>\n",
              "      <td>50</td>\n",
              "      <td>...</td>\n",
              "      <td>39</td>\n",
              "      <td>39</td>\n",
              "      <td>41</td>\n",
              "      <td>43</td>\n",
              "      <td>46</td>\n",
              "      <td>47</td>\n",
              "      <td>48</td>\n",
              "      <td>47</td>\n",
              "      <td>47</td>\n",
              "      <td>47</td>\n",
              "    </tr>\n",
              "    <tr>\n",
              "      <th>1</th>\n",
              "      <td>59</td>\n",
              "      <td>66</td>\n",
              "      <td>64</td>\n",
              "      <td>52</td>\n",
              "      <td>44</td>\n",
              "      <td>50</td>\n",
              "      <td>59</td>\n",
              "      <td>64</td>\n",
              "      <td>70</td>\n",
              "      <td>70</td>\n",
              "      <td>...</td>\n",
              "      <td>32</td>\n",
              "      <td>30</td>\n",
              "      <td>30</td>\n",
              "      <td>31</td>\n",
              "      <td>32</td>\n",
              "      <td>32</td>\n",
              "      <td>35</td>\n",
              "      <td>35</td>\n",
              "      <td>34</td>\n",
              "      <td>34</td>\n",
              "    </tr>\n",
              "    <tr>\n",
              "      <th>2</th>\n",
              "      <td>40</td>\n",
              "      <td>40</td>\n",
              "      <td>54</td>\n",
              "      <td>47</td>\n",
              "      <td>56</td>\n",
              "      <td>35</td>\n",
              "      <td>69</td>\n",
              "      <td>43</td>\n",
              "      <td>37</td>\n",
              "      <td>37</td>\n",
              "      <td>...</td>\n",
              "      <td>30</td>\n",
              "      <td>31</td>\n",
              "      <td>32</td>\n",
              "      <td>31</td>\n",
              "      <td>30</td>\n",
              "      <td>31</td>\n",
              "      <td>30</td>\n",
              "      <td>30</td>\n",
              "      <td>29</td>\n",
              "      <td>28</td>\n",
              "    </tr>\n",
              "    <tr>\n",
              "      <th>3</th>\n",
              "      <td>62</td>\n",
              "      <td>52</td>\n",
              "      <td>34</td>\n",
              "      <td>43</td>\n",
              "      <td>31</td>\n",
              "      <td>36</td>\n",
              "      <td>27</td>\n",
              "      <td>34</td>\n",
              "      <td>35</td>\n",
              "      <td>45</td>\n",
              "      <td>...</td>\n",
              "      <td>174</td>\n",
              "      <td>170</td>\n",
              "      <td>165</td>\n",
              "      <td>159</td>\n",
              "      <td>162</td>\n",
              "      <td>168</td>\n",
              "      <td>141</td>\n",
              "      <td>37</td>\n",
              "      <td>8</td>\n",
              "      <td>27</td>\n",
              "    </tr>\n",
              "    <tr>\n",
              "      <th>4</th>\n",
              "      <td>62</td>\n",
              "      <td>74</td>\n",
              "      <td>71</td>\n",
              "      <td>51</td>\n",
              "      <td>44</td>\n",
              "      <td>57</td>\n",
              "      <td>69</td>\n",
              "      <td>69</td>\n",
              "      <td>63</td>\n",
              "      <td>52</td>\n",
              "      <td>...</td>\n",
              "      <td>29</td>\n",
              "      <td>30</td>\n",
              "      <td>32</td>\n",
              "      <td>34</td>\n",
              "      <td>34</td>\n",
              "      <td>34</td>\n",
              "      <td>37</td>\n",
              "      <td>38</td>\n",
              "      <td>38</td>\n",
              "      <td>39</td>\n",
              "    </tr>\n",
              "  </tbody>\n",
              "</table>\n",
              "<p>5 rows × 10304 columns</p>\n",
              "</div>\n",
              "    <div class=\"colab-df-buttons\">\n",
              "\n",
              "  <div class=\"colab-df-container\">\n",
              "    <button class=\"colab-df-convert\" onclick=\"convertToInteractive('df-1b944acf-1949-4188-b6c3-48f360a793da')\"\n",
              "            title=\"Convert this dataframe to an interactive table.\"\n",
              "            style=\"display:none;\">\n",
              "\n",
              "  <svg xmlns=\"http://www.w3.org/2000/svg\" height=\"24px\" viewBox=\"0 -960 960 960\">\n",
              "    <path d=\"M120-120v-720h720v720H120Zm60-500h600v-160H180v160Zm220 220h160v-160H400v160Zm0 220h160v-160H400v160ZM180-400h160v-160H180v160Zm440 0h160v-160H620v160ZM180-180h160v-160H180v160Zm440 0h160v-160H620v160Z\"/>\n",
              "  </svg>\n",
              "    </button>\n",
              "\n",
              "  <style>\n",
              "    .colab-df-container {\n",
              "      display:flex;\n",
              "      gap: 12px;\n",
              "    }\n",
              "\n",
              "    .colab-df-convert {\n",
              "      background-color: #E8F0FE;\n",
              "      border: none;\n",
              "      border-radius: 50%;\n",
              "      cursor: pointer;\n",
              "      display: none;\n",
              "      fill: #1967D2;\n",
              "      height: 32px;\n",
              "      padding: 0 0 0 0;\n",
              "      width: 32px;\n",
              "    }\n",
              "\n",
              "    .colab-df-convert:hover {\n",
              "      background-color: #E2EBFA;\n",
              "      box-shadow: 0px 1px 2px rgba(60, 64, 67, 0.3), 0px 1px 3px 1px rgba(60, 64, 67, 0.15);\n",
              "      fill: #174EA6;\n",
              "    }\n",
              "\n",
              "    .colab-df-buttons div {\n",
              "      margin-bottom: 4px;\n",
              "    }\n",
              "\n",
              "    [theme=dark] .colab-df-convert {\n",
              "      background-color: #3B4455;\n",
              "      fill: #D2E3FC;\n",
              "    }\n",
              "\n",
              "    [theme=dark] .colab-df-convert:hover {\n",
              "      background-color: #434B5C;\n",
              "      box-shadow: 0px 1px 3px 1px rgba(0, 0, 0, 0.15);\n",
              "      filter: drop-shadow(0px 1px 2px rgba(0, 0, 0, 0.3));\n",
              "      fill: #FFFFFF;\n",
              "    }\n",
              "  </style>\n",
              "\n",
              "    <script>\n",
              "      const buttonEl =\n",
              "        document.querySelector('#df-1b944acf-1949-4188-b6c3-48f360a793da button.colab-df-convert');\n",
              "      buttonEl.style.display =\n",
              "        google.colab.kernel.accessAllowed ? 'block' : 'none';\n",
              "\n",
              "      async function convertToInteractive(key) {\n",
              "        const element = document.querySelector('#df-1b944acf-1949-4188-b6c3-48f360a793da');\n",
              "        const dataTable =\n",
              "          await google.colab.kernel.invokeFunction('convertToInteractive',\n",
              "                                                    [key], {});\n",
              "        if (!dataTable) return;\n",
              "\n",
              "        const docLinkHtml = 'Like what you see? Visit the ' +\n",
              "          '<a target=\"_blank\" href=https://colab.research.google.com/notebooks/data_table.ipynb>data table notebook</a>'\n",
              "          + ' to learn more about interactive tables.';\n",
              "        element.innerHTML = '';\n",
              "        dataTable['output_type'] = 'display_data';\n",
              "        await google.colab.output.renderOutput(dataTable, element);\n",
              "        const docLink = document.createElement('div');\n",
              "        docLink.innerHTML = docLinkHtml;\n",
              "        element.appendChild(docLink);\n",
              "      }\n",
              "    </script>\n",
              "  </div>\n",
              "\n",
              "\n",
              "<div id=\"df-ca43aca7-7cc7-483f-a14d-95e5b97f5785\">\n",
              "  <button class=\"colab-df-quickchart\" onclick=\"quickchart('df-ca43aca7-7cc7-483f-a14d-95e5b97f5785')\"\n",
              "            title=\"Suggest charts.\"\n",
              "            style=\"display:none;\">\n",
              "\n",
              "<svg xmlns=\"http://www.w3.org/2000/svg\" height=\"24px\"viewBox=\"0 0 24 24\"\n",
              "     width=\"24px\">\n",
              "    <g>\n",
              "        <path d=\"M19 3H5c-1.1 0-2 .9-2 2v14c0 1.1.9 2 2 2h14c1.1 0 2-.9 2-2V5c0-1.1-.9-2-2-2zM9 17H7v-7h2v7zm4 0h-2V7h2v10zm4 0h-2v-4h2v4z\"/>\n",
              "    </g>\n",
              "</svg>\n",
              "  </button>\n",
              "\n",
              "<style>\n",
              "  .colab-df-quickchart {\n",
              "      --bg-color: #E8F0FE;\n",
              "      --fill-color: #1967D2;\n",
              "      --hover-bg-color: #E2EBFA;\n",
              "      --hover-fill-color: #174EA6;\n",
              "      --disabled-fill-color: #AAA;\n",
              "      --disabled-bg-color: #DDD;\n",
              "  }\n",
              "\n",
              "  [theme=dark] .colab-df-quickchart {\n",
              "      --bg-color: #3B4455;\n",
              "      --fill-color: #D2E3FC;\n",
              "      --hover-bg-color: #434B5C;\n",
              "      --hover-fill-color: #FFFFFF;\n",
              "      --disabled-bg-color: #3B4455;\n",
              "      --disabled-fill-color: #666;\n",
              "  }\n",
              "\n",
              "  .colab-df-quickchart {\n",
              "    background-color: var(--bg-color);\n",
              "    border: none;\n",
              "    border-radius: 50%;\n",
              "    cursor: pointer;\n",
              "    display: none;\n",
              "    fill: var(--fill-color);\n",
              "    height: 32px;\n",
              "    padding: 0;\n",
              "    width: 32px;\n",
              "  }\n",
              "\n",
              "  .colab-df-quickchart:hover {\n",
              "    background-color: var(--hover-bg-color);\n",
              "    box-shadow: 0 1px 2px rgba(60, 64, 67, 0.3), 0 1px 3px 1px rgba(60, 64, 67, 0.15);\n",
              "    fill: var(--button-hover-fill-color);\n",
              "  }\n",
              "\n",
              "  .colab-df-quickchart-complete:disabled,\n",
              "  .colab-df-quickchart-complete:disabled:hover {\n",
              "    background-color: var(--disabled-bg-color);\n",
              "    fill: var(--disabled-fill-color);\n",
              "    box-shadow: none;\n",
              "  }\n",
              "\n",
              "  .colab-df-spinner {\n",
              "    border: 2px solid var(--fill-color);\n",
              "    border-color: transparent;\n",
              "    border-bottom-color: var(--fill-color);\n",
              "    animation:\n",
              "      spin 1s steps(1) infinite;\n",
              "  }\n",
              "\n",
              "  @keyframes spin {\n",
              "    0% {\n",
              "      border-color: transparent;\n",
              "      border-bottom-color: var(--fill-color);\n",
              "      border-left-color: var(--fill-color);\n",
              "    }\n",
              "    20% {\n",
              "      border-color: transparent;\n",
              "      border-left-color: var(--fill-color);\n",
              "      border-top-color: var(--fill-color);\n",
              "    }\n",
              "    30% {\n",
              "      border-color: transparent;\n",
              "      border-left-color: var(--fill-color);\n",
              "      border-top-color: var(--fill-color);\n",
              "      border-right-color: var(--fill-color);\n",
              "    }\n",
              "    40% {\n",
              "      border-color: transparent;\n",
              "      border-right-color: var(--fill-color);\n",
              "      border-top-color: var(--fill-color);\n",
              "    }\n",
              "    60% {\n",
              "      border-color: transparent;\n",
              "      border-right-color: var(--fill-color);\n",
              "    }\n",
              "    80% {\n",
              "      border-color: transparent;\n",
              "      border-right-color: var(--fill-color);\n",
              "      border-bottom-color: var(--fill-color);\n",
              "    }\n",
              "    90% {\n",
              "      border-color: transparent;\n",
              "      border-bottom-color: var(--fill-color);\n",
              "    }\n",
              "  }\n",
              "</style>\n",
              "\n",
              "  <script>\n",
              "    async function quickchart(key) {\n",
              "      const quickchartButtonEl =\n",
              "        document.querySelector('#' + key + ' button');\n",
              "      quickchartButtonEl.disabled = true;  // To prevent multiple clicks.\n",
              "      quickchartButtonEl.classList.add('colab-df-spinner');\n",
              "      try {\n",
              "        const charts = await google.colab.kernel.invokeFunction(\n",
              "            'suggestCharts', [key], {});\n",
              "      } catch (error) {\n",
              "        console.error('Error during call to suggestCharts:', error);\n",
              "      }\n",
              "      quickchartButtonEl.classList.remove('colab-df-spinner');\n",
              "      quickchartButtonEl.classList.add('colab-df-quickchart-complete');\n",
              "    }\n",
              "    (() => {\n",
              "      let quickchartButtonEl =\n",
              "        document.querySelector('#df-ca43aca7-7cc7-483f-a14d-95e5b97f5785 button');\n",
              "      quickchartButtonEl.style.display =\n",
              "        google.colab.kernel.accessAllowed ? 'block' : 'none';\n",
              "    })();\n",
              "  </script>\n",
              "</div>\n",
              "    </div>\n",
              "  </div>\n"
            ]
          },
          "metadata": {},
          "execution_count": 151
        }
      ]
    },
    {
      "cell_type": "markdown",
      "source": [
        "The next step is to convert the data, in pandas data frames, to numpy arrays, so that we may use them to complete PCA and KPCA from scratch and using Sklearn."
      ],
      "metadata": {
        "id": "gsdK9neW7wP4"
      },
      "id": "gsdK9neW7wP4"
    },
    {
      "cell_type": "code",
      "source": [
        "## Convert the data frame to a numpy array\n",
        "train_x = df_1.to_numpy()\n",
        "train_y = df_1_label.to_numpy()\n",
        "\n",
        "test_x = df_2.to_numpy()\n",
        "test_y = df_2_label.to_numpy()"
      ],
      "metadata": {
        "id": "N1t4gQ8y8isF"
      },
      "id": "N1t4gQ8y8isF",
      "execution_count": null,
      "outputs": []
    },
    {
      "cell_type": "markdown",
      "source": [
        "Below is one of the images in the training dataset displayed after converting it back from its flattened shape."
      ],
      "metadata": {
        "id": "rl0u7pVV8Bas"
      },
      "id": "rl0u7pVV8Bas"
    },
    {
      "cell_type": "code",
      "source": [
        "plt.imshow(np.reshape(train_x[4], (112, 92)))"
      ],
      "metadata": {
        "colab": {
          "base_uri": "https://localhost:8080/",
          "height": 451
        },
        "id": "JvBBZqnONH9y",
        "outputId": "a4924d5e-a571-4561-fd11-67744fe9a9e1"
      },
      "id": "JvBBZqnONH9y",
      "execution_count": null,
      "outputs": [
        {
          "output_type": "execute_result",
          "data": {
            "text/plain": [
              "<matplotlib.image.AxesImage at 0x7f52ba475a20>"
            ]
          },
          "metadata": {},
          "execution_count": 153
        },
        {
          "output_type": "display_data",
          "data": {
            "text/plain": [
              "<Figure size 640x480 with 1 Axes>"
            ],
            "image/png": "[encoded data removed]"
          },
          "metadata": {}
        }
      ]
    },
    {
      "cell_type": "markdown",
      "source": [
        "The size of the dataset is 200 samples each with 10304-pixel values (or attributes)."
      ],
      "metadata": {
        "id": "XJ5cDV-l8Ro4"
      },
      "id": "XJ5cDV-l8Ro4"
    },
    {
      "cell_type": "code",
      "source": [
        "print(np.shape(train_x))"
      ],
      "metadata": {
        "colab": {
          "base_uri": "https://localhost:8080/"
        },
        "id": "b4sU48uWPma9",
        "outputId": "95acc2f2-97dd-4f20-c7d1-48873f30229e"
      },
      "id": "b4sU48uWPma9",
      "execution_count": null,
      "outputs": [
        {
          "output_type": "stream",
          "name": "stdout",
          "text": [
            "(200, 10304)\n"
          ]
        }
      ]
    },
    {
      "cell_type": "markdown",
      "source": [
        "Each label also has exactly five representative images in the dataset."
      ],
      "metadata": {
        "id": "_np0k8Q48Sum"
      },
      "id": "_np0k8Q48Sum"
    },
    {
      "cell_type": "code",
      "source": [
        "label_counts = np.bincount(train_y)\n",
        "print(label_counts)"
      ],
      "metadata": {
        "colab": {
          "base_uri": "https://localhost:8080/"
        },
        "id": "dDeqm1nLPYGg",
        "outputId": "2796c196-f11f-4eb4-8fc2-7de34dd663fd"
      },
      "id": "dDeqm1nLPYGg",
      "execution_count": null,
      "outputs": [
        {
          "output_type": "stream",
          "name": "stdout",
          "text": [
            "[0 5 5 5 5 5 5 5 5 5 5 5 5 5 5 5 5 5 5 5 5 5 5 5 5 5 5 5 5 5 5 5 5 5 5 5 5\n",
            " 5 5 5 5]\n"
          ]
        }
      ]
    },
    {
      "cell_type": "markdown",
      "source": [
        "\n",
        "\n",
        "---\n",
        "\n"
      ],
      "metadata": {
        "id": "zEVgJ5oNgKZf"
      },
      "id": "zEVgJ5oNgKZf"
    },
    {
      "cell_type": "markdown",
      "source": [
        "# Part 1: Principal Component Analysis (PCA)"
      ],
      "metadata": {
        "id": "JU3-U8Ie5-85"
      },
      "id": "JU3-U8Ie5-85"
    },
    {
      "cell_type": "markdown",
      "source": [
        "Part 1 of this notebook will explore dimensionality reduction using PCA. PCA will be applied using numpy-based and Sklearn-based code."
      ],
      "metadata": {
        "id": "_GWTYYs49IBI"
      },
      "id": "_GWTYYs49IBI"
    },
    {
      "cell_type": "markdown",
      "source": [
        "## 1.1 Implement PCA from Scratch:"
      ],
      "metadata": {
        "id": "6tA7Tw4z6HmC"
      },
      "id": "6tA7Tw4z6HmC"
    },
    {
      "cell_type": "markdown",
      "source": [
        "### a. Write Python code to implement PCA from scratch."
      ],
      "metadata": {
        "id": "oenN7jtL6KYz"
      },
      "id": "oenN7jtL6KYz"
    },
    {
      "cell_type": "markdown",
      "source": [
        "The first step to implement PCA from scratch is to create a PCA function. The function below centers the data, computes its covariance matrix, finds its eigenvalues and eigenvectors, sorts the eigenvectors in descending order with respect to their corresponding eigenvalues, and finally projects the data based on k components. The function also returns the eigenvalues and eigenvectors so that they may be used later and the process of computing them does not need to be repeated."
      ],
      "metadata": {
        "id": "NZ12vgkw-CwY"
      },
      "id": "NZ12vgkw-CwY"
    },
    {
      "cell_type": "code",
      "execution_count": null,
      "id": "7b6edc41",
      "metadata": {
        "id": "7b6edc41"
      },
      "outputs": [],
      "source": [
        "def my_pca(Data,k):\n",
        "  # Center the data\n",
        "  data_centered = Data - np.mean(Data, axis=0)\n",
        "\n",
        "  # Calculate the covariance matrix\n",
        "  cov_matrix = np.cov(data_centered, rowvar=False)\n",
        "\n",
        "  # Perform eigenvalue decomposition\n",
        "  eigenvalues, eigenvectors = np.linalg.eig(cov_matrix)\n",
        "\n",
        "  # Sort eigenvalues and eigenvectors in descending order\n",
        "  sorted_indices = np.argsort(eigenvalues)[::-1]\n",
        "  eigenvalues = eigenvalues[sorted_indices]\n",
        "  eigenvectors = eigenvectors[:, sorted_indices]\n",
        "\n",
        "  # Project the data onto the selected components\n",
        "  data_pca_numpy = np.dot(eigenvectors[:, :k].T, data_centered.T).T\n",
        "\n",
        "  return(data_pca_numpy.real, eigenvectors.real, eigenvalues.real)"
      ]
    },
    {
      "cell_type": "markdown",
      "source": [
        "### b. Apply your PCA implementation to the Train dataset to reduce the dimensionality of the images."
      ],
      "metadata": {
        "id": "SLP1ptgg6R-C"
      },
      "id": "SLP1ptgg6R-C"
    },
    {
      "cell_type": "markdown",
      "source": [
        "To apply the PCA implementation, I simply call the function and print the transformed data."
      ],
      "metadata": {
        "id": "4RCQsPTd-Yfc"
      },
      "id": "4RCQsPTd-Yfc"
    },
    {
      "cell_type": "code",
      "source": [
        "pca_train_3, pca_train_eigenvector, pca_train_eigenvalues = my_pca(train_x, 3)\n",
        "print(pca_train_3)"
      ],
      "metadata": {
        "id": "p24y5jje_owZ",
        "colab": {
          "base_uri": "https://localhost:8080/"
        },
        "outputId": "f3eabbc8-b9fb-484d-e743-c0584479254d"
      },
      "id": "p24y5jje_owZ",
      "execution_count": null,
      "outputs": [
        {
          "output_type": "stream",
          "name": "stdout",
          "text": [
            "[[-1.36240472e+03 -1.41001500e+03  1.78687541e+03]\n",
            " [-2.90370161e+03 -1.13507676e+03 -3.13628798e+02]\n",
            " [-2.57225743e+03 -8.08304607e+02  7.95659059e+02]\n",
            " [-3.09043133e+03 -1.40629798e+03  3.90822041e+02]\n",
            " [-3.54602885e+03 -1.23685556e+03  5.53476211e+02]\n",
            " [ 2.85401407e+03 -8.31535772e+02 -3.32695881e+02]\n",
            " [ 2.69462883e+03 -1.32328466e+03  3.68338583e+02]\n",
            " [ 2.54383563e+03 -1.50251605e+03  7.64484208e+02]\n",
            " [ 2.30322993e+03 -1.42158410e+03  5.82286716e+02]\n",
            " [ 1.79163694e+03 -2.26330685e+03  1.18374089e+03]\n",
            " [ 1.01425781e+03  5.12050035e+02  1.34287573e+03]\n",
            " [ 6.75087808e+02  9.52497841e+02  7.26169061e+02]\n",
            " [ 2.26694958e+02  7.68756951e+02  1.24834578e+03]\n",
            " [-9.34339480e+02  1.37707163e+03  1.28524181e+03]\n",
            " [-7.82034589e+02  1.25163216e+03  1.32183743e+03]\n",
            " [-2.05191717e+03 -1.64077692e+03  3.48237508e+02]\n",
            " [-1.18553138e+03 -7.34245165e+02 -8.56473892e+02]\n",
            " [-1.34162227e+03 -3.35957352e+02 -1.16506842e+03]\n",
            " [-9.15988115e+02 -4.99259605e+02 -1.16290483e+03]\n",
            " [-8.47028206e+02 -9.21088308e+02 -7.78678424e+02]\n",
            " [-2.38290382e+03  4.37711418e+01 -1.79898670e+03]\n",
            " [-2.37827986e+03  1.53042087e+02 -2.01991629e+03]\n",
            " [-2.61424765e+03 -1.68000686e+02 -1.76897558e+03]\n",
            " [-2.40530814e+03 -5.17909626e+01 -1.77053304e+03]\n",
            " [-2.37122854e+03 -7.06428974e+02 -1.07647355e+03]\n",
            " [-2.09934209e+03  2.78058856e+03 -7.41034302e+02]\n",
            " [-1.93015730e+03  2.68395248e+03 -5.53299059e+02]\n",
            " [-2.03940206e+03  2.67401334e+03 -5.61005214e+02]\n",
            " [-1.91967713e+03  2.73226135e+03 -7.70912534e+02]\n",
            " [-1.79999237e+03  3.15054087e+03 -1.23877277e+03]\n",
            " [-2.24429494e+02  6.60640105e+02  1.44520919e+03]\n",
            " [ 5.83217505e+02 -3.90629051e+02 -9.82292576e+02]\n",
            " [-9.53681771e+01  7.02995798e+02  1.51223652e+03]\n",
            " [ 1.71360991e+02  6.01833782e+02  1.46411851e+03]\n",
            " [ 5.67083590e+02 -1.00195367e+02 -9.14787674e+02]\n",
            " [-6.04219667e+02  1.47854720e+03  2.06261287e+03]\n",
            " [-7.40211400e+02 -6.38705487e+02  1.91509900e+03]\n",
            " [-1.11777023e+03 -5.78827367e+02  1.55117778e+03]\n",
            " [-3.77148610e+03 -1.02657688e+02  1.11683907e+03]\n",
            " [-3.51209419e+03 -1.26479194e+02  1.24556226e+03]\n",
            " [-9.19023867e+02 -5.26373754e+02  1.45506103e+03]\n",
            " [-2.77444753e+02 -1.25401422e+03  1.54147928e+03]\n",
            " [ 5.58306893e+02 -1.02432022e+03  8.40569584e+02]\n",
            " [ 8.75391020e+02 -1.06719877e+03  7.63973701e+02]\n",
            " [-6.58039925e+02 -8.52769588e+02  1.63189805e+03]\n",
            " [-2.02548842e+03 -2.05681235e+03 -2.28715698e+02]\n",
            " [-1.87423280e+03 -1.68873791e+03 -7.32408704e+02]\n",
            " [-2.00868159e+03 -1.35677020e+03 -1.43023588e+03]\n",
            " [-2.13518598e+03 -1.28130687e+03 -7.35808941e+02]\n",
            " [-1.89637538e+03 -1.57576927e+03 -9.32456289e+02]\n",
            " [-2.22544840e+03  1.05897932e+03  1.16911545e+03]\n",
            " [-2.46364040e+03  1.18859308e+03  8.84394164e+02]\n",
            " [-2.95290186e+03  1.28403544e+03  7.85733329e+02]\n",
            " [-2.62725319e+03  8.62270731e+02  1.46610569e+03]\n",
            " [-2.60532341e+03  8.52404704e+02  1.55862165e+03]\n",
            " [-9.19328073e+02  4.60540346e+02  1.53823693e+03]\n",
            " [-7.70338118e+02  3.43786173e+02  1.57631234e+03]\n",
            " [-1.04306674e+03  4.80620054e+02  1.32709691e+03]\n",
            " [-7.41507979e+02  5.03767587e+02  1.53887260e+03]\n",
            " [-9.16754411e+02  2.79851838e+02  1.44660703e+03]\n",
            " [ 2.78621701e+03 -3.21091739e+02  3.64741916e+02]\n",
            " [ 2.92392436e+03 -3.44893220e+02  2.57758786e+02]\n",
            " [ 2.59437830e+03 -4.25463078e+01  5.62449906e+02]\n",
            " [ 2.03636727e+03 -1.87080305e+02  7.35649839e+02]\n",
            " [ 8.98544997e+02 -1.22343571e+03  1.43585403e+03]\n",
            " [ 2.13411591e+03  7.16445080e+01 -3.32597582e+02]\n",
            " [ 2.28990028e+03  5.34139744e+02 -7.33206629e+02]\n",
            " [ 2.45114446e+03  6.26406931e+02 -9.62958803e+02]\n",
            " [ 1.73478828e+03 -4.62393018e+02 -2.74120191e+02]\n",
            " [ 1.90762851e+03 -6.77335632e+02 -1.97712009e+02]\n",
            " [ 1.68561910e+03  2.53683205e+03  2.58799781e+02]\n",
            " [ 1.31614470e+03  2.80480854e+03 -7.85479536e+01]\n",
            " [ 1.80061187e+03  2.16183046e+03  2.44747134e+02]\n",
            " [ 1.50877367e+03  2.58018362e+03  1.46834632e+02]\n",
            " [ 1.02096955e+03  2.73263705e+03  2.02411486e+02]\n",
            " [ 1.57278335e+03 -1.99137379e+03 -2.88686093e+02]\n",
            " [ 1.54381132e+03 -2.23860131e+03  4.07506342e+02]\n",
            " [ 2.12568887e+03 -9.66676914e+02 -5.74826113e+02]\n",
            " [ 1.81910088e+03 -6.15563175e+02 -1.10123169e+03]\n",
            " [ 2.16279887e+03 -9.38400608e+02 -4.84273596e+02]\n",
            " [ 9.30971702e+02 -6.16584170e+01  2.14548875e+03]\n",
            " [ 9.77388100e+02  1.62447495e+01  2.14708390e+03]\n",
            " [ 1.46741415e+03  1.01611319e+02  1.70099117e+03]\n",
            " [ 5.39588335e+02  3.19602103e+02  2.16314939e+03]\n",
            " [ 7.49932843e+02  9.76728465e+02  1.57906569e+03]\n",
            " [-1.84356856e+02 -1.40597566e+03 -1.01918877e+03]\n",
            " [-5.61682706e+02 -9.64053876e+02 -7.70677968e+02]\n",
            " [-5.66359411e+02 -1.51599377e+03 -6.73650024e+02]\n",
            " [-1.03166323e+03  3.09724223e+02 -1.73646437e+03]\n",
            " [-1.26009468e+03  4.48156698e+02 -1.80148799e+03]\n",
            " [-1.78986048e+03 -1.63189838e+01 -1.25351873e+03]\n",
            " [-1.68804114e+03 -6.02013741e+02 -1.62146413e+03]\n",
            " [-1.70528814e+03 -5.00724048e+02 -1.02854707e+03]\n",
            " [-1.28935670e+03 -2.73355596e+02 -1.46490927e+03]\n",
            " [-1.12351038e+03  1.76879409e+00 -1.45681650e+03]\n",
            " [-2.06475432e+03  1.10975030e+03  1.04928807e+03]\n",
            " [-2.45990678e+03  1.01862347e+03  1.24642704e+03]\n",
            " [-2.41846616e+03  9.45139890e+02  1.32570418e+03]\n",
            " [-2.29601995e+03  9.13171928e+02  1.26535312e+03]\n",
            " [-2.06617324e+03  8.29339750e+02  1.33129226e+03]\n",
            " [-1.90530553e+03  1.22081971e+03 -1.30095922e+03]\n",
            " [-1.42146159e+03  1.24448963e+03  1.06925845e+03]\n",
            " [-1.51331319e+03  1.20562973e+03 -1.49439185e+03]\n",
            " [-1.22205540e+03  1.63876343e+03  2.20687304e+02]\n",
            " [-1.58308634e+03  1.54425266e+03  8.10152105e+02]\n",
            " [ 3.01175909e+03  1.01006582e+03 -6.95516564e+02]\n",
            " [ 3.03792495e+03  8.42433649e+02 -7.26178789e+02]\n",
            " [ 2.97115491e+03  1.28536292e+03 -6.92975356e+02]\n",
            " [ 2.58954202e+03 -1.87653155e+02 -3.59142003e+01]\n",
            " [ 2.04307749e+03 -9.14786953e+01 -1.36069470e+02]\n",
            " [ 7.84352156e+01 -7.42465412e+02 -4.85390541e+02]\n",
            " [ 1.93506024e+02 -9.28599787e+02 -4.05935594e+02]\n",
            " [-9.29969158e+01 -9.47795364e+02 -2.01735191e+02]\n",
            " [-8.43117728e+02 -7.51227745e+01 -9.64551579e+02]\n",
            " [-1.03094464e+03  2.62864390e+02 -1.28520789e+03]\n",
            " [ 2.37739978e+03 -3.69053848e+02  2.06839057e+02]\n",
            " [ 2.77342496e+03  1.81000788e+02 -5.82263112e+01]\n",
            " [ 2.78534744e+03 -3.97050161e+02 -1.70656706e+02]\n",
            " [ 2.79103969e+03  6.88853223e+02 -1.27408520e+02]\n",
            " [ 2.98589431e+03  8.86378525e+02 -6.17758113e+02]\n",
            " [ 2.19706196e+03 -2.76339566e+02 -5.68868508e+02]\n",
            " [ 6.20322340e+02  1.37379556e+03  6.33514297e+02]\n",
            " [-3.62294233e+02  1.87366040e+03  4.25783917e+02]\n",
            " [-3.43347401e+02  1.93538290e+03  2.46459153e+02]\n",
            " [-6.26660805e+02  1.90204801e+03  5.36003299e+01]\n",
            " [-2.21834310e+03 -6.70566519e+02  7.75822655e+02]\n",
            " [-2.61896232e+03  2.22090661e+02  3.81117565e+02]\n",
            " [-2.47557811e+03  2.50532682e+02  1.53675209e+02]\n",
            " [-2.47359078e+03 -7.30865798e+01  5.84347224e+02]\n",
            " [-1.82694078e+03 -2.91906671e+02  8.18838553e+02]\n",
            " [ 2.95574110e+03  1.29351561e+03 -3.50085469e+02]\n",
            " [ 3.09363924e+03  1.56268009e+03 -4.32657929e+02]\n",
            " [ 3.16898185e+03  1.42333065e+03 -4.51427360e+02]\n",
            " [ 3.06136750e+03  1.57723021e+03 -5.83283290e+02]\n",
            " [ 2.85906477e+03  5.24896644e+02  6.77883685e+02]\n",
            " [ 3.90489603e+02  3.08066264e+03 -6.86808447e+01]\n",
            " [ 3.32020108e+02  2.91193308e+03  1.93856795e+01]\n",
            " [ 1.96691966e+02  2.81657315e+03  2.15622404e+01]\n",
            " [ 1.93282274e+02  3.18036155e+03 -2.04539763e+02]\n",
            " [-1.48197953e+01  3.59387193e+03 -7.22384508e+02]\n",
            " [ 5.10502996e+02 -5.19609681e+02 -1.94071841e+03]\n",
            " [-4.69712333e+01 -4.85589477e+02 -1.39327961e+03]\n",
            " [-6.04227770e+02  7.78265402e+02 -9.65726210e+02]\n",
            " [ 1.05034653e+02  4.22542723e+01 -1.50953075e+03]\n",
            " [-1.65524897e+03 -4.44440498e+02 -4.92984730e+02]\n",
            " [-4.22371702e+02 -2.43614381e+03  1.58272229e+03]\n",
            " [ 1.53850737e+03 -9.75060170e+02  1.23108599e+03]\n",
            " [ 1.31657821e+03 -1.14464252e+03  1.71901486e+03]\n",
            " [ 1.34877528e+03 -1.17892015e+03  1.89174128e+03]\n",
            " [-3.65606223e+02 -2.06814970e+03  1.31470709e+03]\n",
            " [-1.61961216e+03  3.53880800e+02 -1.38453764e+03]\n",
            " [-1.57641577e+03  2.48371647e+03 -2.37588990e+02]\n",
            " [-1.75395831e+03  5.35425113e+02 -1.52783475e+03]\n",
            " [-1.73537731e+03  2.55342903e+03 -4.18356329e+02]\n",
            " [-1.16436789e+03  2.49821853e+03 -1.78630139e+02]\n",
            " [ 1.90664245e+03 -1.27890405e+03 -6.46570001e+02]\n",
            " [ 1.95968980e+03 -1.17192896e+03 -5.18196153e+02]\n",
            " [ 1.72051129e+03 -5.39427796e+02 -9.03296368e+02]\n",
            " [ 1.32064639e+03 -1.45425459e+03  1.21877592e+02]\n",
            " [ 1.97994202e+03 -9.35789888e+02 -5.40435804e+02]\n",
            " [ 2.21644894e+03  2.71513199e+03 -6.22214067e+02]\n",
            " [ 2.53099975e+03  2.77716598e+03 -5.07386552e+02]\n",
            " [ 3.02600335e+03  2.97714373e+03 -6.46145174e+02]\n",
            " [ 2.76083648e+03  3.13932465e+03 -4.69158243e+02]\n",
            " [ 2.64808870e+03  2.08935916e+03 -7.77654240e+02]\n",
            " [ 3.29636406e+02 -8.62407683e+02 -4.39178280e+02]\n",
            " [ 1.37173526e+02 -7.01434674e+02  1.72623986e+02]\n",
            " [-8.73322062e+01 -3.81413855e+02 -4.21166562e+02]\n",
            " [-1.40037128e+02 -1.69360363e+03  5.19481716e+02]\n",
            " [-2.36681539e+02 -1.67378938e+03  7.60918381e+02]\n",
            " [-4.91987591e+02 -1.22146254e+03 -1.48170125e+03]\n",
            " [-7.33616566e+02 -1.83835745e+03 -6.75607043e+02]\n",
            " [-6.54155719e+02 -2.08120068e+03 -7.51220094e+02]\n",
            " [-4.45152236e+02 -1.78054159e+02 -2.37544109e+03]\n",
            " [-8.82509726e+02 -1.83240631e+03 -9.71707183e+02]\n",
            " [-1.01624044e+03 -5.21444983e+02 -2.15277380e+03]\n",
            " [-1.06688804e+03 -7.50995417e+02 -1.81446218e+03]\n",
            " [-8.75511754e+02 -1.12088171e+03 -1.65599380e+03]\n",
            " [-9.24731855e+02 -3.30224577e+02 -2.18968727e+03]\n",
            " [-1.46211908e+03 -2.02007915e+03 -1.08113519e+03]\n",
            " [ 1.14714472e+03 -2.18651042e+03 -1.20609289e+03]\n",
            " [ 1.16979305e+03 -1.93666735e+03 -1.34151110e+03]\n",
            " [ 1.04213785e+03 -2.27345617e+03 -1.13137783e+03]\n",
            " [ 5.50730932e+02 -3.03131888e+03 -6.13909149e+02]\n",
            " [ 4.88129069e+02 -3.41105904e+03 -6.55309612e+02]\n",
            " [ 9.48713644e+02 -1.41320144e+03  1.45053301e+03]\n",
            " [ 9.60735495e+02 -4.56155293e+02  1.38013574e+03]\n",
            " [ 7.63622313e+02 -1.59071652e+03  1.53176911e+03]\n",
            " [ 5.69504283e+02 -1.67258961e+03  8.67936051e+02]\n",
            " [ 4.17267064e+02 -1.76860970e+03  1.30989294e+03]\n",
            " [ 1.49498400e+02 -6.79701980e+02  5.82156667e+02]\n",
            " [ 1.19515025e+02 -2.28958031e+02  5.13996680e+02]\n",
            " [-3.08072771e+02 -1.79193852e+03  1.37259684e+03]\n",
            " [-1.33789474e+01 -7.35517484e+02  4.49293326e+02]\n",
            " [-9.37305469e+02 -1.18858592e+03  1.23760639e+03]\n",
            " [ 1.53213381e+03 -8.97735436e+02 -5.00306255e+02]\n",
            " [ 1.32316710e+03 -1.05164098e+03 -7.09736937e+02]\n",
            " [ 1.29241733e+03 -8.26522996e+02 -4.21535420e+02]\n",
            " [ 1.09666971e+03 -1.35182683e+03 -2.57268771e+02]\n",
            " [ 1.42595118e+03 -1.60235752e+03 -1.85818171e+02]]\n"
          ]
        }
      ]
    },
    {
      "cell_type": "markdown",
      "source": [
        "Below, the transformed data is plotted in 3-dimensions. The color of each point represents the label associated with the point. As the plot shows, points tend to cluster is groups of 5 with points in a group having the same color. This shows that each class occupies a distinct region within the three-dimensional space, which indicates a degree of similarity between each datapoint and a good chance of classification success based on models such as a KNN."
      ],
      "metadata": {
        "id": "rTmAZW9K_KMy"
      },
      "id": "rTmAZW9K_KMy"
    },
    {
      "cell_type": "markdown",
      "source": [
        "The graph below also shows how PCA allows for visualization via dimensionality reduction. Without PCA, it would be impossible to visualize a 10304-dimensional space. PCA allows us to see how the data is distributed in a lower dimensional space."
      ],
      "metadata": {
        "id": "pnkBK6Sq_pC7"
      },
      "id": "pnkBK6Sq_pC7"
    },
    {
      "cell_type": "code",
      "source": [
        "fig = px.scatter_3d(\n",
        "      pca_train_3, x=0, y=1, z=2, color=train_y,\n",
        "      labels={'0': 'PC 1', '1': 'PC 2', '2': 'PC 3'}\n",
        "  )\n",
        "fig.show()"
      ],
      "metadata": {
        "colab": {
          "base_uri": "https://localhost:8080/",
          "height": 542
        },
        "id": "QBmrPgHs-WfH",
        "outputId": "6b20110e-f7dd-4467-c230-636786a7e816"
      },
      "id": "QBmrPgHs-WfH",
      "execution_count": null,
      "outputs": [
        {
          "output_type": "display_data",
          "data": {
            "text/html": [
              "<html>\n",
              "<head><meta charset=\"utf-8\" /></head>\n",
              "<body>\n",
              "    <div>            <script src=\"https://cdnjs.cloudflare.com/ajax/libs/mathjax/2.7.5/MathJax.js?config=TeX-AMS-MML_SVG\"></script><script type=\"text/javascript\">if (window.MathJax && window.MathJax.Hub && window.MathJax.Hub.Config) {window.MathJax.Hub.Config({SVG: {font: \"STIX-Web\"}});}</script>                <script type=\"text/javascript\">window.PlotlyConfig = {MathJaxConfig: 'local'};</script>\n",
              "        <script charset=\"utf-8\" src=\"https://cdn.plot.ly/plotly-2.24.1.min.js\"></script>                <div id=\"a0a34d5e-7b7e-491a-90db-914f2bf1ca4e\" class=\"plotly-graph-div\" style=\"height:525px; width:100%;\"></div>            <script type=\"text/javascript\">                                    window.PLOTLYENV=window.PLOTLYENV || {};                                    if (document.getElementById(\"a0a34d5e-7b7e-491a-90db-914f2bf1ca4e\")) {                    Plotly.newPlot(                        \"a0a34d5e-7b7e-491a-90db-914f2bf1ca4e\",                        [{\"hovertemplate\":\"PC 1=%{x}\\u003cbr\\u003ePC 2=%{y}\\u003cbr\\u003ePC 3=%{z}\\u003cbr\\u003ecolor=%{marker.color}\\u003cextra\\u003e\\u003c\\u002fextra\\u003e\",\"legendgroup\":\"\",\"marker\":{\"color\":[1,1,1,1,1,2,2,2,2,2,3,3,3,3,3,4,4,4,4,4,5,5,5,5,5,6,6,6,6,6,7,7,7,7,7,8,8,8,8,8,9,9,9,9,9,10,10,10,10,10,11,11,11,11,11,12,12,12,12,12,13,13,13,13,13,14,14,14,14,14,15,15,15,15,15,16,16,16,16,16,17,17,17,17,17,18,18,18,18,18,19,19,19,19,19,20,20,20,20,20,21,21,21,21,21,22,22,22,22,22,23,23,23,23,23,24,24,24,24,24,25,25,25,25,25,26,26,26,26,26,27,27,27,27,27,28,28,28,28,28,29,29,29,29,29,30,30,30,30,30,31,31,31,31,31,32,32,32,32,32,33,33,33,33,33,34,34,34,34,34,35,35,35,35,35,36,36,36,36,36,37,37,37,37,37,38,38,38,38,38,39,39,39,39,39,40,40,40,40,40],\"coloraxis\":\"coloraxis\",\"symbol\":\"circle\"},\"mode\":\"markers\",\"name\":\"\",\"scene\":\"scene\",\"showlegend\":false,\"x\":[-1362.4047190793913,-2903.70161117484,-2572.2574334508504,-3090.4313278983373,-3546.028852564189,2854.014071388962,2694.6288310009345,2543.8356341286863,2303.229927968847,1791.6369437853477,1014.2578146649672,675.087807749828,226.6949577410741,-934.3394803419189,-782.0345894259559,-2051.9171716900496,-1185.5313848950534,-1341.6222736798106,-915.9881148910845,-847.0282059419814,-2382.903823051304,-2378.279858202741,-2614.247651158019,-2405.308138835501,-2371.2285446018814,-2099.342088778291,-1930.157297090626,-2039.4020566615143,-1919.6771256394247,-1799.9923739474996,-224.42949356227635,583.2175051318021,-95.36817709408614,171.3609914155474,567.0835901356629,-604.2196673401287,-740.2113996213105,-1117.7702349075278,-3771.4860974945573,-3512.0941945446484,-919.0238668874193,-277.4447528187971,558.3068929243803,875.3910204243365,-658.0399250532911,-2025.4884184196742,-1874.2327994832506,-2008.6815932872985,-2135.1859758056826,-1896.3753771626566,-2225.4484042996514,-2463.6404003371717,-2952.9018617570737,-2627.2531872152585,-2605.323406778394,-919.3280731353536,-770.338117782346,-1043.0667355215332,-741.507978801025,-916.7544108763848,2786.217011500325,2923.924360743843,2594.378304876816,2036.3672683797095,898.5449969560606,2134.1159084302726,2289.900281483788,2451.144457124833,1734.788279446734,1907.6285128425473,1685.6191038167772,1316.1446995640022,1800.6118691110287,1508.7736733492447,1020.9695532932759,1572.7833523785653,1543.8113180196958,2125.6888668382526,1819.1008757961436,2162.79887230925,930.9717016755914,977.3881003367478,1467.414154708787,539.5883345608457,749.9328428495044,-184.35685639149963,-561.6827061531595,-566.3594111598449,-1031.6632306932,-1260.094682616913,-1789.8604764096058,-1688.041143444072,-1705.288141904954,-1289.3567029273345,-1123.5103788967187,-2064.754316214535,-2459.906777981054,-2418.466160926403,-2296.0199509634776,-2066.1732357853616,-1905.3055321797776,-1421.4615868569035,-1513.3131870137158,-1222.055403339809,-1583.0863385358452,3011.759092446631,3037.9249498843665,2971.154914111649,2589.542017111378,2043.0774851778758,78.43521558047878,193.5060243063239,-92.99691583854252,-843.1177275108392,-1030.9446372244943,2377.3997808784243,2773.424963301475,2785.347440586396,2791.039691673764,2985.8943133567705,2197.0619576975487,620.3223404821956,-362.2942326717751,-343.3474007716896,-626.6608051970518,-2218.343097850371,-2618.9623210909713,-2475.578113420174,-2473.5907842765682,-1826.9407793759467,2955.741102048361,3093.6392370481844,3168.981851839831,3061.367501782527,2859.064774786639,390.4896033853647,332.02010751368,196.6919658086183,193.2822742185024,-14.819795281404648,510.50299575554914,-46.971233333987215,-604.2277695400163,105.03465292479251,-1655.2489669801068,-422.371701905112,1538.507372066349,1316.578213897375,1348.775284840021,-365.6062232351609,-1619.6121553140051,-1576.415765147688,-1753.9583088456272,-1735.3773089018323,-1164.367886057937,1906.6424455442982,1959.6897956350783,1720.511293824307,1320.646387182672,1979.9420151637594,2216.4489358988512,2530.999754875647,3026.0033514565052,2760.8364807685334,2648.0887022126067,329.63640590349945,137.17352585837833,-87.33220619346632,-140.0371281997804,-236.68153894792985,-491.9875914029497,-733.6165656772314,-654.1557187867294,-445.1522355457624,-882.5097261187817,-1016.2404369427935,-1066.8880377885478,-875.5117537430307,-924.731854684154,-1462.119083641787,1147.144720037051,1169.793045840579,1042.1378460450985,550.7309321273971,488.12906893212437,948.7136444263923,960.7354952963977,763.6223129637773,569.5042831527095,417.26706397966234,149.49839964817141,119.51502547501634,-308.07277117426355,-13.378947432446815,-937.3054691603404,1532.1338112296949,1323.1671011315123,1292.4173344208425,1096.6697139139687,1425.951182283912],\"y\":[-1410.0150006714505,-1135.0767617808913,-808.304607326746,-1406.2979761285549,-1236.855555154986,-831.535772258181,-1323.284662049989,-1502.516047420775,-1421.5840974004727,-2263.3068532952443,512.0500348468355,952.4978409561323,768.7569507001416,1377.0716333654912,1251.6321580020642,-1640.776915202289,-734.2451654803178,-335.95735172249033,-499.25960496428314,-921.0883080005149,43.77114179712854,153.04208692515581,-168.00068630240912,-51.7909625791701,-706.428973756314,2780.5885570105397,2683.9524761796442,2674.0133358182898,2732.261346298648,3150.540874547782,660.6401052890803,-390.6290514030773,702.9957980193271,601.8337821624879,-100.19536656649677,1478.5471961080543,-638.7054870671459,-578.8273667757436,-102.65768827238594,-126.47919383598733,-526.3737535207117,-1254.0142160341104,-1024.320224360195,-1067.1987689695263,-852.769588492307,-2056.8123506200295,-1688.737906376016,-1356.7702007656924,-1281.3068689843453,-1575.769269999935,1058.97931554438,1188.593083197046,1284.0354414616847,862.2707313318231,852.4047043394208,460.54034604074394,343.78617314067014,480.62005443939904,503.7675873706326,279.85183768250107,-321.09173865144714,-344.893219522477,-42.54630780577333,-187.08030472546022,-1223.435706736981,71.64450800236202,534.1397440935274,626.4069314900233,-462.3930181311535,-677.3356323637927,2536.8320528515765,2804.808540687181,2161.8304562862863,2580.1836226788173,2732.637049377974,-1991.3737875736979,-2238.601305741084,-966.676914368824,-615.5631754569279,-938.4006077085977,-61.658417039829466,16.24474951397937,101.61131858136278,319.60210327081495,976.728464849435,-1405.9756588600837,-964.0538755149954,-1515.9937718008084,309.7242234848584,448.15669785232376,-16.318983762081828,-602.013741048461,-500.72404849919366,-273.3555956070604,1.768794094274707,1109.7503006818324,1018.6234708988227,945.1398902987925,913.1719276537785,829.3397498030967,1220.8197107109793,1244.4896262795817,1205.6297346856234,1638.7634279261667,1544.252662792211,1010.0658180138079,842.4336490305394,1285.362917756724,-187.65315542406603,-91.47869527700003,-742.4654124657158,-928.5997870656672,-947.7953640323979,-75.1227744598313,262.8643897619922,-369.0538481334088,181.00078750718933,-397.05016091251713,688.8532228974835,886.3785249124276,-276.33956638095464,1373.795563212128,1873.6603956169904,1935.3828994860778,1902.0480073456104,-670.5665185971333,222.09066066889898,250.53268192864863,-73.08657984682094,-291.90667145849346,1293.5156084832192,1562.680090551756,1423.3306465790645,1577.230213025598,524.8966442579917,3080.662643038019,2911.9330777696064,2816.573150026293,3180.3615471655858,3593.87193217585,-519.6096812387565,-485.58947687699094,778.2654021846804,42.25427230573969,-444.4404980635575,-2436.1438094537702,-975.060170407425,-1144.6425246394112,-1178.920145334156,-2068.1496990142905,353.8807997351402,2483.7164732020715,535.4251130906486,2553.4290286073447,2498.2185339007287,-1278.904048616105,-1171.928959271627,-539.4277957569145,-1454.2545946020439,-935.7898880484271,2715.1319863824165,2777.1659815752446,2977.143730156401,3139.3246450042066,2089.3591621715987,-862.4076825393039,-701.434674084466,-381.4138553594754,-1693.6036324345403,-1673.7893790140201,-1221.4625398567268,-1838.3574468680604,-2081.20068283692,-178.054158729813,-1832.4063090944585,-521.4449833693237,-750.995416726712,-1120.8817111461892,-330.224577065177,-2020.0791542278698,-2186.510417759058,-1936.6673541026344,-2273.4561690579912,-3031.3188790981844,-3411.059042558953,-1413.2014370895774,-456.1552930743116,-1590.7165190075086,-1672.5896086480866,-1768.60969658181,-679.7019795971547,-228.95803052543584,-1791.9385172734862,-735.5174836634711,-1188.585921503709,-897.7354358025001,-1051.6409793070484,-826.5229956625893,-1351.8268268311228,-1602.3575206158205],\"z\":[1786.8754088952332,-313.6287980002403,795.6590586376112,390.8220411990542,553.4762110844307,-332.69588090101297,368.3385828719967,764.4842078919482,582.2867160401611,1183.7408910071965,1342.8757299392648,726.1690614935325,1248.3457794832632,1285.241811860012,1321.837428376487,348.2375083909501,-856.4738917247126,-1165.068424425372,-1162.9048272060536,-778.6784235258045,-1798.986704060342,-2019.916289972458,-1768.9755784361664,-1770.5330435645883,-1076.4735490384278,-741.034301653247,-553.2990588423286,-561.0052135638807,-770.9125344595029,-1238.7727707828676,1445.2091860539779,-982.2925756283669,1512.2365151749725,1464.118514691547,-914.7876739251631,2062.6128652632465,1915.0989987065682,1551.177782576239,1116.8390710609465,1245.5622628804435,1455.0610318124325,1541.4792806283347,840.5695835648229,763.9737012943074,1631.8980537052587,-228.71569845725784,-732.4087042095766,-1430.2358799341362,-735.8089405157397,-932.456289383768,1169.115448194423,884.394163521044,785.7333286971234,1466.1056884163797,1558.6216472150834,1538.2369284788044,1576.3123395438233,1327.0969143891505,1538.872596938005,1446.6070258446343,364.7419160446936,257.7587857197823,562.4499062404692,735.6498385630933,1435.8540269334085,-332.59758229450676,-733.20662888685,-962.9588027156844,-274.1201914924783,-197.71200943787002,258.79978078555894,-78.54795358806601,244.74713376161236,146.83463153003407,202.4114861083464,-288.68609275356596,407.5063418417851,-574.8261132233156,-1101.231692722855,-484.27359576928023,2145.4887480854263,2147.083900691918,1700.9911725777665,2163.1493878320607,1579.0656909797428,-1019.1887699054637,-770.6779680888809,-673.6500243999963,-1736.4643666513311,-1801.4879914776138,-1253.5187304282538,-1621.4641305216107,-1028.5470746008762,-1464.9092719053692,-1456.8165045497453,1049.288073195618,1246.4270410124104,1325.7041756282445,1265.3531184636943,1331.292257836499,-1300.959215516672,1069.2584502150205,-1494.391848169082,220.68730378313978,810.1521050142399,-695.5165640045534,-726.1787889915736,-692.9753555306226,-35.914200331366985,-136.06947000165488,-485.39054102599636,-405.93559444675975,-201.73519142949021,-964.5515787007278,-1285.207886252958,206.83905699154394,-58.22631116906735,-170.65670594941994,-127.40852038763232,-617.7581131199407,-568.868507936922,633.51429701923,425.78391680821665,246.4591529515616,53.60032990340665,775.8226548464695,381.1175649948932,153.675209080071,584.3472236584314,818.838553170498,-350.0854692670994,-432.6579291873667,-451.42736047725987,-583.2832896063285,677.8836853768511,-68.68084466860519,19.385679524775238,21.562240425606923,-204.5397632462918,-722.3845079651182,-1940.718405086875,-1393.2796085138039,-965.726209552177,-1509.5307512123168,-492.98473031989687,1582.7222880245492,1231.085989646778,1719.0148611021446,1891.7412753933838,1314.7070921029099,-1384.537640413834,-237.58898965489763,-1527.8347458378375,-418.3563290938141,-178.63013882443389,-646.5700012073472,-518.1961527914972,-903.296368258654,121.87759172587411,-540.4358044217619,-622.21406712659,-507.38655165067814,-646.145173814928,-469.1582428597126,-777.6542403424289,-439.1782803234164,172.6239864035339,-421.16656238537496,519.4817161842287,760.9183811457456,-1481.7012515310487,-675.607043071495,-751.2200936135523,-2375.441092036489,-971.707183258789,-2152.7738010318217,-1814.462179119086,-1655.9938008351605,-2189.6872718007685,-1081.1351905816177,-1206.09288538565,-1341.5111030548376,-1131.3778265029723,-613.9091494038842,-655.3096123661824,1450.5330066910515,1380.135744945345,1531.7691117970514,867.9360512416913,1309.8929351519691,582.1566671342671,513.9966804128302,1372.596842349361,449.2933264336783,1237.6063859322194,-500.3062552735445,-709.7369371162184,-421.53541978859846,-257.2687714329044,-185.81817133341107],\"type\":\"scatter3d\"}],                        {\"template\":{\"data\":{\"histogram2dcontour\":[{\"type\":\"histogram2dcontour\",\"colorbar\":{\"outlinewidth\":0,\"ticks\":\"\"},\"colorscale\":[[0.0,\"#0d0887\"],[0.1111111111111111,\"#46039f\"],[0.2222222222222222,\"#7201a8\"],[0.3333333333333333,\"#9c179e\"],[0.4444444444444444,\"#bd3786\"],[0.5555555555555556,\"#d8576b\"],[0.6666666666666666,\"#ed7953\"],[0.7777777777777778,\"#fb9f3a\"],[0.8888888888888888,\"#fdca26\"],[1.0,\"#f0f921\"]]}],\"choropleth\":[{\"type\":\"choropleth\",\"colorbar\":{\"outlinewidth\":0,\"ticks\":\"\"}}],\"histogram2d\":[{\"type\":\"histogram2d\",\"colorbar\":{\"outlinewidth\":0,\"ticks\":\"\"},\"colorscale\":[[0.0,\"#0d0887\"],[0.1111111111111111,\"#46039f\"],[0.2222222222222222,\"#7201a8\"],[0.3333333333333333,\"#9c179e\"],[0.4444444444444444,\"#bd3786\"],[0.5555555555555556,\"#d8576b\"],[0.6666666666666666,\"#ed7953\"],[0.7777777777777778,\"#fb9f3a\"],[0.8888888888888888,\"#fdca26\"],[1.0,\"#f0f921\"]]}],\"heatmap\":[{\"type\":\"heatmap\",\"colorbar\":{\"outlinewidth\":0,\"ticks\":\"\"},\"colorscale\":[[0.0,\"#0d0887\"],[0.1111111111111111,\"#46039f\"],[0.2222222222222222,\"#7201a8\"],[0.3333333333333333,\"#9c179e\"],[0.4444444444444444,\"#bd3786\"],[0.5555555555555556,\"#d8576b\"],[0.6666666666666666,\"#ed7953\"],[0.7777777777777778,\"#fb9f3a\"],[0.8888888888888888,\"#fdca26\"],[1.0,\"#f0f921\"]]}],\"heatmapgl\":[{\"type\":\"heatmapgl\",\"colorbar\":{\"outlinewidth\":0,\"ticks\":\"\"},\"colorscale\":[[0.0,\"#0d0887\"],[0.1111111111111111,\"#46039f\"],[0.2222222222222222,\"#7201a8\"],[0.3333333333333333,\"#9c179e\"],[0.4444444444444444,\"#bd3786\"],[0.5555555555555556,\"#d8576b\"],[0.6666666666666666,\"#ed7953\"],[0.7777777777777778,\"#fb9f3a\"],[0.8888888888888888,\"#fdca26\"],[1.0,\"#f0f921\"]]}],\"contourcarpet\":[{\"type\":\"contourcarpet\",\"colorbar\":{\"outlinewidth\":0,\"ticks\":\"\"}}],\"contour\":[{\"type\":\"contour\",\"colorbar\":{\"outlinewidth\":0,\"ticks\":\"\"},\"colorscale\":[[0.0,\"#0d0887\"],[0.1111111111111111,\"#46039f\"],[0.2222222222222222,\"#7201a8\"],[0.3333333333333333,\"#9c179e\"],[0.4444444444444444,\"#bd3786\"],[0.5555555555555556,\"#d8576b\"],[0.6666666666666666,\"#ed7953\"],[0.7777777777777778,\"#fb9f3a\"],[0.8888888888888888,\"#fdca26\"],[1.0,\"#f0f921\"]]}],\"surface\":[{\"type\":\"surface\",\"colorbar\":{\"outlinewidth\":0,\"ticks\":\"\"},\"colorscale\":[[0.0,\"#0d0887\"],[0.1111111111111111,\"#46039f\"],[0.2222222222222222,\"#7201a8\"],[0.3333333333333333,\"#9c179e\"],[0.4444444444444444,\"#bd3786\"],[0.5555555555555556,\"#d8576b\"],[0.6666666666666666,\"#ed7953\"],[0.7777777777777778,\"#fb9f3a\"],[0.8888888888888888,\"#fdca26\"],[1.0,\"#f0f921\"]]}],\"mesh3d\":[{\"type\":\"mesh3d\",\"colorbar\":{\"outlinewidth\":0,\"ticks\":\"\"}}],\"scatter\":[{\"fillpattern\":{\"fillmode\":\"overlay\",\"size\":10,\"solidity\":0.2},\"type\":\"scatter\"}],\"parcoords\":[{\"type\":\"parcoords\",\"line\":{\"colorbar\":{\"outlinewidth\":0,\"ticks\":\"\"}}}],\"scatterpolargl\":[{\"type\":\"scatterpolargl\",\"marker\":{\"colorbar\":{\"outlinewidth\":0,\"ticks\":\"\"}}}],\"bar\":[{\"error_x\":{\"color\":\"#2a3f5f\"},\"error_y\":{\"color\":\"#2a3f5f\"},\"marker\":{\"line\":{\"color\":\"#E5ECF6\",\"width\":0.5},\"pattern\":{\"fillmode\":\"overlay\",\"size\":10,\"solidity\":0.2}},\"type\":\"bar\"}],\"scattergeo\":[{\"type\":\"scattergeo\",\"marker\":{\"colorbar\":{\"outlinewidth\":0,\"ticks\":\"\"}}}],\"scatterpolar\":[{\"type\":\"scatterpolar\",\"marker\":{\"colorbar\":{\"outlinewidth\":0,\"ticks\":\"\"}}}],\"histogram\":[{\"marker\":{\"pattern\":{\"fillmode\":\"overlay\",\"size\":10,\"solidity\":0.2}},\"type\":\"histogram\"}],\"scattergl\":[{\"type\":\"scattergl\",\"marker\":{\"colorbar\":{\"outlinewidth\":0,\"ticks\":\"\"}}}],\"scatter3d\":[{\"type\":\"scatter3d\",\"line\":{\"colorbar\":{\"outlinewidth\":0,\"ticks\":\"\"}},\"marker\":{\"colorbar\":{\"outlinewidth\":0,\"ticks\":\"\"}}}],\"scattermapbox\":[{\"type\":\"scattermapbox\",\"marker\":{\"colorbar\":{\"outlinewidth\":0,\"ticks\":\"\"}}}],\"scatterternary\":[{\"type\":\"scatterternary\",\"marker\":{\"colorbar\":{\"outlinewidth\":0,\"ticks\":\"\"}}}],\"scattercarpet\":[{\"type\":\"scattercarpet\",\"marker\":{\"colorbar\":{\"outlinewidth\":0,\"ticks\":\"\"}}}],\"carpet\":[{\"aaxis\":{\"endlinecolor\":\"#2a3f5f\",\"gridcolor\":\"white\",\"linecolor\":\"white\",\"minorgridcolor\":\"white\",\"startlinecolor\":\"#2a3f5f\"},\"baxis\":{\"endlinecolor\":\"#2a3f5f\",\"gridcolor\":\"white\",\"linecolor\":\"white\",\"minorgridcolor\":\"white\",\"startlinecolor\":\"#2a3f5f\"},\"type\":\"carpet\"}],\"table\":[{\"cells\":{\"fill\":{\"color\":\"#EBF0F8\"},\"line\":{\"color\":\"white\"}},\"header\":{\"fill\":{\"color\":\"#C8D4E3\"},\"line\":{\"color\":\"white\"}},\"type\":\"table\"}],\"barpolar\":[{\"marker\":{\"line\":{\"color\":\"#E5ECF6\",\"width\":0.5},\"pattern\":{\"fillmode\":\"overlay\",\"size\":10,\"solidity\":0.2}},\"type\":\"barpolar\"}],\"pie\":[{\"automargin\":true,\"type\":\"pie\"}]},\"layout\":{\"autotypenumbers\":\"strict\",\"colorway\":[\"#636efa\",\"#EF553B\",\"#00cc96\",\"#ab63fa\",\"#FFA15A\",\"#19d3f3\",\"#FF6692\",\"#B6E880\",\"#FF97FF\",\"#FECB52\"],\"font\":{\"color\":\"#2a3f5f\"},\"hovermode\":\"closest\",\"hoverlabel\":{\"align\":\"left\"},\"paper_bgcolor\":\"white\",\"plot_bgcolor\":\"#E5ECF6\",\"polar\":{\"bgcolor\":\"#E5ECF6\",\"angularaxis\":{\"gridcolor\":\"white\",\"linecolor\":\"white\",\"ticks\":\"\"},\"radialaxis\":{\"gridcolor\":\"white\",\"linecolor\":\"white\",\"ticks\":\"\"}},\"ternary\":{\"bgcolor\":\"#E5ECF6\",\"aaxis\":{\"gridcolor\":\"white\",\"linecolor\":\"white\",\"ticks\":\"\"},\"baxis\":{\"gridcolor\":\"white\",\"linecolor\":\"white\",\"ticks\":\"\"},\"caxis\":{\"gridcolor\":\"white\",\"linecolor\":\"white\",\"ticks\":\"\"}},\"coloraxis\":{\"colorbar\":{\"outlinewidth\":0,\"ticks\":\"\"}},\"colorscale\":{\"sequential\":[[0.0,\"#0d0887\"],[0.1111111111111111,\"#46039f\"],[0.2222222222222222,\"#7201a8\"],[0.3333333333333333,\"#9c179e\"],[0.4444444444444444,\"#bd3786\"],[0.5555555555555556,\"#d8576b\"],[0.6666666666666666,\"#ed7953\"],[0.7777777777777778,\"#fb9f3a\"],[0.8888888888888888,\"#fdca26\"],[1.0,\"#f0f921\"]],\"sequentialminus\":[[0.0,\"#0d0887\"],[0.1111111111111111,\"#46039f\"],[0.2222222222222222,\"#7201a8\"],[0.3333333333333333,\"#9c179e\"],[0.4444444444444444,\"#bd3786\"],[0.5555555555555556,\"#d8576b\"],[0.6666666666666666,\"#ed7953\"],[0.7777777777777778,\"#fb9f3a\"],[0.8888888888888888,\"#fdca26\"],[1.0,\"#f0f921\"]],\"diverging\":[[0,\"#8e0152\"],[0.1,\"#c51b7d\"],[0.2,\"#de77ae\"],[0.3,\"#f1b6da\"],[0.4,\"#fde0ef\"],[0.5,\"#f7f7f7\"],[0.6,\"#e6f5d0\"],[0.7,\"#b8e186\"],[0.8,\"#7fbc41\"],[0.9,\"#4d9221\"],[1,\"#276419\"]]},\"xaxis\":{\"gridcolor\":\"white\",\"linecolor\":\"white\",\"ticks\":\"\",\"title\":{\"standoff\":15},\"zerolinecolor\":\"white\",\"automargin\":true,\"zerolinewidth\":2},\"yaxis\":{\"gridcolor\":\"white\",\"linecolor\":\"white\",\"ticks\":\"\",\"title\":{\"standoff\":15},\"zerolinecolor\":\"white\",\"automargin\":true,\"zerolinewidth\":2},\"scene\":{\"xaxis\":{\"backgroundcolor\":\"#E5ECF6\",\"gridcolor\":\"white\",\"linecolor\":\"white\",\"showbackground\":true,\"ticks\":\"\",\"zerolinecolor\":\"white\",\"gridwidth\":2},\"yaxis\":{\"backgroundcolor\":\"#E5ECF6\",\"gridcolor\":\"white\",\"linecolor\":\"white\",\"showbackground\":true,\"ticks\":\"\",\"zerolinecolor\":\"white\",\"gridwidth\":2},\"zaxis\":{\"backgroundcolor\":\"#E5ECF6\",\"gridcolor\":\"white\",\"linecolor\":\"white\",\"showbackground\":true,\"ticks\":\"\",\"zerolinecolor\":\"white\",\"gridwidth\":2}},\"shapedefaults\":{\"line\":{\"color\":\"#2a3f5f\"}},\"annotationdefaults\":{\"arrowcolor\":\"#2a3f5f\",\"arrowhead\":0,\"arrowwidth\":1},\"geo\":{\"bgcolor\":\"white\",\"landcolor\":\"#E5ECF6\",\"subunitcolor\":\"white\",\"showland\":true,\"showlakes\":true,\"lakecolor\":\"white\"},\"title\":{\"x\":0.05},\"mapbox\":{\"style\":\"light\"}}},\"scene\":{\"domain\":{\"x\":[0.0,1.0],\"y\":[0.0,1.0]},\"xaxis\":{\"title\":{\"text\":\"PC 1\"}},\"yaxis\":{\"title\":{\"text\":\"PC 2\"}},\"zaxis\":{\"title\":{\"text\":\"PC 3\"}}},\"coloraxis\":{\"colorbar\":{\"title\":{\"text\":\"color\"}},\"colorscale\":[[0.0,\"#0d0887\"],[0.1111111111111111,\"#46039f\"],[0.2222222222222222,\"#7201a8\"],[0.3333333333333333,\"#9c179e\"],[0.4444444444444444,\"#bd3786\"],[0.5555555555555556,\"#d8576b\"],[0.6666666666666666,\"#ed7953\"],[0.7777777777777778,\"#fb9f3a\"],[0.8888888888888888,\"#fdca26\"],[1.0,\"#f0f921\"]]},\"legend\":{\"tracegroupgap\":0},\"margin\":{\"t\":60}},                        {\"responsive\": true}                    ).then(function(){\n",
              "                            \n",
              "var gd = document.getElementById('a0a34d5e-7b7e-491a-90db-914f2bf1ca4e');\n",
              "var x = new MutationObserver(function (mutations, observer) {{\n",
              "        var display = window.getComputedStyle(gd).display;\n",
              "        if (!display || display === 'none') {{\n",
              "            console.log([gd, 'removed!']);\n",
              "            Plotly.purge(gd);\n",
              "            observer.disconnect();\n",
              "        }}\n",
              "}});\n",
              "\n",
              "// Listen for the removal of the full notebook cells\n",
              "var notebookContainer = gd.closest('#notebook-container');\n",
              "if (notebookContainer) {{\n",
              "    x.observe(notebookContainer, {childList: true});\n",
              "}}\n",
              "\n",
              "// Listen for the clearing of the current output cell\n",
              "var outputEl = gd.closest('.output');\n",
              "if (outputEl) {{\n",
              "    x.observe(outputEl, {childList: true});\n",
              "}}\n",
              "\n",
              "                        })                };                            </script>        </div>\n",
              "</body>\n",
              "</html>"
            ]
          },
          "metadata": {}
        }
      ]
    },
    {
      "cell_type": "markdown",
      "source": [
        "###c. Choose an appropriate number of principal components to retain a significant amount of variance (e.g., 95%)."
      ],
      "metadata": {
        "id": "qGl-kpjZ6Zo9"
      },
      "id": "qGl-kpjZ6Zo9"
    },
    {
      "cell_type": "markdown",
      "source": [
        "To see how many principal components to retain, I kept adding eigenvalues until the ratio of the sum of eigenvalues to the kth components to the sum of all eigenvalues was greater or equal to 0.95. This represents the number of components that retains a variance of at least 95%. The code below shows that it turns out that around 110 components are necessary for this occur. Reduction to 3 principal components simply doesn’t retain enough information for an accurate classifier, however, it may still be useful for visualization."
      ],
      "metadata": {
        "id": "t9sBFBgXBF6S"
      },
      "id": "t9sBFBgXBF6S"
    },
    {
      "cell_type": "code",
      "source": [
        "## Find sum of eigenvalues\n",
        "sum = np.sum(pca_train_eigenvalues)\n",
        "\n",
        "variance = 0\n",
        "component_number = 0\n",
        "\n",
        "## Add components untill explained variance is at least 95%\n",
        "for x in pca_train_eigenvalues:\n",
        "  variance = x + variance\n",
        "  component_number = component_number+1\n",
        "  if (variance / sum) >= 0.95:\n",
        "    break\n",
        "\n",
        "## Output results\n",
        "print(\"Variance \" + str(variance / sum))\n",
        "print(\"Number of components \" + str(component_number))"
      ],
      "metadata": {
        "colab": {
          "base_uri": "https://localhost:8080/"
        },
        "id": "XzhGZ9Plt1cK",
        "outputId": "a34ba516-4066-421d-c25f-10aeb447e7f7"
      },
      "id": "XzhGZ9Plt1cK",
      "execution_count": null,
      "outputs": [
        {
          "output_type": "stream",
          "name": "stdout",
          "text": [
            "Variance 0.950432571446594\n",
            "Number of components 110\n"
          ]
        }
      ]
    },
    {
      "cell_type": "markdown",
      "source": [
        "Finally, I transformed the original training data to 110 principal components using the eigenvectors obtained previously. This data is greatly reduced from its original dimensionality, but still retains a great deal of information."
      ],
      "metadata": {
        "id": "POLTFpjDBzAc"
      },
      "id": "POLTFpjDBzAc"
    },
    {
      "cell_type": "code",
      "source": [
        "pca_train_data_centered = train_x - np.mean(train_x, axis=0)\n",
        "pca_train_110 = np.dot(pca_train_eigenvector[:, :component_number].T, pca_train_data_centered.T).T\n",
        "print(pca_train_110)"
      ],
      "metadata": {
        "colab": {
          "base_uri": "https://localhost:8080/"
        },
        "id": "n1Fo2ICofmot",
        "outputId": "c52a1f59-4a37-4ac2-bc30-5195b80e24c4"
      },
      "id": "n1Fo2ICofmot",
      "execution_count": null,
      "outputs": [
        {
          "output_type": "stream",
          "name": "stdout",
          "text": [
            "[[-1362.40471908 -1410.01500067  1786.8754089  ...   150.11133985\n",
            "    104.67869886  -227.85254569]\n",
            " [-2903.70161117 -1135.07676178  -313.628798   ...    28.35171053\n",
            "    245.51096308   -56.21974735]\n",
            " [-2572.25743345  -808.30460733   795.65905864 ...   -81.35025913\n",
            "   -337.77601404  -150.22696891]\n",
            " ...\n",
            " [ 1292.41733442  -826.52299566  -421.53541979 ...    90.70276079\n",
            "    -32.43882049    37.63505263]\n",
            " [ 1096.66971391 -1351.82682683  -257.26877143 ...  -129.08823955\n",
            "   -142.0174865    -30.07607103]\n",
            " [ 1425.95118228 -1602.35752062  -185.81817133 ...    33.17066351\n",
            "     -9.99205292   144.11871477]]\n"
          ]
        }
      ]
    },
    {
      "cell_type": "markdown",
      "source": [
        "##1.2 PCA using scikit-learn:"
      ],
      "metadata": {
        "id": "dhIYGlhT6j4q"
      },
      "id": "dhIYGlhT6j4q"
    },
    {
      "cell_type": "markdown",
      "source": [
        "Applying PCA using a library such as Sklearn is far simpler than doing it from scratch. The code below applies PCA and graphs the transformed data using Sklearn."
      ],
      "metadata": {
        "id": "O6HbSe2FCLCN"
      },
      "id": "O6HbSe2FCLCN"
    },
    {
      "cell_type": "markdown",
      "source": [
        "### a. Import the PCA module from sklearn."
      ],
      "metadata": {
        "id": "C0sx5BM36k3C"
      },
      "id": "C0sx5BM36k3C"
    },
    {
      "cell_type": "code",
      "source": [
        "from sklearn.decomposition import PCA"
      ],
      "metadata": {
        "id": "OQCjMpNOBfmv"
      },
      "id": "OQCjMpNOBfmv",
      "execution_count": null,
      "outputs": []
    },
    {
      "cell_type": "markdown",
      "source": [
        "###b. Apply PCA to the Train dataset using sklearn."
      ],
      "metadata": {
        "id": "qlKa3qyL6nOt"
      },
      "id": "qlKa3qyL6nOt"
    },
    {
      "cell_type": "markdown",
      "source": [
        "I defined a PCA function below that utilizes Sklearn. The core elements simply define the PCA parameters, then fit the PCA to the training data and transforms the data."
      ],
      "metadata": {
        "id": "4_QWnd2nCYUf"
      },
      "id": "4_QWnd2nCYUf"
    },
    {
      "cell_type": "code",
      "execution_count": null,
      "id": "4c0e7685",
      "metadata": {
        "id": "4c0e7685"
      },
      "outputs": [],
      "source": [
        "def sklearn_pca(Data,k):\n",
        "  pca = PCA(n_components=k)\n",
        "\n",
        "  # Fit and transform the data using scikit-learn\n",
        "  data_pca_sklearn = pca.fit_transform(Data)\n",
        "\n",
        "  return(data_pca_sklearn)"
      ]
    },
    {
      "cell_type": "markdown",
      "source": [
        "The function is called below, and the transformed data is printed."
      ],
      "metadata": {
        "id": "QdfBQOh3Ch12"
      },
      "id": "QdfBQOh3Ch12"
    },
    {
      "cell_type": "code",
      "source": [
        "pca_train_3_sk = sklearn_pca(train_x, 3)\n",
        "print(pca_train_3_sk)"
      ],
      "metadata": {
        "colab": {
          "base_uri": "https://localhost:8080/"
        },
        "id": "DlX-TWTuBwAX",
        "outputId": "e841de96-17bf-4774-e991-03b2b497aa9e"
      },
      "id": "DlX-TWTuBwAX",
      "execution_count": null,
      "outputs": [
        {
          "output_type": "stream",
          "name": "stdout",
          "text": [
            "[[ 1.36240472e+03 -1.41001500e+03 -1.78687539e+03]\n",
            " [ 2.90370161e+03 -1.13507675e+03  3.13628694e+02]\n",
            " [ 2.57225743e+03 -8.08304607e+02 -7.95659562e+02]\n",
            " [ 3.09043133e+03 -1.40629798e+03 -3.90820568e+02]\n",
            " [ 3.54602885e+03 -1.23685554e+03 -5.53475337e+02]\n",
            " [-2.85401407e+03 -8.31535775e+02  3.32694726e+02]\n",
            " [-2.69462883e+03 -1.32328466e+03 -3.68338855e+02]\n",
            " [-2.54383563e+03 -1.50251604e+03 -7.64483745e+02]\n",
            " [-2.30322993e+03 -1.42158409e+03 -5.82286397e+02]\n",
            " [-1.79163694e+03 -2.26330685e+03 -1.18374076e+03]\n",
            " [-1.01425781e+03  5.12050040e+02 -1.34287757e+03]\n",
            " [-6.75087807e+02  9.52497848e+02 -7.26169636e+02]\n",
            " [-2.26694957e+02  7.68756955e+02 -1.24834693e+03]\n",
            " [ 9.34339481e+02  1.37707163e+03 -1.28524217e+03]\n",
            " [ 7.82034590e+02  1.25163216e+03 -1.32183758e+03]\n",
            " [ 2.05191717e+03 -1.64077692e+03 -3.48236732e+02]\n",
            " [ 1.18553138e+03 -7.34245173e+02  8.56474476e+02]\n",
            " [ 1.34162227e+03 -3.35957358e+02  1.16506880e+03]\n",
            " [ 9.15988115e+02 -4.99259614e+02  1.16290480e+03]\n",
            " [ 8.47028206e+02 -9.21088312e+02  7.78678766e+02]\n",
            " [ 2.38290382e+03  4.37711434e+01  1.79898651e+03]\n",
            " [ 2.37827986e+03  1.53042089e+02  2.01991598e+03]\n",
            " [ 2.61424765e+03 -1.68000675e+02  1.76897584e+03]\n",
            " [ 2.40530814e+03 -5.17909538e+01  1.77053329e+03]\n",
            " [ 2.37122854e+03 -7.06428972e+02  1.07647355e+03]\n",
            " [ 2.09934209e+03  2.78058856e+03  7.41033999e+02]\n",
            " [ 1.93015730e+03  2.68395248e+03  5.53298756e+02]\n",
            " [ 2.03940206e+03  2.67401334e+03  5.61005015e+02]\n",
            " [ 1.91967713e+03  2.73226136e+03  7.70912725e+02]\n",
            " [ 1.79999237e+03  3.15054088e+03  1.23877281e+03]\n",
            " [ 2.24429494e+02  6.60640106e+02 -1.44520963e+03]\n",
            " [-5.83217506e+02 -3.90629058e+02  9.82292581e+02]\n",
            " [ 9.53681772e+01  7.02995799e+02 -1.51223692e+03]\n",
            " [-1.71360991e+02  6.01833784e+02 -1.46411892e+03]\n",
            " [-5.67083591e+02 -1.00195370e+02  9.14787828e+02]\n",
            " [ 6.04219668e+02  1.47854718e+03 -2.06261415e+03]\n",
            " [ 7.40211400e+02 -6.38705495e+02 -1.91509952e+03]\n",
            " [ 1.11777024e+03 -5.78827376e+02 -1.55117857e+03]\n",
            " [ 3.77148610e+03 -1.02657698e+02 -1.11683946e+03]\n",
            " [ 3.51209419e+03 -1.26479204e+02 -1.24556256e+03]\n",
            " [ 9.19023866e+02 -5.26373758e+02 -1.45505988e+03]\n",
            " [ 2.77444752e+02 -1.25401422e+03 -1.54147800e+03]\n",
            " [-5.58306893e+02 -1.02432023e+03 -8.40569201e+02]\n",
            " [-8.75391021e+02 -1.06719877e+03 -7.63973424e+02]\n",
            " [ 6.58039924e+02 -8.52769592e+02 -1.63189687e+03]\n",
            " [ 2.02548842e+03 -2.05681234e+03  2.28716253e+02]\n",
            " [ 1.87423280e+03 -1.68873790e+03  7.32409273e+02]\n",
            " [ 2.00868159e+03 -1.35677020e+03  1.43023579e+03]\n",
            " [ 2.13518598e+03 -1.28130686e+03  7.35809088e+02]\n",
            " [ 1.89637538e+03 -1.57576927e+03  9.32456423e+02]\n",
            " [ 2.22544840e+03  1.05897931e+03 -1.16911495e+03]\n",
            " [ 2.46364040e+03  1.18859308e+03 -8.84393790e+02]\n",
            " [ 2.95290186e+03  1.28403544e+03 -7.85732873e+02]\n",
            " [ 2.62725319e+03  8.62270727e+02 -1.46610452e+03]\n",
            " [ 2.60532341e+03  8.52404699e+02 -1.55862036e+03]\n",
            " [ 9.19328074e+02  4.60540355e+02 -1.53823711e+03]\n",
            " [ 7.70338119e+02  3.43786188e+02 -1.57631312e+03]\n",
            " [ 1.04306674e+03  4.80620067e+02 -1.32709750e+03]\n",
            " [ 7.41507980e+02  5.03767600e+02 -1.53887345e+03]\n",
            " [ 9.16754411e+02  2.79851848e+02 -1.44660706e+03]\n",
            " [-2.78621701e+03 -3.21091725e+02 -3.64743317e+02]\n",
            " [-2.92392436e+03 -3.44893208e+02 -2.57759905e+02]\n",
            " [-2.59437830e+03 -4.25462982e+01 -5.62451462e+02]\n",
            " [-2.03636727e+03 -1.87080299e+02 -7.35650460e+02]\n",
            " [-8.98544996e+02 -1.22343570e+03 -1.43585521e+03]\n",
            " [-2.13411591e+03  7.16445072e+01  3.32597980e+02]\n",
            " [-2.28990028e+03  5.34139738e+02  7.33205744e+02]\n",
            " [-2.45114446e+03  6.26406925e+02  9.62957866e+02]\n",
            " [-1.73478828e+03 -4.62393025e+02  2.74120202e+02]\n",
            " [-1.90762851e+03 -6.77335636e+02  1.97712355e+02]\n",
            " [-1.68561910e+03  2.53683205e+03 -2.58799437e+02]\n",
            " [-1.31614470e+03  2.80480854e+03  7.85482585e+01]\n",
            " [-1.80061187e+03  2.16183046e+03 -2.44746816e+02]\n",
            " [-1.50877367e+03  2.58018362e+03 -1.46834407e+02]\n",
            " [-1.02096955e+03  2.73263705e+03 -2.02411062e+02]\n",
            " [-1.57278335e+03 -1.99137379e+03  2.88685883e+02]\n",
            " [-1.54381132e+03 -2.23860130e+03 -4.07505393e+02]\n",
            " [-2.12568887e+03 -9.66676922e+02  5.74827425e+02]\n",
            " [-1.81910088e+03 -6.15563177e+02  1.10123103e+03]\n",
            " [-2.16279887e+03 -9.38400613e+02  4.84275255e+02]\n",
            " [-9.30971702e+02 -6.16584236e+01 -2.14548899e+03]\n",
            " [-9.77388101e+02  1.62447416e+01 -2.14708407e+03]\n",
            " [-1.46741416e+03  1.01611311e+02 -1.70099064e+03]\n",
            " [-5.39588335e+02  3.19602097e+02 -2.16314863e+03]\n",
            " [-7.49932842e+02  9.76728462e+02 -1.57906684e+03]\n",
            " [ 1.84356856e+02 -1.40597566e+03  1.01918825e+03]\n",
            " [ 5.61682706e+02 -9.64053875e+02  7.70678274e+02]\n",
            " [ 5.66359411e+02 -1.51599378e+03  6.73650027e+02]\n",
            " [ 1.03166323e+03  3.09724220e+02  1.73646433e+03]\n",
            " [ 1.26009468e+03  4.48156701e+02  1.80148777e+03]\n",
            " [ 1.78986048e+03 -1.63189842e+01  1.25351875e+03]\n",
            " [ 1.68804114e+03 -6.02013741e+02  1.62146343e+03]\n",
            " [ 1.70528814e+03 -5.00724055e+02  1.02854757e+03]\n",
            " [ 1.28935670e+03 -2.73355595e+02  1.46490941e+03]\n",
            " [ 1.12351038e+03  1.76879534e+00  1.45681662e+03]\n",
            " [ 2.06475432e+03  1.10975030e+03 -1.04928770e+03]\n",
            " [ 2.45990678e+03  1.01862347e+03 -1.24642690e+03]\n",
            " [ 2.41846616e+03  9.45139889e+02 -1.32570375e+03]\n",
            " [ 2.29601995e+03  9.13171925e+02 -1.26535267e+03]\n",
            " [ 2.06617323e+03  8.29339746e+02 -1.33129206e+03]\n",
            " [ 1.90530553e+03  1.22081971e+03  1.30095911e+03]\n",
            " [ 1.42146159e+03  1.24448962e+03 -1.06925793e+03]\n",
            " [ 1.51331319e+03  1.20562973e+03  1.49439161e+03]\n",
            " [ 1.22205540e+03  1.63876343e+03 -2.20686927e+02]\n",
            " [ 1.58308634e+03  1.54425266e+03 -8.10151388e+02]\n",
            " [-3.01175909e+03  1.01006581e+03  6.95516894e+02]\n",
            " [-3.03792495e+03  8.42433646e+02  7.26179616e+02]\n",
            " [-2.97115491e+03  1.28536291e+03  6.92975278e+02]\n",
            " [-2.58954202e+03 -1.87653161e+02  3.59144443e+01]\n",
            " [-2.04307749e+03 -9.14786958e+01  1.36069064e+02]\n",
            " [-7.84352153e+01 -7.42465414e+02  4.85389956e+02]\n",
            " [-1.93506024e+02 -9.28599782e+02  4.05935164e+02]\n",
            " [ 9.29969162e+01 -9.47795361e+02  2.01734852e+02]\n",
            " [ 8.43117728e+02 -7.51227735e+01  9.64550896e+02]\n",
            " [ 1.03094464e+03  2.62864395e+02  1.28520754e+03]\n",
            " [-2.37739978e+03 -3.69053850e+02 -2.06838578e+02]\n",
            " [-2.77342496e+03  1.81000782e+02  5.82265639e+01]\n",
            " [-2.78534744e+03 -3.97050160e+02  1.70657087e+02]\n",
            " [-2.79103969e+03  6.88853220e+02  1.27407862e+02]\n",
            " [-2.98589431e+03  8.86378525e+02  6.17757311e+02]\n",
            " [-2.19706196e+03 -2.76339569e+02  5.68867318e+02]\n",
            " [-6.20322341e+02  1.37379556e+03 -6.33513753e+02]\n",
            " [ 3.62294232e+02  1.87366040e+03 -4.25783062e+02]\n",
            " [ 3.43347400e+02  1.93538290e+03 -2.46458426e+02]\n",
            " [ 6.26660805e+02  1.90204801e+03 -5.35996767e+01]\n",
            " [ 2.21834310e+03 -6.70566524e+02 -7.75823859e+02]\n",
            " [ 2.61896232e+03  2.22090654e+02 -3.81118598e+02]\n",
            " [ 2.47557811e+03  2.50532674e+02 -1.53676116e+02]\n",
            " [ 2.47359078e+03 -7.30865780e+01 -5.84348220e+02]\n",
            " [ 1.82694078e+03 -2.91906674e+02 -8.18839910e+02]\n",
            " [-2.95574110e+03  1.29351561e+03  3.50086632e+02]\n",
            " [-3.09363924e+03  1.56268009e+03  4.32659775e+02]\n",
            " [-3.16898185e+03  1.42333064e+03  4.51429222e+02]\n",
            " [-3.06136750e+03  1.57723021e+03  5.83285114e+02]\n",
            " [-2.85906478e+03  5.24896645e+02 -6.77883033e+02]\n",
            " [-3.90489603e+02  3.08066265e+03  6.86799469e+01]\n",
            " [-3.32020107e+02  2.91193308e+03 -1.93865935e+01]\n",
            " [-1.96691965e+02  2.81657315e+03 -2.15631064e+01]\n",
            " [-1.93282274e+02  3.18036155e+03  2.04538594e+02]\n",
            " [ 1.48197962e+01  3.59387193e+03  7.22383188e+02]\n",
            " [-5.10502996e+02 -5.19609684e+02  1.94071819e+03]\n",
            " [ 4.69712333e+01 -4.85589476e+02  1.39328038e+03]\n",
            " [ 6.04227769e+02  7.78265396e+02  9.65727234e+02]\n",
            " [-1.05034653e+02  4.22542693e+01  1.50953156e+03]\n",
            " [ 1.65524897e+03 -4.44440502e+02  4.92986358e+02]\n",
            " [ 4.22371703e+02 -2.43614380e+03 -1.58272348e+03]\n",
            " [-1.53850737e+03 -9.75060164e+02 -1.23108670e+03]\n",
            " [-1.31657821e+03 -1.14464252e+03 -1.71901551e+03]\n",
            " [-1.34877528e+03 -1.17892014e+03 -1.89174178e+03]\n",
            " [ 3.65606224e+02 -2.06814970e+03 -1.31470895e+03]\n",
            " [ 1.61961216e+03  3.53880795e+02  1.38453685e+03]\n",
            " [ 1.57641576e+03  2.48371647e+03  2.37588961e+02]\n",
            " [ 1.75395831e+03  5.35425110e+02  1.52783396e+03]\n",
            " [ 1.73537731e+03  2.55342902e+03  4.18356553e+02]\n",
            " [ 1.16436789e+03  2.49821853e+03  1.78630178e+02]\n",
            " [-1.90664245e+03 -1.27890405e+03  6.46569318e+02]\n",
            " [-1.95968980e+03 -1.17192896e+03  5.18196031e+02]\n",
            " [-1.72051129e+03 -5.39427792e+02  9.03295747e+02]\n",
            " [-1.32064639e+03 -1.45425459e+03 -1.21877902e+02]\n",
            " [-1.97994201e+03 -9.35789885e+02  5.40435465e+02]\n",
            " [-2.21644894e+03  2.71513199e+03  6.22213998e+02]\n",
            " [-2.53099975e+03  2.77716599e+03  5.07385902e+02]\n",
            " [-3.02600335e+03  2.97714373e+03  6.46146022e+02]\n",
            " [-2.76083648e+03  3.13932465e+03  4.69159068e+02]\n",
            " [-2.64808870e+03  2.08935916e+03  7.77654995e+02]\n",
            " [-3.29636406e+02 -8.62407683e+02  4.39177574e+02]\n",
            " [-1.37173525e+02 -7.01434668e+02 -1.72624418e+02]\n",
            " [ 8.73322063e+01 -3.81413856e+02  4.21166284e+02]\n",
            " [ 1.40037128e+02 -1.69360363e+03 -5.19481763e+02]\n",
            " [ 2.36681539e+02 -1.67378937e+03 -7.60918334e+02]\n",
            " [ 4.91987591e+02 -1.22146254e+03  1.48170258e+03]\n",
            " [ 7.33616565e+02 -1.83835745e+03  6.75607642e+02]\n",
            " [ 6.54155718e+02 -2.08120068e+03  7.51221242e+02]\n",
            " [ 4.45152236e+02 -1.78054156e+02  2.37544044e+03]\n",
            " [ 8.82509726e+02 -1.83240631e+03  9.71707431e+02]\n",
            " [ 1.01624044e+03 -5.21444979e+02  2.15277248e+03]\n",
            " [ 1.06688804e+03 -7.50995418e+02  1.81446200e+03]\n",
            " [ 8.75511754e+02 -1.12088171e+03  1.65599384e+03]\n",
            " [ 9.24731856e+02 -3.30224571e+02  2.18968585e+03]\n",
            " [ 1.46211908e+03 -2.02007915e+03  1.08113421e+03]\n",
            " [-1.14714472e+03 -2.18651042e+03  1.20609273e+03]\n",
            " [-1.16979305e+03 -1.93666736e+03  1.34151055e+03]\n",
            " [-1.04213785e+03 -2.27345617e+03  1.13137734e+03]\n",
            " [-5.50730932e+02 -3.03131888e+03  6.13908889e+02]\n",
            " [-4.88129069e+02 -3.41105905e+03  6.55308662e+02]\n",
            " [-9.48713644e+02 -1.41320143e+03 -1.45053300e+03]\n",
            " [-9.60735494e+02 -4.56155288e+02 -1.38013704e+03]\n",
            " [-7.63622312e+02 -1.59071651e+03 -1.53176932e+03]\n",
            " [-5.69504283e+02 -1.67258961e+03 -8.67935934e+02]\n",
            " [-4.17267064e+02 -1.76860969e+03 -1.30989278e+03]\n",
            " [-1.49498401e+02 -6.79701988e+02 -5.82154642e+02]\n",
            " [-1.19515027e+02 -2.28958039e+02 -5.13995109e+02]\n",
            " [ 3.08072770e+02 -1.79193852e+03 -1.37259500e+03]\n",
            " [ 1.33789470e+01 -7.35517474e+02 -4.49291527e+02]\n",
            " [ 9.37305469e+02 -1.18858592e+03 -1.23760453e+03]\n",
            " [-1.53213381e+03 -8.97735434e+02  5.00306457e+02]\n",
            " [-1.32316710e+03 -1.05164098e+03  7.09737558e+02]\n",
            " [-1.29241733e+03 -8.26522994e+02  4.21536104e+02]\n",
            " [-1.09666971e+03 -1.35182683e+03  2.57268801e+02]\n",
            " [-1.42595118e+03 -1.60235752e+03  1.85818798e+02]]\n"
          ]
        }
      ]
    },
    {
      "cell_type": "markdown",
      "source": [
        "Just as above, the data is graphed. The same “grouping” pattern that was present in the previous graph is present here as well. Two graphs created from using the bespoke PCA is very similar to the one created using the sklearn PCA, showing that the two performed the same operations on the data. By inspecting the transformed data points above, you can see that this is true. The slight differences obtained are due to minor differences in the way sklearn handles the data, and the efficiency measures that sklearn uses. The PCA from scratch takes a significantly longer time to run due to this difference."
      ],
      "metadata": {
        "id": "56PUbzT_MvAJ"
      },
      "id": "56PUbzT_MvAJ"
    },
    {
      "cell_type": "code",
      "source": [
        "fig = px.scatter_3d(\n",
        "      pca_train_3_sk, x=0, y=1, z=2, color=train_y,\n",
        "      labels={'0': 'PC 1', '1': 'PC 2', '2': 'PC 3'}\n",
        "  )\n",
        "fig.show()"
      ],
      "metadata": {
        "colab": {
          "base_uri": "https://localhost:8080/",
          "height": 542
        },
        "id": "3y1psh6f-ezM",
        "outputId": "ec9e3fe7-bd62-46ba-abe0-3d23d2a27aa7"
      },
      "id": "3y1psh6f-ezM",
      "execution_count": null,
      "outputs": [
        {
          "output_type": "display_data",
          "data": {
            "text/html": [
              "<html>\n",
              "<head><meta charset=\"utf-8\" /></head>\n",
              "<body>\n",
              "    <div>            <script src=\"https://cdnjs.cloudflare.com/ajax/libs/mathjax/2.7.5/MathJax.js?config=TeX-AMS-MML_SVG\"></script><script type=\"text/javascript\">if (window.MathJax && window.MathJax.Hub && window.MathJax.Hub.Config) {window.MathJax.Hub.Config({SVG: {font: \"STIX-Web\"}});}</script>                <script type=\"text/javascript\">window.PlotlyConfig = {MathJaxConfig: 'local'};</script>\n",
              "        <script charset=\"utf-8\" src=\"https://cdn.plot.ly/plotly-2.24.1.min.js\"></script>                <div id=\"764db06f-7076-4699-870d-bf82a6f59dcd\" class=\"plotly-graph-div\" style=\"height:525px; width:100%;\"></div>            <script type=\"text/javascript\">                                    window.PLOTLYENV=window.PLOTLYENV || {};                                    if (document.getElementById(\"764db06f-7076-4699-870d-bf82a6f59dcd\")) {                    Plotly.newPlot(                        \"764db06f-7076-4699-870d-bf82a6f59dcd\",                        [{\"hovertemplate\":\"PC 1=%{x}\\u003cbr\\u003ePC 2=%{y}\\u003cbr\\u003ePC 3=%{z}\\u003cbr\\u003ecolor=%{marker.color}\\u003cextra\\u003e\\u003c\\u002fextra\\u003e\",\"legendgroup\":\"\",\"marker\":{\"color\":[1,1,1,1,1,2,2,2,2,2,3,3,3,3,3,4,4,4,4,4,5,5,5,5,5,6,6,6,6,6,7,7,7,7,7,8,8,8,8,8,9,9,9,9,9,10,10,10,10,10,11,11,11,11,11,12,12,12,12,12,13,13,13,13,13,14,14,14,14,14,15,15,15,15,15,16,16,16,16,16,17,17,17,17,17,18,18,18,18,18,19,19,19,19,19,20,20,20,20,20,21,21,21,21,21,22,22,22,22,22,23,23,23,23,23,24,24,24,24,24,25,25,25,25,25,26,26,26,26,26,27,27,27,27,27,28,28,28,28,28,29,29,29,29,29,30,30,30,30,30,31,31,31,31,31,32,32,32,32,32,33,33,33,33,33,34,34,34,34,34,35,35,35,35,35,36,36,36,36,36,37,37,37,37,37,38,38,38,38,38,39,39,39,39,39,40,40,40,40,40],\"coloraxis\":\"coloraxis\",\"symbol\":\"circle\"},\"mode\":\"markers\",\"name\":\"\",\"scene\":\"scene\",\"showlegend\":false,\"x\":[1362.4047193451138,2903.70161215248,2572.2574337643,3090.431326731434,3546.028852655034,-2854.014071410573,-2694.6288309695647,-2543.8356340966625,-2303.2299279525687,-1791.6369437056794,-1014.2578133211504,-675.0878069516376,-226.69495680120684,934.3394809866012,782.0345900239133,2051.9171710757123,1185.5313846535144,1341.6222734925962,915.9881148302852,847.0282060340498,2382.9038233903125,2378.2798585470796,2614.24765171348,2405.308139302066,2371.228544546233,2099.342089140418,1930.1572973673597,2039.402056890101,1919.6771259059126,1799.992374036716,224.42949378878382,-583.2175057779448,95.36817724970008,-171.36099122656486,-567.0835907460727,604.2196676139115,740.2113997742669,1117.7702350535424,3771.4860973894497,3512.09419443001,919.0238659701116,277.4447520279629,-558.3068932647302,-875.3910206562373,658.0399242824903,2025.4884184792327,1874.232799699375,2008.6815930525636,2135.185976115204,1896.3753769319949,2225.4484041747914,2463.640400369314,2952.9018616128533,2627.2531867246353,2605.323406209977,919.3280735179388,770.3381189026711,1043.066736199556,741.5079799177788,916.7544114954737,-2786.2170101271618,-2923.9243595624876,-2594.378303595275,-2036.3672676886476,-898.5449961227539,-2134.115908768215,-2289.9002816783814,-2451.144457282439,-1734.7882802338656,-1907.6285135028174,-1685.619104011832,-1316.1446996074374,-1800.61186941856,-1508.773673397355,-1020.9695534784654,-1572.7833527837658,-1543.8113184843965,-2125.6888676479093,-1819.1008757033626,-2162.7988731902856,-930.9717018413816,-977.3881006778668,-1467.4141554730372,-539.5883350434133,-749.9328422755192,184.35685645298494,561.6827060286205,566.3594110064575,1031.663230665365,1260.0946831789527,1789.8604761638674,1688.0411437294044,1705.288141251659,1289.356702727167,1123.5103786896295,2064.7543153720903,2459.9067773614197,2418.466160033719,2296.0199499721716,2066.1732349357644,1905.3055319863686,1421.4615862778683,1513.313186982355,1222.0554032537145,1583.0863380172327,-3011.7590925079817,-3037.9249500403002,-2971.1549140842812,-2589.542017449427,-2043.0774852279067,-78.43521533841383,-193.50602408727454,92.99691615170975,843.1177280470508,1030.9446378782022,-2377.3997812835682,-2773.4249635846004,-2785.347440779318,-2791.0396914110015,-2985.8943128781084,-2197.061957347094,-620.3223409456406,362.29423223905076,343.3474004475684,626.6608048643085,2218.343098277303,2618.9623211792937,2475.578113431766,2473.5907847863473,1826.9407799190014,-2955.741102995419,-3093.6392379485937,-3168.981852774352,-3061.36750257006,-2859.0647752660802,-390.48960270104834,-332.02010682714916,-196.69196518633018,-193.28227360999523,14.819796152091014,-510.5029958148233,46.97123326672097,604.2277687177996,-105.03465322755189,1655.2489658440013,422.37170279260596,-1538.5073714045309,-1316.5782133928285,-1348.7752845327618,365.606224275821,1619.6121553163011,1576.4157646948943,1753.9583089109838,1735.377308453455,1164.367885643071,-1906.6424453193429,-1959.689795389863,-1720.5112935094203,-1320.6463871039816,-1979.9420149168716,-2216.448935764575,-2530.999754201459,-3026.003351862468,-2760.8364810802777,-2648.0887028669945,-329.63640575151925,-137.17352534396488,87.3322062598605,140.03712799263903,236.68153899329084,491.98759116652815,733.6165651632921,654.1557181727478,445.1522361098877,882.5097256223386,1016.2404379672378,1066.8880380007924,875.5117541272441,924.7318557902338,1462.1190841521855,-1147.1447199525753,-1169.7930456963811,-1042.1378459041223,-550.7309324669939,-488.12906901715564,-948.7136439465728,-960.7354942656393,-763.6223123896152,-569.5042829921626,-417.2670636747235,-149.49840133936215,-119.51502698252615,308.07277028016205,13.378946984301724,937.3054685066924,-1532.1338109866538,-1323.1671009518234,-1292.417334350505,-1096.6697140898377,-1425.9511824228582],\"y\":[-1410.0150013579562,-1135.0767470837977,-808.3046070389034,-1406.2979801342053,-1236.8555446975015,-831.5357746233177,-1323.2846618406154,-1502.5160425594318,-1421.5840925303169,-2263.3068484142514,512.0500402764793,952.4978479613268,768.7569546115049,1377.0716307860516,1251.6321555253496,-1640.776923891729,-734.2451734621837,-335.95735791740066,-499.25961386267693,-921.0883122694439,43.77114340723087,153.04208894270434,-168.000674975188,-51.79095375616647,-706.428972140218,2780.5885646947477,2683.952481755511,2674.0133409678383,2732.261356285286,3150.540884035706,660.6401060660219,-390.6290575280402,702.9957992575398,601.8337843955117,-100.19537020718481,1478.5471804474403,-638.7054948323917,-578.827375551879,-102.65769792918445,-126.47920408469898,-526.3737581306086,-1254.0142189137111,-1024.3202280045198,-1067.1987717922188,-852.7695922360341,-2056.8123424981177,-1688.7378975713361,-1356.7702033830528,-1281.306862447553,-1575.7692720067632,1058.9793132808686,1188.5930823315566,1284.03543931287,862.2707272778812,852.4046992302273,460.54035478228417,343.7861876967977,480.6200668690195,503.7676000854696,279.8518478754807,-321.09172488302795,-344.89320816135586,-42.54629816105424,-187.08029926423742,-1223.4356995041023,71.64450717076326,534.1397377703154,626.4069254300794,-462.39302538368287,-677.3356363497358,2536.8320536637525,2804.808543317711,2161.830456638162,2580.1836232622863,2732.637050875824,-1991.3737902954813,-2238.601301775205,-966.6769221985918,-615.5631770322543,-938.4006127569278,-61.6584236062176,16.244741643486538,101.61131101731172,319.6020972016237,976.7284624560153,-1405.9756642740795,-964.053874686433,-1515.9937779116087,309.7242200433211,448.15670053813204,-16.31898421190532,-602.0137411504941,-500.7240553941152,-273.3555951461462,1.7687953432239691,1109.750298542209,1018.6234710102764,945.1398886304195,913.1719248011892,829.3397457415946,1220.8197080872676,1244.4896193798807,1205.629732226366,1638.7634304416733,1544.252658442686,1010.065813170073,842.4336464223256,1285.3629130949641,-187.65316120945798,-91.47869581240406,-742.4654144143196,-928.5997824906159,-947.7953609657152,-75.12277346305287,262.86439482683966,-369.05384986960195,181.00078231014894,-397.0501602694176,688.8532200089571,886.3785249426688,-276.33956862544204,1373.7955647679057,1873.6603990640617,1935.3829032947535,1902.0480103775985,-670.5665238726235,222.09065357436987,250.53267403278753,-73.08657796835953,-291.9066735997025,1293.5156051759072,1562.6800855269537,1423.330642655251,1577.230208481425,524.8966452440394,3080.662645535805,2911.933079260429,2816.5731519749074,3180.3615486682534,3593.871933814235,-519.6096843120581,-485.5894762799485,778.2653963455232,42.254269263297346,-444.44050176269496,-2436.1438038201545,-975.0601638479014,-1144.6425231281191,-1178.9201440914674,-2068.1496968897018,353.8807950058712,2483.716467558629,535.4251101659607,2553.4290240101027,2498.2185282308155,-1278.9040468548626,-1171.928955378853,-539.4277921262445,-1454.254592083249,-935.7898850701694,2715.1319882300804,2777.1659866710543,2977.143730893342,3139.3246473200684,2089.359157610122,-862.4076829114537,-701.4346680990811,-381.4138555878925,-1693.6036348047903,-1673.789374505487,-1221.4625360559392,-1838.3574504445382,-2081.200682771255,-178.05415566394544,-1832.406312879175,-521.4449791001704,-750.9954177396836,-1120.8817077924184,-330.22457115578777,-2020.079152444989,-2186.5104171149796,-1936.667357573438,-2273.456168523953,-3031.3188849894773,-3411.059046333575,-1413.2014296035584,-456.1552883013674,-1590.7165121124401,-1672.5896060256434,-1768.60969009588,-679.7019882215147,-228.9580392966904,-1791.9385169497837,-735.5174740091027,-1188.5859171696652,-897.7354341479373,-1051.6409781922623,-826.5229940398053,-1351.8268340859465,-1602.3575205947873],\"z\":[-1786.8753927415999,313.6286943421597,-795.6595622536457,-390.82056766391935,-553.4753373599901,332.6947257544178,-368.3388547120441,-764.4837450739293,-582.2863969003067,-1183.7407639637854,-1342.8775681898983,-726.1696359351542,-1248.3469317814702,-1285.2421662029565,-1321.8375786023569,-348.2367319355983,856.4744760796777,1165.0687987427505,1162.9048004359045,778.6787657758962,1798.986505791184,2019.9159752435578,1768.9758364206803,1770.5332939429231,1076.4735506246875,741.0339994325155,553.2987555348451,561.0050153974003,770.912725264917,1238.7728098875273,-1445.2096250444167,982.2925805163221,-1512.236918811319,-1464.118915594806,914.7878278725285,-2062.6141544880443,-1915.0995193640554,-1551.178565094241,-1116.8394622770525,-1245.5625577197668,-1455.0598827907654,-1541.4779953905652,-840.5692011849667,-763.9734236226819,-1631.8968686389194,228.71625254269802,732.4092732181426,1430.2357936838637,735.8090875785539,932.4564228530324,-1169.1149498182463,-884.3937901632419,-785.7328726293899,-1466.104515413972,-1558.6203587236973,-1538.2371123786197,-1576.313115380151,-1327.0975028286996,-1538.8734488177802,-1446.6070570400968,-364.743316844075,-257.7599046749024,-562.4514618184419,-735.6504598976662,-1435.8552144416572,332.59798020220427,733.205744123917,962.9578657973177,274.12020162114254,197.71235485113226,-258.799436878018,78.54825849614832,-244.74681604151957,-146.83440665195567,-202.4110622344895,288.68588296250556,-407.5053934374664,574.8274252078902,1101.2310301019193,484.275255491214,-2145.488990206307,-2147.084071380411,-1700.990637615455,-2163.1486288389547,-1579.0668419363183,1019.1882477833655,770.6782743407169,673.650027007889,1736.4643251345335,1801.4877747707048,1253.5187523423535,1621.4634271068817,1028.547573406634,1464.9094149817972,1456.8166208293335,-1049.287700621149,-1246.4268951667707,-1325.7037481186212,-1265.3526677878178,-1331.2920583265006,1300.9591084096605,-1069.2579294770228,1494.3916083013426,-220.6869268319296,-810.1513881196834,695.5168935447019,726.1796161522511,692.9752779694944,35.91444433259531,136.0690644846637,485.38995590967073,405.9351643262238,201.73485197934033,964.5508958825608,1285.2075443953693,-206.83857795862735,58.226563886823634,170.65708726006386,127.40786187528347,617.7573108558357,568.8673176534991,-633.5137531386212,-425.78306171393547,-246.45842570628565,-53.59967665982927,-775.8238593903001,-381.1185980638373,-153.6761161017638,-584.3482201328404,-818.8399104798806,350.08663199993674,432.6597752927269,451.42922159159184,583.2851140551613,-677.8830334486935,68.67994685066812,-19.386593481507994,-21.563106422764132,204.53859370382744,722.3831883083473,1940.718187616115,1393.280376873285,965.7272338067806,1509.5315617405217,492.98635847974293,-1582.7234841480106,-1231.0867043598978,-1719.0155053441501,-1891.741782355145,-1314.7089461616265,1384.5368472380371,237.5889605000262,1527.8339600009333,418.3565526622183,178.63017795853503,646.5693179440237,518.1960314390002,903.2957472240575,-121.87790242444905,540.435465334302,622.2139981400751,507.38590239965083,646.1460221827836,469.15906849992666,777.6549952955667,439.17757426539407,-172.62441826512338,421.1662843277283,-519.4817634697969,-760.9183335294674,1481.7025756523965,675.6076417187465,751.2212415667794,2375.4404376425855,971.7074308892752,2152.772476876176,1814.4619982082675,1655.9938396098287,2189.6858531273306,1081.1342104346224,1206.0927266568956,1341.5105459972422,1131.3773353010645,613.9088893037961,655.3086616524765,-1450.5329963083564,-1380.1370420602702,-1531.76931873257,-867.9359344267789,-1309.8927750369508,-582.1546418900806,-513.9951093690149,-1372.5949998146298,-449.2915272986657,-1237.604527946413,500.3064566738664,709.73755818539,421.53610397993407,257.2688014032364,185.81879819352625],\"type\":\"scatter3d\"}],                        {\"template\":{\"data\":{\"histogram2dcontour\":[{\"type\":\"histogram2dcontour\",\"colorbar\":{\"outlinewidth\":0,\"ticks\":\"\"},\"colorscale\":[[0.0,\"#0d0887\"],[0.1111111111111111,\"#46039f\"],[0.2222222222222222,\"#7201a8\"],[0.3333333333333333,\"#9c179e\"],[0.4444444444444444,\"#bd3786\"],[0.5555555555555556,\"#d8576b\"],[0.6666666666666666,\"#ed7953\"],[0.7777777777777778,\"#fb9f3a\"],[0.8888888888888888,\"#fdca26\"],[1.0,\"#f0f921\"]]}],\"choropleth\":[{\"type\":\"choropleth\",\"colorbar\":{\"outlinewidth\":0,\"ticks\":\"\"}}],\"histogram2d\":[{\"type\":\"histogram2d\",\"colorbar\":{\"outlinewidth\":0,\"ticks\":\"\"},\"colorscale\":[[0.0,\"#0d0887\"],[0.1111111111111111,\"#46039f\"],[0.2222222222222222,\"#7201a8\"],[0.3333333333333333,\"#9c179e\"],[0.4444444444444444,\"#bd3786\"],[0.5555555555555556,\"#d8576b\"],[0.6666666666666666,\"#ed7953\"],[0.7777777777777778,\"#fb9f3a\"],[0.8888888888888888,\"#fdca26\"],[1.0,\"#f0f921\"]]}],\"heatmap\":[{\"type\":\"heatmap\",\"colorbar\":{\"outlinewidth\":0,\"ticks\":\"\"},\"colorscale\":[[0.0,\"#0d0887\"],[0.1111111111111111,\"#46039f\"],[0.2222222222222222,\"#7201a8\"],[0.3333333333333333,\"#9c179e\"],[0.4444444444444444,\"#bd3786\"],[0.5555555555555556,\"#d8576b\"],[0.6666666666666666,\"#ed7953\"],[0.7777777777777778,\"#fb9f3a\"],[0.8888888888888888,\"#fdca26\"],[1.0,\"#f0f921\"]]}],\"heatmapgl\":[{\"type\":\"heatmapgl\",\"colorbar\":{\"outlinewidth\":0,\"ticks\":\"\"},\"colorscale\":[[0.0,\"#0d0887\"],[0.1111111111111111,\"#46039f\"],[0.2222222222222222,\"#7201a8\"],[0.3333333333333333,\"#9c179e\"],[0.4444444444444444,\"#bd3786\"],[0.5555555555555556,\"#d8576b\"],[0.6666666666666666,\"#ed7953\"],[0.7777777777777778,\"#fb9f3a\"],[0.8888888888888888,\"#fdca26\"],[1.0,\"#f0f921\"]]}],\"contourcarpet\":[{\"type\":\"contourcarpet\",\"colorbar\":{\"outlinewidth\":0,\"ticks\":\"\"}}],\"contour\":[{\"type\":\"contour\",\"colorbar\":{\"outlinewidth\":0,\"ticks\":\"\"},\"colorscale\":[[0.0,\"#0d0887\"],[0.1111111111111111,\"#46039f\"],[0.2222222222222222,\"#7201a8\"],[0.3333333333333333,\"#9c179e\"],[0.4444444444444444,\"#bd3786\"],[0.5555555555555556,\"#d8576b\"],[0.6666666666666666,\"#ed7953\"],[0.7777777777777778,\"#fb9f3a\"],[0.8888888888888888,\"#fdca26\"],[1.0,\"#f0f921\"]]}],\"surface\":[{\"type\":\"surface\",\"colorbar\":{\"outlinewidth\":0,\"ticks\":\"\"},\"colorscale\":[[0.0,\"#0d0887\"],[0.1111111111111111,\"#46039f\"],[0.2222222222222222,\"#7201a8\"],[0.3333333333333333,\"#9c179e\"],[0.4444444444444444,\"#bd3786\"],[0.5555555555555556,\"#d8576b\"],[0.6666666666666666,\"#ed7953\"],[0.7777777777777778,\"#fb9f3a\"],[0.8888888888888888,\"#fdca26\"],[1.0,\"#f0f921\"]]}],\"mesh3d\":[{\"type\":\"mesh3d\",\"colorbar\":{\"outlinewidth\":0,\"ticks\":\"\"}}],\"scatter\":[{\"fillpattern\":{\"fillmode\":\"overlay\",\"size\":10,\"solidity\":0.2},\"type\":\"scatter\"}],\"parcoords\":[{\"type\":\"parcoords\",\"line\":{\"colorbar\":{\"outlinewidth\":0,\"ticks\":\"\"}}}],\"scatterpolargl\":[{\"type\":\"scatterpolargl\",\"marker\":{\"colorbar\":{\"outlinewidth\":0,\"ticks\":\"\"}}}],\"bar\":[{\"error_x\":{\"color\":\"#2a3f5f\"},\"error_y\":{\"color\":\"#2a3f5f\"},\"marker\":{\"line\":{\"color\":\"#E5ECF6\",\"width\":0.5},\"pattern\":{\"fillmode\":\"overlay\",\"size\":10,\"solidity\":0.2}},\"type\":\"bar\"}],\"scattergeo\":[{\"type\":\"scattergeo\",\"marker\":{\"colorbar\":{\"outlinewidth\":0,\"ticks\":\"\"}}}],\"scatterpolar\":[{\"type\":\"scatterpolar\",\"marker\":{\"colorbar\":{\"outlinewidth\":0,\"ticks\":\"\"}}}],\"histogram\":[{\"marker\":{\"pattern\":{\"fillmode\":\"overlay\",\"size\":10,\"solidity\":0.2}},\"type\":\"histogram\"}],\"scattergl\":[{\"type\":\"scattergl\",\"marker\":{\"colorbar\":{\"outlinewidth\":0,\"ticks\":\"\"}}}],\"scatter3d\":[{\"type\":\"scatter3d\",\"line\":{\"colorbar\":{\"outlinewidth\":0,\"ticks\":\"\"}},\"marker\":{\"colorbar\":{\"outlinewidth\":0,\"ticks\":\"\"}}}],\"scattermapbox\":[{\"type\":\"scattermapbox\",\"marker\":{\"colorbar\":{\"outlinewidth\":0,\"ticks\":\"\"}}}],\"scatterternary\":[{\"type\":\"scatterternary\",\"marker\":{\"colorbar\":{\"outlinewidth\":0,\"ticks\":\"\"}}}],\"scattercarpet\":[{\"type\":\"scattercarpet\",\"marker\":{\"colorbar\":{\"outlinewidth\":0,\"ticks\":\"\"}}}],\"carpet\":[{\"aaxis\":{\"endlinecolor\":\"#2a3f5f\",\"gridcolor\":\"white\",\"linecolor\":\"white\",\"minorgridcolor\":\"white\",\"startlinecolor\":\"#2a3f5f\"},\"baxis\":{\"endlinecolor\":\"#2a3f5f\",\"gridcolor\":\"white\",\"linecolor\":\"white\",\"minorgridcolor\":\"white\",\"startlinecolor\":\"#2a3f5f\"},\"type\":\"carpet\"}],\"table\":[{\"cells\":{\"fill\":{\"color\":\"#EBF0F8\"},\"line\":{\"color\":\"white\"}},\"header\":{\"fill\":{\"color\":\"#C8D4E3\"},\"line\":{\"color\":\"white\"}},\"type\":\"table\"}],\"barpolar\":[{\"marker\":{\"line\":{\"color\":\"#E5ECF6\",\"width\":0.5},\"pattern\":{\"fillmode\":\"overlay\",\"size\":10,\"solidity\":0.2}},\"type\":\"barpolar\"}],\"pie\":[{\"automargin\":true,\"type\":\"pie\"}]},\"layout\":{\"autotypenumbers\":\"strict\",\"colorway\":[\"#636efa\",\"#EF553B\",\"#00cc96\",\"#ab63fa\",\"#FFA15A\",\"#19d3f3\",\"#FF6692\",\"#B6E880\",\"#FF97FF\",\"#FECB52\"],\"font\":{\"color\":\"#2a3f5f\"},\"hovermode\":\"closest\",\"hoverlabel\":{\"align\":\"left\"},\"paper_bgcolor\":\"white\",\"plot_bgcolor\":\"#E5ECF6\",\"polar\":{\"bgcolor\":\"#E5ECF6\",\"angularaxis\":{\"gridcolor\":\"white\",\"linecolor\":\"white\",\"ticks\":\"\"},\"radialaxis\":{\"gridcolor\":\"white\",\"linecolor\":\"white\",\"ticks\":\"\"}},\"ternary\":{\"bgcolor\":\"#E5ECF6\",\"aaxis\":{\"gridcolor\":\"white\",\"linecolor\":\"white\",\"ticks\":\"\"},\"baxis\":{\"gridcolor\":\"white\",\"linecolor\":\"white\",\"ticks\":\"\"},\"caxis\":{\"gridcolor\":\"white\",\"linecolor\":\"white\",\"ticks\":\"\"}},\"coloraxis\":{\"colorbar\":{\"outlinewidth\":0,\"ticks\":\"\"}},\"colorscale\":{\"sequential\":[[0.0,\"#0d0887\"],[0.1111111111111111,\"#46039f\"],[0.2222222222222222,\"#7201a8\"],[0.3333333333333333,\"#9c179e\"],[0.4444444444444444,\"#bd3786\"],[0.5555555555555556,\"#d8576b\"],[0.6666666666666666,\"#ed7953\"],[0.7777777777777778,\"#fb9f3a\"],[0.8888888888888888,\"#fdca26\"],[1.0,\"#f0f921\"]],\"sequentialminus\":[[0.0,\"#0d0887\"],[0.1111111111111111,\"#46039f\"],[0.2222222222222222,\"#7201a8\"],[0.3333333333333333,\"#9c179e\"],[0.4444444444444444,\"#bd3786\"],[0.5555555555555556,\"#d8576b\"],[0.6666666666666666,\"#ed7953\"],[0.7777777777777778,\"#fb9f3a\"],[0.8888888888888888,\"#fdca26\"],[1.0,\"#f0f921\"]],\"diverging\":[[0,\"#8e0152\"],[0.1,\"#c51b7d\"],[0.2,\"#de77ae\"],[0.3,\"#f1b6da\"],[0.4,\"#fde0ef\"],[0.5,\"#f7f7f7\"],[0.6,\"#e6f5d0\"],[0.7,\"#b8e186\"],[0.8,\"#7fbc41\"],[0.9,\"#4d9221\"],[1,\"#276419\"]]},\"xaxis\":{\"gridcolor\":\"white\",\"linecolor\":\"white\",\"ticks\":\"\",\"title\":{\"standoff\":15},\"zerolinecolor\":\"white\",\"automargin\":true,\"zerolinewidth\":2},\"yaxis\":{\"gridcolor\":\"white\",\"linecolor\":\"white\",\"ticks\":\"\",\"title\":{\"standoff\":15},\"zerolinecolor\":\"white\",\"automargin\":true,\"zerolinewidth\":2},\"scene\":{\"xaxis\":{\"backgroundcolor\":\"#E5ECF6\",\"gridcolor\":\"white\",\"linecolor\":\"white\",\"showbackground\":true,\"ticks\":\"\",\"zerolinecolor\":\"white\",\"gridwidth\":2},\"yaxis\":{\"backgroundcolor\":\"#E5ECF6\",\"gridcolor\":\"white\",\"linecolor\":\"white\",\"showbackground\":true,\"ticks\":\"\",\"zerolinecolor\":\"white\",\"gridwidth\":2},\"zaxis\":{\"backgroundcolor\":\"#E5ECF6\",\"gridcolor\":\"white\",\"linecolor\":\"white\",\"showbackground\":true,\"ticks\":\"\",\"zerolinecolor\":\"white\",\"gridwidth\":2}},\"shapedefaults\":{\"line\":{\"color\":\"#2a3f5f\"}},\"annotationdefaults\":{\"arrowcolor\":\"#2a3f5f\",\"arrowhead\":0,\"arrowwidth\":1},\"geo\":{\"bgcolor\":\"white\",\"landcolor\":\"#E5ECF6\",\"subunitcolor\":\"white\",\"showland\":true,\"showlakes\":true,\"lakecolor\":\"white\"},\"title\":{\"x\":0.05},\"mapbox\":{\"style\":\"light\"}}},\"scene\":{\"domain\":{\"x\":[0.0,1.0],\"y\":[0.0,1.0]},\"xaxis\":{\"title\":{\"text\":\"PC 1\"}},\"yaxis\":{\"title\":{\"text\":\"PC 2\"}},\"zaxis\":{\"title\":{\"text\":\"PC 3\"}}},\"coloraxis\":{\"colorbar\":{\"title\":{\"text\":\"color\"}},\"colorscale\":[[0.0,\"#0d0887\"],[0.1111111111111111,\"#46039f\"],[0.2222222222222222,\"#7201a8\"],[0.3333333333333333,\"#9c179e\"],[0.4444444444444444,\"#bd3786\"],[0.5555555555555556,\"#d8576b\"],[0.6666666666666666,\"#ed7953\"],[0.7777777777777778,\"#fb9f3a\"],[0.8888888888888888,\"#fdca26\"],[1.0,\"#f0f921\"]]},\"legend\":{\"tracegroupgap\":0},\"margin\":{\"t\":60}},                        {\"responsive\": true}                    ).then(function(){\n",
              "                            \n",
              "var gd = document.getElementById('764db06f-7076-4699-870d-bf82a6f59dcd');\n",
              "var x = new MutationObserver(function (mutations, observer) {{\n",
              "        var display = window.getComputedStyle(gd).display;\n",
              "        if (!display || display === 'none') {{\n",
              "            console.log([gd, 'removed!']);\n",
              "            Plotly.purge(gd);\n",
              "            observer.disconnect();\n",
              "        }}\n",
              "}});\n",
              "\n",
              "// Listen for the removal of the full notebook cells\n",
              "var notebookContainer = gd.closest('#notebook-container');\n",
              "if (notebookContainer) {{\n",
              "    x.observe(notebookContainer, {childList: true});\n",
              "}}\n",
              "\n",
              "// Listen for the clearing of the current output cell\n",
              "var outputEl = gd.closest('.output');\n",
              "if (outputEl) {{\n",
              "    x.observe(outputEl, {childList: true});\n",
              "}}\n",
              "\n",
              "                        })                };                            </script>        </div>\n",
              "</body>\n",
              "</html>"
            ]
          },
          "metadata": {}
        }
      ]
    },
    {
      "cell_type": "markdown",
      "source": [
        "Finally, an sklearn-based PCA is executed with 110 dimensions rather than 3."
      ],
      "metadata": {
        "id": "nLoDfR53M5Uj"
      },
      "id": "nLoDfR53M5Uj"
    },
    {
      "cell_type": "code",
      "source": [
        "pca_train_110_sk = sklearn_pca(train_x, component_number)\n",
        "print(pca_train_110_sk)"
      ],
      "metadata": {
        "colab": {
          "base_uri": "https://localhost:8080/"
        },
        "id": "gFEiNYkmlf1s",
        "outputId": "e71e0aa8-6d05-4c1f-d441-2db7ee8cf95e"
      },
      "id": "gFEiNYkmlf1s",
      "execution_count": null,
      "outputs": [
        {
          "output_type": "stream",
          "name": "stdout",
          "text": [
            "[[ 1362.40471908 -1410.01500068 -1786.87540854 ...   -96.09270676\n",
            "     73.67973678   177.55444346]\n",
            " [ 2903.70161117 -1135.07676176   313.62879786 ...  -187.35039927\n",
            "     56.61734607    97.90375323]\n",
            " [ 2572.25743346  -808.30460733  -795.6590586  ...   390.11140545\n",
            "     64.89819612  -153.1554777 ]\n",
            " ...\n",
            " [-1292.41733442  -826.52299566   421.53541987 ...   116.27173771\n",
            "   -102.08486047   208.68109392]\n",
            " [-1096.66971392 -1351.82682684   257.26877146 ...    36.25626889\n",
            "    -33.69888415  -169.85670251]\n",
            " [-1425.95118228 -1602.3575206    185.81817141 ...    97.88020359\n",
            "     21.27867389   -50.2485205 ]]\n"
          ]
        }
      ]
    },
    {
      "cell_type": "markdown",
      "source": [
        "---"
      ],
      "metadata": {
        "id": "G6TzXokSgRr8"
      },
      "id": "G6TzXokSgRr8"
    },
    {
      "cell_type": "markdown",
      "source": [
        "#Part 2: Kernel PCA (KPCA)\n",
        "\n"
      ],
      "metadata": {
        "id": "Cg9ATxGT67oS"
      },
      "id": "Cg9ATxGT67oS"
    },
    {
      "cell_type": "markdown",
      "source": [
        "Kernel PCA uses the same idea as PCA; however, it transforms the data using a kernel function to allow separation of data that is not linearly separable. The KPCA code first computes and centers the kernel matrix before it preforms PCA in the same way as before. The kernel functions are defined in their respective sections in the code cells below."
      ],
      "metadata": {
        "id": "fzJMIdowOwgp"
      },
      "id": "fzJMIdowOwgp"
    },
    {
      "cell_type": "code",
      "source": [
        "def my_kpca(data, n_components, kernel_type='rbf', kernel_param=1.0):\n",
        "\n",
        "  # Compute the kernel matrix\n",
        "  n_samples = data.shape[0]\n",
        "  kernel_matrix = np.zeros((n_samples, n_samples))\n",
        "\n",
        "  for i in range(n_samples):\n",
        "      for j in range(n_samples):\n",
        "\n",
        "          # Allows for three different options\n",
        "          if kernel_type == 'rbf':\n",
        "            kernel_matrix[i, j] = rbf_kernel(data[i], data[j], kernel_param)\n",
        "          elif kernel_type == 'poly':\n",
        "            kernel_matrix[i, j] = poly_kernel(data[i], data[j], kernel_param)\n",
        "          elif kernel_type == 'linear':\n",
        "            kernel_matrix[i, j] = linear_kernel(data[i], data[j])\n",
        "\n",
        "  # Center the kernel matrix\n",
        "  one_n = np.ones((n_samples, n_samples)) / n_samples\n",
        "  centered_kernel_matrix = kernel_matrix - one_n.dot(kernel_matrix) - kernel_matrix.dot(one_n) + one_n.dot(kernel_matrix).dot(one_n)\n",
        "\n",
        "  # Perform eigenvalue decomposition\n",
        "  eigenvalues, eigenvectors = np.linalg.eigh(centered_kernel_matrix)\n",
        "\n",
        "  # Sort eigenvalues and eigenvectors in descending order\n",
        "  sorted_indices = np.argsort(eigenvalues)[::-1]\n",
        "  eigenvalues = eigenvalues[sorted_indices]\n",
        "  eigenvectors = eigenvectors[:, sorted_indices]\n",
        "\n",
        "  # Project the data onto the selected components\n",
        "  data_kpca_numpy = np.dot(centered_kernel_matrix, eigenvectors[:, :n_components])\n",
        "  return(data_kpca_numpy, eigenvectors)"
      ],
      "metadata": {
        "id": "cA5L91oAFUVi"
      },
      "id": "cA5L91oAFUVi",
      "execution_count": null,
      "outputs": []
    },
    {
      "cell_type": "markdown",
      "source": [
        "## 2.1 KPCA with RBF Kernel:"
      ],
      "metadata": {
        "id": "36-hMLQj7Ai_"
      },
      "id": "36-hMLQj7Ai_"
    },
    {
      "cell_type": "markdown",
      "source": [
        "### a. Implement Kernel PCA with the Radial Basis Function (RBF) kernel from scratch."
      ],
      "metadata": {
        "id": "skHN1nDi7DWg"
      },
      "id": "skHN1nDi7DWg"
    },
    {
      "cell_type": "markdown",
      "source": [
        "Below is the Radial Basis Function kernel, which is defined mathematically in the return statement."
      ],
      "metadata": {
        "id": "yK-yDLWJQZva"
      },
      "id": "yK-yDLWJQZva"
    },
    {
      "cell_type": "code",
      "source": [
        "def rbf_kernel(x, y, gamma=1.0):\n",
        "    return np.exp(-gamma * np.linalg.norm(x - y) ** 2)"
      ],
      "metadata": {
        "id": "TUMnaXfkD2xI"
      },
      "id": "TUMnaXfkD2xI",
      "execution_count": null,
      "outputs": []
    },
    {
      "cell_type": "markdown",
      "source": [
        "### b. Apply your KPCA implementation to the Train dataset."
      ],
      "metadata": {
        "id": "XNM2-Dvu7GrA"
      },
      "id": "XNM2-Dvu7GrA"
    },
    {
      "cell_type": "markdown",
      "source": [
        "KPCA is applied and the resulting transformed data is output."
      ],
      "metadata": {
        "id": "uDhH-1tYQ4AU"
      },
      "id": "uDhH-1tYQ4AU"
    },
    {
      "cell_type": "code",
      "source": [
        "kpca_train_rbf, kpca_train_rbf_eigenvectors = my_kpca(train_x, 3, 'rbf', 1.0)\n",
        "print(kpca_train_rbf)"
      ],
      "metadata": {
        "id": "WXnE3O90VMJ5",
        "colab": {
          "base_uri": "https://localhost:8080/"
        },
        "outputId": "fd625caa-812d-4df1-dd08-1c6fca91b6da"
      },
      "id": "WXnE3O90VMJ5",
      "execution_count": null,
      "outputs": [
        {
          "output_type": "stream",
          "name": "stdout",
          "text": [
            "[[-2.34009374e-18  1.53915821e-18 -1.89078037e-18]\n",
            " [-4.94993398e-02  3.48636452e-02 -1.00631918e-02]\n",
            " [-4.14861312e-02  3.65139023e-02  3.94963707e-04]\n",
            " [-9.44718604e-03  1.86550692e-02  8.87791204e-03]\n",
            " [ 3.01277640e-02  2.30413755e-02  2.41910680e-03]\n",
            " [ 2.77220755e-02  1.06780022e-01  4.01730826e-02]\n",
            " [-3.30818815e-02 -1.98786128e-02 -3.23954607e-02]\n",
            " [-2.94303636e-02 -5.49952542e-02  1.03677265e-01]\n",
            " [ 1.17919239e-02  3.25982470e-02  8.80034818e-03]\n",
            " [-1.79685855e-02  1.49266784e-03 -3.95945288e-04]\n",
            " [ 9.04378320e-03 -2.22200738e-02  1.90618496e-02]\n",
            " [ 2.30258532e-02 -6.17993304e-03  1.68019195e-02]\n",
            " [ 2.35194491e-02 -6.93767231e-02 -4.61476339e-02]\n",
            " [-8.09064235e-03 -5.76011107e-03 -1.04080563e-02]\n",
            " [ 4.83778306e-02  2.98299381e-03  6.22374970e-03]\n",
            " [-5.86363803e-02 -1.44964709e-02 -5.35321509e-02]\n",
            " [ 1.02912918e-02 -1.70349681e-02 -3.32701591e-03]\n",
            " [ 1.67882721e-02  8.53582518e-03 -1.71766851e-02]\n",
            " [-1.24098011e-01  3.33844881e-02 -5.34426006e-03]\n",
            " [-9.86092360e-02  7.57444563e-02  1.16699393e-02]\n",
            " [ 1.55098957e-02  7.56665910e-03 -2.59634664e-02]\n",
            " [-8.18037610e-02 -1.14201655e-02  4.13022660e-02]\n",
            " [-4.48049565e-02 -5.93964134e-02 -5.57967485e-02]\n",
            " [-2.93018960e-02  7.45951986e-03  3.03287979e-02]\n",
            " [-2.39830651e-03 -1.43784135e-02  3.84575555e-03]\n",
            " [-5.08936464e-02 -3.48139120e-03  2.05839974e-02]\n",
            " [ 6.75621171e-03 -4.25158115e-02 -3.23165811e-02]\n",
            " [-1.98739804e-03  7.30575773e-02 -2.92258044e-02]\n",
            " [ 2.97870131e-01 -1.20076304e-02  1.76804485e-02]\n",
            " [-8.12016318e-03  1.04280084e-02 -2.02354070e-02]\n",
            " [ 3.05982107e-01  5.43182081e-02  9.06118890e-02]\n",
            " [-2.08877375e-03 -7.42996739e-03 -2.07606503e-02]\n",
            " [-8.35884045e-02  5.98902558e-03  3.29417622e-02]\n",
            " [-3.53801568e-02  9.34442081e-04 -2.54898844e-02]\n",
            " [-2.01006287e-02  2.22328395e-02 -1.32478078e-02]\n",
            " [-6.68121440e-02  2.31435962e-02 -1.59179175e-02]\n",
            " [-5.01726014e-03 -2.47912422e-03  2.89615175e-03]\n",
            " [-4.55938869e-02 -3.56536974e-02  7.03353424e-02]\n",
            " [ 1.13265160e-02 -2.85996104e-02 -9.07340223e-03]\n",
            " [ 1.05510594e-02  1.45630139e-02  1.88545710e-02]\n",
            " [ 4.66064407e-02 -7.73378877e-02 -1.12651473e-01]\n",
            " [-2.38116284e-02 -5.25840484e-02 -4.68846168e-03]\n",
            " [ 1.77604474e-01 -1.48719770e-02  1.59392008e-02]\n",
            " [ 1.00838909e-01  4.36393905e-02  1.32901504e-02]\n",
            " [ 9.07215177e-03 -5.62241300e-02 -1.16518515e-02]\n",
            " [-5.18386783e-02 -6.63085178e-02 -3.95376089e-02]\n",
            " [-4.38212442e-02 -8.76054861e-02 -4.28637533e-02]\n",
            " [-7.93417280e-03 -3.05107917e-02  1.85121243e-03]\n",
            " [ 4.13888817e-02  3.37146358e-03  2.94951206e-03]\n",
            " [-1.38695261e-02 -5.18580962e-02 -1.25830659e-01]\n",
            " [-2.73220607e-02 -4.69921157e-02  4.89477218e-03]\n",
            " [-1.15830504e-01 -6.23219277e-02  1.31163434e-02]\n",
            " [ 5.14963024e-03 -5.84165412e-02 -7.98276047e-03]\n",
            " [ 4.69550304e-02  2.29529648e-02  1.77320199e-02]\n",
            " [ 1.76609852e-02 -1.48963803e-02  3.12766624e-02]\n",
            " [-3.50785641e-03  5.80126739e-02 -4.28967151e-03]\n",
            " [ 6.66178942e-02 -1.12088269e-02 -7.17511711e-03]\n",
            " [-3.50044796e-02 -4.19123050e-02  3.33843644e-03]\n",
            " [-1.54944710e-01 -2.07138271e-02  3.14059942e-02]\n",
            " [-1.47104348e-01  1.80280436e-02  5.47062733e-02]\n",
            " [ 7.06031024e-02 -8.51638231e-03  1.94822699e-02]\n",
            " [ 2.36558955e-01 -2.95683417e-02  2.46242043e-02]\n",
            " [-1.19594612e-02  3.09106341e-03 -4.02136325e-02]\n",
            " [-3.37691791e-02 -1.40888962e-02 -1.35181367e-02]\n",
            " [-8.17287669e-02 -5.38590505e-03 -3.81186678e-02]\n",
            " [-5.08517106e-02 -4.88856194e-02 -4.31192751e-02]\n",
            " [ 2.44823637e-02 -7.04343871e-02  7.03748923e-03]\n",
            " [-1.01344128e-01 -3.39077134e-02 -7.27437343e-02]\n",
            " [ 5.12177554e-03 -2.51632943e-02 -2.67905361e-02]\n",
            " [-4.59233371e-02 -5.74534983e-02  1.70257026e-02]\n",
            " [-9.90903574e-03  1.48538843e-02 -3.34712940e-03]\n",
            " [ 3.35063432e-02 -6.10204503e-03 -7.22879635e-02]\n",
            " [ 4.89938325e-02 -6.86823891e-02  9.12465870e-04]\n",
            " [-7.47551228e-02 -1.27128848e-02 -3.05098186e-02]\n",
            " [-1.00842196e-02 -4.27312689e-02 -1.56154979e-02]\n",
            " [ 3.06444796e-02  4.61830754e-02 -3.23623779e-02]\n",
            " [ 2.76772464e-02 -5.79244208e-02 -4.98965912e-03]\n",
            " [-1.43594794e-01  4.21577426e-02 -1.21741617e-02]\n",
            " [ 4.29632960e-01 -3.15310251e-02 -3.65656269e-02]\n",
            " [-2.04405226e-01 -8.20270346e-02 -7.93229530e-03]\n",
            " [ 3.37105502e-01 -2.34020951e-02  1.13996166e-02]\n",
            " [ 3.38056468e-02 -6.05300143e-03 -2.69241960e-02]\n",
            " [-7.47307437e-03 -1.45920285e-02 -3.54830528e-03]\n",
            " [-1.41600202e-02  6.53304681e-02 -6.47787172e-02]\n",
            " [-3.41963421e-02  1.48873914e-02  6.71612352e-03]\n",
            " [ 3.04178535e-03 -1.16035778e-02  3.28350339e-03]\n",
            " [-4.60866760e-02 -5.54668517e-02 -3.07053383e-02]\n",
            " [-1.08892774e-02 -1.00581230e-02  1.92656438e-03]\n",
            " [ 1.58086610e-02  4.86478004e-02 -4.26954084e-02]\n",
            " [ 1.03265867e-02 -2.47952935e-02  2.71692394e-02]\n",
            " [ 8.83591243e-03 -5.54851208e-03 -2.57240637e-02]\n",
            " [ 4.19813791e-02  6.61684757e-02 -1.29787064e-02]\n",
            " [-1.23820413e-02 -3.49227183e-02 -8.41859638e-02]\n",
            " [ 1.18263453e-02  9.58291554e-03 -3.53864086e-02]\n",
            " [ 3.25245198e-02 -3.55103915e-02  7.78125164e-03]\n",
            " [ 7.89294592e-02  3.24558030e-03 -5.82402750e-02]\n",
            " [ 4.02476612e-02 -2.32131773e-02  2.21959816e-02]\n",
            " [-3.83682476e-03 -1.31202177e-02 -7.35835289e-03]\n",
            " [-1.11368599e-02  2.35197050e-02  5.99485505e-03]\n",
            " [-1.01373657e-02 -4.13567008e-02  2.52330429e-02]\n",
            " [ 2.49027208e-02 -3.52022193e-02  4.31900785e-02]\n",
            " [ 6.39703824e-02 -6.72545646e-03 -1.93609548e-02]\n",
            " [ 7.75326470e-03 -1.47208796e-01 -4.33979518e-02]\n",
            " [ 1.23279861e-02  4.91814233e-02 -1.98608671e-02]\n",
            " [-1.06958251e-02 -5.84826432e-03 -3.25459888e-02]\n",
            " [-1.76497658e-02  8.49119174e-02 -4.42896539e-02]\n",
            " [-1.25373308e-02 -3.17088280e-02  4.45480938e-03]\n",
            " [-1.04267294e-02 -2.96431387e-02 -1.08593695e-02]\n",
            " [-7.60110520e-03  1.76862101e-02 -1.40911708e-03]\n",
            " [ 1.21301531e-02  4.52475067e-03  5.57412927e-02]\n",
            " [-5.86931433e-03  6.75228718e-02  1.35035327e-01]\n",
            " [-2.88191926e-02 -1.62479531e-02 -1.57850787e-02]\n",
            " [-1.28507097e-01 -1.57583587e-02  7.10073193e-02]\n",
            " [-2.37725064e-02 -3.40617816e-02  3.37690674e-02]\n",
            " [ 5.35570012e-03  2.28029096e-03 -1.18179896e-02]\n",
            " [ 5.86269073e-03  2.38558488e-01  4.68505821e-02]\n",
            " [ 2.44727593e-02  1.37390498e-01  6.22867745e-02]\n",
            " [ 3.82214890e-02  2.10324867e-03 -2.50988432e-02]\n",
            " [ 1.94138647e-04  1.21510703e-01 -2.11736339e-02]\n",
            " [-3.00726303e-02  3.03144531e-01  1.37218501e-02]\n",
            " [ 1.43174932e-02 -2.20446800e-02  3.86506522e-02]\n",
            " [ 6.62625667e-03  5.69890870e-01 -4.03001982e-02]\n",
            " [-1.37789513e-02  1.27892840e-01 -1.02989161e-02]\n",
            " [-2.56048866e-02  3.84193937e-02 -7.54574791e-03]\n",
            " [-1.82239904e-02 -3.48955514e-03 -5.48022615e-02]\n",
            " [ 1.06258136e-02 -6.09590414e-02 -1.06268986e-01]\n",
            " [-1.59929995e-02  2.14448557e-02 -1.17765182e-03]\n",
            " [-3.41746218e-02  2.69989334e-02  1.23084869e-01]\n",
            " [-1.31720058e-02  3.67354783e-02  8.26034190e-02]\n",
            " [ 1.90939430e-03  5.45340589e-03 -1.27784665e-01]\n",
            " [-2.19167762e-02 -1.70741665e-02 -3.07259673e-03]\n",
            " [-5.31963231e-03 -8.09746643e-02 -3.08271805e-02]\n",
            " [-5.75729122e-02 -1.19304611e-01  2.68282648e-01]\n",
            " [-2.33429876e-02 -5.19447944e-02  7.34003031e-01]\n",
            " [-5.46101184e-03 -6.43054791e-02  2.10842327e-01]\n",
            " [ 4.71209721e-03 -1.77590962e-02 -6.31124061e-02]\n",
            " [-6.51245273e-02 -5.01723478e-02 -8.49472303e-02]\n",
            " [-1.74482401e-02  1.23328437e-02  2.36403737e-02]\n",
            " [-1.06561996e-03  1.07694596e-02 -2.02222533e-02]\n",
            " [-4.93466193e-02 -6.50978745e-03 -1.97202353e-02]\n",
            " [ 1.98733395e-02  2.27051472e-02  9.27056837e-03]\n",
            " [-5.69158399e-03  8.92812758e-02  9.35326773e-03]\n",
            " [-7.26378876e-02 -3.07584095e-02 -3.43229741e-02]\n",
            " [-1.07956087e-02  3.66633857e-02 -1.97611703e-03]\n",
            " [-4.65004550e-03  2.61801883e-02 -5.72361537e-02]\n",
            " [ 5.90432315e-02  1.74371549e-02 -8.27326383e-02]\n",
            " [ 5.16545901e-03  5.66007632e-03  3.36192345e-02]\n",
            " [-6.48694316e-02  1.17193684e-01  5.06294219e-02]\n",
            " [-1.40829798e-02 -1.07018051e-01  2.30799196e-02]\n",
            " [ 5.02540102e-03  2.21932468e-02  9.92025138e-03]\n",
            " [-2.93070940e-02  7.46283634e-03  7.65258049e-03]\n",
            " [ 1.40965855e-02 -6.29025450e-03 -2.06714846e-02]\n",
            " [-6.24880823e-02  3.66691938e-02  4.10449584e-02]\n",
            " [-3.47877339e-02 -2.45631989e-02  1.40788627e-02]\n",
            " [-1.67106520e-02 -6.06180850e-03 -1.58801751e-02]\n",
            " [ 4.85436314e-02 -2.22631981e-02  2.52657906e-02]\n",
            " [-1.31417545e-02  2.57690606e-02 -5.83266020e-02]\n",
            " [ 1.52972910e-01  3.71657698e-02  2.18264960e-02]\n",
            " [ 1.43904532e-02 -9.02539899e-02  9.93934219e-03]\n",
            " [ 4.64849604e-02 -1.74574110e-02  6.55228767e-02]\n",
            " [-2.20625767e-02  4.42409888e-02 -5.68317330e-02]\n",
            " [ 1.99168052e-02 -2.84578390e-02 -7.32808079e-02]\n",
            " [-4.63369055e-02 -1.61830157e-02 -9.94900107e-03]\n",
            " [-4.06309362e-02 -2.35342125e-02 -2.89513942e-02]\n",
            " [ 5.64017920e-03 -2.37055280e-03  2.34372648e-02]\n",
            " [ 2.49501752e-03  2.26959133e-02 -2.96872214e-02]\n",
            " [ 1.42974175e-02  2.65255641e-03 -7.78363779e-04]\n",
            " [ 4.04876893e-02  4.47719931e-02  1.20819254e-01]\n",
            " [-6.11482634e-02  5.45451847e-02 -8.26767149e-02]\n",
            " [ 2.26963968e-02  1.93614924e-03 -7.41676480e-02]\n",
            " [ 2.09571776e-02  2.49287706e-04 -1.37701608e-02]\n",
            " [ 9.43107689e-03  3.72729739e-02 -8.28164717e-03]\n",
            " [-5.31595879e-02  1.77348694e-01 -5.02557844e-02]\n",
            " [ 2.28837956e-02 -6.02806246e-02 -8.71813425e-06]\n",
            " [ 5.42462520e-02 -1.93726757e-02 -6.23687841e-02]\n",
            " [-4.10227468e-02  4.95163079e-03 -4.75785640e-03]\n",
            " [ 1.71363548e-04 -3.02245552e-02 -1.24787166e-02]\n",
            " [-1.10446960e-01  4.11557028e-02 -8.12283851e-02]\n",
            " [ 4.24355185e-02 -3.38962851e-02 -6.20959369e-03]\n",
            " [ 3.56032206e-02  1.69495648e-02 -1.54858037e-02]\n",
            " [-1.17855291e-02 -1.67329479e-01 -4.28124396e-02]\n",
            " [ 5.72075434e-02  1.06435152e-02  6.06859235e-02]\n",
            " [-2.88172361e-02 -8.49035600e-02  1.09841080e-02]\n",
            " [ 3.07171071e-03  5.78430458e-02  3.38686310e-02]\n",
            " [-2.83908495e-02  6.78854738e-02  1.35832736e-02]\n",
            " [ 2.35997938e-02  1.84485079e-02  5.67583434e-02]\n",
            " [-2.81082411e-02  3.79663735e-02  1.37530011e-02]\n",
            " [ 2.19216731e-02 -2.24035818e-01 -7.70276197e-02]\n",
            " [ 2.00183906e-02 -3.62883010e-02 -2.46904368e-02]\n",
            " [-4.91019293e-02  2.34194412e-02  3.30466293e-02]\n",
            " [-1.72914603e-02 -1.02718454e-02 -3.71790383e-02]\n",
            " [ 1.07788814e-01 -1.33218812e-02  7.61438566e-03]\n",
            " [ 8.60114634e-03 -5.57728090e-02  1.48279187e-02]\n",
            " [ 5.93290539e-03 -9.80345833e-03 -1.15932329e-02]\n",
            " [ 1.37330174e-02  7.56761598e-02 -2.45609239e-03]\n",
            " [-1.41692589e-03 -1.65114910e-01 -6.18810523e-02]\n",
            " [ 3.66201428e-02  4.90702258e-02 -1.91062683e-05]\n",
            " [-9.39775070e-02 -5.43938569e-02  3.43547186e-02]\n",
            " [ 5.02257364e-03  3.19667009e-02  2.67249554e-03]\n",
            " [ 2.22185874e-02 -4.97922910e-02 -3.15809965e-02]]\n"
          ]
        }
      ]
    },
    {
      "cell_type": "markdown",
      "source": [
        "The transformed data is then graphed."
      ],
      "metadata": {
        "id": "4yd8NdFZQ8xR"
      },
      "id": "4yd8NdFZQ8xR"
    },
    {
      "cell_type": "code",
      "source": [
        "fig = px.scatter_3d(\n",
        "      kpca_train_rbf, x=0, y=1, z=2, color=train_y,\n",
        "      labels={'0': 'PC 1', '1': 'PC 2', '2': 'PC 3'}\n",
        "  )\n",
        "fig.show()"
      ],
      "metadata": {
        "colab": {
          "base_uri": "https://localhost:8080/",
          "height": 542
        },
        "id": "nNt5qWnJCX6e",
        "outputId": "21c48229-bd1c-4b57-b0f2-e968bf32a573"
      },
      "id": "nNt5qWnJCX6e",
      "execution_count": null,
      "outputs": [
        {
          "output_type": "display_data",
          "data": {
            "text/html": [
              "<html>\n",
              "<head><meta charset=\"utf-8\" /></head>\n",
              "<body>\n",
              "    <div>            <script src=\"https://cdnjs.cloudflare.com/ajax/libs/mathjax/2.7.5/MathJax.js?config=TeX-AMS-MML_SVG\"></script><script type=\"text/javascript\">if (window.MathJax && window.MathJax.Hub && window.MathJax.Hub.Config) {window.MathJax.Hub.Config({SVG: {font: \"STIX-Web\"}});}</script>                <script type=\"text/javascript\">window.PlotlyConfig = {MathJaxConfig: 'local'};</script>\n",
              "        <script charset=\"utf-8\" src=\"https://cdn.plot.ly/plotly-2.24.1.min.js\"></script>                <div id=\"69ddd5f9-3daf-45c6-baf4-0ba0acc3336c\" class=\"plotly-graph-div\" style=\"height:525px; width:100%;\"></div>            <script type=\"text/javascript\">                                    window.PLOTLYENV=window.PLOTLYENV || {};                                    if (document.getElementById(\"69ddd5f9-3daf-45c6-baf4-0ba0acc3336c\")) {                    Plotly.newPlot(                        \"69ddd5f9-3daf-45c6-baf4-0ba0acc3336c\",                        [{\"hovertemplate\":\"PC 1=%{x}\\u003cbr\\u003ePC 2=%{y}\\u003cbr\\u003ePC 3=%{z}\\u003cbr\\u003ecolor=%{marker.color}\\u003cextra\\u003e\\u003c\\u002fextra\\u003e\",\"legendgroup\":\"\",\"marker\":{\"color\":[1,1,1,1,1,2,2,2,2,2,3,3,3,3,3,4,4,4,4,4,5,5,5,5,5,6,6,6,6,6,7,7,7,7,7,8,8,8,8,8,9,9,9,9,9,10,10,10,10,10,11,11,11,11,11,12,12,12,12,12,13,13,13,13,13,14,14,14,14,14,15,15,15,15,15,16,16,16,16,16,17,17,17,17,17,18,18,18,18,18,19,19,19,19,19,20,20,20,20,20,21,21,21,21,21,22,22,22,22,22,23,23,23,23,23,24,24,24,24,24,25,25,25,25,25,26,26,26,26,26,27,27,27,27,27,28,28,28,28,28,29,29,29,29,29,30,30,30,30,30,31,31,31,31,31,32,32,32,32,32,33,33,33,33,33,34,34,34,34,34,35,35,35,35,35,36,36,36,36,36,37,37,37,37,37,38,38,38,38,38,39,39,39,39,39,40,40,40,40,40],\"coloraxis\":\"coloraxis\",\"symbol\":\"circle\"},\"mode\":\"markers\",\"name\":\"\",\"scene\":\"scene\",\"showlegend\":false,\"x\":[-2.340093736533162e-18,-0.04949933983116698,-0.04148613121172603,-0.009447186036523864,0.03012776401824948,0.027722075529771236,-0.03308188145916413,-0.02943036358503511,0.011791923866924871,-0.017968585532046662,0.00904378319632462,0.023025853199606757,0.023519449137567743,-0.00809064234818077,0.048377830623936496,-0.05863638034413738,0.010291291785383204,0.016788272108629803,-0.1240980113787679,-0.09860923597260192,0.015509895737460568,-0.08180376096722192,-0.04480495646335527,-0.029301895961604152,-0.0023983065125771294,-0.050893646359315634,0.006756211712757866,-0.001987398036804983,0.2978701306698082,-0.008120163176499775,0.3059821074984972,-0.0020887737534011196,-0.08358840452207067,-0.03538015681703845,-0.0201006287019156,-0.06681214402237687,-0.00501726013860571,-0.04559388687266337,0.0113265160363412,0.010551059392330885,0.04660644070576876,-0.023811628443845007,0.17760447405168112,0.10083890886748484,0.009072151772897405,-0.051838678317116575,-0.04382124418866698,-0.007934172799042127,0.04138888169660659,-0.013869526116739058,-0.027322060675038944,-0.11583050374460017,0.005149630237048389,0.046955030430888264,0.017660985152343725,-0.0035078564053631547,0.06661789421876808,-0.03500447962302281,-0.15494471034610935,-0.14710434812581444,0.07060310236507097,0.23655895525756968,-0.011959461225125867,-0.0337691790625227,-0.08172876688385494,-0.050851710583630035,0.024482363673727244,-0.10134412818014063,0.005121775535176496,-0.0459233370882422,-0.00990903574365646,0.03350634319044746,0.048993832494962544,-0.0747551228432254,-0.010084219580616541,0.030644479595040467,0.02767724637287766,-0.14359479355859997,0.4296329603457769,-0.20440522615711684,0.3371055018648962,0.03380564682437311,-0.007473074370012321,-0.014160020237123849,-0.03419634206084559,0.0030417853460758056,-0.04608667598398274,-0.010889277385088417,0.01580866103071206,0.010326586686256058,0.008835912425036169,0.04198137910642035,-0.012382041300743846,0.011826345257324452,0.03252451983235194,0.07892945920920563,0.040247661230292546,-0.0038368247569358065,-0.011136859914128957,-0.010137365701674044,0.024902720775821043,0.06397038238893106,0.007753264695816639,0.012327986120290664,-0.010695825126889262,-0.01764976582942393,-0.0125373308272072,-0.010426729421626016,-0.0076011052008668825,0.01213015307689286,-0.005869314330049565,-0.028819192575054036,-0.12850709726870052,-0.023772506397880533,0.005355700118466153,0.005862690732424466,0.02447275928989367,0.038221488966584116,0.00019413864693618773,-0.03007263031507877,0.014317493216636609,0.006626256666660052,-0.013778951347130275,-0.02560488662385716,-0.018223990415063843,0.01062581359270701,-0.015992999531494915,-0.03417462182856301,-0.013172005782284146,0.0019093942968220151,-0.02191677616029509,-0.005319632313756789,-0.05757291221623407,-0.023342987615999667,-0.005461011836915383,0.004712097209328756,-0.0651245273172528,-0.017448240124128423,-0.0010656199649490886,-0.049346619256063054,0.01987333949604674,-0.005691583991647502,-0.07263788760426342,-0.01079560868238033,-0.004650045501534491,0.059043231455571846,0.005165459011176392,-0.06486943155581411,-0.014082979830636857,0.00502540101578484,-0.029307093963195793,0.014096585480937032,-0.06248808229670534,-0.03478773387062374,-0.016710651952967986,0.04854363143529029,-0.013141754530403326,0.1529729097965062,0.014390453188417201,0.04648496044451846,-0.02206257673305069,0.019916805196864208,-0.04633690550159037,-0.040630936179357736,0.005640179198579999,0.002495017518426362,0.014297417450278854,0.04048768926729239,-0.06114826344134079,0.022696396848740818,0.020957177554811444,0.009431076893158039,-0.053159587945978956,0.02288379564803921,0.05424625202373218,-0.041022746758585096,0.0001713635481892633,-0.11044695952626803,0.04243551850703024,0.03560322056811795,-0.01178552914888083,0.0572075433562652,-0.028817236141669728,0.0030717107127026804,-0.02839084946228409,0.02359979381709474,-0.028108241109207965,0.021921673148289755,0.020018390555193298,-0.04910192929844681,-0.017291460324392962,0.10778881410339514,0.00860114634242227,0.00593290538994346,0.013733017386295017,-0.0014169258884959486,0.03662014277868111,-0.09397750702002364,0.0050225736421369025,0.022218587429125077],\"y\":[1.5391582147087698e-18,0.03486364522332857,0.03651390226189647,0.0186550691890715,0.02304137551984152,0.10678002169897789,-0.01987861284752188,-0.05499525415922673,0.03259824704568047,0.0014926678354362846,-0.02222007381630003,-0.006179933043449384,-0.0693767231321788,-0.005760111068811529,0.002982993811641208,-0.014496470946067364,-0.017034968112765253,0.008535825182110268,0.03338448813239854,0.07574445631789972,0.00756665909920913,-0.011420165541276756,-0.059396413375588784,0.007459519856178697,-0.014378413514158108,-0.003481391197335372,-0.042515811515385506,0.07305757726320725,-0.012007630393539791,0.010428008444518055,0.05431820812317217,-0.007429967393274162,0.005989025576293304,0.0009344420810557629,0.022232839514821613,0.023143596153237234,-0.0024791242186653307,-0.035653697395787914,-0.028599610363171348,0.014563013861898866,-0.0773378876821334,-0.0525840483611449,-0.014871976951811054,0.04363939048992032,-0.056224129965649246,-0.06630851778737124,-0.08760548609624248,-0.0305107916534088,0.003371463578723234,-0.05185809622525768,-0.04699211568706104,-0.0623219276744195,-0.05841654119469253,0.02295296480408107,-0.014896380296672214,0.058012673928316036,-0.011208826911205482,-0.04191230497039778,-0.02071382711313,0.018028043631453626,-0.00851638230528326,-0.029568341686676443,0.0030910634088820144,-0.014088896183355102,-0.005385905052483377,-0.04888561937650478,-0.07043438706628999,-0.0339077134361353,-0.025163294300366134,-0.05745349830139388,0.01485388427606671,-0.006102045032165398,-0.06868238911567827,-0.01271288480604941,-0.042731268899391696,0.04618307539783271,-0.057924420842360574,0.04215774264136269,-0.03153102514496898,-0.08202703463257154,-0.023402095119992607,-0.006053001430992627,-0.01459202847048332,0.06533046810831353,0.014887391446041313,-0.011603577789814848,-0.05546685169269248,-0.010058123020065184,0.04864780042593156,-0.024795293545551437,-0.005548512079953969,0.06616847570037467,-0.034922718340555194,0.00958291554440886,-0.03551039148822548,0.003245580303096841,-0.02321317730036437,-0.013120217677524125,0.02351970504962063,-0.041356700815340534,-0.03520221932007592,-0.0067254564581536004,-0.14720879644742468,0.04918142333501569,-0.005848264321025768,0.08491191735694059,-0.031708828037646686,-0.029643138686621814,0.017686210098315284,0.004524750674310181,0.06752287178061131,-0.01624795309890916,-0.015758358675592176,-0.03406178164582048,0.0022802909605340827,0.2385584877985554,0.13739049834706732,0.0021032486675947697,0.12151070276283216,0.3031445309990313,-0.022044680018017185,0.5698908702947983,0.1278928396356691,0.03841939374495264,-0.0034895551389623144,-0.060959041392562946,0.021444855739380944,0.026998933420760048,0.036735478329036335,0.0054534058855475595,-0.01707416651890877,-0.08097466432414649,-0.11930461064602697,-0.05194479437861916,-0.06430547906382861,-0.017759096223562927,-0.05017234778302808,0.012332843716605221,0.010769459585537532,-0.006509787447055317,0.022705147215387855,0.08928127579369943,-0.030758409493359673,0.036663385714169903,0.02618018827224627,0.017437154948842907,0.005660076316415811,0.1171936838797388,-0.10701805130653284,0.02219324679828079,0.007462836336513564,-0.006290254500984713,0.03666919384823069,-0.024563198861016305,-0.006061808497927145,-0.022263198138427875,0.025769060551866535,0.03716576982869569,-0.09025398989781021,-0.017457411015950348,0.04424098884418617,-0.028457838965256704,-0.016183015703236096,-0.02353421246392875,-0.0023705527996461025,0.022695913277568182,0.00265255640511889,0.04477199308636384,0.054545184698813184,0.0019361492409420487,0.00024928770573518476,0.03727297393950837,0.1773486941183337,-0.06028062461922562,-0.019372675654596418,0.004951630793549603,-0.030224555238511565,0.041155702849074056,-0.03389628514533965,0.01694956478581723,-0.16732947926326383,0.010643515204930985,-0.08490355995840217,0.057843045789446663,0.0678854737754278,0.018448507885891977,0.03796637354257892,-0.22403581750430085,-0.03628830104570227,0.023419441232930757,-0.010271845358389469,-0.013321881172709505,-0.05577280899726121,-0.009803458333210143,0.0756761598053048,-0.1651149102351323,0.04907022584558949,-0.054393856935368544,0.03196670094157969,-0.04979229104236523],\"z\":[-1.890780368199216e-18,-0.010063191751232716,0.0003949637073368077,0.008877912042924523,0.0024191067970768623,0.04017308261257269,-0.03239546070026563,0.1036772650907468,0.008800348181259104,-0.0003959452883242203,0.019061849648848845,0.016801919492841367,-0.04614763387088506,-0.010408056279109752,0.006223749700241265,-0.05353215094197455,-0.0033270159054516976,-0.01717668513515803,-0.005344260058874559,0.011669939275742607,-0.0259634664310446,0.041302265988261366,-0.05579674848998054,0.030328797893036358,0.0038457555482394636,0.020583997399760304,-0.03231658106316474,-0.029225804442794445,0.017680448490947222,-0.02023540698509696,0.09061188902578204,-0.02076065031516991,0.032941762211611145,-0.02548988435472748,-0.013247807763158299,-0.015917917487625208,0.002896151750934219,0.07033534235019141,-0.009073402234868182,0.018854571040478833,-0.11265147269767138,-0.004688461678529739,0.01593920081892989,0.013290150414638376,-0.01165185147192419,-0.03953760888854063,-0.04286375327646833,0.0018512124275089263,0.002949512061419428,-0.1258306594256146,0.0048947721764800506,0.013116343394566878,-0.00798276046844739,0.01773201988012212,0.0312766623668378,-0.004289671512553392,-0.007175117109991311,0.003338436436648649,0.03140599421810873,0.05470627326053214,0.01948226990304098,0.02462420433048162,-0.040213632505083946,-0.013518136746120731,-0.038118667787853396,-0.04311927514905228,0.007037489234540112,-0.07274373427864413,-0.026790536075468774,0.01702570257766734,-0.0033471294044925205,-0.07228796349158743,0.0009124658704639929,-0.030509818578762945,-0.015615497915976698,-0.032362377856898855,-0.0049896591193501075,-0.012174161711662678,-0.03656562694733615,-0.007932295299361444,0.011399616620792433,-0.026924196028877533,-0.0035483052789105703,-0.06477871721364854,0.006716123524948667,0.003283503385913062,-0.030705338250908185,0.0019265643817568622,-0.04269540839931615,0.02716923936785053,-0.02572406367643255,-0.01297870638209561,-0.084185963826048,-0.035386408633072616,0.00778125163862425,-0.05824027501319684,0.02219598155593395,-0.007358352892436986,0.005994855048939102,0.025233042900513085,0.04319007852626913,-0.01936095477315821,-0.04339795177171591,-0.019860867054678676,-0.03254598877124954,-0.04428965394010856,0.004454809376172898,-0.010859369465597582,-0.001409117075269472,0.0557412926928546,0.13503532696776333,-0.01578507867517211,0.071007319262207,0.0337690673645508,-0.011817989553658217,0.046850582137593993,0.06228677447164872,-0.025098843165227206,-0.02117363394598512,0.013721850059747118,0.03865065217230604,-0.04030019816365235,-0.010298916081553021,-0.0075457479129725094,-0.05480226148891889,-0.10626898597302026,-0.0011776518188737974,0.12308486913083384,0.0826034190278911,-0.1277846653627252,-0.0030725967345458546,-0.03082718045687237,0.26828264842693766,0.7340030308370157,0.21084232737582445,-0.06311240607826592,-0.08494723032752231,0.023640373677970568,-0.020222253307736415,-0.01972023527686837,0.009270568374941836,0.009353267732342328,-0.034322974097910276,-0.0019761170309246685,-0.05723615365980812,-0.08273263829575486,0.033619234531960855,0.05062942185467517,0.023079919564784064,0.0099202513787862,0.007652580493657286,-0.020671484556292894,0.04104495839663106,0.014078862684990447,-0.015880175120758108,0.025265790640897814,-0.05832660196337305,0.021826496047286714,0.009939342185188103,0.06552287670747764,-0.05683173300332662,-0.07328080790302494,-0.009949001065972855,-0.028951394174745425,0.023437264790501976,-0.029687221383108187,-0.0007783637785900126,0.12081925414712473,-0.0826767148622825,-0.07416764804776052,-0.013770160825191858,-0.008281647174176152,-0.0502557843512099,-8.718134246363267e-06,-0.06236878412947837,-0.004757856403495477,-0.012478716627359315,-0.08122838506186517,-0.006209593685619857,-0.015485803714386364,-0.04281243962168701,0.06068592354071871,0.010984108032720348,0.033868631011821616,0.01358327364536155,0.05675834337199161,0.013753001111049497,-0.07702761974567288,-0.024690436762728838,0.03304662926594502,-0.0371790383284699,0.00761438566025689,0.014827918677652761,-0.011593232880746077,-0.002456092392933646,-0.06188105233924177,-1.9106268314995015e-05,0.03435471861555551,0.002672495535631462,-0.03158099649658324],\"type\":\"scatter3d\"}],                        {\"template\":{\"data\":{\"histogram2dcontour\":[{\"type\":\"histogram2dcontour\",\"colorbar\":{\"outlinewidth\":0,\"ticks\":\"\"},\"colorscale\":[[0.0,\"#0d0887\"],[0.1111111111111111,\"#46039f\"],[0.2222222222222222,\"#7201a8\"],[0.3333333333333333,\"#9c179e\"],[0.4444444444444444,\"#bd3786\"],[0.5555555555555556,\"#d8576b\"],[0.6666666666666666,\"#ed7953\"],[0.7777777777777778,\"#fb9f3a\"],[0.8888888888888888,\"#fdca26\"],[1.0,\"#f0f921\"]]}],\"choropleth\":[{\"type\":\"choropleth\",\"colorbar\":{\"outlinewidth\":0,\"ticks\":\"\"}}],\"histogram2d\":[{\"type\":\"histogram2d\",\"colorbar\":{\"outlinewidth\":0,\"ticks\":\"\"},\"colorscale\":[[0.0,\"#0d0887\"],[0.1111111111111111,\"#46039f\"],[0.2222222222222222,\"#7201a8\"],[0.3333333333333333,\"#9c179e\"],[0.4444444444444444,\"#bd3786\"],[0.5555555555555556,\"#d8576b\"],[0.6666666666666666,\"#ed7953\"],[0.7777777777777778,\"#fb9f3a\"],[0.8888888888888888,\"#fdca26\"],[1.0,\"#f0f921\"]]}],\"heatmap\":[{\"type\":\"heatmap\",\"colorbar\":{\"outlinewidth\":0,\"ticks\":\"\"},\"colorscale\":[[0.0,\"#0d0887\"],[0.1111111111111111,\"#46039f\"],[0.2222222222222222,\"#7201a8\"],[0.3333333333333333,\"#9c179e\"],[0.4444444444444444,\"#bd3786\"],[0.5555555555555556,\"#d8576b\"],[0.6666666666666666,\"#ed7953\"],[0.7777777777777778,\"#fb9f3a\"],[0.8888888888888888,\"#fdca26\"],[1.0,\"#f0f921\"]]}],\"heatmapgl\":[{\"type\":\"heatmapgl\",\"colorbar\":{\"outlinewidth\":0,\"ticks\":\"\"},\"colorscale\":[[0.0,\"#0d0887\"],[0.1111111111111111,\"#46039f\"],[0.2222222222222222,\"#7201a8\"],[0.3333333333333333,\"#9c179e\"],[0.4444444444444444,\"#bd3786\"],[0.5555555555555556,\"#d8576b\"],[0.6666666666666666,\"#ed7953\"],[0.7777777777777778,\"#fb9f3a\"],[0.8888888888888888,\"#fdca26\"],[1.0,\"#f0f921\"]]}],\"contourcarpet\":[{\"type\":\"contourcarpet\",\"colorbar\":{\"outlinewidth\":0,\"ticks\":\"\"}}],\"contour\":[{\"type\":\"contour\",\"colorbar\":{\"outlinewidth\":0,\"ticks\":\"\"},\"colorscale\":[[0.0,\"#0d0887\"],[0.1111111111111111,\"#46039f\"],[0.2222222222222222,\"#7201a8\"],[0.3333333333333333,\"#9c179e\"],[0.4444444444444444,\"#bd3786\"],[0.5555555555555556,\"#d8576b\"],[0.6666666666666666,\"#ed7953\"],[0.7777777777777778,\"#fb9f3a\"],[0.8888888888888888,\"#fdca26\"],[1.0,\"#f0f921\"]]}],\"surface\":[{\"type\":\"surface\",\"colorbar\":{\"outlinewidth\":0,\"ticks\":\"\"},\"colorscale\":[[0.0,\"#0d0887\"],[0.1111111111111111,\"#46039f\"],[0.2222222222222222,\"#7201a8\"],[0.3333333333333333,\"#9c179e\"],[0.4444444444444444,\"#bd3786\"],[0.5555555555555556,\"#d8576b\"],[0.6666666666666666,\"#ed7953\"],[0.7777777777777778,\"#fb9f3a\"],[0.8888888888888888,\"#fdca26\"],[1.0,\"#f0f921\"]]}],\"mesh3d\":[{\"type\":\"mesh3d\",\"colorbar\":{\"outlinewidth\":0,\"ticks\":\"\"}}],\"scatter\":[{\"fillpattern\":{\"fillmode\":\"overlay\",\"size\":10,\"solidity\":0.2},\"type\":\"scatter\"}],\"parcoords\":[{\"type\":\"parcoords\",\"line\":{\"colorbar\":{\"outlinewidth\":0,\"ticks\":\"\"}}}],\"scatterpolargl\":[{\"type\":\"scatterpolargl\",\"marker\":{\"colorbar\":{\"outlinewidth\":0,\"ticks\":\"\"}}}],\"bar\":[{\"error_x\":{\"color\":\"#2a3f5f\"},\"error_y\":{\"color\":\"#2a3f5f\"},\"marker\":{\"line\":{\"color\":\"#E5ECF6\",\"width\":0.5},\"pattern\":{\"fillmode\":\"overlay\",\"size\":10,\"solidity\":0.2}},\"type\":\"bar\"}],\"scattergeo\":[{\"type\":\"scattergeo\",\"marker\":{\"colorbar\":{\"outlinewidth\":0,\"ticks\":\"\"}}}],\"scatterpolar\":[{\"type\":\"scatterpolar\",\"marker\":{\"colorbar\":{\"outlinewidth\":0,\"ticks\":\"\"}}}],\"histogram\":[{\"marker\":{\"pattern\":{\"fillmode\":\"overlay\",\"size\":10,\"solidity\":0.2}},\"type\":\"histogram\"}],\"scattergl\":[{\"type\":\"scattergl\",\"marker\":{\"colorbar\":{\"outlinewidth\":0,\"ticks\":\"\"}}}],\"scatter3d\":[{\"type\":\"scatter3d\",\"line\":{\"colorbar\":{\"outlinewidth\":0,\"ticks\":\"\"}},\"marker\":{\"colorbar\":{\"outlinewidth\":0,\"ticks\":\"\"}}}],\"scattermapbox\":[{\"type\":\"scattermapbox\",\"marker\":{\"colorbar\":{\"outlinewidth\":0,\"ticks\":\"\"}}}],\"scatterternary\":[{\"type\":\"scatterternary\",\"marker\":{\"colorbar\":{\"outlinewidth\":0,\"ticks\":\"\"}}}],\"scattercarpet\":[{\"type\":\"scattercarpet\",\"marker\":{\"colorbar\":{\"outlinewidth\":0,\"ticks\":\"\"}}}],\"carpet\":[{\"aaxis\":{\"endlinecolor\":\"#2a3f5f\",\"gridcolor\":\"white\",\"linecolor\":\"white\",\"minorgridcolor\":\"white\",\"startlinecolor\":\"#2a3f5f\"},\"baxis\":{\"endlinecolor\":\"#2a3f5f\",\"gridcolor\":\"white\",\"linecolor\":\"white\",\"minorgridcolor\":\"white\",\"startlinecolor\":\"#2a3f5f\"},\"type\":\"carpet\"}],\"table\":[{\"cells\":{\"fill\":{\"color\":\"#EBF0F8\"},\"line\":{\"color\":\"white\"}},\"header\":{\"fill\":{\"color\":\"#C8D4E3\"},\"line\":{\"color\":\"white\"}},\"type\":\"table\"}],\"barpolar\":[{\"marker\":{\"line\":{\"color\":\"#E5ECF6\",\"width\":0.5},\"pattern\":{\"fillmode\":\"overlay\",\"size\":10,\"solidity\":0.2}},\"type\":\"barpolar\"}],\"pie\":[{\"automargin\":true,\"type\":\"pie\"}]},\"layout\":{\"autotypenumbers\":\"strict\",\"colorway\":[\"#636efa\",\"#EF553B\",\"#00cc96\",\"#ab63fa\",\"#FFA15A\",\"#19d3f3\",\"#FF6692\",\"#B6E880\",\"#FF97FF\",\"#FECB52\"],\"font\":{\"color\":\"#2a3f5f\"},\"hovermode\":\"closest\",\"hoverlabel\":{\"align\":\"left\"},\"paper_bgcolor\":\"white\",\"plot_bgcolor\":\"#E5ECF6\",\"polar\":{\"bgcolor\":\"#E5ECF6\",\"angularaxis\":{\"gridcolor\":\"white\",\"linecolor\":\"white\",\"ticks\":\"\"},\"radialaxis\":{\"gridcolor\":\"white\",\"linecolor\":\"white\",\"ticks\":\"\"}},\"ternary\":{\"bgcolor\":\"#E5ECF6\",\"aaxis\":{\"gridcolor\":\"white\",\"linecolor\":\"white\",\"ticks\":\"\"},\"baxis\":{\"gridcolor\":\"white\",\"linecolor\":\"white\",\"ticks\":\"\"},\"caxis\":{\"gridcolor\":\"white\",\"linecolor\":\"white\",\"ticks\":\"\"}},\"coloraxis\":{\"colorbar\":{\"outlinewidth\":0,\"ticks\":\"\"}},\"colorscale\":{\"sequential\":[[0.0,\"#0d0887\"],[0.1111111111111111,\"#46039f\"],[0.2222222222222222,\"#7201a8\"],[0.3333333333333333,\"#9c179e\"],[0.4444444444444444,\"#bd3786\"],[0.5555555555555556,\"#d8576b\"],[0.6666666666666666,\"#ed7953\"],[0.7777777777777778,\"#fb9f3a\"],[0.8888888888888888,\"#fdca26\"],[1.0,\"#f0f921\"]],\"sequentialminus\":[[0.0,\"#0d0887\"],[0.1111111111111111,\"#46039f\"],[0.2222222222222222,\"#7201a8\"],[0.3333333333333333,\"#9c179e\"],[0.4444444444444444,\"#bd3786\"],[0.5555555555555556,\"#d8576b\"],[0.6666666666666666,\"#ed7953\"],[0.7777777777777778,\"#fb9f3a\"],[0.8888888888888888,\"#fdca26\"],[1.0,\"#f0f921\"]],\"diverging\":[[0,\"#8e0152\"],[0.1,\"#c51b7d\"],[0.2,\"#de77ae\"],[0.3,\"#f1b6da\"],[0.4,\"#fde0ef\"],[0.5,\"#f7f7f7\"],[0.6,\"#e6f5d0\"],[0.7,\"#b8e186\"],[0.8,\"#7fbc41\"],[0.9,\"#4d9221\"],[1,\"#276419\"]]},\"xaxis\":{\"gridcolor\":\"white\",\"linecolor\":\"white\",\"ticks\":\"\",\"title\":{\"standoff\":15},\"zerolinecolor\":\"white\",\"automargin\":true,\"zerolinewidth\":2},\"yaxis\":{\"gridcolor\":\"white\",\"linecolor\":\"white\",\"ticks\":\"\",\"title\":{\"standoff\":15},\"zerolinecolor\":\"white\",\"automargin\":true,\"zerolinewidth\":2},\"scene\":{\"xaxis\":{\"backgroundcolor\":\"#E5ECF6\",\"gridcolor\":\"white\",\"linecolor\":\"white\",\"showbackground\":true,\"ticks\":\"\",\"zerolinecolor\":\"white\",\"gridwidth\":2},\"yaxis\":{\"backgroundcolor\":\"#E5ECF6\",\"gridcolor\":\"white\",\"linecolor\":\"white\",\"showbackground\":true,\"ticks\":\"\",\"zerolinecolor\":\"white\",\"gridwidth\":2},\"zaxis\":{\"backgroundcolor\":\"#E5ECF6\",\"gridcolor\":\"white\",\"linecolor\":\"white\",\"showbackground\":true,\"ticks\":\"\",\"zerolinecolor\":\"white\",\"gridwidth\":2}},\"shapedefaults\":{\"line\":{\"color\":\"#2a3f5f\"}},\"annotationdefaults\":{\"arrowcolor\":\"#2a3f5f\",\"arrowhead\":0,\"arrowwidth\":1},\"geo\":{\"bgcolor\":\"white\",\"landcolor\":\"#E5ECF6\",\"subunitcolor\":\"white\",\"showland\":true,\"showlakes\":true,\"lakecolor\":\"white\"},\"title\":{\"x\":0.05},\"mapbox\":{\"style\":\"light\"}}},\"scene\":{\"domain\":{\"x\":[0.0,1.0],\"y\":[0.0,1.0]},\"xaxis\":{\"title\":{\"text\":\"PC 1\"}},\"yaxis\":{\"title\":{\"text\":\"PC 2\"}},\"zaxis\":{\"title\":{\"text\":\"PC 3\"}}},\"coloraxis\":{\"colorbar\":{\"title\":{\"text\":\"color\"}},\"colorscale\":[[0.0,\"#0d0887\"],[0.1111111111111111,\"#46039f\"],[0.2222222222222222,\"#7201a8\"],[0.3333333333333333,\"#9c179e\"],[0.4444444444444444,\"#bd3786\"],[0.5555555555555556,\"#d8576b\"],[0.6666666666666666,\"#ed7953\"],[0.7777777777777778,\"#fb9f3a\"],[0.8888888888888888,\"#fdca26\"],[1.0,\"#f0f921\"]]},\"legend\":{\"tracegroupgap\":0},\"margin\":{\"t\":60}},                        {\"responsive\": true}                    ).then(function(){\n",
              "                            \n",
              "var gd = document.getElementById('69ddd5f9-3daf-45c6-baf4-0ba0acc3336c');\n",
              "var x = new MutationObserver(function (mutations, observer) {{\n",
              "        var display = window.getComputedStyle(gd).display;\n",
              "        if (!display || display === 'none') {{\n",
              "            console.log([gd, 'removed!']);\n",
              "            Plotly.purge(gd);\n",
              "            observer.disconnect();\n",
              "        }}\n",
              "}});\n",
              "\n",
              "// Listen for the removal of the full notebook cells\n",
              "var notebookContainer = gd.closest('#notebook-container');\n",
              "if (notebookContainer) {{\n",
              "    x.observe(notebookContainer, {childList: true});\n",
              "}}\n",
              "\n",
              "// Listen for the clearing of the current output cell\n",
              "var outputEl = gd.closest('.output');\n",
              "if (outputEl) {{\n",
              "    x.observe(outputEl, {childList: true});\n",
              "}}\n",
              "\n",
              "                        })                };                            </script>        </div>\n",
              "</body>\n",
              "</html>"
            ]
          },
          "metadata": {}
        }
      ]
    },
    {
      "cell_type": "code",
      "source": [
        "kpca_train_rbf_110, kpca_train_rbf_eigenvectors = my_kpca(train_x, 110, 'rbf', 1.0)\n",
        "print(kpca_train_rbf_110)"
      ],
      "metadata": {
        "colab": {
          "base_uri": "https://localhost:8080/"
        },
        "id": "Q9HqcGty0hzZ",
        "outputId": "fb9eaa55-1df2-45fb-ae43-de50616929a0"
      },
      "id": "Q9HqcGty0hzZ",
      "execution_count": null,
      "outputs": [
        {
          "output_type": "stream",
          "name": "stdout",
          "text": [
            "[[-2.34009374e-18  1.53915821e-18 -1.89078037e-18 ...  8.73375933e-19\n",
            "  -4.00299885e-20 -1.36985913e-18]\n",
            " [-4.94993398e-02  3.48636452e-02 -1.00631918e-02 ...  1.78436343e-02\n",
            "  -2.57646184e-02 -1.62635796e-02]\n",
            " [-4.14861312e-02  3.65139023e-02  3.94963707e-04 ...  1.18432098e-02\n",
            "  -2.50737991e-02 -6.06877686e-04]\n",
            " ...\n",
            " [-9.39775070e-02 -5.43938569e-02  3.43547186e-02 ...  3.07622810e-02\n",
            "   5.76424427e-02 -6.87508821e-03]\n",
            " [ 5.02257364e-03  3.19667009e-02  2.67249554e-03 ...  2.39261454e-03\n",
            "  -4.02389482e-02  4.32499197e-03]\n",
            " [ 2.22185874e-02 -4.97922910e-02 -3.15809965e-02 ... -8.09343067e-03\n",
            "  -6.76699041e-02  2.05917913e-02]]\n"
          ]
        }
      ]
    },
    {
      "cell_type": "markdown",
      "source": [
        "### c. Apply KPCA to the Train dataset using sklearn."
      ],
      "metadata": {
        "id": "tZUq2LYpFccA"
      },
      "id": "tZUq2LYpFccA"
    },
    {
      "cell_type": "markdown",
      "source": [
        "The same process is repeated with Sklearn."
      ],
      "metadata": {
        "id": "PVAd1gGTRC6Y"
      },
      "id": "PVAd1gGTRC6Y"
    },
    {
      "cell_type": "code",
      "source": [
        "# Create a KernelPCA object with rbf kernel\n",
        "kpca = KernelPCA(kernel='rbf', gamma=1)\n",
        "\n",
        "# Fit and transform the data using scikit-learn\n",
        "data_kpca_sklearn = kpca.fit_transform(train_x)\n",
        "data_kpca_sklearn = data_kpca_sklearn[:, :3]\n",
        "\n",
        "print(\"Kernel PCA with Scikit-Learn:\")\n",
        "print(data_kpca_sklearn)"
      ],
      "metadata": {
        "colab": {
          "base_uri": "https://localhost:8080/"
        },
        "id": "NDIqpnCE2omn",
        "outputId": "8bd93646-6786-43f1-ddfc-4f27fdedd828"
      },
      "id": "NDIqpnCE2omn",
      "execution_count": null,
      "outputs": [
        {
          "output_type": "stream",
          "name": "stdout",
          "text": [
            "Kernel PCA with Scikit-Learn:\n",
            "[[-0.00000000e+00 -0.00000000e+00 -0.00000000e+00]\n",
            " [-1.05697526e-03 -1.30807028e-02  2.13972854e-03]\n",
            " [ 4.19304228e-02 -2.60740374e-03 -4.23222145e-02]\n",
            " [ 1.91357833e-02  8.92848269e-03 -1.05479511e-02]\n",
            " [-5.81282683e-03 -1.27288992e-02  3.69552887e-03]\n",
            " [ 2.62978043e-02 -1.51657419e-02 -3.95195882e-02]\n",
            " [-6.24934835e-02 -1.41289976e-02  6.82546469e-04]\n",
            " [-8.78693661e-02  3.85309150e-03 -6.97950664e-02]\n",
            " [ 7.98345725e-03 -4.19596181e-02 -4.91969408e-02]\n",
            " [-3.48697650e-02 -2.65422753e-02 -1.25053968e-01]\n",
            " [-1.56316506e-02  2.76144273e-03 -9.59677540e-02]\n",
            " [-4.88638434e-02 -1.22139870e-02 -7.82334849e-02]\n",
            " [ 1.94629685e-02  7.39699032e-03 -1.06937837e-02]\n",
            " [ 3.63687774e-03  1.42511049e-04 -1.57068985e-02]\n",
            " [ 2.82887347e-02  8.52466295e-03 -2.22846702e-02]\n",
            " [-3.87600484e-02 -4.72524619e-02  6.48034052e-03]\n",
            " [-2.39178069e-02 -1.24595189e-02  4.54834513e-03]\n",
            " [-2.55768795e-02  2.17617548e-04 -1.56083662e-01]\n",
            " [-6.09110233e-02  5.60365281e-03 -1.06530495e-01]\n",
            " [ 3.89058229e-02  1.48801347e-02 -9.11745570e-02]\n",
            " [ 9.86213811e-03 -9.07000641e-03 -4.13615326e-02]\n",
            " [-1.75882732e-02 -6.92537563e-02 -5.39256431e-02]\n",
            " [ 1.07924672e-02 -1.79723490e-01 -7.05343094e-02]\n",
            " [-2.83204196e-02 -4.93625526e-01 -2.62371520e-02]\n",
            " [-4.02889907e-02  6.84926074e-01 -6.19951944e-02]\n",
            " [ 3.23679600e-05  4.15689896e-01 -2.52750037e-02]\n",
            " [ 6.26896045e-02 -2.79288332e-02 -2.35728629e-02]\n",
            " [ 6.15840351e-02 -1.08321970e-02  3.91296355e-02]\n",
            " [-2.99917552e-02  2.37425623e-02  1.27900845e-01]\n",
            " [ 2.24753378e-02  5.87627590e-02  4.07578871e-01]\n",
            " [-3.21003242e-02 -4.77509200e-03  6.80872245e-01]\n",
            " [ 2.07985714e-02 -4.11675453e-03  4.36408282e-01]\n",
            " [-1.71612852e-02 -3.03916111e-02 -1.32851943e-02]\n",
            " [-4.41354998e-02 -2.65275161e-02 -2.21290791e-02]\n",
            " [-7.86516792e-02  1.85331992e-03 -2.92164611e-02]\n",
            " [ 3.00952308e-02  6.03807018e-03 -5.87632206e-03]\n",
            " [-1.12469920e-01 -1.34920769e-02 -6.34801179e-05]\n",
            " [ 1.62071687e-01 -1.91949102e-02 -3.50536288e-03]\n",
            " [-7.22122524e-02 -7.69861932e-03 -2.50898344e-02]\n",
            " [-1.27254015e-01 -6.64057125e-03 -2.90069487e-02]\n",
            " [-4.30348622e-01 -3.89827892e-03 -1.04235931e-02]\n",
            " [ 6.98346994e-01  2.04314701e-02 -3.63849073e-02]\n",
            " [-2.09817700e-03 -1.26150255e-02 -2.27916862e-02]\n",
            " [ 2.19018146e-02 -7.09769925e-03 -3.63932834e-02]\n",
            " [ 2.11885849e-02 -2.08453781e-02  4.66725709e-03]\n",
            " [ 2.09689949e-02 -1.35091238e-02  1.78856268e-02]\n",
            " [ 1.73920411e-02 -1.01675167e-02 -8.28601997e-03]\n",
            " [ 4.23920078e-02 -1.13315099e-02 -2.99636993e-02]\n",
            " [ 4.79330718e-03 -7.99469466e-03  8.51138876e-03]\n",
            " [-2.17519117e-02 -4.91971757e-03 -3.03261503e-02]\n",
            " [ 1.56075012e-02 -1.70040172e-02 -2.27607205e-02]\n",
            " [ 2.25627009e-02 -1.22669914e-03 -1.72488941e-02]\n",
            " [-1.08468531e-02 -4.85151863e-02 -4.54518205e-02]\n",
            " [-2.79895405e-02  2.57726188e-02 -3.43215582e-02]\n",
            " [ 3.36390737e-02 -2.88291173e-03  1.20880977e-02]\n",
            " [ 3.79874404e-02 -1.00015380e-02  8.04392511e-03]\n",
            " [-4.65730003e-03  6.16153063e-03 -1.27709786e-02]\n",
            " [ 1.69250911e-02 -1.45591644e-02  1.91208219e-02]\n",
            " [-6.37249946e-02 -9.82654285e-03 -2.94774625e-02]\n",
            " [ 6.81665210e-03 -1.36566110e-03 -9.01819421e-03]\n",
            " [-3.30812752e-03 -6.17871685e-03 -6.10600611e-03]\n",
            " [ 2.44458006e-02 -3.41379945e-03 -3.57861271e-03]\n",
            " [ 9.83130348e-03 -1.07007469e-02 -8.55978052e-03]\n",
            " [ 1.60521294e-02 -2.71045077e-02 -9.94700249e-03]\n",
            " [ 5.01853699e-03  5.88437785e-03 -3.16338770e-02]\n",
            " [ 1.21166019e-02 -5.95327998e-03 -1.79969281e-02]\n",
            " [-2.91292593e-03 -4.12871935e-03 -1.46627099e-02]\n",
            " [ 2.38217718e-03 -1.17205823e-02 -6.52806678e-03]\n",
            " [ 1.76378202e-02 -5.35952308e-03 -2.67564898e-02]\n",
            " [ 2.37472079e-02 -7.29595731e-03  1.48020390e-02]\n",
            " [ 2.20207102e-02 -3.91110537e-03 -1.79374782e-02]\n",
            " [ 5.79689935e-03 -2.72477999e-03 -1.12201497e-02]\n",
            " [-2.21775012e-02 -5.11871047e-03 -6.42936965e-03]\n",
            " [-3.47586256e-02  6.61363081e-03  1.13162445e-03]\n",
            " [-1.09587224e-02 -6.94646776e-03  5.57834630e-03]\n",
            " [ 9.62379963e-03 -4.08747323e-02 -5.17268388e-03]\n",
            " [ 6.15403377e-03  1.71843330e-02 -1.85553554e-02]\n",
            " [ 1.88727520e-02  6.03201449e-03 -2.03347048e-03]\n",
            " [ 6.10344413e-03 -4.37712790e-03 -1.78360326e-02]\n",
            " [-6.92665149e-03 -7.92119160e-03 -1.43661239e-02]\n",
            " [-3.89057616e-03 -1.52916637e-02 -1.68920753e-04]\n",
            " [ 7.47410221e-03 -4.35874775e-03 -1.02240257e-02]\n",
            " [-3.47996394e-02  2.73035658e-02 -8.64435519e-03]\n",
            " [-2.56068370e-02 -1.18787953e-03 -3.55471143e-02]\n",
            " [-6.65877575e-03 -1.22919731e-02 -7.04511553e-03]\n",
            " [ 5.71382145e-03  1.14327654e-02 -6.35021104e-03]\n",
            " [ 1.64798364e-03  1.05993028e-02 -1.13269100e-02]\n",
            " [ 1.13199865e-02 -2.86090428e-03 -3.60316375e-03]\n",
            " [ 2.91724252e-02 -7.51130474e-03 -1.17958420e-02]\n",
            " [ 8.01085954e-03 -2.76507700e-03 -3.09139308e-03]\n",
            " [ 1.18184202e-02 -1.83205886e-03 -1.23333028e-02]\n",
            " [-3.63118383e-03 -9.95414527e-03 -1.08187456e-02]\n",
            " [ 9.17268502e-02 -1.09848441e-02  5.71567831e-03]\n",
            " [-4.94186374e-02 -1.93703565e-02 -4.27348258e-02]\n",
            " [ 2.48849875e-02 -1.97014876e-03 -2.87410253e-03]\n",
            " [-7.50719304e-02 -1.19796981e-02  2.32813732e-02]\n",
            " [ 1.07693177e-02  8.82098366e-04 -2.65872688e-02]\n",
            " [-2.58812976e-03  9.13112266e-04 -1.85383088e-03]\n",
            " [ 1.75854304e-02 -1.08824202e-02  7.98484303e-05]\n",
            " [ 1.44982145e-02  4.86730052e-04  3.89286107e-03]\n",
            " [ 7.67011078e-02 -3.18454742e-04 -1.87805763e-02]\n",
            " [ 1.37064169e-02 -7.46364523e-03 -4.72324210e-03]\n",
            " [-2.60012525e-02 -6.98981728e-03 -5.29026460e-02]\n",
            " [ 3.61906421e-03 -2.33214856e-03  4.74585831e-03]\n",
            " [ 8.65726568e-03 -1.77547505e-02 -6.86493701e-03]\n",
            " [-9.42607171e-02 -8.26928991e-03  4.62871221e-03]\n",
            " [ 2.09070549e-02  8.19341197e-04 -3.15778177e-03]\n",
            " [-1.37517227e-02 -8.26365953e-03 -2.09494034e-02]\n",
            " [ 1.36450891e-02 -4.47172695e-03  2.61887999e-03]\n",
            " [ 5.35607016e-03 -9.28154988e-03  9.04077534e-03]\n",
            " [ 1.05871204e-02 -1.59090322e-02 -6.13062451e-03]\n",
            " [-1.72504598e-02  2.31148236e-02 -3.73260451e-03]\n",
            " [ 4.33169760e-02 -4.91090048e-03  4.38952970e-03]\n",
            " [-2.48953795e-02  2.31655495e-02  8.22222317e-03]\n",
            " [ 2.54909202e-02 -2.78915431e-03 -1.50615489e-02]\n",
            " [-5.22756295e-02 -1.52672070e-02  4.48591727e-02]\n",
            " [-1.99657103e-02  1.59251045e-02  1.42282868e-02]\n",
            " [ 7.26294045e-02  5.35269222e-02 -4.08602465e-02]\n",
            " [-1.12174765e-02  4.24495698e-03 -9.40317389e-03]\n",
            " [ 2.96739585e-02  4.80454706e-02  7.85452600e-03]\n",
            " [ 3.27241705e-02  4.14045747e-03  2.68312603e-02]\n",
            " [-2.50230121e-03 -1.02752982e-02 -7.57539764e-03]\n",
            " [ 6.57498856e-03 -1.01474359e-02 -6.85559714e-03]\n",
            " [ 1.26761231e-02 -4.95179144e-03 -1.43857697e-02]\n",
            " [ 1.74098248e-03 -4.23770852e-03 -7.72010751e-03]\n",
            " [-4.24602782e-02 -5.37317062e-03  2.15244097e-02]\n",
            " [-3.43165283e-03  2.51877765e-02  1.26661400e-02]\n",
            " [-1.55511821e-02 -1.47193928e-03 -2.52455472e-03]\n",
            " [-2.85667162e-03 -5.75744206e-03 -5.52989398e-03]\n",
            " [ 3.73047071e-02 -2.80932682e-03  3.24565690e-02]\n",
            " [-4.24186010e-02 -5.12328804e-03  3.36635598e-03]\n",
            " [ 3.01808678e-02 -1.16771050e-02  1.25619328e-02]\n",
            " [-7.97587089e-03 -1.53668195e-03 -1.70142199e-03]\n",
            " [-2.49872721e-02  1.81062416e-03  1.36523784e-02]\n",
            " [-2.06843056e-02 -4.18461569e-03  1.80920602e-03]\n",
            " [-1.34237932e-02 -5.94351076e-03  1.59443450e-04]\n",
            " [-9.28356601e-03  1.49129803e-03  6.41627697e-03]\n",
            " [-4.05339762e-02  1.96104221e-02 -5.67974726e-03]\n",
            " [-2.14896927e-03  1.09723007e-02 -3.58584115e-03]\n",
            " [-2.06115905e-02 -1.10304509e-02 -2.03572155e-02]\n",
            " [-1.21774664e-02  9.22891124e-03  1.91888768e-02]\n",
            " [ 2.97993489e-02  2.92161999e-02  1.55858133e-02]\n",
            " [-6.20739318e-03 -3.69727217e-03  1.39539503e-02]\n",
            " [-4.24503157e-02 -2.37988699e-02  7.03817441e-04]\n",
            " [-8.72415892e-02  3.52318773e-02 -1.36449580e-02]\n",
            " [-1.54358068e-02  1.09865274e-02  3.45721125e-03]\n",
            " [-1.49466618e-02  9.95331304e-03 -4.42983578e-03]\n",
            " [ 2.23154097e-03  9.22878627e-03 -3.49368709e-03]\n",
            " [-4.77782114e-03 -1.36252907e-02  2.38782576e-02]\n",
            " [-1.34464972e-02  4.12905262e-02 -7.39403791e-02]\n",
            " [-4.25626673e-03 -1.16105317e-04  3.44593987e-03]\n",
            " [-1.79024013e-02  9.83439761e-03 -9.80158693e-03]\n",
            " [-5.82445995e-03  1.50807650e-02  2.17010192e-02]\n",
            " [ 2.16778169e-01  9.58841502e-03  1.74436212e-04]\n",
            " [-4.56831593e-02 -1.29846828e-02  3.73753775e-03]\n",
            " [ 1.03561495e-04 -2.41702268e-03  2.59053199e-03]\n",
            " [-5.83048991e-02  1.88857149e-02 -1.37879428e-02]\n",
            " [-3.37962275e-02 -3.17298954e-02  1.25080852e-03]\n",
            " [ 7.96547162e-02  2.85284493e-02  1.96505758e-02]\n",
            " [-5.57892319e-02 -8.82036314e-03  1.27435975e-02]\n",
            " [ 9.24906549e-02  9.73231635e-04  1.59462778e-02]\n",
            " [-3.35773605e-03 -2.24197364e-02  1.46087638e-02]\n",
            " [-4.70148471e-03 -6.89031398e-03  1.72413609e-02]\n",
            " [ 3.54078813e-03 -9.12455160e-03  1.68267188e-02]\n",
            " [-1.43592677e-02 -5.53470333e-03 -6.05264350e-03]\n",
            " [ 2.21327912e-02 -7.46617307e-03  1.40864741e-02]\n",
            " [-1.66267522e-03  7.07921536e-03  4.34850461e-02]\n",
            " [-2.87919042e-02  3.11428992e-03  2.19353550e-02]\n",
            " [-2.63396717e-02  7.03599326e-04 -1.47135438e-02]\n",
            " [-2.24725346e-02 -8.32169835e-04 -9.87411965e-03]\n",
            " [-1.77493349e-02 -2.82051442e-02  1.59880640e-02]\n",
            " [-1.30863799e-02 -6.30713855e-02 -1.32819308e-02]\n",
            " [ 4.89543094e-02 -2.50457752e-02  1.42186895e-02]\n",
            " [-3.00150691e-02 -1.82435569e-02  2.27414422e-02]\n",
            " [ 6.25606657e-03 -1.52501782e-02  2.18075390e-02]\n",
            " [ 4.98962674e-02  6.39039891e-03  1.50269599e-02]\n",
            " [-5.57193191e-02  5.92882666e-04  2.50061943e-02]\n",
            " [ 9.77984717e-03 -1.17518982e-03 -6.32259847e-03]\n",
            " [-1.28790053e-02  1.98568362e-02  5.52510415e-02]\n",
            " [-4.39956842e-02  3.61283509e-02 -1.74425378e-02]\n",
            " [-1.24853164e-03 -3.33415146e-03  1.09854166e-02]\n",
            " [-8.97782500e-04 -1.56971133e-02  9.92153113e-03]\n",
            " [-1.60072244e-02  9.87826813e-03  2.76955212e-03]\n",
            " [-4.76493897e-02 -1.77111089e-02  1.26865802e-02]\n",
            " [ 4.32025892e-03 -1.04207010e-03 -5.97217921e-04]\n",
            " [-1.38967884e-02 -1.52453737e-03  1.13783753e-02]\n",
            " [ 2.21281531e-02 -2.53495134e-02  1.99732422e-03]\n",
            " [ 4.24219213e-02  1.20850442e-02  4.56592487e-02]\n",
            " [-3.49551395e-02  5.19389257e-02 -1.65699476e-02]\n",
            " [-1.88808018e-02  6.94172132e-02  1.06148095e-02]\n",
            " [ 4.13879943e-02  3.80952779e-03  9.00451334e-03]\n",
            " [ 1.42641382e-02 -1.24039900e-02  1.11399647e-02]\n",
            " [-5.58105643e-02 -5.38194188e-02  1.34733456e-02]\n",
            " [ 4.93425941e-02 -2.31048463e-02 -1.76242920e-02]\n",
            " [ 6.13979499e-02 -2.14252428e-02 -2.84196023e-02]\n",
            " [-8.07772280e-02  1.12861630e-01 -1.26646322e-02]\n",
            " [ 7.35630495e-03  6.76431989e-03  2.56220916e-03]\n",
            " [ 1.23304154e-01  2.17584960e-02 -3.59670339e-02]\n",
            " [-6.51637093e-03  2.17980846e-02 -8.80499240e-03]\n",
            " [ 1.45372601e-02  3.26581394e-03  5.34709818e-03]]\n"
          ]
        }
      ]
    },
    {
      "cell_type": "code",
      "source": [
        "_fig = px.scatter_3d(\n",
        "      data_kpca_sklearn, x=0, y=1, z=2, color=train_y,\n",
        "      labels={'0': 'PC 1', '1': 'PC 2', '2': 'PC 3'}\n",
        "  )\n",
        "fig.show()"
      ],
      "metadata": {
        "colab": {
          "base_uri": "https://localhost:8080/",
          "height": 542
        },
        "id": "yWXGjcXwCgUA",
        "outputId": "a56f9fb3-3613-4409-e761-7d2d221ad345"
      },
      "id": "yWXGjcXwCgUA",
      "execution_count": null,
      "outputs": [
        {
          "output_type": "display_data",
          "data": {
            "text/html": [
              "<html>\n",
              "<head><meta charset=\"utf-8\" /></head>\n",
              "<body>\n",
              "    <div>            <script src=\"https://cdnjs.cloudflare.com/ajax/libs/mathjax/2.7.5/MathJax.js?config=TeX-AMS-MML_SVG\"></script><script type=\"text/javascript\">if (window.MathJax && window.MathJax.Hub && window.MathJax.Hub.Config) {window.MathJax.Hub.Config({SVG: {font: \"STIX-Web\"}});}</script>                <script type=\"text/javascript\">window.PlotlyConfig = {MathJaxConfig: 'local'};</script>\n",
              "        <script charset=\"utf-8\" src=\"https://cdn.plot.ly/plotly-2.24.1.min.js\"></script>                <div id=\"97a257c3-b162-4069-bd76-f7d66c407409\" class=\"plotly-graph-div\" style=\"height:525px; width:100%;\"></div>            <script type=\"text/javascript\">                                    window.PLOTLYENV=window.PLOTLYENV || {};                                    if (document.getElementById(\"97a257c3-b162-4069-bd76-f7d66c407409\")) {                    Plotly.newPlot(                        \"97a257c3-b162-4069-bd76-f7d66c407409\",                        [{\"hovertemplate\":\"PC 1=%{x}\\u003cbr\\u003ePC 2=%{y}\\u003cbr\\u003ePC 3=%{z}\\u003cbr\\u003ecolor=%{marker.color}\\u003cextra\\u003e\\u003c\\u002fextra\\u003e\",\"legendgroup\":\"\",\"marker\":{\"color\":[1,1,1,1,1,2,2,2,2,2,3,3,3,3,3,4,4,4,4,4,5,5,5,5,5,6,6,6,6,6,7,7,7,7,7,8,8,8,8,8,9,9,9,9,9,10,10,10,10,10,11,11,11,11,11,12,12,12,12,12,13,13,13,13,13,14,14,14,14,14,15,15,15,15,15,16,16,16,16,16,17,17,17,17,17,18,18,18,18,18,19,19,19,19,19,20,20,20,20,20,21,21,21,21,21,22,22,22,22,22,23,23,23,23,23,24,24,24,24,24,25,25,25,25,25,26,26,26,26,26,27,27,27,27,27,28,28,28,28,28,29,29,29,29,29,30,30,30,30,30,31,31,31,31,31,32,32,32,32,32,33,33,33,33,33,34,34,34,34,34,35,35,35,35,35,36,36,36,36,36,37,37,37,37,37,38,38,38,38,38,39,39,39,39,39,40,40,40,40,40],\"coloraxis\":\"coloraxis\",\"symbol\":\"circle\"},\"mode\":\"markers\",\"name\":\"\",\"scene\":\"scene\",\"showlegend\":false,\"x\":[-2.340093736533162e-18,-0.04949933983116698,-0.04148613121172603,-0.009447186036523864,0.03012776401824948,0.027722075529771236,-0.03308188145916413,-0.02943036358503511,0.011791923866924871,-0.017968585532046662,0.00904378319632462,0.023025853199606757,0.023519449137567743,-0.00809064234818077,0.048377830623936496,-0.05863638034413738,0.010291291785383204,0.016788272108629803,-0.1240980113787679,-0.09860923597260192,0.015509895737460568,-0.08180376096722192,-0.04480495646335527,-0.029301895961604152,-0.0023983065125771294,-0.050893646359315634,0.006756211712757866,-0.001987398036804983,0.2978701306698082,-0.008120163176499775,0.3059821074984972,-0.0020887737534011196,-0.08358840452207067,-0.03538015681703845,-0.0201006287019156,-0.06681214402237687,-0.00501726013860571,-0.04559388687266337,0.0113265160363412,0.010551059392330885,0.04660644070576876,-0.023811628443845007,0.17760447405168112,0.10083890886748484,0.009072151772897405,-0.051838678317116575,-0.04382124418866698,-0.007934172799042127,0.04138888169660659,-0.013869526116739058,-0.027322060675038944,-0.11583050374460017,0.005149630237048389,0.046955030430888264,0.017660985152343725,-0.0035078564053631547,0.06661789421876808,-0.03500447962302281,-0.15494471034610935,-0.14710434812581444,0.07060310236507097,0.23655895525756968,-0.011959461225125867,-0.0337691790625227,-0.08172876688385494,-0.050851710583630035,0.024482363673727244,-0.10134412818014063,0.005121775535176496,-0.0459233370882422,-0.00990903574365646,0.03350634319044746,0.048993832494962544,-0.0747551228432254,-0.010084219580616541,0.030644479595040467,0.02767724637287766,-0.14359479355859997,0.4296329603457769,-0.20440522615711684,0.3371055018648962,0.03380564682437311,-0.007473074370012321,-0.014160020237123849,-0.03419634206084559,0.0030417853460758056,-0.04608667598398274,-0.010889277385088417,0.01580866103071206,0.010326586686256058,0.008835912425036169,0.04198137910642035,-0.012382041300743846,0.011826345257324452,0.03252451983235194,0.07892945920920563,0.040247661230292546,-0.0038368247569358065,-0.011136859914128957,-0.010137365701674044,0.024902720775821043,0.06397038238893106,0.007753264695816639,0.012327986120290664,-0.010695825126889262,-0.01764976582942393,-0.0125373308272072,-0.010426729421626016,-0.0076011052008668825,0.01213015307689286,-0.005869314330049565,-0.028819192575054036,-0.12850709726870052,-0.023772506397880533,0.005355700118466153,0.005862690732424466,0.02447275928989367,0.038221488966584116,0.00019413864693618773,-0.03007263031507877,0.014317493216636609,0.006626256666660052,-0.013778951347130275,-0.02560488662385716,-0.018223990415063843,0.01062581359270701,-0.015992999531494915,-0.03417462182856301,-0.013172005782284146,0.0019093942968220151,-0.02191677616029509,-0.005319632313756789,-0.05757291221623407,-0.023342987615999667,-0.005461011836915383,0.004712097209328756,-0.0651245273172528,-0.017448240124128423,-0.0010656199649490886,-0.049346619256063054,0.01987333949604674,-0.005691583991647502,-0.07263788760426342,-0.01079560868238033,-0.004650045501534491,0.059043231455571846,0.005165459011176392,-0.06486943155581411,-0.014082979830636857,0.00502540101578484,-0.029307093963195793,0.014096585480937032,-0.06248808229670534,-0.03478773387062374,-0.016710651952967986,0.04854363143529029,-0.013141754530403326,0.1529729097965062,0.014390453188417201,0.04648496044451846,-0.02206257673305069,0.019916805196864208,-0.04633690550159037,-0.040630936179357736,0.005640179198579999,0.002495017518426362,0.014297417450278854,0.04048768926729239,-0.06114826344134079,0.022696396848740818,0.020957177554811444,0.009431076893158039,-0.053159587945978956,0.02288379564803921,0.05424625202373218,-0.041022746758585096,0.0001713635481892633,-0.11044695952626803,0.04243551850703024,0.03560322056811795,-0.01178552914888083,0.0572075433562652,-0.028817236141669728,0.0030717107127026804,-0.02839084946228409,0.02359979381709474,-0.028108241109207965,0.021921673148289755,0.020018390555193298,-0.04910192929844681,-0.017291460324392962,0.10778881410339514,0.00860114634242227,0.00593290538994346,0.013733017386295017,-0.0014169258884959486,0.03662014277868111,-0.09397750702002364,0.0050225736421369025,0.022218587429125077],\"y\":[1.5391582147087698e-18,0.03486364522332857,0.03651390226189647,0.0186550691890715,0.02304137551984152,0.10678002169897789,-0.01987861284752188,-0.05499525415922673,0.03259824704568047,0.0014926678354362846,-0.02222007381630003,-0.006179933043449384,-0.0693767231321788,-0.005760111068811529,0.002982993811641208,-0.014496470946067364,-0.017034968112765253,0.008535825182110268,0.03338448813239854,0.07574445631789972,0.00756665909920913,-0.011420165541276756,-0.059396413375588784,0.007459519856178697,-0.014378413514158108,-0.003481391197335372,-0.042515811515385506,0.07305757726320725,-0.012007630393539791,0.010428008444518055,0.05431820812317217,-0.007429967393274162,0.005989025576293304,0.0009344420810557629,0.022232839514821613,0.023143596153237234,-0.0024791242186653307,-0.035653697395787914,-0.028599610363171348,0.014563013861898866,-0.0773378876821334,-0.0525840483611449,-0.014871976951811054,0.04363939048992032,-0.056224129965649246,-0.06630851778737124,-0.08760548609624248,-0.0305107916534088,0.003371463578723234,-0.05185809622525768,-0.04699211568706104,-0.0623219276744195,-0.05841654119469253,0.02295296480408107,-0.014896380296672214,0.058012673928316036,-0.011208826911205482,-0.04191230497039778,-0.02071382711313,0.018028043631453626,-0.00851638230528326,-0.029568341686676443,0.0030910634088820144,-0.014088896183355102,-0.005385905052483377,-0.04888561937650478,-0.07043438706628999,-0.0339077134361353,-0.025163294300366134,-0.05745349830139388,0.01485388427606671,-0.006102045032165398,-0.06868238911567827,-0.01271288480604941,-0.042731268899391696,0.04618307539783271,-0.057924420842360574,0.04215774264136269,-0.03153102514496898,-0.08202703463257154,-0.023402095119992607,-0.006053001430992627,-0.01459202847048332,0.06533046810831353,0.014887391446041313,-0.011603577789814848,-0.05546685169269248,-0.010058123020065184,0.04864780042593156,-0.024795293545551437,-0.005548512079953969,0.06616847570037467,-0.034922718340555194,0.00958291554440886,-0.03551039148822548,0.003245580303096841,-0.02321317730036437,-0.013120217677524125,0.02351970504962063,-0.041356700815340534,-0.03520221932007592,-0.0067254564581536004,-0.14720879644742468,0.04918142333501569,-0.005848264321025768,0.08491191735694059,-0.031708828037646686,-0.029643138686621814,0.017686210098315284,0.004524750674310181,0.06752287178061131,-0.01624795309890916,-0.015758358675592176,-0.03406178164582048,0.0022802909605340827,0.2385584877985554,0.13739049834706732,0.0021032486675947697,0.12151070276283216,0.3031445309990313,-0.022044680018017185,0.5698908702947983,0.1278928396356691,0.03841939374495264,-0.0034895551389623144,-0.060959041392562946,0.021444855739380944,0.026998933420760048,0.036735478329036335,0.0054534058855475595,-0.01707416651890877,-0.08097466432414649,-0.11930461064602697,-0.05194479437861916,-0.06430547906382861,-0.017759096223562927,-0.05017234778302808,0.012332843716605221,0.010769459585537532,-0.006509787447055317,0.022705147215387855,0.08928127579369943,-0.030758409493359673,0.036663385714169903,0.02618018827224627,0.017437154948842907,0.005660076316415811,0.1171936838797388,-0.10701805130653284,0.02219324679828079,0.007462836336513564,-0.006290254500984713,0.03666919384823069,-0.024563198861016305,-0.006061808497927145,-0.022263198138427875,0.025769060551866535,0.03716576982869569,-0.09025398989781021,-0.017457411015950348,0.04424098884418617,-0.028457838965256704,-0.016183015703236096,-0.02353421246392875,-0.0023705527996461025,0.022695913277568182,0.00265255640511889,0.04477199308636384,0.054545184698813184,0.0019361492409420487,0.00024928770573518476,0.03727297393950837,0.1773486941183337,-0.06028062461922562,-0.019372675654596418,0.004951630793549603,-0.030224555238511565,0.041155702849074056,-0.03389628514533965,0.01694956478581723,-0.16732947926326383,0.010643515204930985,-0.08490355995840217,0.057843045789446663,0.0678854737754278,0.018448507885891977,0.03796637354257892,-0.22403581750430085,-0.03628830104570227,0.023419441232930757,-0.010271845358389469,-0.013321881172709505,-0.05577280899726121,-0.009803458333210143,0.0756761598053048,-0.1651149102351323,0.04907022584558949,-0.054393856935368544,0.03196670094157969,-0.04979229104236523],\"z\":[-1.890780368199216e-18,-0.010063191751232716,0.0003949637073368077,0.008877912042924523,0.0024191067970768623,0.04017308261257269,-0.03239546070026563,0.1036772650907468,0.008800348181259104,-0.0003959452883242203,0.019061849648848845,0.016801919492841367,-0.04614763387088506,-0.010408056279109752,0.006223749700241265,-0.05353215094197455,-0.0033270159054516976,-0.01717668513515803,-0.005344260058874559,0.011669939275742607,-0.0259634664310446,0.041302265988261366,-0.05579674848998054,0.030328797893036358,0.0038457555482394636,0.020583997399760304,-0.03231658106316474,-0.029225804442794445,0.017680448490947222,-0.02023540698509696,0.09061188902578204,-0.02076065031516991,0.032941762211611145,-0.02548988435472748,-0.013247807763158299,-0.015917917487625208,0.002896151750934219,0.07033534235019141,-0.009073402234868182,0.018854571040478833,-0.11265147269767138,-0.004688461678529739,0.01593920081892989,0.013290150414638376,-0.01165185147192419,-0.03953760888854063,-0.04286375327646833,0.0018512124275089263,0.002949512061419428,-0.1258306594256146,0.0048947721764800506,0.013116343394566878,-0.00798276046844739,0.01773201988012212,0.0312766623668378,-0.004289671512553392,-0.007175117109991311,0.003338436436648649,0.03140599421810873,0.05470627326053214,0.01948226990304098,0.02462420433048162,-0.040213632505083946,-0.013518136746120731,-0.038118667787853396,-0.04311927514905228,0.007037489234540112,-0.07274373427864413,-0.026790536075468774,0.01702570257766734,-0.0033471294044925205,-0.07228796349158743,0.0009124658704639929,-0.030509818578762945,-0.015615497915976698,-0.032362377856898855,-0.0049896591193501075,-0.012174161711662678,-0.03656562694733615,-0.007932295299361444,0.011399616620792433,-0.026924196028877533,-0.0035483052789105703,-0.06477871721364854,0.006716123524948667,0.003283503385913062,-0.030705338250908185,0.0019265643817568622,-0.04269540839931615,0.02716923936785053,-0.02572406367643255,-0.01297870638209561,-0.084185963826048,-0.035386408633072616,0.00778125163862425,-0.05824027501319684,0.02219598155593395,-0.007358352892436986,0.005994855048939102,0.025233042900513085,0.04319007852626913,-0.01936095477315821,-0.04339795177171591,-0.019860867054678676,-0.03254598877124954,-0.04428965394010856,0.004454809376172898,-0.010859369465597582,-0.001409117075269472,0.0557412926928546,0.13503532696776333,-0.01578507867517211,0.071007319262207,0.0337690673645508,-0.011817989553658217,0.046850582137593993,0.06228677447164872,-0.025098843165227206,-0.02117363394598512,0.013721850059747118,0.03865065217230604,-0.04030019816365235,-0.010298916081553021,-0.0075457479129725094,-0.05480226148891889,-0.10626898597302026,-0.0011776518188737974,0.12308486913083384,0.0826034190278911,-0.1277846653627252,-0.0030725967345458546,-0.03082718045687237,0.26828264842693766,0.7340030308370157,0.21084232737582445,-0.06311240607826592,-0.08494723032752231,0.023640373677970568,-0.020222253307736415,-0.01972023527686837,0.009270568374941836,0.009353267732342328,-0.034322974097910276,-0.0019761170309246685,-0.05723615365980812,-0.08273263829575486,0.033619234531960855,0.05062942185467517,0.023079919564784064,0.0099202513787862,0.007652580493657286,-0.020671484556292894,0.04104495839663106,0.014078862684990447,-0.015880175120758108,0.025265790640897814,-0.05832660196337305,0.021826496047286714,0.009939342185188103,0.06552287670747764,-0.05683173300332662,-0.07328080790302494,-0.009949001065972855,-0.028951394174745425,0.023437264790501976,-0.029687221383108187,-0.0007783637785900126,0.12081925414712473,-0.0826767148622825,-0.07416764804776052,-0.013770160825191858,-0.008281647174176152,-0.0502557843512099,-8.718134246363267e-06,-0.06236878412947837,-0.004757856403495477,-0.012478716627359315,-0.08122838506186517,-0.006209593685619857,-0.015485803714386364,-0.04281243962168701,0.06068592354071871,0.010984108032720348,0.033868631011821616,0.01358327364536155,0.05675834337199161,0.013753001111049497,-0.07702761974567288,-0.024690436762728838,0.03304662926594502,-0.0371790383284699,0.00761438566025689,0.014827918677652761,-0.011593232880746077,-0.002456092392933646,-0.06188105233924177,-1.9106268314995015e-05,0.03435471861555551,0.002672495535631462,-0.03158099649658324],\"type\":\"scatter3d\"}],                        {\"template\":{\"data\":{\"histogram2dcontour\":[{\"type\":\"histogram2dcontour\",\"colorbar\":{\"outlinewidth\":0,\"ticks\":\"\"},\"colorscale\":[[0.0,\"#0d0887\"],[0.1111111111111111,\"#46039f\"],[0.2222222222222222,\"#7201a8\"],[0.3333333333333333,\"#9c179e\"],[0.4444444444444444,\"#bd3786\"],[0.5555555555555556,\"#d8576b\"],[0.6666666666666666,\"#ed7953\"],[0.7777777777777778,\"#fb9f3a\"],[0.8888888888888888,\"#fdca26\"],[1.0,\"#f0f921\"]]}],\"choropleth\":[{\"type\":\"choropleth\",\"colorbar\":{\"outlinewidth\":0,\"ticks\":\"\"}}],\"histogram2d\":[{\"type\":\"histogram2d\",\"colorbar\":{\"outlinewidth\":0,\"ticks\":\"\"},\"colorscale\":[[0.0,\"#0d0887\"],[0.1111111111111111,\"#46039f\"],[0.2222222222222222,\"#7201a8\"],[0.3333333333333333,\"#9c179e\"],[0.4444444444444444,\"#bd3786\"],[0.5555555555555556,\"#d8576b\"],[0.6666666666666666,\"#ed7953\"],[0.7777777777777778,\"#fb9f3a\"],[0.8888888888888888,\"#fdca26\"],[1.0,\"#f0f921\"]]}],\"heatmap\":[{\"type\":\"heatmap\",\"colorbar\":{\"outlinewidth\":0,\"ticks\":\"\"},\"colorscale\":[[0.0,\"#0d0887\"],[0.1111111111111111,\"#46039f\"],[0.2222222222222222,\"#7201a8\"],[0.3333333333333333,\"#9c179e\"],[0.4444444444444444,\"#bd3786\"],[0.5555555555555556,\"#d8576b\"],[0.6666666666666666,\"#ed7953\"],[0.7777777777777778,\"#fb9f3a\"],[0.8888888888888888,\"#fdca26\"],[1.0,\"#f0f921\"]]}],\"heatmapgl\":[{\"type\":\"heatmapgl\",\"colorbar\":{\"outlinewidth\":0,\"ticks\":\"\"},\"colorscale\":[[0.0,\"#0d0887\"],[0.1111111111111111,\"#46039f\"],[0.2222222222222222,\"#7201a8\"],[0.3333333333333333,\"#9c179e\"],[0.4444444444444444,\"#bd3786\"],[0.5555555555555556,\"#d8576b\"],[0.6666666666666666,\"#ed7953\"],[0.7777777777777778,\"#fb9f3a\"],[0.8888888888888888,\"#fdca26\"],[1.0,\"#f0f921\"]]}],\"contourcarpet\":[{\"type\":\"contourcarpet\",\"colorbar\":{\"outlinewidth\":0,\"ticks\":\"\"}}],\"contour\":[{\"type\":\"contour\",\"colorbar\":{\"outlinewidth\":0,\"ticks\":\"\"},\"colorscale\":[[0.0,\"#0d0887\"],[0.1111111111111111,\"#46039f\"],[0.2222222222222222,\"#7201a8\"],[0.3333333333333333,\"#9c179e\"],[0.4444444444444444,\"#bd3786\"],[0.5555555555555556,\"#d8576b\"],[0.6666666666666666,\"#ed7953\"],[0.7777777777777778,\"#fb9f3a\"],[0.8888888888888888,\"#fdca26\"],[1.0,\"#f0f921\"]]}],\"surface\":[{\"type\":\"surface\",\"colorbar\":{\"outlinewidth\":0,\"ticks\":\"\"},\"colorscale\":[[0.0,\"#0d0887\"],[0.1111111111111111,\"#46039f\"],[0.2222222222222222,\"#7201a8\"],[0.3333333333333333,\"#9c179e\"],[0.4444444444444444,\"#bd3786\"],[0.5555555555555556,\"#d8576b\"],[0.6666666666666666,\"#ed7953\"],[0.7777777777777778,\"#fb9f3a\"],[0.8888888888888888,\"#fdca26\"],[1.0,\"#f0f921\"]]}],\"mesh3d\":[{\"type\":\"mesh3d\",\"colorbar\":{\"outlinewidth\":0,\"ticks\":\"\"}}],\"scatter\":[{\"fillpattern\":{\"fillmode\":\"overlay\",\"size\":10,\"solidity\":0.2},\"type\":\"scatter\"}],\"parcoords\":[{\"type\":\"parcoords\",\"line\":{\"colorbar\":{\"outlinewidth\":0,\"ticks\":\"\"}}}],\"scatterpolargl\":[{\"type\":\"scatterpolargl\",\"marker\":{\"colorbar\":{\"outlinewidth\":0,\"ticks\":\"\"}}}],\"bar\":[{\"error_x\":{\"color\":\"#2a3f5f\"},\"error_y\":{\"color\":\"#2a3f5f\"},\"marker\":{\"line\":{\"color\":\"#E5ECF6\",\"width\":0.5},\"pattern\":{\"fillmode\":\"overlay\",\"size\":10,\"solidity\":0.2}},\"type\":\"bar\"}],\"scattergeo\":[{\"type\":\"scattergeo\",\"marker\":{\"colorbar\":{\"outlinewidth\":0,\"ticks\":\"\"}}}],\"scatterpolar\":[{\"type\":\"scatterpolar\",\"marker\":{\"colorbar\":{\"outlinewidth\":0,\"ticks\":\"\"}}}],\"histogram\":[{\"marker\":{\"pattern\":{\"fillmode\":\"overlay\",\"size\":10,\"solidity\":0.2}},\"type\":\"histogram\"}],\"scattergl\":[{\"type\":\"scattergl\",\"marker\":{\"colorbar\":{\"outlinewidth\":0,\"ticks\":\"\"}}}],\"scatter3d\":[{\"type\":\"scatter3d\",\"line\":{\"colorbar\":{\"outlinewidth\":0,\"ticks\":\"\"}},\"marker\":{\"colorbar\":{\"outlinewidth\":0,\"ticks\":\"\"}}}],\"scattermapbox\":[{\"type\":\"scattermapbox\",\"marker\":{\"colorbar\":{\"outlinewidth\":0,\"ticks\":\"\"}}}],\"scatterternary\":[{\"type\":\"scatterternary\",\"marker\":{\"colorbar\":{\"outlinewidth\":0,\"ticks\":\"\"}}}],\"scattercarpet\":[{\"type\":\"scattercarpet\",\"marker\":{\"colorbar\":{\"outlinewidth\":0,\"ticks\":\"\"}}}],\"carpet\":[{\"aaxis\":{\"endlinecolor\":\"#2a3f5f\",\"gridcolor\":\"white\",\"linecolor\":\"white\",\"minorgridcolor\":\"white\",\"startlinecolor\":\"#2a3f5f\"},\"baxis\":{\"endlinecolor\":\"#2a3f5f\",\"gridcolor\":\"white\",\"linecolor\":\"white\",\"minorgridcolor\":\"white\",\"startlinecolor\":\"#2a3f5f\"},\"type\":\"carpet\"}],\"table\":[{\"cells\":{\"fill\":{\"color\":\"#EBF0F8\"},\"line\":{\"color\":\"white\"}},\"header\":{\"fill\":{\"color\":\"#C8D4E3\"},\"line\":{\"color\":\"white\"}},\"type\":\"table\"}],\"barpolar\":[{\"marker\":{\"line\":{\"color\":\"#E5ECF6\",\"width\":0.5},\"pattern\":{\"fillmode\":\"overlay\",\"size\":10,\"solidity\":0.2}},\"type\":\"barpolar\"}],\"pie\":[{\"automargin\":true,\"type\":\"pie\"}]},\"layout\":{\"autotypenumbers\":\"strict\",\"colorway\":[\"#636efa\",\"#EF553B\",\"#00cc96\",\"#ab63fa\",\"#FFA15A\",\"#19d3f3\",\"#FF6692\",\"#B6E880\",\"#FF97FF\",\"#FECB52\"],\"font\":{\"color\":\"#2a3f5f\"},\"hovermode\":\"closest\",\"hoverlabel\":{\"align\":\"left\"},\"paper_bgcolor\":\"white\",\"plot_bgcolor\":\"#E5ECF6\",\"polar\":{\"bgcolor\":\"#E5ECF6\",\"angularaxis\":{\"gridcolor\":\"white\",\"linecolor\":\"white\",\"ticks\":\"\"},\"radialaxis\":{\"gridcolor\":\"white\",\"linecolor\":\"white\",\"ticks\":\"\"}},\"ternary\":{\"bgcolor\":\"#E5ECF6\",\"aaxis\":{\"gridcolor\":\"white\",\"linecolor\":\"white\",\"ticks\":\"\"},\"baxis\":{\"gridcolor\":\"white\",\"linecolor\":\"white\",\"ticks\":\"\"},\"caxis\":{\"gridcolor\":\"white\",\"linecolor\":\"white\",\"ticks\":\"\"}},\"coloraxis\":{\"colorbar\":{\"outlinewidth\":0,\"ticks\":\"\"}},\"colorscale\":{\"sequential\":[[0.0,\"#0d0887\"],[0.1111111111111111,\"#46039f\"],[0.2222222222222222,\"#7201a8\"],[0.3333333333333333,\"#9c179e\"],[0.4444444444444444,\"#bd3786\"],[0.5555555555555556,\"#d8576b\"],[0.6666666666666666,\"#ed7953\"],[0.7777777777777778,\"#fb9f3a\"],[0.8888888888888888,\"#fdca26\"],[1.0,\"#f0f921\"]],\"sequentialminus\":[[0.0,\"#0d0887\"],[0.1111111111111111,\"#46039f\"],[0.2222222222222222,\"#7201a8\"],[0.3333333333333333,\"#9c179e\"],[0.4444444444444444,\"#bd3786\"],[0.5555555555555556,\"#d8576b\"],[0.6666666666666666,\"#ed7953\"],[0.7777777777777778,\"#fb9f3a\"],[0.8888888888888888,\"#fdca26\"],[1.0,\"#f0f921\"]],\"diverging\":[[0,\"#8e0152\"],[0.1,\"#c51b7d\"],[0.2,\"#de77ae\"],[0.3,\"#f1b6da\"],[0.4,\"#fde0ef\"],[0.5,\"#f7f7f7\"],[0.6,\"#e6f5d0\"],[0.7,\"#b8e186\"],[0.8,\"#7fbc41\"],[0.9,\"#4d9221\"],[1,\"#276419\"]]},\"xaxis\":{\"gridcolor\":\"white\",\"linecolor\":\"white\",\"ticks\":\"\",\"title\":{\"standoff\":15},\"zerolinecolor\":\"white\",\"automargin\":true,\"zerolinewidth\":2},\"yaxis\":{\"gridcolor\":\"white\",\"linecolor\":\"white\",\"ticks\":\"\",\"title\":{\"standoff\":15},\"zerolinecolor\":\"white\",\"automargin\":true,\"zerolinewidth\":2},\"scene\":{\"xaxis\":{\"backgroundcolor\":\"#E5ECF6\",\"gridcolor\":\"white\",\"linecolor\":\"white\",\"showbackground\":true,\"ticks\":\"\",\"zerolinecolor\":\"white\",\"gridwidth\":2},\"yaxis\":{\"backgroundcolor\":\"#E5ECF6\",\"gridcolor\":\"white\",\"linecolor\":\"white\",\"showbackground\":true,\"ticks\":\"\",\"zerolinecolor\":\"white\",\"gridwidth\":2},\"zaxis\":{\"backgroundcolor\":\"#E5ECF6\",\"gridcolor\":\"white\",\"linecolor\":\"white\",\"showbackground\":true,\"ticks\":\"\",\"zerolinecolor\":\"white\",\"gridwidth\":2}},\"shapedefaults\":{\"line\":{\"color\":\"#2a3f5f\"}},\"annotationdefaults\":{\"arrowcolor\":\"#2a3f5f\",\"arrowhead\":0,\"arrowwidth\":1},\"geo\":{\"bgcolor\":\"white\",\"landcolor\":\"#E5ECF6\",\"subunitcolor\":\"white\",\"showland\":true,\"showlakes\":true,\"lakecolor\":\"white\"},\"title\":{\"x\":0.05},\"mapbox\":{\"style\":\"light\"}}},\"scene\":{\"domain\":{\"x\":[0.0,1.0],\"y\":[0.0,1.0]},\"xaxis\":{\"title\":{\"text\":\"PC 1\"}},\"yaxis\":{\"title\":{\"text\":\"PC 2\"}},\"zaxis\":{\"title\":{\"text\":\"PC 3\"}}},\"coloraxis\":{\"colorbar\":{\"title\":{\"text\":\"color\"}},\"colorscale\":[[0.0,\"#0d0887\"],[0.1111111111111111,\"#46039f\"],[0.2222222222222222,\"#7201a8\"],[0.3333333333333333,\"#9c179e\"],[0.4444444444444444,\"#bd3786\"],[0.5555555555555556,\"#d8576b\"],[0.6666666666666666,\"#ed7953\"],[0.7777777777777778,\"#fb9f3a\"],[0.8888888888888888,\"#fdca26\"],[1.0,\"#f0f921\"]]},\"legend\":{\"tracegroupgap\":0},\"margin\":{\"t\":60}},                        {\"responsive\": true}                    ).then(function(){\n",
              "                            \n",
              "var gd = document.getElementById('97a257c3-b162-4069-bd76-f7d66c407409');\n",
              "var x = new MutationObserver(function (mutations, observer) {{\n",
              "        var display = window.getComputedStyle(gd).display;\n",
              "        if (!display || display === 'none') {{\n",
              "            console.log([gd, 'removed!']);\n",
              "            Plotly.purge(gd);\n",
              "            observer.disconnect();\n",
              "        }}\n",
              "}});\n",
              "\n",
              "// Listen for the removal of the full notebook cells\n",
              "var notebookContainer = gd.closest('#notebook-container');\n",
              "if (notebookContainer) {{\n",
              "    x.observe(notebookContainer, {childList: true});\n",
              "}}\n",
              "\n",
              "// Listen for the clearing of the current output cell\n",
              "var outputEl = gd.closest('.output');\n",
              "if (outputEl) {{\n",
              "    x.observe(outputEl, {childList: true});\n",
              "}}\n",
              "\n",
              "                        })                };                            </script>        </div>\n",
              "</body>\n",
              "</html>"
            ]
          },
          "metadata": {}
        }
      ]
    },
    {
      "cell_type": "code",
      "source": [
        "# Create a KernelPCA object with rbf kernel\n",
        "kpca = KernelPCA(kernel='rbf', gamma=1)\n",
        "\n",
        "# Fit and transform the data using scikit-learn\n",
        "data_kpca_sklearn = kpca.fit_transform(train_x)\n",
        "data_kpca_sklearn = data_kpca_sklearn[:, :110]\n",
        "\n",
        "print(\"Kernel PCA with Scikit-Learn:\")\n",
        "print(data_kpca_sklearn)"
      ],
      "metadata": {
        "colab": {
          "base_uri": "https://localhost:8080/"
        },
        "id": "VtDw9k6bRQ6O",
        "outputId": "9ba81682-e3a2-4b29-86a4-160f62e08777"
      },
      "id": "VtDw9k6bRQ6O",
      "execution_count": null,
      "outputs": [
        {
          "output_type": "stream",
          "name": "stdout",
          "text": [
            "Kernel PCA with Scikit-Learn:\n",
            "[[-0.         -0.         -0.         ...  0.          0.\n",
            "  -0.        ]\n",
            " [-0.00105698 -0.0130807   0.00213973 ... -0.00706482  0.01682846\n",
            "  -0.01155612]\n",
            " [ 0.04193042 -0.0026074  -0.04232221 ... -0.0115309   0.04235632\n",
            "  -0.00044528]\n",
            " ...\n",
            " [ 0.12330415  0.0217585  -0.03596703 ...  0.04497619 -0.03460889\n",
            "   0.00218428]\n",
            " [-0.00651637  0.02179808 -0.00880499 ... -0.03285374 -0.01500249\n",
            "   0.0233804 ]\n",
            " [ 0.01453726  0.00326581  0.0053471  ...  0.0290346  -0.01021855\n",
            "  -0.0057614 ]]\n"
          ]
        }
      ]
    },
    {
      "cell_type": "markdown",
      "source": [
        "The following two iterations of this process simply change the kernel type of poly (degree 2) and linear."
      ],
      "metadata": {
        "id": "WGZBqyn5RjXu"
      },
      "id": "WGZBqyn5RjXu"
    },
    {
      "cell_type": "markdown",
      "source": [
        "##2.2 KPCA with Polynomial Kernel:"
      ],
      "metadata": {
        "id": "-aJrtlgj7Ief"
      },
      "id": "-aJrtlgj7Ief"
    },
    {
      "cell_type": "markdown",
      "source": [
        "###a. Implement Kernel PCA with a Polynomial kernel from scratch."
      ],
      "metadata": {
        "id": "v_3GC4GO7J33"
      },
      "id": "v_3GC4GO7J33"
    },
    {
      "cell_type": "code",
      "source": [
        "def poly_kernel(x, y, degree=2):\n",
        "    return ((np.dot(x.T, y))**degree)"
      ],
      "metadata": {
        "id": "u_xG9KhnD5Ev"
      },
      "id": "u_xG9KhnD5Ev",
      "execution_count": null,
      "outputs": []
    },
    {
      "cell_type": "markdown",
      "source": [
        "###b. Apply your KPCA implementation to the Train dataset.\n",
        "\n"
      ],
      "metadata": {
        "id": "h8yOsyIc7Lh4"
      },
      "id": "h8yOsyIc7Lh4"
    },
    {
      "cell_type": "code",
      "source": [
        "kpca_train_poly, kpca_train_poly_eigenvectors = my_kpca(train_x, 3, 'poly', 2)\n",
        "print(kpca_train_poly)"
      ],
      "metadata": {
        "id": "cu2TVXceVi89",
        "colab": {
          "base_uri": "https://localhost:8080/"
        },
        "outputId": "ea5fc22d-b978-46c8-9da1-ca6606595d87"
      },
      "id": "cu2TVXceVi89",
      "execution_count": null,
      "outputs": [
        {
          "output_type": "stream",
          "name": "stdout",
          "text": [
            "[[-2.24746578e+16  5.25302650e+15  9.68096983e+15]\n",
            " [-4.46477598e+16  1.58636826e+15 -1.10924372e+15]\n",
            " [-3.14863524e+16 -2.12781757e+15  4.62665747e+15]\n",
            " [-4.08328115e+16  1.13429707e+15  1.80366150e+15]\n",
            " [-4.57449609e+16 -1.62980464e+15  3.07584065e+15]\n",
            " [ 2.35543921e+16  8.49181365e+15 -7.67581785e+14]\n",
            " [ 2.05925699e+16  1.07763040e+16  2.00375097e+15]\n",
            " [ 1.84370042e+16  1.17008604e+16  3.48245524e+15]\n",
            " [ 1.59897912e+16  1.14654687e+16  2.76575787e+15]\n",
            " [ 6.42432597e+15  1.65849994e+16  6.26857483e+15]\n",
            " [ 1.24655924e+16 -1.04249848e+15  5.64453225e+15]\n",
            " [ 1.11827962e+16 -3.86087396e+15  3.04351497e+15]\n",
            " [ 6.59853343e+15 -4.05897359e+15  5.37921502e+15]\n",
            " [-5.00069638e+14 -1.03864501e+16  5.57430989e+15]\n",
            " [ 3.94734037e+14 -9.30777702e+15  5.77000569e+15]\n",
            " [-2.78166727e+16  4.22342808e+15  2.14213341e+15]\n",
            " [-9.50563476e+15  8.04815272e+13 -3.97385179e+15]\n",
            " [-9.73804024e+15 -2.31313199e+15 -5.48113455e+15]\n",
            " [-6.45779455e+15 -3.86733394e+14 -5.13269238e+15]\n",
            " [-7.45163395e+15  2.09164244e+15 -3.46896273e+15]\n",
            " [-2.11596008e+16 -6.47940393e+15 -9.00107743e+15]\n",
            " [-2.06595394e+16 -7.02919735e+15 -1.00320158e+16]\n",
            " [-2.77842136e+16 -5.16718547e+15 -9.30386787e+15]\n",
            " [-2.35707319e+16 -5.50304366e+15 -9.23714170e+15]\n",
            " [-2.57627769e+16 -2.00264736e+15 -5.55035933e+15]\n",
            " [-1.51968295e+15 -2.02528810e+16 -3.87888514e+15]\n",
            " [-4.17914999e+14 -1.93757176e+16 -2.97733282e+15]\n",
            " [-1.59768009e+15 -1.96917001e+16 -3.02629817e+15]\n",
            " [-4.66022525e+14 -1.95251590e+16 -3.94923846e+15]\n",
            " [ 2.20868054e+15 -2.07772357e+16 -5.88574328e+15]\n",
            " [ 1.37981679e+15 -4.19543443e+15  6.21895965e+15]\n",
            " [ 2.99745441e+15  4.42167830e+15 -4.20255853e+15]\n",
            " [ 2.83736661e+15 -4.17629500e+15  6.46362530e+15]\n",
            " [ 4.34247282e+15 -2.84545407e+15  6.27619608e+15]\n",
            " [ 4.15780398e+15  2.70233667e+15 -3.90298865e+15]\n",
            " [ 5.84274341e+15 -1.05169373e+16  7.91290926e+15]\n",
            " [-9.93554249e+15  1.50167523e+15  9.29162248e+15]\n",
            " [-1.44040492e+16  5.00648538e+14  7.89168322e+15]\n",
            " [-3.89925273e+16 -1.07506348e+16  5.93124509e+15]\n",
            " [-3.56626515e+16 -9.79953451e+15  6.51533943e+15]\n",
            " [-8.41924583e+15 -5.56483065e+13  6.52956951e+15]\n",
            " [-5.70159569e+15  5.68021536e+15  7.04848686e+15]\n",
            " [ 2.09616363e+15  6.51596329e+15  4.11275355e+15]\n",
            " [ 4.60813314e+15  7.50262913e+15  3.77226386e+15]\n",
            " [-6.80644778e+15  2.18106918e+15  7.32817418e+15]\n",
            " [-3.24180826e+16  8.31288395e+15 -1.01686155e+15]\n",
            " [-2.79103601e+16  6.17532933e+15 -3.70090521e+15]\n",
            " [-2.86692286e+16  4.07900416e+15 -7.22087491e+15]\n",
            " [-2.74626192e+16  2.54635723e+15 -3.85538737e+15]\n",
            " [-2.81745522e+16  5.55135726e+15 -4.62553518e+15]\n",
            " [-1.53384712e+16 -1.22552364e+16  5.34088500e+15]\n",
            " [-1.74593522e+16 -1.35744121e+16  3.98522234e+15]\n",
            " [-2.24649193e+16 -1.55950351e+16  3.63285946e+15]\n",
            " [-2.27992363e+16 -1.22243911e+16  7.32507562e+15]\n",
            " [-2.22297135e+16 -1.22487524e+16  7.79814447e+15]\n",
            " [-3.39335222e+15 -5.60919287e+15  6.54115960e+15]\n",
            " [-3.26703947e+15 -4.65027634e+15  6.96348181e+15]\n",
            " [-4.09527286e+15 -6.20509725e+15  5.65526643e+15]\n",
            " [-1.81903607e+15 -5.54181581e+15  6.64635814e+15]\n",
            " [-5.03070666e+15 -4.50937862e+15  6.34495650e+15]\n",
            " [ 2.35223268e+16  6.44238015e+15  1.25104481e+15]\n",
            " [ 2.48709811e+16  6.49656445e+15  8.24224837e+14]\n",
            " [ 2.36304144e+16  4.37492846e+15  1.94048599e+15]\n",
            " [ 1.84502206e+16  4.54169146e+15  2.64966979e+15]\n",
            " [ 4.12972163e+15  8.38454430e+15  6.24646784e+15]\n",
            " [ 2.14878223e+16  3.09739315e+15 -1.40994916e+15]\n",
            " [ 2.42484681e+16  1.13482315e+15 -2.89032500e+15]\n",
            " [ 2.59861353e+16  8.74021178e+14 -3.64559531e+15]\n",
            " [ 1.46856250e+16  6.04926272e+15 -1.11446775e+15]\n",
            " [ 1.54127366e+16  7.36751591e+15 -7.42604583e+14]\n",
            " [ 2.84871642e+16 -9.52456451e+15  1.86442498e+14]\n",
            " [ 2.64689432e+16 -1.12140508e+16 -9.92894645e+14]\n",
            " [ 2.77436929e+16 -7.68978979e+15  2.26732009e+14]\n",
            " [ 2.81656048e+16 -1.02288527e+16 -1.80632446e+14]\n",
            " [ 2.39955009e+16 -1.15745288e+16 -1.43501785e+13]\n",
            " [ 4.53919311e+15  1.56628136e+16 -5.25113856e+14]\n",
            " [ 4.24479759e+15  1.64852764e+16  2.34364708e+15]\n",
            " [ 1.43176500e+16  1.02916454e+16 -2.00078095e+15]\n",
            " [ 1.29510938e+16  7.99556916e+15 -4.29331325e+15]\n",
            " [ 1.50669481e+16  9.95484572e+15 -1.67753476e+15]\n",
            " [ 9.48957471e+15  1.57831400e+15  8.80352509e+15]\n",
            " [ 1.01709394e+16  1.36499645e+15  8.73107975e+15]\n",
            " [ 1.67071642e+16  1.16654420e+15  6.07222467e+15]\n",
            " [ 1.07423875e+16 -1.96988405e+15  7.96418137e+15]\n",
            " [ 1.25543374e+16 -4.16572605e+15  6.20522452e+15]\n",
            " [-1.01706617e+16  9.16284269e+15 -4.38516792e+15]\n",
            " [-1.13838009e+16  5.23808344e+15 -3.29502091e+15]\n",
            " [-1.44181256e+16  8.81026828e+15 -2.80530503e+15]\n",
            " [-9.07194602e+15 -3.35158862e+15 -8.05317539e+15]\n",
            " [-1.05530337e+16 -4.73370801e+15 -8.51002479e+15]\n",
            " [-1.37737653e+16 -4.83478987e+15 -6.12156171e+15]\n",
            " [-1.77395085e+16 -6.77522586e+14 -7.80001123e+15]\n",
            " [-1.61356221e+16 -1.89550616e+15 -4.89033064e+15]\n",
            " [-1.01352528e+16 -1.87483687e+15 -7.09349021e+15]\n",
            " [-6.54867039e+15 -3.17715944e+15 -6.94553969e+15]\n",
            " [-1.35462716e+16 -1.23329988e+16  5.04049491e+15]\n",
            " [-1.83234482e+16 -1.29433414e+16  6.04720218e+15]\n",
            " [-1.83570504e+16 -1.25248265e+16  6.50136985e+15]\n",
            " [-1.72387804e+16 -1.20090440e+16  6.23611760e+15]\n",
            " [-1.50171769e+16 -1.09145443e+16  6.56253945e+15]\n",
            " [-7.61242346e+15 -1.20557095e+16 -6.40738971e+15]\n",
            " [-3.87655179e+15 -1.11183113e+16  4.25162916e+15]\n",
            " [-3.99635070e+15 -1.08586341e+16 -6.98175074e+15]\n",
            " [-1.18290995e+15 -1.21016374e+16  4.84256927e+14]\n",
            " [-4.20285344e+15 -1.30225434e+16  3.05449745e+15]\n",
            " [ 3.18749403e+16 -6.97149719e+14 -2.65642355e+15]\n",
            " [ 3.17724387e+16 -4.57552953e+13 -2.79305378e+15]\n",
            " [ 3.25671387e+16 -2.03442086e+15 -2.67655010e+15]\n",
            " [ 2.37760298e+16  4.90385550e+15 -3.25831152e+14]\n",
            " [ 1.96042323e+16  3.82868764e+15 -7.33072213e+14]\n",
            " [ 1.86865618e+14  3.67036204e+15 -2.13418580e+15]\n",
            " [ 1.78446840e+14  5.14565659e+15 -1.85972299e+15]\n",
            " [-1.70537173e+15  4.22206477e+15 -1.02860086e+15]\n",
            " [-5.65113053e+15 -2.04636179e+15 -4.46466284e+15]\n",
            " [-6.66558709e+15 -4.03387535e+15 -6.02529579e+15]\n",
            " [ 1.85638439e+16  7.18488959e+15  1.05171686e+15]\n",
            " [ 2.39577113e+16  4.74390541e+15 -1.24752698e+14]\n",
            " [ 2.14586153e+16  8.10821735e+15 -3.65263454e+14]\n",
            " [ 2.61331746e+16  2.14930589e+15 -5.57752400e+14]\n",
            " [ 2.81640511e+16  1.61007222e+15 -2.37766196e+15]\n",
            " [ 1.84614758e+16  6.37018527e+15 -2.23585917e+15]\n",
            " [ 1.15331019e+16 -5.24286935e+15  2.16189732e+15]\n",
            " [ 5.00533935e+15 -1.00459457e+16  1.26016507e+15]\n",
            " [ 5.74767217e+15 -1.02768236e+16  4.36814035e+14]\n",
            " [ 3.06606209e+15 -1.07970224e+16 -3.64003618e+14]\n",
            " [-2.64059506e+16 -1.48132837e+15  4.13797519e+15]\n",
            " [-2.55086986e+16 -8.09836208e+15  1.97781072e+15]\n",
            " [-2.37327823e+16 -7.79087521e+15  8.13953204e+14]\n",
            " [-2.78630637e+16 -5.42402922e+15  3.20285649e+15]\n",
            " [-2.02198495e+16 -2.74484480e+15  4.24680561e+15]\n",
            " [ 3.05455854e+16 -1.02964490e+15 -1.60083548e+15]\n",
            " [ 3.21718815e+16 -1.96844605e+15 -1.71302473e+15]\n",
            " [ 3.22886117e+16 -1.28512662e+15 -1.81970332e+15]\n",
            " [ 3.19798639e+16 -2.03086906e+15 -2.20559625e+15]\n",
            " [ 2.69985244e+16  2.50149043e+15  2.12394124e+15]\n",
            " [ 1.79266957e+16 -1.37093873e+16 -9.50188042e+14]\n",
            " [ 1.66982188e+16 -1.31655407e+16 -5.68107888e+14]\n",
            " [ 1.52674758e+16 -1.31008422e+16 -5.40188643e+14]\n",
            " [ 1.79274566e+16 -1.46852426e+16 -1.59939016e+15]\n",
            " [ 1.87554807e+16 -1.67724520e+16 -3.54904977e+15]\n",
            " [ 1.86606318e+15  5.26840339e+15 -8.29041792e+15]\n",
            " [-3.54017515e+15  3.71800823e+15 -6.18685639e+15]\n",
            " [-8.07680170e+14 -5.30381965e+15 -4.61637918e+15]\n",
            " [ 6.06929536e+14  9.86895275e+14 -6.57360827e+15]\n",
            " [-1.84246259e+16 -9.69612779e+14 -2.66134482e+15]\n",
            " [-1.61177578e+16  1.41249342e+16  8.30997244e+15]\n",
            " [ 1.08685599e+16  7.91533621e+15  5.25471268e+15]\n",
            " [ 1.06621662e+16  7.52938065e+15  6.98618408e+15]\n",
            " [ 1.13588075e+16  7.58768074e+15  7.53239020e+15]\n",
            " [-1.38315261e+16  1.19548225e+16  6.87186395e+15]\n",
            " [-7.95181044e+15 -6.86547491e+15 -6.86421102e+15]\n",
            " [ 3.01564053e+15 -1.74332156e+16 -1.72966832e+15]\n",
            " [-8.35338806e+15 -8.15589723e+15 -7.57885133e+15]\n",
            " [ 1.24769804e+15 -1.80880518e+16 -2.44417957e+15]\n",
            " [ 7.15162370e+15 -1.63974169e+16 -1.43261903e+15]\n",
            " [ 1.03408584e+16  1.20339179e+16 -2.07828307e+15]\n",
            " [ 1.20315439e+16  1.10061736e+16 -1.58486759e+15]\n",
            " [ 1.27335186e+16  6.99325682e+15 -3.22967688e+15]\n",
            " [ 5.69027820e+15  1.12286110e+16  1.06556617e+15]\n",
            " [ 1.33076537e+16  9.62752825e+15 -1.66918760e+15]\n",
            " [ 3.07743910e+16 -8.50479892e+15 -2.54023773e+15]\n",
            " [ 3.48828262e+16 -8.80868664e+15 -2.22953325e+15]\n",
            " [ 3.81122682e+16 -8.61122312e+15 -2.48843552e+15]\n",
            " [ 3.72600923e+16 -9.77609093e+15 -2.02874838e+15]\n",
            " [ 3.15462097e+16 -5.13698516e+15 -2.90366487e+15]\n",
            " [-2.63193281e+14  5.76015647e+15 -1.73685288e+15]\n",
            " [-5.95305271e+14  4.07115007e+15  8.59782341e+14]\n",
            " [-1.78221609e+15  2.02593527e+15 -1.80899767e+15]\n",
            " [-9.83640819e+15  1.00922331e+16  2.88780725e+15]\n",
            " [-1.07103277e+16  9.79125261e+15  3.98129073e+15]\n",
            " [-7.76709756e+15  5.63287521e+15 -6.75620858e+15]\n",
            " [-1.56853699e+16  9.67431753e+15 -3.14009002e+15]\n",
            " [-1.57353334e+16  1.13735574e+16 -3.54460566e+15]\n",
            " [-3.72846235e+15  3.05516736e+14 -1.05773166e+16]\n",
            " [-1.89055631e+16  9.91927748e+15 -4.44989762e+15]\n",
            " [-1.34913631e+16  1.75701386e+15 -1.01728800e+16]\n",
            " [-1.53384490e+16  2.89305601e+15 -8.42857203e+15]\n",
            " [-1.53554603e+16  5.65580563e+15 -7.66878540e+15]\n",
            " [-1.12930042e+16  7.94059792e+14 -1.02608910e+16]\n",
            " [-2.85114737e+16  1.07169512e+16 -5.28204142e+15]\n",
            " [-5.99643312e+15  1.96868968e+16 -4.92356300e+15]\n",
            " [-4.19695544e+15  1.78738570e+16 -5.56996148e+15]\n",
            " [-7.34685044e+15  1.99985813e+16 -4.58979452e+15]\n",
            " [-1.88844696e+16  2.58586959e+16 -2.01950142e+15]\n",
            " [-2.08316594e+16  2.79999126e+16 -2.24211702e+15]\n",
            " [ 4.04565855e+15  9.51826697e+15  6.61587215e+15]\n",
            " [ 9.42218230e+15  3.64530165e+15  5.68121342e+15]\n",
            " [ 4.09290629e+14  1.06896343e+16  7.27601076e+15]\n",
            " [-1.08237567e+14  1.03425272e+16  4.00900126e+15]\n",
            " [-2.02806958e+15  1.06044414e+16  6.04444542e+15]\n",
            " [-2.81007455e+15  4.37090349e+15  3.60514621e+15]\n",
            " [-4.54728348e+14  1.53513435e+15  3.16264106e+15]\n",
            " [-1.46040734e+16  1.08012774e+16  8.11103268e+15]\n",
            " [-5.55317069e+15  4.70456150e+15  3.10020887e+15]\n",
            " [-1.98492223e+16  5.91718288e+15  7.55308922e+15]\n",
            " [ 1.01807066e+16  8.59798398e+15 -1.76119584e+15]\n",
            " [ 7.38606954e+15  9.20041559e+15 -2.64251684e+15]\n",
            " [ 8.59729551e+15  7.63778757e+15 -1.48916001e+15]\n",
            " [ 3.55679165e+15  1.08514584e+16 -7.11985396e+14]\n",
            " [ 5.92925058e+15  1.27785638e+16 -4.79491878e+14]]\n"
          ]
        }
      ]
    },
    {
      "cell_type": "code",
      "source": [
        "fig = px.scatter_3d(\n",
        "      kpca_train_poly, x=0, y=1, z=2, color=train_y,\n",
        "      labels={'0': 'PC 1', '1': 'PC 2', '2': 'PC 3'}\n",
        "  )\n",
        "fig.show()"
      ],
      "metadata": {
        "colab": {
          "base_uri": "https://localhost:8080/",
          "height": 542
        },
        "id": "i5jkXSYsClx-",
        "outputId": "d9c50473-8f79-46c0-bf7b-df9278540dd8"
      },
      "id": "i5jkXSYsClx-",
      "execution_count": null,
      "outputs": [
        {
          "output_type": "display_data",
          "data": {
            "text/html": [
              "<html>\n",
              "<head><meta charset=\"utf-8\" /></head>\n",
              "<body>\n",
              "    <div>            <script src=\"https://cdnjs.cloudflare.com/ajax/libs/mathjax/2.7.5/MathJax.js?config=TeX-AMS-MML_SVG\"></script><script type=\"text/javascript\">if (window.MathJax && window.MathJax.Hub && window.MathJax.Hub.Config) {window.MathJax.Hub.Config({SVG: {font: \"STIX-Web\"}});}</script>                <script type=\"text/javascript\">window.PlotlyConfig = {MathJaxConfig: 'local'};</script>\n",
              "        <script charset=\"utf-8\" src=\"https://cdn.plot.ly/plotly-2.24.1.min.js\"></script>                <div id=\"5ded2252-bdd9-4045-997e-ce00e675194c\" class=\"plotly-graph-div\" style=\"height:525px; width:100%;\"></div>            <script type=\"text/javascript\">                                    window.PLOTLYENV=window.PLOTLYENV || {};                                    if (document.getElementById(\"5ded2252-bdd9-4045-997e-ce00e675194c\")) {                    Plotly.newPlot(                        \"5ded2252-bdd9-4045-997e-ce00e675194c\",                        [{\"hovertemplate\":\"PC 1=%{x}\\u003cbr\\u003ePC 2=%{y}\\u003cbr\\u003ePC 3=%{z}\\u003cbr\\u003ecolor=%{marker.color}\\u003cextra\\u003e\\u003c\\u002fextra\\u003e\",\"legendgroup\":\"\",\"marker\":{\"color\":[1,1,1,1,1,2,2,2,2,2,3,3,3,3,3,4,4,4,4,4,5,5,5,5,5,6,6,6,6,6,7,7,7,7,7,8,8,8,8,8,9,9,9,9,9,10,10,10,10,10,11,11,11,11,11,12,12,12,12,12,13,13,13,13,13,14,14,14,14,14,15,15,15,15,15,16,16,16,16,16,17,17,17,17,17,18,18,18,18,18,19,19,19,19,19,20,20,20,20,20,21,21,21,21,21,22,22,22,22,22,23,23,23,23,23,24,24,24,24,24,25,25,25,25,25,26,26,26,26,26,27,27,27,27,27,28,28,28,28,28,29,29,29,29,29,30,30,30,30,30,31,31,31,31,31,32,32,32,32,32,33,33,33,33,33,34,34,34,34,34,35,35,35,35,35,36,36,36,36,36,37,37,37,37,37,38,38,38,38,38,39,39,39,39,39,40,40,40,40,40],\"coloraxis\":\"coloraxis\",\"symbol\":\"circle\"},\"mode\":\"markers\",\"name\":\"\",\"scene\":\"scene\",\"showlegend\":false,\"x\":[-2.247465782175284e+16,-4.46477598053937e+16,-3.1486352447008404e+16,-4.083281153035355e+16,-4.574496092902661e+16,2.3554392107740204e+16,2.059256991972585e+16,1.8437004150060656e+16,1.5989791235574512e+16,6424325970096424.0,1.2465592416834072e+16,1.118279615328522e+16,6598533427676586.0,-500069638489598.94,394734036785120.06,-2.7816672674940224e+16,-9505634763464416.0,-9738040241170622.0,-6457794551038403.0,-7451633946895101.0,-2.1159600834499948e+16,-2.065953939332945e+16,-2.7784213608377544e+16,-2.357073191359041e+16,-2.5762776909196804e+16,-1519682948871471.8,-417914998896613.25,-1597680085244193.0,-466022525133887.2,2208680543720170.8,1379816787067741.2,2997454413449622.5,2837366609348270.5,4342472823306340.5,4157803982333329.5,5842743407953932.0,-9935542487194696.0,-1.4404049192425622e+16,-3.899252732924497e+16,-3.566265151797899e+16,-8419245826935882.0,-5701595690267872.0,2096163627058604.8,4608133140622277.0,-6806447777937752.0,-3.241808258924848e+16,-2.7910360109266756e+16,-2.86692286185231e+16,-2.7462619163736276e+16,-2.8174552196952964e+16,-1.53384712467794e+16,-1.745935217079178e+16,-2.2464919272861284e+16,-2.279923625823922e+16,-2.2229713548537908e+16,-3393352217271562.0,-3267039470146971.0,-4095272863996441.5,-1819036072089603.2,-5030706660339220.0,2.3522326835971944e+16,2.4870981105272824e+16,2.3630414397178748e+16,1.845022063071471e+16,4129721628957700.0,2.148782230673548e+16,2.424846811642038e+16,2.5986135335419684e+16,1.4685624975972516e+16,1.5412736555367154e+16,2.848716421379224e+16,2.64689431614066e+16,2.7743692883228132e+16,2.8165604782983144e+16,2.3995500933255256e+16,4539193112474768.0,4244797592829008.0,1.431765000947998e+16,1.2951093778894014e+16,1.506694809060888e+16,9489574711686464.0,1.0170939377018154e+16,1.6707164206271364e+16,1.074238754344508e+16,1.2554337389274794e+16,-1.0170661651893594e+16,-1.1383800872103668e+16,-1.4418125645829506e+16,-9071946017326270.0,-1.0553033711791118e+16,-1.377376528448357e+16,-1.7739508497404292e+16,-1.6135622073112372e+16,-1.0135252844220932e+16,-6548670387571865.0,-1.3546271557537742e+16,-1.832344820092539e+16,-1.8357050437359464e+16,-1.7238780373957832e+16,-1.5017176899354044e+16,-7612423455665227.0,-3876551785242771.0,-3996350702489958.5,-1182909954743469.5,-4202853441319096.0,3.1874940323526908e+16,3.177243865239988e+16,3.2567138707324948e+16,2.377602984713498e+16,1.960423233010264e+16,186865618262119.16,178446839787172.0,-1705371731840727.0,-5651130530386064.0,-6665587085144120.0,1.8563843910781828e+16,2.395771134048011e+16,2.1458615292820324e+16,2.6133174554980964e+16,2.8164051099250936e+16,1.8461475838978324e+16,1.153310188833541e+16,5005339349115342.0,5747672168670404.0,3066062091898677.5,-2.6405950563918656e+16,-2.550869859534108e+16,-2.3732782334775724e+16,-2.786306374881059e+16,-2.0219849524663044e+16,3.0545585418570444e+16,3.217188146006812e+16,3.2288611686668944e+16,3.1979863880288668e+16,2.6998524355294652e+16,1.792669570806036e+16,1.669821883003037e+16,1.5267475808095386e+16,1.7927456638804564e+16,1.875548072894487e+16,1866063184214701.2,-3540175146452081.0,-807680169508861.1,606929535668896.1,-1.8424625912013024e+16,-1.6117757790292244e+16,1.086855987398237e+16,1.0662166200222468e+16,1.1358807481409034e+16,-1.3831526090369848e+16,-7951810441107095.0,3015640528977047.5,-8353388057460649.0,1247698044941820.5,7151623704091145.0,1.0340858375201108e+16,1.2031543907767668e+16,1.2733518634698076e+16,5690278195335337.0,1.3307653696784774e+16,3.0774390972346308e+16,3.4882826224875356e+16,3.811226821272529e+16,3.726009232912455e+16,3.1546209721315524e+16,-263193281060909.2,-595305270715281.1,-1782216092748749.0,-9836408193387694.0,-1.0710327731857976e+16,-7767097558325101.0,-1.5685369896960148e+16,-1.5735333419798366e+16,-3728462346108762.5,-1.89055630870646e+16,-1.3491363139729272e+16,-1.5338449036067282e+16,-1.5355460297704246e+16,-1.1293004158505028e+16,-2.8511473694007972e+16,-5996433116917352.0,-4196955443930842.5,-7346850437133805.0,-1.88844695815166e+16,-2.0831659429085136e+16,4045658548848402.5,9422182302276556.0,409290628909463.4,-108237566818798.75,-2028069581989247.0,-2810074547495002.5,-454728348494290.3,-1.4604073376404252e+16,-5553170685564982.0,-1.9849222299437784e+16,1.0180706607002338e+16,7386069537326076.0,8597295510139981.0,3556791652737760.0,5929250575794453.0],\"y\":[5253026501006656.0,1586368261705206.8,-2127817574458237.0,1134297074980062.5,-1629804644335319.2,8491813647013693.0,1.077630397749315e+16,1.170086042247873e+16,1.1465468749244426e+16,1.6584999424982974e+16,-1042498477807489.0,-3860873955399336.5,-4058973586156137.0,-1.0386450147618268e+16,-9307777015346136.0,4223428083520387.0,80481527191677.39,-2313131987093245.0,-386733394294344.75,2091642435802224.2,-6479403933470821.0,-7029197348838236.0,-5167185470466149.0,-5503043655359937.0,-2002647357960050.0,-2.025288102243297e+16,-1.937571762819007e+16,-1.969170009110901e+16,-1.9525158961409972e+16,-2.0777235652858092e+16,-4195434426286562.5,4421678304729851.0,-4176295004333385.5,-2845454069152287.5,2702336667805699.0,-1.0516937321593108e+16,1501675231301429.0,500648537778340.25,-1.075063481627409e+16,-9799534511861100.0,-55648306523577.3,5680215363347457.0,6515963292328843.0,7502629134441393.0,2181069184578650.5,8312883952300177.0,6175329328578668.0,4079004155580127.5,2546357227826268.5,5551357257182486.0,-1.2255236414355748e+16,-1.3574412090505504e+16,-1.5595035142813894e+16,-1.2224391080584986e+16,-1.224875243519924e+16,-5609192868636797.0,-4650276338708169.0,-6205097253764453.0,-5541815805143498.0,-4509378624169430.0,6442380150460381.0,6496564448202650.0,4374928455491495.0,4541691463552332.0,8384544297460419.0,3097393148044807.0,1134823151646699.8,874021177964446.9,6049262722319938.0,7367515911944902.0,-9524564509638690.0,-1.1214050793348904e+16,-7689789790365905.0,-1.0228852676498544e+16,-1.1574528776851076e+16,1.5662813638268358e+16,1.6485276439734964e+16,1.0291645431977186e+16,7995569156803692.0,9954845715353902.0,1578313998395892.2,1364996452238802.8,1166544198106704.0,-1969884046248023.8,-4165726052448221.5,9162842685146022.0,5238083443689777.0,8810268277876706.0,-3351588618528268.5,-4733708006525917.0,-4834789867880024.0,-677522585628697.5,-1895506161620598.8,-1874836868177718.8,-3177159440995040.0,-1.233299882129944e+16,-1.294334141103638e+16,-1.2524826522210304e+16,-1.2009044041025238e+16,-1.0914544261097822e+16,-1.2055709537114432e+16,-1.1118311321851006e+16,-1.0858634115799436e+16,-1.2101637359923462e+16,-1.3022543381523228e+16,-697149719057211.4,-45755295285334.73,-2034420862656158.8,4903855504768132.0,3828687639267138.5,3670362035219532.5,5145656594974677.0,4222064768487212.0,-2046361786649688.0,-4033875353495089.0,7184889592719903.0,4743905410691780.0,8108217349579335.0,2149305891365861.8,1610072223752992.2,6370185268363956.0,-5242869351966712.0,-1.0045945675871144e+16,-1.027682356179832e+16,-1.0797022364343e+16,-1481328368682251.0,-8098362082837202.0,-7790875214424678.0,-5424029219052304.0,-2744844797943862.0,-1029644899855049.5,-1968446047279782.8,-1285126620311567.5,-2030869056687518.8,2501490429111899.0,-1.3709387265929208e+16,-1.3165540688667254e+16,-1.3100842172574518e+16,-1.4685242624092104e+16,-1.6772452029095822e+16,5268403394773334.0,3718008227540547.0,-5303819652173904.0,986895274691228.6,-969612779465710.5,1.4124934245193558e+16,7915336207983272.0,7529380653421305.0,7587680742171475.0,1.1954822462669094e+16,-6865474911663199.0,-1.743321555688388e+16,-8155897226981768.0,-1.8088051763776612e+16,-1.6397416915485902e+16,1.2033917907274566e+16,1.1006173628898056e+16,6993256822511844.0,1.1228610985621954e+16,9627528247517632.0,-8504798920572544.0,-8808686644768024.0,-8611223116958236.0,-9776090925572942.0,-5136985158864026.0,5760156473961214.0,4071150067542104.0,2025935268101621.8,1.009223312690779e+16,9791252607642616.0,5632875209536293.0,9674317529120802.0,1.1373557415524852e+16,305516735939745.56,9919277475600560.0,1757013859537440.5,2893056006053717.5,5655805633346681.0,794059792397416.4,1.0716951217962294e+16,1.9686896750833616e+16,1.7873856966837322e+16,1.999858127115501e+16,2.5858695852037132e+16,2.7999912587939212e+16,9518266974442962.0,3645301652908476.0,1.0689634313279404e+16,1.034252724299725e+16,1.0604441415965876e+16,4370903493304699.5,1535134350481585.0,1.0801277387151042e+16,4704561497903902.0,5917182875583794.0,8597983976798832.0,9200415588089734.0,7637787573220628.0,1.085145842699081e+16,1.2778563780323158e+16],\"z\":[9680969826400762.0,-1109243716813899.2,4626657465250149.0,1803661499360021.2,3075840653103478.5,-767581785376006.8,2003750972884463.2,3482455237823020.5,2765757870272485.0,6268574825318092.0,5644532245646755.0,3043514969894900.0,5379215023071697.0,5574309885459843.0,5770005694254022.0,2142133414467876.2,-3973851793768030.5,-5481134545058831.0,-5132692383994215.0,-3468962733001044.0,-9001077425848379.0,-1.0032015780192828e+16,-9303867865394420.0,-9237141697590546.0,-5550359327266597.0,-3878885138594209.5,-2977332824340710.0,-3026298165435974.5,-3949238459981942.5,-5885743280440781.0,6218959648067589.0,-4202558534355714.0,6463625297959564.0,6276196075647973.0,-3902988650003429.5,7912909262152625.0,9291622481059350.0,7891683222345966.0,5931245093000144.0,6515339425040790.0,6529569511899687.0,7048486861752230.0,4112753546565878.5,3772263863969842.0,7328174176819812.0,-1016861550346989.8,-3700905209703598.5,-7220874907902386.0,-3855387372135885.0,-4625535176062472.0,5340884999505990.0,3985222337019530.5,3632859461414884.0,7325075616634301.0,7798144474571917.0,6541159603051860.0,6963481811080489.0,5655266433011053.0,6646358142174508.0,6344956500104291.0,1251044813059392.2,824224836770442.5,1940485989367838.5,2649669787337123.5,6246467838694998.0,-1409949161468500.8,-2890325000246837.0,-3645595314015595.0,-1114467747397771.6,-742604582645709.6,186442498144191.3,-992894645379102.1,226732009127327.88,-180632446388379.44,-14350178512177.055,-525113855766030.2,2343647081491629.5,-2000780949881493.2,-4293313254223076.0,-1677534756503260.0,8803525085429640.0,8731079753546441.0,6072224665471196.0,7964181366079648.0,6205224523366608.0,-4385167921491693.5,-3295020912058168.5,-2805305027794612.5,-8053175388965978.0,-8510024794163402.0,-6121561705936411.0,-7800011232018066.0,-4890330642876222.0,-7093490211754791.0,-6945539694893021.0,5040494909773864.0,6047202182378521.0,6501369849639781.0,6236117603261284.0,6562539448666087.0,-6407389714082149.0,4251629162733925.0,-6981750735774389.0,484256926630180.0,3054497446538043.0,-2656423551324367.0,-2793053784874555.0,-2676550101471190.5,-325831151619487.94,-733072213304912.5,-2134185800983663.2,-1859722994067928.2,-1028600860437350.5,-4464662844380701.0,-6025295791495168.0,1051716863109157.2,-124752697729664.78,-365263454113536.06,-557752400163457.3,-2377661960556804.0,-2235859166390577.8,2161897323043632.0,1260165070934149.2,436814034934052.94,-364003618180808.3,4137975194789204.0,1977810723669549.8,813953204071155.0,3202856487218629.0,4246805608167044.0,-1600835479001471.5,-1713024726877365.5,-1819703322472518.0,-2205596246332691.8,2123941239723659.2,-950188041511807.6,-568107888428549.1,-540188642613884.5,-1599390163744868.8,-3549049774985948.5,-8290417917405567.0,-6186856390505905.0,-4616379182711137.0,-6573608266986957.0,-2661344821500462.0,8309972443795824.0,5254712682686386.0,6986184075207114.0,7532390202085146.0,6871863949596716.0,-6864211016814576.0,-1729668316955769.0,-7578851334598470.0,-2444179574361604.0,-1432619025490982.8,-2078283069475304.0,-1584867589662879.2,-3229676875688663.5,1065566168107679.6,-1669187598761146.8,-2540237726181676.0,-2229533249542734.0,-2488435523637458.0,-2028748379901163.8,-2903664873428029.0,-1736852875371066.2,859782341094713.6,-1808997671451394.0,2887807247868471.5,3981290734941783.0,-6756208576279539.0,-3140090016223602.0,-3544605664708302.5,-1.0577316601477086e+16,-4449897623411044.5,-1.0172879954203446e+16,-8428572026883880.0,-7668785400788537.0,-1.0260890988845134e+16,-5282041416471601.0,-4923563004104058.0,-5569961482529627.0,-4589794524992683.0,-2019501418656821.2,-2242117021881943.8,6615872149971089.0,5681213418654223.0,7276010757543193.0,4009001259476082.0,6044445418452163.0,3605146205267923.5,3162641058244493.0,8111032679516310.0,3100208870113227.5,7553089221719637.0,-1761195839321736.5,-2642516841471281.0,-1489160008473831.0,-711985395609598.8,-479491877893061.1],\"type\":\"scatter3d\"}],                        {\"template\":{\"data\":{\"histogram2dcontour\":[{\"type\":\"histogram2dcontour\",\"colorbar\":{\"outlinewidth\":0,\"ticks\":\"\"},\"colorscale\":[[0.0,\"#0d0887\"],[0.1111111111111111,\"#46039f\"],[0.2222222222222222,\"#7201a8\"],[0.3333333333333333,\"#9c179e\"],[0.4444444444444444,\"#bd3786\"],[0.5555555555555556,\"#d8576b\"],[0.6666666666666666,\"#ed7953\"],[0.7777777777777778,\"#fb9f3a\"],[0.8888888888888888,\"#fdca26\"],[1.0,\"#f0f921\"]]}],\"choropleth\":[{\"type\":\"choropleth\",\"colorbar\":{\"outlinewidth\":0,\"ticks\":\"\"}}],\"histogram2d\":[{\"type\":\"histogram2d\",\"colorbar\":{\"outlinewidth\":0,\"ticks\":\"\"},\"colorscale\":[[0.0,\"#0d0887\"],[0.1111111111111111,\"#46039f\"],[0.2222222222222222,\"#7201a8\"],[0.3333333333333333,\"#9c179e\"],[0.4444444444444444,\"#bd3786\"],[0.5555555555555556,\"#d8576b\"],[0.6666666666666666,\"#ed7953\"],[0.7777777777777778,\"#fb9f3a\"],[0.8888888888888888,\"#fdca26\"],[1.0,\"#f0f921\"]]}],\"heatmap\":[{\"type\":\"heatmap\",\"colorbar\":{\"outlinewidth\":0,\"ticks\":\"\"},\"colorscale\":[[0.0,\"#0d0887\"],[0.1111111111111111,\"#46039f\"],[0.2222222222222222,\"#7201a8\"],[0.3333333333333333,\"#9c179e\"],[0.4444444444444444,\"#bd3786\"],[0.5555555555555556,\"#d8576b\"],[0.6666666666666666,\"#ed7953\"],[0.7777777777777778,\"#fb9f3a\"],[0.8888888888888888,\"#fdca26\"],[1.0,\"#f0f921\"]]}],\"heatmapgl\":[{\"type\":\"heatmapgl\",\"colorbar\":{\"outlinewidth\":0,\"ticks\":\"\"},\"colorscale\":[[0.0,\"#0d0887\"],[0.1111111111111111,\"#46039f\"],[0.2222222222222222,\"#7201a8\"],[0.3333333333333333,\"#9c179e\"],[0.4444444444444444,\"#bd3786\"],[0.5555555555555556,\"#d8576b\"],[0.6666666666666666,\"#ed7953\"],[0.7777777777777778,\"#fb9f3a\"],[0.8888888888888888,\"#fdca26\"],[1.0,\"#f0f921\"]]}],\"contourcarpet\":[{\"type\":\"contourcarpet\",\"colorbar\":{\"outlinewidth\":0,\"ticks\":\"\"}}],\"contour\":[{\"type\":\"contour\",\"colorbar\":{\"outlinewidth\":0,\"ticks\":\"\"},\"colorscale\":[[0.0,\"#0d0887\"],[0.1111111111111111,\"#46039f\"],[0.2222222222222222,\"#7201a8\"],[0.3333333333333333,\"#9c179e\"],[0.4444444444444444,\"#bd3786\"],[0.5555555555555556,\"#d8576b\"],[0.6666666666666666,\"#ed7953\"],[0.7777777777777778,\"#fb9f3a\"],[0.8888888888888888,\"#fdca26\"],[1.0,\"#f0f921\"]]}],\"surface\":[{\"type\":\"surface\",\"colorbar\":{\"outlinewidth\":0,\"ticks\":\"\"},\"colorscale\":[[0.0,\"#0d0887\"],[0.1111111111111111,\"#46039f\"],[0.2222222222222222,\"#7201a8\"],[0.3333333333333333,\"#9c179e\"],[0.4444444444444444,\"#bd3786\"],[0.5555555555555556,\"#d8576b\"],[0.6666666666666666,\"#ed7953\"],[0.7777777777777778,\"#fb9f3a\"],[0.8888888888888888,\"#fdca26\"],[1.0,\"#f0f921\"]]}],\"mesh3d\":[{\"type\":\"mesh3d\",\"colorbar\":{\"outlinewidth\":0,\"ticks\":\"\"}}],\"scatter\":[{\"fillpattern\":{\"fillmode\":\"overlay\",\"size\":10,\"solidity\":0.2},\"type\":\"scatter\"}],\"parcoords\":[{\"type\":\"parcoords\",\"line\":{\"colorbar\":{\"outlinewidth\":0,\"ticks\":\"\"}}}],\"scatterpolargl\":[{\"type\":\"scatterpolargl\",\"marker\":{\"colorbar\":{\"outlinewidth\":0,\"ticks\":\"\"}}}],\"bar\":[{\"error_x\":{\"color\":\"#2a3f5f\"},\"error_y\":{\"color\":\"#2a3f5f\"},\"marker\":{\"line\":{\"color\":\"#E5ECF6\",\"width\":0.5},\"pattern\":{\"fillmode\":\"overlay\",\"size\":10,\"solidity\":0.2}},\"type\":\"bar\"}],\"scattergeo\":[{\"type\":\"scattergeo\",\"marker\":{\"colorbar\":{\"outlinewidth\":0,\"ticks\":\"\"}}}],\"scatterpolar\":[{\"type\":\"scatterpolar\",\"marker\":{\"colorbar\":{\"outlinewidth\":0,\"ticks\":\"\"}}}],\"histogram\":[{\"marker\":{\"pattern\":{\"fillmode\":\"overlay\",\"size\":10,\"solidity\":0.2}},\"type\":\"histogram\"}],\"scattergl\":[{\"type\":\"scattergl\",\"marker\":{\"colorbar\":{\"outlinewidth\":0,\"ticks\":\"\"}}}],\"scatter3d\":[{\"type\":\"scatter3d\",\"line\":{\"colorbar\":{\"outlinewidth\":0,\"ticks\":\"\"}},\"marker\":{\"colorbar\":{\"outlinewidth\":0,\"ticks\":\"\"}}}],\"scattermapbox\":[{\"type\":\"scattermapbox\",\"marker\":{\"colorbar\":{\"outlinewidth\":0,\"ticks\":\"\"}}}],\"scatterternary\":[{\"type\":\"scatterternary\",\"marker\":{\"colorbar\":{\"outlinewidth\":0,\"ticks\":\"\"}}}],\"scattercarpet\":[{\"type\":\"scattercarpet\",\"marker\":{\"colorbar\":{\"outlinewidth\":0,\"ticks\":\"\"}}}],\"carpet\":[{\"aaxis\":{\"endlinecolor\":\"#2a3f5f\",\"gridcolor\":\"white\",\"linecolor\":\"white\",\"minorgridcolor\":\"white\",\"startlinecolor\":\"#2a3f5f\"},\"baxis\":{\"endlinecolor\":\"#2a3f5f\",\"gridcolor\":\"white\",\"linecolor\":\"white\",\"minorgridcolor\":\"white\",\"startlinecolor\":\"#2a3f5f\"},\"type\":\"carpet\"}],\"table\":[{\"cells\":{\"fill\":{\"color\":\"#EBF0F8\"},\"line\":{\"color\":\"white\"}},\"header\":{\"fill\":{\"color\":\"#C8D4E3\"},\"line\":{\"color\":\"white\"}},\"type\":\"table\"}],\"barpolar\":[{\"marker\":{\"line\":{\"color\":\"#E5ECF6\",\"width\":0.5},\"pattern\":{\"fillmode\":\"overlay\",\"size\":10,\"solidity\":0.2}},\"type\":\"barpolar\"}],\"pie\":[{\"automargin\":true,\"type\":\"pie\"}]},\"layout\":{\"autotypenumbers\":\"strict\",\"colorway\":[\"#636efa\",\"#EF553B\",\"#00cc96\",\"#ab63fa\",\"#FFA15A\",\"#19d3f3\",\"#FF6692\",\"#B6E880\",\"#FF97FF\",\"#FECB52\"],\"font\":{\"color\":\"#2a3f5f\"},\"hovermode\":\"closest\",\"hoverlabel\":{\"align\":\"left\"},\"paper_bgcolor\":\"white\",\"plot_bgcolor\":\"#E5ECF6\",\"polar\":{\"bgcolor\":\"#E5ECF6\",\"angularaxis\":{\"gridcolor\":\"white\",\"linecolor\":\"white\",\"ticks\":\"\"},\"radialaxis\":{\"gridcolor\":\"white\",\"linecolor\":\"white\",\"ticks\":\"\"}},\"ternary\":{\"bgcolor\":\"#E5ECF6\",\"aaxis\":{\"gridcolor\":\"white\",\"linecolor\":\"white\",\"ticks\":\"\"},\"baxis\":{\"gridcolor\":\"white\",\"linecolor\":\"white\",\"ticks\":\"\"},\"caxis\":{\"gridcolor\":\"white\",\"linecolor\":\"white\",\"ticks\":\"\"}},\"coloraxis\":{\"colorbar\":{\"outlinewidth\":0,\"ticks\":\"\"}},\"colorscale\":{\"sequential\":[[0.0,\"#0d0887\"],[0.1111111111111111,\"#46039f\"],[0.2222222222222222,\"#7201a8\"],[0.3333333333333333,\"#9c179e\"],[0.4444444444444444,\"#bd3786\"],[0.5555555555555556,\"#d8576b\"],[0.6666666666666666,\"#ed7953\"],[0.7777777777777778,\"#fb9f3a\"],[0.8888888888888888,\"#fdca26\"],[1.0,\"#f0f921\"]],\"sequentialminus\":[[0.0,\"#0d0887\"],[0.1111111111111111,\"#46039f\"],[0.2222222222222222,\"#7201a8\"],[0.3333333333333333,\"#9c179e\"],[0.4444444444444444,\"#bd3786\"],[0.5555555555555556,\"#d8576b\"],[0.6666666666666666,\"#ed7953\"],[0.7777777777777778,\"#fb9f3a\"],[0.8888888888888888,\"#fdca26\"],[1.0,\"#f0f921\"]],\"diverging\":[[0,\"#8e0152\"],[0.1,\"#c51b7d\"],[0.2,\"#de77ae\"],[0.3,\"#f1b6da\"],[0.4,\"#fde0ef\"],[0.5,\"#f7f7f7\"],[0.6,\"#e6f5d0\"],[0.7,\"#b8e186\"],[0.8,\"#7fbc41\"],[0.9,\"#4d9221\"],[1,\"#276419\"]]},\"xaxis\":{\"gridcolor\":\"white\",\"linecolor\":\"white\",\"ticks\":\"\",\"title\":{\"standoff\":15},\"zerolinecolor\":\"white\",\"automargin\":true,\"zerolinewidth\":2},\"yaxis\":{\"gridcolor\":\"white\",\"linecolor\":\"white\",\"ticks\":\"\",\"title\":{\"standoff\":15},\"zerolinecolor\":\"white\",\"automargin\":true,\"zerolinewidth\":2},\"scene\":{\"xaxis\":{\"backgroundcolor\":\"#E5ECF6\",\"gridcolor\":\"white\",\"linecolor\":\"white\",\"showbackground\":true,\"ticks\":\"\",\"zerolinecolor\":\"white\",\"gridwidth\":2},\"yaxis\":{\"backgroundcolor\":\"#E5ECF6\",\"gridcolor\":\"white\",\"linecolor\":\"white\",\"showbackground\":true,\"ticks\":\"\",\"zerolinecolor\":\"white\",\"gridwidth\":2},\"zaxis\":{\"backgroundcolor\":\"#E5ECF6\",\"gridcolor\":\"white\",\"linecolor\":\"white\",\"showbackground\":true,\"ticks\":\"\",\"zerolinecolor\":\"white\",\"gridwidth\":2}},\"shapedefaults\":{\"line\":{\"color\":\"#2a3f5f\"}},\"annotationdefaults\":{\"arrowcolor\":\"#2a3f5f\",\"arrowhead\":0,\"arrowwidth\":1},\"geo\":{\"bgcolor\":\"white\",\"landcolor\":\"#E5ECF6\",\"subunitcolor\":\"white\",\"showland\":true,\"showlakes\":true,\"lakecolor\":\"white\"},\"title\":{\"x\":0.05},\"mapbox\":{\"style\":\"light\"}}},\"scene\":{\"domain\":{\"x\":[0.0,1.0],\"y\":[0.0,1.0]},\"xaxis\":{\"title\":{\"text\":\"PC 1\"}},\"yaxis\":{\"title\":{\"text\":\"PC 2\"}},\"zaxis\":{\"title\":{\"text\":\"PC 3\"}}},\"coloraxis\":{\"colorbar\":{\"title\":{\"text\":\"color\"}},\"colorscale\":[[0.0,\"#0d0887\"],[0.1111111111111111,\"#46039f\"],[0.2222222222222222,\"#7201a8\"],[0.3333333333333333,\"#9c179e\"],[0.4444444444444444,\"#bd3786\"],[0.5555555555555556,\"#d8576b\"],[0.6666666666666666,\"#ed7953\"],[0.7777777777777778,\"#fb9f3a\"],[0.8888888888888888,\"#fdca26\"],[1.0,\"#f0f921\"]]},\"legend\":{\"tracegroupgap\":0},\"margin\":{\"t\":60}},                        {\"responsive\": true}                    ).then(function(){\n",
              "                            \n",
              "var gd = document.getElementById('5ded2252-bdd9-4045-997e-ce00e675194c');\n",
              "var x = new MutationObserver(function (mutations, observer) {{\n",
              "        var display = window.getComputedStyle(gd).display;\n",
              "        if (!display || display === 'none') {{\n",
              "            console.log([gd, 'removed!']);\n",
              "            Plotly.purge(gd);\n",
              "            observer.disconnect();\n",
              "        }}\n",
              "}});\n",
              "\n",
              "// Listen for the removal of the full notebook cells\n",
              "var notebookContainer = gd.closest('#notebook-container');\n",
              "if (notebookContainer) {{\n",
              "    x.observe(notebookContainer, {childList: true});\n",
              "}}\n",
              "\n",
              "// Listen for the clearing of the current output cell\n",
              "var outputEl = gd.closest('.output');\n",
              "if (outputEl) {{\n",
              "    x.observe(outputEl, {childList: true});\n",
              "}}\n",
              "\n",
              "                        })                };                            </script>        </div>\n",
              "</body>\n",
              "</html>"
            ]
          },
          "metadata": {}
        }
      ]
    },
    {
      "cell_type": "code",
      "source": [
        "kpca_train_poly_110, kpca_train_poly_eigenvectors = my_kpca(train_x, 110, 'poly', 2)\n",
        "print(kpca_train_poly_110)"
      ],
      "metadata": {
        "colab": {
          "base_uri": "https://localhost:8080/"
        },
        "id": "RXXq9BHM0_lm",
        "outputId": "3cb11633-19f6-4684-f7cb-186fa0cbb095"
      },
      "id": "RXXq9BHM0_lm",
      "execution_count": null,
      "outputs": [
        {
          "output_type": "stream",
          "name": "stdout",
          "text": [
            "[[-2.24746578e+16  5.25302650e+15  9.68096983e+15 ...  6.47832183e+13\n",
            "   3.13455165e+12 -2.03642512e+14]\n",
            " [-4.46477598e+16  1.58636826e+15 -1.10924372e+15 ...  1.09938931e+14\n",
            "  -2.97138708e+13  8.76066923e+13]\n",
            " [-3.14863524e+16 -2.12781757e+15  4.62665747e+15 ... -1.08179093e+13\n",
            "  -4.71674155e+13  4.51874997e+13]\n",
            " ...\n",
            " [ 8.59729551e+15  7.63778757e+15 -1.48916001e+15 ... -2.48843520e+13\n",
            "  -2.48255224e+13 -1.74016733e+13]\n",
            " [ 3.55679165e+15  1.08514584e+16 -7.11985396e+14 ...  5.13980196e+13\n",
            "   9.25170015e+12  8.11499469e+13]\n",
            " [ 5.92925058e+15  1.27785638e+16 -4.79491878e+14 ... -9.69388598e+13\n",
            "   1.83881540e+13 -5.40195256e+13]]\n"
          ]
        }
      ]
    },
    {
      "cell_type": "markdown",
      "source": [
        "### c. Apply KPCA to the Train dataset using sklearn."
      ],
      "metadata": {
        "id": "45vGzD-XFyN8"
      },
      "id": "45vGzD-XFyN8"
    },
    {
      "cell_type": "code",
      "source": [
        "# Create a KernelPCA object with the desired kernel and number of components\n",
        "kpca = KernelPCA(kernel='poly', degree=2, n_components=3)\n",
        "\n",
        "# Fit and transform the data using scikit-learn\n",
        "data_kpca_sklearn = kpca.fit_transform(train_x)\n",
        "\n",
        "print(\"Kernel PCA with Scikit-Learn:\")\n",
        "print(data_kpca_sklearn)"
      ],
      "metadata": {
        "id": "JndIo_fRU6Go",
        "colab": {
          "base_uri": "https://localhost:8080/"
        },
        "outputId": "129e86d3-32e5-48a1-b35f-2e19264247a3"
      },
      "id": "JndIo_fRU6Go",
      "execution_count": null,
      "outputs": [
        {
          "output_type": "stream",
          "name": "stdout",
          "text": [
            "Kernel PCA with Scikit-Learn:\n",
            "[[ 4.32522902e+03  1.41163328e+03 -3.54998495e+03]\n",
            " [ 8.59241496e+03  4.26367062e+02  4.06770397e+02]\n",
            " [ 6.05956634e+03 -5.71699533e+02 -1.69657922e+03]\n",
            " [ 7.85827837e+03  3.04893628e+02 -6.61412079e+02]\n",
            " [ 8.80362553e+03 -4.37845645e+02 -1.12790785e+03]\n",
            " [-4.53310781e+03  2.28191569e+03  2.81488597e+02]\n",
            " [-3.96310571e+03  2.89580756e+03 -7.34773649e+02]\n",
            " [-3.54826660e+03  3.14425333e+03 -1.27702366e+03]\n",
            " [-3.07729914e+03  3.08099127e+03 -1.01420580e+03]\n",
            " [-1.23643859e+03  4.45669965e+03 -2.29867248e+03]\n",
            " [-2.39901477e+03 -2.80159208e+02 -2.06986685e+03]\n",
            " [-2.15212593e+03 -1.03751514e+03 -1.11606452e+03]\n",
            " [-1.26987537e+03 -1.09073708e+03 -1.97257038e+03]\n",
            " [ 9.62939038e+01 -2.79103521e+03 -2.04411226e+03]\n",
            " [-7.59163515e+01 -2.50117739e+03 -2.11587354e+03]\n",
            " [ 5.35332824e+03  1.13497957e+03 -7.85515377e+02]\n",
            " [ 1.82941150e+03  2.16602998e+01  1.45720741e+03]\n",
            " [ 1.87414368e+03 -6.21551910e+02  2.00992796e+03]\n",
            " [ 1.24284841e+03 -1.03898693e+02  1.88216250e+03]\n",
            " [ 1.43410608e+03  5.62090872e+02  1.27206834e+03]\n",
            " [ 4.07222838e+03 -1.74108564e+03  3.30067877e+03]\n",
            " [ 3.97599306e+03 -1.88882755e+03  3.67872462e+03]\n",
            " [ 5.34711062e+03 -1.38845968e+03  3.41170194e+03]\n",
            " [ 4.53623599e+03 -1.47872001e+03  3.38723507e+03]\n",
            " [ 4.95808632e+03 -5.38087958e+02  2.03529969e+03]\n",
            " [ 2.92590529e+02 -5.44235316e+03  1.42237890e+03]\n",
            " [ 8.05494122e+01 -5.20664364e+03  1.09177995e+03]\n",
            " [ 3.07597025e+02 -5.29154935e+03  1.10973501e+03]\n",
            " [ 8.98056270e+01 -5.24680276e+03  1.44817946e+03]\n",
            " [-4.24940764e+02 -5.58327936e+03  2.15830452e+03]\n",
            " [-2.65526706e+02 -1.12739795e+03 -2.28050616e+03]\n",
            " [-5.76883311e+02  1.18817031e+03  1.54109143e+03]\n",
            " [-5.46034164e+02 -1.12225741e+03 -2.37022678e+03]\n",
            " [-8.35703180e+02 -7.64639297e+02 -2.30149505e+03]\n",
            " [-8.00187605e+02  7.26148788e+02  1.43123906e+03]\n",
            " [-1.12436473e+03 -2.82611083e+03 -2.90170863e+03]\n",
            " [ 1.91210043e+03  4.03557214e+02 -3.40723532e+03]\n",
            " [ 2.77206469e+03  1.34569786e+02 -2.89386943e+03]\n",
            " [ 7.50417326e+03 -2.88876714e+03 -2.17498166e+03]\n",
            " [ 6.86333937e+03 -2.63320106e+03 -2.38916931e+03]\n",
            " [ 1.62031374e+03 -1.49257153e+01 -2.39440625e+03]\n",
            " [ 1.09727621e+03  1.52640287e+03 -2.58469082e+03]\n",
            " [-4.03424958e+02  1.75096646e+03 -1.50814574e+03]\n",
            " [-8.86862836e+02  2.01609776e+03 -1.38328721e+03]\n",
            " [ 1.30992475e+03  5.86122546e+02 -2.68725638e+03]\n",
            " [ 6.23883843e+03  2.23387872e+03  3.72878944e+02]\n",
            " [ 5.37134225e+03  1.65947322e+03  1.35711124e+03]\n",
            " [ 5.51738827e+03  1.09615209e+03  2.64788105e+03]\n",
            " [ 5.28519604e+03  6.84309686e+02  1.41375590e+03]\n",
            " [ 5.42218437e+03  1.49180026e+03  1.69617475e+03]\n",
            " [ 2.95196173e+03 -3.29316596e+03 -1.95850869e+03]\n",
            " [ 3.36012975e+03 -3.64764762e+03 -1.46138728e+03]\n",
            " [ 4.32345845e+03 -4.19060906e+03 -1.33217360e+03]\n",
            " [ 4.38777196e+03 -3.28485356e+03 -2.68609740e+03]\n",
            " [ 4.27816955e+03 -3.29139965e+03 -2.85957144e+03]\n",
            " [ 6.53101376e+02 -1.50728103e+03 -2.39866315e+03]\n",
            " [ 6.28782807e+02 -1.24959928e+03 -2.55352257e+03]\n",
            " [ 7.88192315e+02 -1.66740760e+03 -2.07380389e+03]\n",
            " [ 3.50119964e+02 -1.48917582e+03 -2.43723662e+03]\n",
            " [ 9.68202570e+02 -1.21173514e+03 -2.32670933e+03]\n",
            " [-4.52694116e+03  1.73118018e+03 -4.58768342e+02]\n",
            " [-4.78649079e+03  1.74574490e+03 -3.02252014e+02]\n",
            " [-4.54773012e+03  1.17561488e+03 -7.11592687e+02]\n",
            " [-3.55078887e+03  1.22042403e+03 -9.71652938e+02]\n",
            " [-7.94796089e+02  2.25308717e+03 -2.29059563e+03]\n",
            " [-4.13536581e+03  8.32310474e+02  5.17033175e+02]\n",
            " [-4.66665419e+03  3.04920891e+02  1.05989831e+03]\n",
            " [-5.00107116e+03  2.34837779e+02  1.33686385e+03]\n",
            " [-2.82628974e+03  1.62553272e+03  4.08680393e+02]\n",
            " [-2.96622813e+03  1.97977662e+03  2.72317853e+02]\n",
            " [-5.48234725e+03 -2.55951095e+03 -6.83870246e+01]\n",
            " [-5.09392747e+03 -3.01351682e+03  3.64086886e+02]\n",
            " [-5.33927412e+03 -2.06645966e+03 -8.31596370e+01]\n",
            " [-5.42044999e+03 -2.74876747e+03  6.62226182e+01]\n",
            " [-4.61790339e+03 -3.11037886e+03  5.24579231e+00]\n",
            " [-8.73644173e+02  4.20887621e+03  1.92579739e+02]\n",
            " [-8.16982754e+02  4.42989574e+03 -8.59407093e+02]\n",
            " [-2.75549985e+03  2.76553889e+03  7.33705666e+02]\n",
            " [-2.49249448e+03  2.14853516e+03  1.57438335e+03]\n",
            " [-2.89970029e+03  2.67503711e+03  6.15168348e+02]\n",
            " [-1.82627984e+03  4.24119693e+02 -3.22828515e+03]\n",
            " [-1.95740970e+03  3.66793597e+02 -3.20172117e+03]\n",
            " [-3.21530328e+03  3.13464307e+02 -2.22673219e+03]\n",
            " [-2.06734668e+03 -5.29350020e+02 -2.92052060e+03]\n",
            " [-2.41607379e+03 -1.11943082e+03 -2.27548478e+03]\n",
            " [ 1.95730732e+03  2.46222482e+03  1.60805207e+03]\n",
            " [ 2.19079537e+03  1.40757983e+03  1.20829253e+03]\n",
            " [ 2.77473671e+03  2.36749159e+03  1.02871396e+03]\n",
            " [ 1.74591873e+03 -9.00629987e+02  2.95310515e+03]\n",
            " [ 2.03096166e+03 -1.27202794e+03  3.12062821e+03]\n",
            " [ 2.65082332e+03 -1.29916574e+03  2.24476764e+03]\n",
            " [ 3.41400232e+03 -1.82026911e+02  2.86025763e+03]\n",
            " [ 3.10534618e+03 -5.09317079e+02  1.79327849e+03]\n",
            " [ 1.95057612e+03 -5.03783970e+02  2.60117481e+03]\n",
            " [ 1.26034506e+03 -8.53748909e+02  2.54692460e+03]\n",
            " [ 2.60705053e+03 -3.31406311e+03 -1.84834981e+03]\n",
            " [ 3.52642176e+03 -3.47805796e+03 -2.21750790e+03]\n",
            " [ 3.53288544e+03 -3.36559350e+03 -2.38404958e+03]\n",
            " [ 3.31767185e+03 -3.22699637e+03 -2.28678097e+03]\n",
            " [ 2.89012057e+03 -2.93289060e+03 -2.40647961e+03]\n",
            " [ 1.46510604e+03 -3.23958249e+03  2.34958034e+03]\n",
            " [ 7.46120141e+02 -2.98768985e+03 -1.55909336e+03]\n",
            " [ 7.69183775e+02 -2.91791637e+03  2.56020759e+03]\n",
            " [ 2.27723293e+02 -3.25194627e+03 -1.77589558e+02]\n",
            " [ 8.08923788e+02 -3.49939568e+03 -1.12010386e+03]\n",
            " [-6.13438365e+03 -1.87363006e+02  9.74128057e+02]\n",
            " [-6.11465679e+03 -1.23147905e+01  1.02423028e+03]\n",
            " [-6.26759395e+03 -5.46720301e+02  9.81508362e+02]\n",
            " [-4.57574914e+03  1.31775084e+03  1.19478887e+02]\n",
            " [-3.77287128e+03  1.02882640e+03  2.68816224e+02]\n",
            " [-3.59549284e+01  9.86302916e+02  7.82606977e+02]\n",
            " [-3.43423549e+01  1.38274052e+03  6.81959069e+02]\n",
            " [ 3.28211223e+02  1.13456238e+03  3.77181982e+02]\n",
            " [ 1.08759731e+03 -5.49881141e+02  1.63719208e+03]\n",
            " [ 1.28283362e+03 -1.08396666e+03  2.20947647e+03]\n",
            " [-3.57268236e+03  1.93069279e+03 -3.85660670e+02]\n",
            " [-4.61073643e+03  1.27474968e+03  4.57535265e+01]\n",
            " [-4.12979508e+03  2.17880820e+03  1.33955102e+02]\n",
            " [-5.02939922e+03  5.77522935e+02  2.04533424e+02]\n",
            " [-5.42024729e+03  4.32616071e+02  8.71907149e+02]\n",
            " [-3.55296994e+03  1.71176079e+03  8.19903082e+02]\n",
            " [-2.21954046e+03 -1.40889897e+03 -7.92781203e+02]\n",
            " [-9.63240360e+02 -2.69957079e+03 -4.62113854e+02]\n",
            " [-1.10609947e+03 -2.76161518e+03 -1.60190057e+02]\n",
            " [-5.90016696e+02 -2.90139643e+03  1.33471960e+02]\n",
            " [ 5.08184600e+03 -3.97998790e+02 -1.51738627e+03]\n",
            " [ 4.90919978e+03 -2.17611300e+03 -7.25259908e+02]\n",
            " [ 4.56742424e+03 -2.09349198e+03 -2.98475175e+02]\n",
            " [ 5.36227041e+03 -1.45747203e+03 -1.17447646e+03]\n",
            " [ 3.89133463e+03 -7.37543003e+02 -1.55729524e+03]\n",
            " [-5.87856049e+03 -2.76728335e+02  5.87033020e+02]\n",
            " [-6.19154561e+03 -5.29007933e+02  6.28179069e+02]\n",
            " [-6.21401326e+03 -3.45381943e+02  6.67297671e+02]\n",
            " [-6.15459037e+03 -5.45783287e+02  8.08810405e+02]\n",
            " [-5.19593259e+03  6.72170618e+02 -7.78871900e+02]\n",
            " [-3.44995395e+03 -3.68406083e+03  3.48428848e+02]\n",
            " [-3.21353356e+03 -3.53791144e+03  2.08318538e+02]\n",
            " [-2.93818325e+03 -3.52052041e+03  1.98080460e+02]\n",
            " [-3.45008526e+03 -3.94629546e+03  5.86491340e+02]\n",
            " [-3.60942196e+03 -4.50718480e+03  1.30144505e+03]\n",
            " [-3.59146472e+02  1.41569890e+03  3.04012055e+03]\n",
            " [ 6.81293481e+02  9.99090138e+02  2.26873188e+03]\n",
            " [ 1.55474617e+02 -1.42524650e+03  1.69282703e+03]\n",
            " [-1.16808559e+02  2.65181141e+02  2.41055849e+03]\n",
            " [ 3.54584169e+03 -2.60521461e+02  9.75904535e+02]\n",
            " [ 3.10182008e+03  3.79565014e+03 -3.04725137e+03]\n",
            " [-2.09169390e+03  2.12700099e+03 -1.92691766e+03]\n",
            " [-2.05195339e+03  2.02329620e+03 -2.56186482e+03]\n",
            " [-2.18601952e+03  2.03896364e+03 -2.76216541e+03]\n",
            " [ 2.66184048e+03  3.21249841e+03 -2.51990044e+03]\n",
            " [ 1.53040793e+03 -1.84486126e+03  2.51709340e+03]\n",
            " [-5.80241274e+02 -4.68466418e+03  6.34256317e+02]\n",
            " [ 1.60769782e+03 -2.19162248e+03  2.77915136e+03]\n",
            " [-2.39999406e+02 -4.86062764e+03  8.96271444e+02]\n",
            " [-1.37621980e+03 -4.40633770e+03  5.25329117e+02]\n",
            " [-1.99017324e+03  3.23371926e+03  7.62131369e+02]\n",
            " [-2.31553880e+03  2.95755022e+03  5.81192103e+02]\n",
            " [-2.45061832e+03  1.87919882e+03  1.18434864e+03]\n",
            " [-1.09514801e+03  3.01733148e+03 -3.90732856e+02]\n",
            " [-2.56112289e+03  2.58708056e+03  6.12112801e+02]\n",
            " [-5.92255857e+03 -2.28549142e+03  9.31522270e+02]\n",
            " [-6.71322706e+03 -2.36715066e+03  8.17581014e+02]\n",
            " [-7.33475639e+03 -2.31409259e+03  9.12530057e+02]\n",
            " [-7.17074175e+03 -2.62712245e+03  7.43954127e+02]\n",
            " [-6.07111355e+03 -1.38047334e+03  1.06479800e+03]\n",
            " [ 5.06347357e+01  1.54786162e+03  6.36911877e+02]\n",
            " [ 1.14561807e+02  1.09399868e+03 -3.15282528e+02]\n",
            " [ 3.42989032e+02  5.44408316e+02  6.63363772e+02]\n",
            " [ 1.89298327e+03  2.71198123e+03 -1.05895090e+03]\n",
            " [ 2.06117097e+03  2.63110352e+03 -1.45993261e+03]\n",
            " [ 1.49478803e+03  1.51367551e+03  2.47750405e+03]\n",
            " [ 3.01863031e+03  2.59968795e+03  1.15146826e+03]\n",
            " [ 3.02824213e+03  3.05630322e+03  1.29980262e+03]\n",
            " [ 7.17561348e+02  8.20984684e+01  3.87871842e+03]\n",
            " [ 3.63834574e+03  2.66551185e+03  1.63177897e+03]\n",
            " [ 2.59641629e+03  4.72153010e+02  3.73039682e+03]\n",
            " [ 2.95188218e+03  7.77434099e+02  3.09076165e+03]\n",
            " [ 2.95514418e+03  1.51983387e+03  2.81214794e+03]\n",
            " [ 2.17334686e+03  2.13385348e+02  3.76267277e+03]\n",
            " [ 5.48698684e+03  2.87986743e+03  1.93692014e+03]\n",
            " [ 1.15389755e+03  5.29018522e+03  1.80549770e+03]\n",
            " [ 8.07596668e+02  4.80299114e+03  2.04253177e+03]\n",
            " [ 1.41378589e+03  5.37394193e+03  1.68310397e+03]\n",
            " [ 3.63416656e+03  6.94864410e+03  7.40583345e+02]\n",
            " [ 4.00889989e+03  7.52403026e+03  8.22214220e+02]\n",
            " [-7.78619647e+02  2.55774060e+03 -2.42604957e+03]\n",
            " [-1.81330924e+03  9.79558413e+02 -2.08332345e+03]\n",
            " [-7.88079663e+01  2.87250845e+03 -2.66811502e+03]\n",
            " [ 2.08060806e+01  2.77923848e+03 -1.47010690e+03]\n",
            " [ 3.90278243e+02  2.84962224e+03 -2.21650629e+03]\n",
            " [ 5.40777053e+02  1.17455028e+03 -1.32198624e+03]\n",
            " [ 8.75029433e+01  4.12522381e+02 -1.15972257e+03]\n",
            " [ 2.81050154e+03  2.90252060e+03 -2.97427644e+03]\n",
            " [ 1.06868035e+03  1.26421055e+03 -1.13682206e+03]\n",
            " [ 3.81993938e+03  1.59008632e+03 -2.76967462e+03]\n",
            " [-1.95932610e+03  2.31042299e+03  6.45845603e+02]\n",
            " [-1.42149750e+03  2.47230963e+03  9.69028320e+02]\n",
            " [-1.65459015e+03  2.05240223e+03  5.46087335e+02]\n",
            " [-6.84557142e+02  2.91597519e+03  2.61097252e+02]\n",
            " [-1.14114446e+03  3.43382485e+03  1.75838907e+02]]\n"
          ]
        }
      ]
    },
    {
      "cell_type": "code",
      "source": [
        "fig = px.scatter_3d(\n",
        "      data_kpca_sklearn, x=0, y=1, z=2, color=train_y,\n",
        "      labels={'0': 'PC 1', '1': 'PC 2', '2': 'PC 3'}\n",
        "  )\n",
        "fig.show()"
      ],
      "metadata": {
        "colab": {
          "base_uri": "https://localhost:8080/",
          "height": 542
        },
        "id": "NXdA0sSRCoRw",
        "outputId": "59b579a7-c8d9-4845-d997-c980889d0806"
      },
      "id": "NXdA0sSRCoRw",
      "execution_count": null,
      "outputs": [
        {
          "output_type": "display_data",
          "data": {
            "text/html": [
              "<html>\n",
              "<head><meta charset=\"utf-8\" /></head>\n",
              "<body>\n",
              "    <div>            <script src=\"https://cdnjs.cloudflare.com/ajax/libs/mathjax/2.7.5/MathJax.js?config=TeX-AMS-MML_SVG\"></script><script type=\"text/javascript\">if (window.MathJax && window.MathJax.Hub && window.MathJax.Hub.Config) {window.MathJax.Hub.Config({SVG: {font: \"STIX-Web\"}});}</script>                <script type=\"text/javascript\">window.PlotlyConfig = {MathJaxConfig: 'local'};</script>\n",
              "        <script charset=\"utf-8\" src=\"https://cdn.plot.ly/plotly-2.24.1.min.js\"></script>                <div id=\"a19f26ab-bd41-48c8-aded-e36732a036f0\" class=\"plotly-graph-div\" style=\"height:525px; width:100%;\"></div>            <script type=\"text/javascript\">                                    window.PLOTLYENV=window.PLOTLYENV || {};                                    if (document.getElementById(\"a19f26ab-bd41-48c8-aded-e36732a036f0\")) {                    Plotly.newPlot(                        \"a19f26ab-bd41-48c8-aded-e36732a036f0\",                        [{\"hovertemplate\":\"PC 1=%{x}\\u003cbr\\u003ePC 2=%{y}\\u003cbr\\u003ePC 3=%{z}\\u003cbr\\u003ecolor=%{marker.color}\\u003cextra\\u003e\\u003c\\u002fextra\\u003e\",\"legendgroup\":\"\",\"marker\":{\"color\":[1,1,1,1,1,2,2,2,2,2,3,3,3,3,3,4,4,4,4,4,5,5,5,5,5,6,6,6,6,6,7,7,7,7,7,8,8,8,8,8,9,9,9,9,9,10,10,10,10,10,11,11,11,11,11,12,12,12,12,12,13,13,13,13,13,14,14,14,14,14,15,15,15,15,15,16,16,16,16,16,17,17,17,17,17,18,18,18,18,18,19,19,19,19,19,20,20,20,20,20,21,21,21,21,21,22,22,22,22,22,23,23,23,23,23,24,24,24,24,24,25,25,25,25,25,26,26,26,26,26,27,27,27,27,27,28,28,28,28,28,29,29,29,29,29,30,30,30,30,30,31,31,31,31,31,32,32,32,32,32,33,33,33,33,33,34,34,34,34,34,35,35,35,35,35,36,36,36,36,36,37,37,37,37,37,38,38,38,38,38,39,39,39,39,39,40,40,40,40,40],\"coloraxis\":\"coloraxis\",\"symbol\":\"circle\"},\"mode\":\"markers\",\"name\":\"\",\"scene\":\"scene\",\"showlegend\":false,\"x\":[4325.229020040861,8592.414957325891,6059.566336661632,7858.278372016282,8803.625528678504,-4533.107805019835,-3963.1057080593723,-3548.2665986258917,-3077.2991364941454,-1236.4385944433134,-2399.0147715571043,-2152.125932258081,-1269.8753699764286,96.29390378338015,-75.91635148505529,5353.328239923146,1829.4115012727382,1874.1436801694967,1242.848407825024,1434.1060794212906,4072.228383718827,3975.9930597311695,5347.110618521282,4536.235994391999,4958.086320324794,292.5905288589237,80.54941220028564,307.5970245397483,89.80562700662875,-424.9407638876114,-265.5267062459099,-576.8833108262586,-546.0341642686197,-835.7031802599051,-800.1876047705206,-1124.364730736406,1912.1004317597128,2772.064688958174,7504.173260977017,6863.3393662228955,1620.3137419183254,1097.276206351291,-403.42495791264093,-886.8628355491246,1309.9247518150805,6238.838428462164,5371.342246311979,5517.388271292956,5285.196044627431,5422.184371722136,2951.9617314409893,3360.129747443097,4323.4584511084695,4387.771959081843,4278.169548718877,653.1013757541366,628.7828074355439,788.192315155994,350.1199637995178,968.2025696918209,-4526.94116104117,-4786.490790993529,-4547.730124238692,-3550.788867035166,-794.7960889434576,-4135.365809187545,-4666.654189678017,-5001.071158261143,-2826.28973543156,-2966.228130035247,-5482.347246868871,-5093.927474089606,-5339.274118565851,-5420.449993870444,-4617.90338654805,-873.6441731330078,-816.9827539322749,-2755.499849842692,-2492.494477797479,-2899.7002904673755,-1826.2798436812548,-1957.4097042276348,-3215.3032804667555,-2067.3466785108026,-2416.073792931087,1957.3073212707427,2190.795368534492,2774.736705546441,1745.9187279308685,2030.9616550844066,2650.8233221026126,3414.0023153692127,3105.346182002887,1950.5761192798693,1260.3450642384016,2607.0505349364953,3526.421756321742,3532.88544257775,3317.671847018929,2890.1205684220786,1465.1060418286165,746.1201409189963,769.1837746854462,227.7232934896299,808.9237882559337,-6134.383651735932,-6114.656793115816,-6267.593952220664,-4575.749135848733,-3772.871281444303,-35.95492841666526,-34.342354930705135,328.2112229115938,1087.5973124615186,1282.8336237837902,-3572.6823611039786,-4610.736432070987,-4129.795077310781,-5029.3992235276655,-5420.247285233563,-3552.969937036119,-2219.540456045342,-963.2403595624108,-1106.0994677942178,-590.0166963603904,5081.845998469324,4909.199777319066,4567.42423842784,5362.270413304693,3891.334627474503,-5878.56048811409,-6191.545613802502,-6214.013263710989,-6154.590368020097,-5195.93258751138,-3449.9539526407734,-3213.5335637477324,-2938.1832538346034,-3450.0852562735795,-3609.4219563311003,-359.1464722863621,681.293481428628,155.47461742719045,-116.80855894223434,3545.8416854742113,3101.8200778245537,-2091.693899029774,-2051.953387409014,-2186.019520068971,2661.840475809389,1530.4079297696148,-580.2412741256487,1607.6978169652455,-239.99940599696802,-1376.2198026517153,-1990.1732369410254,-2315.5387997540734,-2450.6183175027973,-1095.148008787773,-2561.1228944437566,-5922.558571124841,-6713.227055215682,-7334.75639389579,-7170.741746662045,-6071.113549445851,50.6347357347515,114.5618070189386,342.9890316542291,1892.983267467255,2061.17097250523,1494.7880272179939,3018.6303147607705,3028.242133958108,717.5613476418383,3638.3457391520433,2596.4162917687077,2951.8821848583457,2955.1441827845756,2173.3468616848872,5486.986835862018,1153.8975476857074,807.5966679065641,1413.785890058212,3634.1665645669227,4008.899894842907,-778.6196474309107,-1813.309244966525,-78.8079663055536,20.806080588601212,390.2782427735383,540.7770531131526,87.5029433199413,2810.501544415093,1068.680346387927,3819.939381125121,-1959.3260954821487,-1421.4974978323537,-1654.5901476079953,-684.5571423441047,-1141.144459827475],\"y\":[1411.6332783987384,426.3670618925104,-571.6995330496792,304.89362837266503,-437.84564495809946,2281.9156947116794,2895.807556781242,3144.253328145776,3080.9912675754595,4456.69965402567,-280.159207906161,-1037.515141746618,-1090.7370773284401,-2791.035209907418,-2501.1773877241853,1134.9795716228175,21.66029977711954,-621.5519097052876,-103.89869343511994,562.0908718497483,-1741.0856390127394,-1888.827553229534,-1388.459681745956,-1478.7200091705718,-538.0879581022134,-5442.353156384045,-5206.643642907973,-5291.5493454247535,-5246.802755893074,-5583.279358512268,-1127.3979471687494,1188.1703127329818,-1122.2574105973163,-764.6392972153026,726.1487883028666,-2826.1108296485777,403.5572143964576,134.56978642660283,-2888.7671431633266,-2633.201056967664,-14.925715253984304,1526.4028700185893,1750.9664576179982,2016.0977594305843,586.1225460508446,2233.8787238249993,1659.4732192478343,1096.1520894659654,684.3096855367581,1491.8002569856944,-3293.1659565227988,-3647.6476163134885,-4190.6090557950765,-3284.85356334346,-3291.3996467828833,-1507.2810251701067,-1249.5992778422512,-1667.407600728439,-1489.175815354136,-1211.7351417361538,1731.1801825131593,1745.7448962353985,1175.6148849593358,1220.4240291354874,2253.0871729432797,832.3104741421229,304.9208908776343,234.83777880181756,1625.532722548795,1979.776620435397,-2559.5109496499063,-3013.5168243956514,-2066.4596583159296,-2748.7674682118995,-3110.3788607406905,4208.876208770121,4429.895735617512,2765.538885054331,2148.535160977382,2675.0371139682725,424.11969322707597,366.79359674528223,313.4643073205892,-529.3500204979206,-1119.4308195292508,2462.224824681928,1407.5798255960558,2367.4915949241554,-900.6299874990775,-1272.0279407297323,-1299.165736169133,-182.0269112527991,-509.31707853414906,-503.78397031727945,-853.7489092876368,-3314.063114199655,-3478.05796163877,-3365.5935043079303,-3226.9963692903907,-2932.8906043097886,-3239.5824945258196,-2987.689847045767,-2917.9163683295365,-3251.946273068162,-3499.3956765067755,-187.36300573133403,-12.31479049785661,-546.720301135358,1317.7508448811639,1028.8263974764702,986.3029161372972,1382.7405194972378,1134.562380708997,-549.8811405368722,-1083.9666641776626,1930.6927921690292,1274.7496828555284,2178.8082039325614,577.5229349576574,432.61607132318863,1711.7607919856102,-1408.898967864424,-2699.5707858633914,-2761.615175596252,-2901.3964346992984,-397.9987904378742,-2176.113001669486,-2093.491984722469,-1457.472027427604,-737.5430031721835,-276.72833549778557,-529.0079331677864,-345.3819430965566,-545.7832870294909,672.1706181835555,-3684.0608318611526,-3537.9114418648255,-3520.5204104587565,-3946.2954613618294,-4507.184798695506,1415.6989040956294,999.0901376377188,-1425.2464988037648,265.1811407236051,-260.5214614538502,3795.6501383553623,2127.000993413102,2023.2962031006884,2038.9636351195636,3212.49840918544,-1844.861257894981,-4684.664184271243,-2191.622479080679,-4860.627640524264,-4406.337701559143,3233.7192623853116,2957.550224119511,1879.1988220800745,3017.3314832909887,2587.080563482911,-2285.491422067279,-2367.1506601770952,-2314.092590049317,-2627.1224506411477,-1380.4733435537564,1547.8616238927457,1093.9986786146353,544.4083163925145,2711.9812337614067,2631.1035178952206,1513.6755120097914,2599.687948674204,3056.303219465573,82.09846842549875,2665.5118500197686,472.1530103007076,777.434098886421,1519.833867314444,213.38534838828562,2879.8674316456313,5290.185217645885,4802.991135662158,5373.941926508071,6948.644098724942,7524.0302620994,2557.740603400492,979.5584130041666,2872.508447134335,2779.2384803758805,2849.622242505165,1174.5502830699104,412.5223811448097,2902.5205979820244,1264.2105454428108,1590.086320672439,2310.4229862173656,2472.309626062149,2052.402233005739,2915.975189406874,3433.8248512275627],\"z\":[-3549.984954540042,406.7703966385037,-1696.5792241600388,-661.4120786031914,-1127.907848293716,281.4885973518598,-734.7736485443307,-1277.023655884139,-1014.205800945781,-2298.672483259077,-2069.8668479498497,-1116.0645224116167,-1972.5703844290117,-2044.1122592483882,-2115.873543717208,-785.5153767696883,1457.2074123397233,2009.927962830655,1882.162495179551,1272.0683448700145,3300.6787682603776,3678.7246220661746,3411.7019356216592,3387.2350715827993,2035.2996936123757,1422.3788951373078,1091.7799502557386,1109.7350083207218,1448.1794551920657,2158.3045173353207,-2280.5061593380346,1541.0914341217444,-2370.2267824026862,-2301.4950529469006,1431.2390643328724,-2901.7086326132708,-3407.2353226885702,-2893.8694264476158,-2174.9816591651197,-2389.1693086208265,-2394.4062496248994,-2584.69082198643,-1508.1457365950448,-1383.2872124836795,-2687.2563767199613,372.87894445615916,1357.1112387238097,2647.881050034513,1413.755900905084,1696.174751087321,-1958.5086895946292,-1461.3872779022229,-1332.1736042005075,-2686.0974039168477,-2859.57143823613,-2398.663154389666,-2553.5225725683035,-2073.8038883976387,-2437.2366238913232,-2326.7093255566897,-458.76834203461647,-302.2520144461882,-711.5926869578462,-971.6529382533109,-2290.5956323532305,517.0331750544661,1059.898308901542,1336.8638450155772,408.6803933599892,272.31785256445636,-68.38702457201576,364.0868859192618,-83.15963704805304,66.2226182239638,5.245792311307063,192.57973940209394,-859.4070931901908,733.705666087998,1574.3833499969855,615.1683483345938,-3228.2851478275047,-3201.72117071173,-2226.732188496216,-2920.5206041923543,-2275.4847812232474,1608.052065071099,1208.2925327842718,1028.7139575473714,2953.105148514308,3120.628207252262,2244.7676441848357,2860.2576254141595,1793.2784850840178,2601.174809858197,2546.9245981977265,-1848.3498110959065,-2217.5078952985664,-2384.049575131902,-2286.7809700083117,-2406.479608876868,2349.5803354892682,-1559.0933618159343,2560.2075870824397,-177.5895579247154,-1120.1038622838898,974.1280571918239,1024.2302843429695,981.5083619537533,119.47888748182088,268.8162242274354,782.6069769308092,681.959068987551,377.18198165372803,1637.192081483342,2209.476469501432,-385.6606698322254,45.75352652776338,133.95510212286743,204.53342438756354,871.9071487622288,819.903082470044,-792.7812026881062,-462.1138538859032,-160.19005684965444,133.47195967541367,-1517.3862708736087,-725.2599083875136,-298.47517536630033,-1174.476459380144,-1557.295237808724,587.0330204138496,628.1790689828266,667.2976709185525,808.8104045251006,-778.8718999031734,348.42884775169705,208.31853778163944,198.08046010164705,586.4913401883055,1301.4450526950304,3040.1205463820106,2268.7318803457824,1692.8270279915869,2410.558488424617,975.9045350586218,-3047.2513664298917,-1926.9176649825324,-2561.864824442925,-2762.1654139306497,-2519.9004411242263,2517.0933979955526,634.2563169693213,2779.151362251386,896.2714441763618,525.3291166387194,762.1313689495692,581.1921032630563,1184.348643981783,-390.73285576775777,612.1128005773946,931.5222700421392,817.5810136119068,912.5300565070495,743.9541269674367,1064.7979983553428,636.9118770212988,-315.2825279884016,663.3637719403089,-1058.950895267165,-1459.9326096836887,2477.5040461505823,1151.4682648387236,1299.8026247395278,3878.718423815495,1631.7789674825362,3730.3968209498767,3090.761646221617,2812.1479419548214,3762.672771664017,1936.920140437533,1805.4977031933704,2042.5317733237555,1683.103965226842,740.5833451777792,822.2142202038804,-2426.049567987875,-2083.3234513304933,-2668.1150225856013,-1470.1068964421959,-2216.5062944480214,-1321.9862383847524,-1159.7225724728894,-2974.2764378387556,-1136.8220571397649,-2769.674616179585,645.845602684061,969.0283196807376,546.0873346223788,261.0972522338031,175.8389071685082],\"type\":\"scatter3d\"}],                        {\"template\":{\"data\":{\"histogram2dcontour\":[{\"type\":\"histogram2dcontour\",\"colorbar\":{\"outlinewidth\":0,\"ticks\":\"\"},\"colorscale\":[[0.0,\"#0d0887\"],[0.1111111111111111,\"#46039f\"],[0.2222222222222222,\"#7201a8\"],[0.3333333333333333,\"#9c179e\"],[0.4444444444444444,\"#bd3786\"],[0.5555555555555556,\"#d8576b\"],[0.6666666666666666,\"#ed7953\"],[0.7777777777777778,\"#fb9f3a\"],[0.8888888888888888,\"#fdca26\"],[1.0,\"#f0f921\"]]}],\"choropleth\":[{\"type\":\"choropleth\",\"colorbar\":{\"outlinewidth\":0,\"ticks\":\"\"}}],\"histogram2d\":[{\"type\":\"histogram2d\",\"colorbar\":{\"outlinewidth\":0,\"ticks\":\"\"},\"colorscale\":[[0.0,\"#0d0887\"],[0.1111111111111111,\"#46039f\"],[0.2222222222222222,\"#7201a8\"],[0.3333333333333333,\"#9c179e\"],[0.4444444444444444,\"#bd3786\"],[0.5555555555555556,\"#d8576b\"],[0.6666666666666666,\"#ed7953\"],[0.7777777777777778,\"#fb9f3a\"],[0.8888888888888888,\"#fdca26\"],[1.0,\"#f0f921\"]]}],\"heatmap\":[{\"type\":\"heatmap\",\"colorbar\":{\"outlinewidth\":0,\"ticks\":\"\"},\"colorscale\":[[0.0,\"#0d0887\"],[0.1111111111111111,\"#46039f\"],[0.2222222222222222,\"#7201a8\"],[0.3333333333333333,\"#9c179e\"],[0.4444444444444444,\"#bd3786\"],[0.5555555555555556,\"#d8576b\"],[0.6666666666666666,\"#ed7953\"],[0.7777777777777778,\"#fb9f3a\"],[0.8888888888888888,\"#fdca26\"],[1.0,\"#f0f921\"]]}],\"heatmapgl\":[{\"type\":\"heatmapgl\",\"colorbar\":{\"outlinewidth\":0,\"ticks\":\"\"},\"colorscale\":[[0.0,\"#0d0887\"],[0.1111111111111111,\"#46039f\"],[0.2222222222222222,\"#7201a8\"],[0.3333333333333333,\"#9c179e\"],[0.4444444444444444,\"#bd3786\"],[0.5555555555555556,\"#d8576b\"],[0.6666666666666666,\"#ed7953\"],[0.7777777777777778,\"#fb9f3a\"],[0.8888888888888888,\"#fdca26\"],[1.0,\"#f0f921\"]]}],\"contourcarpet\":[{\"type\":\"contourcarpet\",\"colorbar\":{\"outlinewidth\":0,\"ticks\":\"\"}}],\"contour\":[{\"type\":\"contour\",\"colorbar\":{\"outlinewidth\":0,\"ticks\":\"\"},\"colorscale\":[[0.0,\"#0d0887\"],[0.1111111111111111,\"#46039f\"],[0.2222222222222222,\"#7201a8\"],[0.3333333333333333,\"#9c179e\"],[0.4444444444444444,\"#bd3786\"],[0.5555555555555556,\"#d8576b\"],[0.6666666666666666,\"#ed7953\"],[0.7777777777777778,\"#fb9f3a\"],[0.8888888888888888,\"#fdca26\"],[1.0,\"#f0f921\"]]}],\"surface\":[{\"type\":\"surface\",\"colorbar\":{\"outlinewidth\":0,\"ticks\":\"\"},\"colorscale\":[[0.0,\"#0d0887\"],[0.1111111111111111,\"#46039f\"],[0.2222222222222222,\"#7201a8\"],[0.3333333333333333,\"#9c179e\"],[0.4444444444444444,\"#bd3786\"],[0.5555555555555556,\"#d8576b\"],[0.6666666666666666,\"#ed7953\"],[0.7777777777777778,\"#fb9f3a\"],[0.8888888888888888,\"#fdca26\"],[1.0,\"#f0f921\"]]}],\"mesh3d\":[{\"type\":\"mesh3d\",\"colorbar\":{\"outlinewidth\":0,\"ticks\":\"\"}}],\"scatter\":[{\"fillpattern\":{\"fillmode\":\"overlay\",\"size\":10,\"solidity\":0.2},\"type\":\"scatter\"}],\"parcoords\":[{\"type\":\"parcoords\",\"line\":{\"colorbar\":{\"outlinewidth\":0,\"ticks\":\"\"}}}],\"scatterpolargl\":[{\"type\":\"scatterpolargl\",\"marker\":{\"colorbar\":{\"outlinewidth\":0,\"ticks\":\"\"}}}],\"bar\":[{\"error_x\":{\"color\":\"#2a3f5f\"},\"error_y\":{\"color\":\"#2a3f5f\"},\"marker\":{\"line\":{\"color\":\"#E5ECF6\",\"width\":0.5},\"pattern\":{\"fillmode\":\"overlay\",\"size\":10,\"solidity\":0.2}},\"type\":\"bar\"}],\"scattergeo\":[{\"type\":\"scattergeo\",\"marker\":{\"colorbar\":{\"outlinewidth\":0,\"ticks\":\"\"}}}],\"scatterpolar\":[{\"type\":\"scatterpolar\",\"marker\":{\"colorbar\":{\"outlinewidth\":0,\"ticks\":\"\"}}}],\"histogram\":[{\"marker\":{\"pattern\":{\"fillmode\":\"overlay\",\"size\":10,\"solidity\":0.2}},\"type\":\"histogram\"}],\"scattergl\":[{\"type\":\"scattergl\",\"marker\":{\"colorbar\":{\"outlinewidth\":0,\"ticks\":\"\"}}}],\"scatter3d\":[{\"type\":\"scatter3d\",\"line\":{\"colorbar\":{\"outlinewidth\":0,\"ticks\":\"\"}},\"marker\":{\"colorbar\":{\"outlinewidth\":0,\"ticks\":\"\"}}}],\"scattermapbox\":[{\"type\":\"scattermapbox\",\"marker\":{\"colorbar\":{\"outlinewidth\":0,\"ticks\":\"\"}}}],\"scatterternary\":[{\"type\":\"scatterternary\",\"marker\":{\"colorbar\":{\"outlinewidth\":0,\"ticks\":\"\"}}}],\"scattercarpet\":[{\"type\":\"scattercarpet\",\"marker\":{\"colorbar\":{\"outlinewidth\":0,\"ticks\":\"\"}}}],\"carpet\":[{\"aaxis\":{\"endlinecolor\":\"#2a3f5f\",\"gridcolor\":\"white\",\"linecolor\":\"white\",\"minorgridcolor\":\"white\",\"startlinecolor\":\"#2a3f5f\"},\"baxis\":{\"endlinecolor\":\"#2a3f5f\",\"gridcolor\":\"white\",\"linecolor\":\"white\",\"minorgridcolor\":\"white\",\"startlinecolor\":\"#2a3f5f\"},\"type\":\"carpet\"}],\"table\":[{\"cells\":{\"fill\":{\"color\":\"#EBF0F8\"},\"line\":{\"color\":\"white\"}},\"header\":{\"fill\":{\"color\":\"#C8D4E3\"},\"line\":{\"color\":\"white\"}},\"type\":\"table\"}],\"barpolar\":[{\"marker\":{\"line\":{\"color\":\"#E5ECF6\",\"width\":0.5},\"pattern\":{\"fillmode\":\"overlay\",\"size\":10,\"solidity\":0.2}},\"type\":\"barpolar\"}],\"pie\":[{\"automargin\":true,\"type\":\"pie\"}]},\"layout\":{\"autotypenumbers\":\"strict\",\"colorway\":[\"#636efa\",\"#EF553B\",\"#00cc96\",\"#ab63fa\",\"#FFA15A\",\"#19d3f3\",\"#FF6692\",\"#B6E880\",\"#FF97FF\",\"#FECB52\"],\"font\":{\"color\":\"#2a3f5f\"},\"hovermode\":\"closest\",\"hoverlabel\":{\"align\":\"left\"},\"paper_bgcolor\":\"white\",\"plot_bgcolor\":\"#E5ECF6\",\"polar\":{\"bgcolor\":\"#E5ECF6\",\"angularaxis\":{\"gridcolor\":\"white\",\"linecolor\":\"white\",\"ticks\":\"\"},\"radialaxis\":{\"gridcolor\":\"white\",\"linecolor\":\"white\",\"ticks\":\"\"}},\"ternary\":{\"bgcolor\":\"#E5ECF6\",\"aaxis\":{\"gridcolor\":\"white\",\"linecolor\":\"white\",\"ticks\":\"\"},\"baxis\":{\"gridcolor\":\"white\",\"linecolor\":\"white\",\"ticks\":\"\"},\"caxis\":{\"gridcolor\":\"white\",\"linecolor\":\"white\",\"ticks\":\"\"}},\"coloraxis\":{\"colorbar\":{\"outlinewidth\":0,\"ticks\":\"\"}},\"colorscale\":{\"sequential\":[[0.0,\"#0d0887\"],[0.1111111111111111,\"#46039f\"],[0.2222222222222222,\"#7201a8\"],[0.3333333333333333,\"#9c179e\"],[0.4444444444444444,\"#bd3786\"],[0.5555555555555556,\"#d8576b\"],[0.6666666666666666,\"#ed7953\"],[0.7777777777777778,\"#fb9f3a\"],[0.8888888888888888,\"#fdca26\"],[1.0,\"#f0f921\"]],\"sequentialminus\":[[0.0,\"#0d0887\"],[0.1111111111111111,\"#46039f\"],[0.2222222222222222,\"#7201a8\"],[0.3333333333333333,\"#9c179e\"],[0.4444444444444444,\"#bd3786\"],[0.5555555555555556,\"#d8576b\"],[0.6666666666666666,\"#ed7953\"],[0.7777777777777778,\"#fb9f3a\"],[0.8888888888888888,\"#fdca26\"],[1.0,\"#f0f921\"]],\"diverging\":[[0,\"#8e0152\"],[0.1,\"#c51b7d\"],[0.2,\"#de77ae\"],[0.3,\"#f1b6da\"],[0.4,\"#fde0ef\"],[0.5,\"#f7f7f7\"],[0.6,\"#e6f5d0\"],[0.7,\"#b8e186\"],[0.8,\"#7fbc41\"],[0.9,\"#4d9221\"],[1,\"#276419\"]]},\"xaxis\":{\"gridcolor\":\"white\",\"linecolor\":\"white\",\"ticks\":\"\",\"title\":{\"standoff\":15},\"zerolinecolor\":\"white\",\"automargin\":true,\"zerolinewidth\":2},\"yaxis\":{\"gridcolor\":\"white\",\"linecolor\":\"white\",\"ticks\":\"\",\"title\":{\"standoff\":15},\"zerolinecolor\":\"white\",\"automargin\":true,\"zerolinewidth\":2},\"scene\":{\"xaxis\":{\"backgroundcolor\":\"#E5ECF6\",\"gridcolor\":\"white\",\"linecolor\":\"white\",\"showbackground\":true,\"ticks\":\"\",\"zerolinecolor\":\"white\",\"gridwidth\":2},\"yaxis\":{\"backgroundcolor\":\"#E5ECF6\",\"gridcolor\":\"white\",\"linecolor\":\"white\",\"showbackground\":true,\"ticks\":\"\",\"zerolinecolor\":\"white\",\"gridwidth\":2},\"zaxis\":{\"backgroundcolor\":\"#E5ECF6\",\"gridcolor\":\"white\",\"linecolor\":\"white\",\"showbackground\":true,\"ticks\":\"\",\"zerolinecolor\":\"white\",\"gridwidth\":2}},\"shapedefaults\":{\"line\":{\"color\":\"#2a3f5f\"}},\"annotationdefaults\":{\"arrowcolor\":\"#2a3f5f\",\"arrowhead\":0,\"arrowwidth\":1},\"geo\":{\"bgcolor\":\"white\",\"landcolor\":\"#E5ECF6\",\"subunitcolor\":\"white\",\"showland\":true,\"showlakes\":true,\"lakecolor\":\"white\"},\"title\":{\"x\":0.05},\"mapbox\":{\"style\":\"light\"}}},\"scene\":{\"domain\":{\"x\":[0.0,1.0],\"y\":[0.0,1.0]},\"xaxis\":{\"title\":{\"text\":\"PC 1\"}},\"yaxis\":{\"title\":{\"text\":\"PC 2\"}},\"zaxis\":{\"title\":{\"text\":\"PC 3\"}}},\"coloraxis\":{\"colorbar\":{\"title\":{\"text\":\"color\"}},\"colorscale\":[[0.0,\"#0d0887\"],[0.1111111111111111,\"#46039f\"],[0.2222222222222222,\"#7201a8\"],[0.3333333333333333,\"#9c179e\"],[0.4444444444444444,\"#bd3786\"],[0.5555555555555556,\"#d8576b\"],[0.6666666666666666,\"#ed7953\"],[0.7777777777777778,\"#fb9f3a\"],[0.8888888888888888,\"#fdca26\"],[1.0,\"#f0f921\"]]},\"legend\":{\"tracegroupgap\":0},\"margin\":{\"t\":60}},                        {\"responsive\": true}                    ).then(function(){\n",
              "                            \n",
              "var gd = document.getElementById('a19f26ab-bd41-48c8-aded-e36732a036f0');\n",
              "var x = new MutationObserver(function (mutations, observer) {{\n",
              "        var display = window.getComputedStyle(gd).display;\n",
              "        if (!display || display === 'none') {{\n",
              "            console.log([gd, 'removed!']);\n",
              "            Plotly.purge(gd);\n",
              "            observer.disconnect();\n",
              "        }}\n",
              "}});\n",
              "\n",
              "// Listen for the removal of the full notebook cells\n",
              "var notebookContainer = gd.closest('#notebook-container');\n",
              "if (notebookContainer) {{\n",
              "    x.observe(notebookContainer, {childList: true});\n",
              "}}\n",
              "\n",
              "// Listen for the clearing of the current output cell\n",
              "var outputEl = gd.closest('.output');\n",
              "if (outputEl) {{\n",
              "    x.observe(outputEl, {childList: true});\n",
              "}}\n",
              "\n",
              "                        })                };                            </script>        </div>\n",
              "</body>\n",
              "</html>"
            ]
          },
          "metadata": {}
        }
      ]
    },
    {
      "cell_type": "code",
      "source": [
        "# Create a KernelPCA object with the desired kernel and number of components\n",
        "kpca = KernelPCA(kernel='poly', degree=2, n_components=110)\n",
        "\n",
        "# Fit and transform the data using scikit-learn\n",
        "data_kpca_sklearn = kpca.fit_transform(train_x)\n",
        "\n",
        "print(\"Kernel PCA with Scikit-Learn:\")\n",
        "print(data_kpca_sklearn)"
      ],
      "metadata": {
        "colab": {
          "base_uri": "https://localhost:8080/"
        },
        "id": "jSveJa0sRxY9",
        "outputId": "a0fd5f54-bc50-4f9e-c66b-8fb5620446d9"
      },
      "id": "jSveJa0sRxY9",
      "execution_count": null,
      "outputs": [
        {
          "output_type": "stream",
          "name": "stdout",
          "text": [
            "Kernel PCA with Scikit-Learn:\n",
            "[[ 4325.22902004  1411.6332784  -3549.98495454 ...   195.70190637\n",
            "      9.59182957  -624.59334448]\n",
            " [ 8592.41495733   426.36706189   406.77039664 ...   332.34959473\n",
            "    -90.29542022   268.64895666]\n",
            " [ 6059.56633666  -571.69953305 -1696.57922416 ...   -32.72914664\n",
            "   -143.29101445   138.53488783]\n",
            " ...\n",
            " [-1654.59014761  2052.40223301   546.08733462 ...   -75.15671945\n",
            "    -75.39694478   -53.25263767]\n",
            " [ -684.55714234  2915.97518941   261.09725223 ...   155.26080171\n",
            "     28.03266247   248.90695934]\n",
            " [-1141.14445983  3433.82485123   175.83890717 ...  -293.0003207\n",
            "     55.89051359  -165.69008904]]\n"
          ]
        }
      ]
    },
    {
      "cell_type": "markdown",
      "source": [
        "##2.3 KPCA with linear Kernel:"
      ],
      "metadata": {
        "id": "mgFkCspJ7NT3"
      },
      "id": "mgFkCspJ7NT3"
    },
    {
      "cell_type": "markdown",
      "source": [
        "###a. Implement Kernel PCA with a Polynomial kernel from scratch."
      ],
      "metadata": {
        "id": "-D7gNlco7PUk"
      },
      "id": "-D7gNlco7PUk"
    },
    {
      "cell_type": "code",
      "source": [
        "def linear_kernel(x, y):\n",
        "    return np.dot(x.T, y)"
      ],
      "metadata": {
        "id": "AFVeZNz7D6Tz"
      },
      "id": "AFVeZNz7D6Tz",
      "execution_count": null,
      "outputs": []
    },
    {
      "cell_type": "markdown",
      "source": [
        "###b. Apply your KPCA implementation to the Train dataset."
      ],
      "metadata": {
        "id": "FzzANnCe7Q63"
      },
      "id": "FzzANnCe7Q63"
    },
    {
      "cell_type": "code",
      "source": [
        "kpca_train_linear, kpca_train_linear_eigenvectors = my_kpca(train_x, 3, 'linear')\n",
        "print(kpca_train_linear)"
      ],
      "metadata": {
        "id": "LXzEL876VuGQ",
        "colab": {
          "base_uri": "https://localhost:8080/"
        },
        "outputId": "4cfaa399-d26b-4bed-bf5e-bc3f728b676e"
      },
      "id": "LXzEL876VuGQ",
      "execution_count": null,
      "outputs": [
        {
          "output_type": "stream",
          "name": "stdout",
          "text": [
            "[[-3.37018759e+07  2.84850920e+07  2.72727677e+07]\n",
            " [-7.18290167e+07  2.29307957e+07 -4.78686164e+06]\n",
            " [-6.36300650e+07  1.63293519e+07  1.21440054e+07]\n",
            " [-7.64481593e+07  2.84100007e+07  5.96504865e+06]\n",
            " [-8.77182988e+07  2.49869287e+07  8.44761088e+06]\n",
            " [ 7.05998935e+07  1.67986673e+07 -5.07787921e+06]\n",
            " [ 6.66571725e+07  2.67329676e+07  5.62188755e+06]\n",
            " [ 6.29269934e+07  3.03537961e+07  1.16681891e+07]\n",
            " [ 5.69751177e+07  2.87188106e+07  8.88734059e+06]\n",
            " [ 4.43198156e+07  4.57232752e+07  1.80672308e+07]\n",
            " [ 2.50897479e+07 -1.03444235e+07  2.04960781e+07]\n",
            " [ 1.66996820e+07 -1.92423404e+07  1.10833917e+07]\n",
            " [ 5.60776488e+06 -1.55304110e+07  1.90532839e+07]\n",
            " [-2.31128040e+07 -2.78195708e+07  1.96164216e+07]\n",
            " [-1.93452300e+07 -2.52854453e+07  2.01749741e+07]\n",
            " [-5.07583810e+07  3.31469391e+07  5.31508835e+06]\n",
            " [-2.93265511e+07  1.48332046e+07 -1.30722116e+07]\n",
            " [-3.31877795e+07  6.78700301e+06 -1.77822362e+07]\n",
            " [-2.26588453e+07  1.00860315e+07 -1.77492136e+07]\n",
            " [-2.09529805e+07  1.86078057e+07 -1.18848330e+07]\n",
            " [-5.89460149e+07 -8.84263642e+05 -2.74576203e+07]\n",
            " [-5.88316317e+07 -3.09175287e+06 -3.08296300e+07]\n",
            " [-6.46687791e+07  3.39394616e+06 -2.69995657e+07]\n",
            " [-5.95002316e+07  1.04627988e+06 -2.70233370e+07]\n",
            " [-5.86572030e+07  1.42712626e+07 -1.64300280e+07]\n",
            " [-5.19315337e+07 -5.61733887e+07 -1.13102773e+07]\n",
            " [-4.77464007e+07 -5.42211488e+07 -8.44490703e+06]\n",
            " [-5.04487940e+07 -5.40203585e+07 -8.56252473e+06]\n",
            " [-4.74871522e+07 -5.51970835e+07 -1.17663036e+07]\n",
            " [-4.45265043e+07 -6.36471573e+07 -1.89071727e+07]\n",
            " [-5.55172397e+06 -1.33462368e+07  2.20579757e+07]\n",
            " [ 1.44270815e+07  7.89147949e+06 -1.49925603e+07]\n",
            " [-2.35912752e+06 -1.42019056e+07  2.30810022e+07]\n",
            " [ 4.23896569e+06 -1.21582328e+07  2.23465855e+07]\n",
            " [ 1.40279761e+07  2.02414459e+06 -1.39622447e+07]\n",
            " [-1.49466131e+07 -2.98695779e+07  3.14813004e+07]\n",
            " [-1.83106476e+07  1.29031142e+07  2.92298220e+07]\n",
            " [-2.76503400e+07  1.16934577e+07  2.36753560e+07]\n",
            " [-9.32954463e+07  2.07388836e+06  1.70461200e+07]\n",
            " [-8.68788554e+07  2.55512989e+06  1.90107996e+07]\n",
            " [-2.27339409e+07  1.06337910e+07  2.22083428e+07]\n",
            " [-6.86316518e+06  2.53335675e+07  2.35273294e+07]\n",
            " [ 1.38108664e+07  2.06932946e+07  1.28294670e+07]\n",
            " [ 2.16545929e+07  2.15595260e+07  1.16603974e+07]\n",
            " [-1.62779676e+07  1.72276324e+07  2.49073754e+07]\n",
            " [-5.01046116e+07  4.15516778e+07 -3.49084782e+06]\n",
            " [-4.63629935e+07  3.41158460e+07 -1.11786263e+07]\n",
            " [-4.96888603e+07  2.74094417e+07 -2.18294408e+07]\n",
            " [-5.28182057e+07  2.58849331e+07 -1.12305235e+07]\n",
            " [-4.69107356e+07  3.18336561e+07 -1.42319177e+07]\n",
            " [-5.50510321e+07 -2.13934768e+07  1.78440052e+07]\n",
            " [-6.09431998e+07 -2.40119313e+07  1.34983539e+07]\n",
            " [-7.30460858e+07 -2.59400557e+07  1.19925108e+07]\n",
            " [-6.49904978e+07 -1.74195743e+07  2.23769154e+07]\n",
            " [-6.44480196e+07 -1.72202610e+07  2.37889704e+07]\n",
            " [-2.27414660e+07 -9.30382592e+06  2.34778420e+07]\n",
            " [-1.90558938e+07 -6.94516069e+06  2.40589803e+07]\n",
            " [-2.58023957e+07 -9.70947575e+06  2.02552487e+07]\n",
            " [-1.83427212e+07 -1.01771017e+07  2.34875441e+07]\n",
            " [-2.26778012e+07 -5.65356066e+06  2.20793107e+07]\n",
            " [ 6.89227941e+07  6.48668823e+06  5.56699225e+06]\n",
            " [ 7.23292679e+07  6.96752522e+06  3.93412739e+06]\n",
            " [ 6.41772701e+07  8.59519572e+05  8.58457482e+06]\n",
            " [ 5.03737223e+07  3.77939219e+06  1.12280952e+07]\n",
            " [ 2.22273540e+07  2.47158212e+07  2.19151896e+07]\n",
            " [ 5.27917354e+07 -1.44736077e+06 -5.07637889e+06]\n",
            " [ 5.66453815e+07 -1.07906793e+07 -1.11908049e+07]\n",
            " [ 6.06340870e+07 -1.26546590e+07 -1.46974723e+07]\n",
            " [ 4.29135472e+07  9.34125356e+06 -4.18384867e+06]\n",
            " [ 4.71891050e+07  1.36835195e+07 -3.01764392e+06]\n",
            " [ 4.16972468e+07 -5.12490252e+07  3.95001592e+06]\n",
            " [ 3.25575394e+07 -5.66626803e+07 -1.19886372e+06]\n",
            " [ 4.45418288e+07 -4.36732512e+07  3.73553282e+06]\n",
            " [ 3.73226123e+07 -5.21248127e+07  2.24111137e+06]\n",
            " [ 2.52557766e+07 -5.52046734e+07  3.08937121e+06]\n",
            " [ 3.89060230e+07  4.02296894e+07 -4.40616548e+06]\n",
            " [ 3.81893403e+07  4.52241742e+07  6.21969822e+06]\n",
            " [ 5.25832753e+07  1.95287857e+07 -8.77347071e+06]\n",
            " [ 4.49991923e+07  1.24355937e+07 -1.68079073e+07]\n",
            " [ 5.35012674e+07  1.89575484e+07 -7.39138343e+06]\n",
            " [ 2.30294951e+07  1.24562198e+06  3.27462206e+07]\n",
            " [ 2.41776999e+07 -3.28176072e+05  3.27705671e+07]\n",
            " [ 3.62994997e+07 -2.05274962e+06  2.59619316e+07]\n",
            " [ 1.33478245e+07 -6.45659465e+06  3.30157718e+07]\n",
            " [ 1.85511275e+07 -1.97318469e+07  2.41010042e+07]\n",
            " [-4.56044508e+06  2.84034893e+07 -1.55557004e+07]\n",
            " [-1.38943741e+07  1.94757951e+07 -1.17627234e+07]\n",
            " [-1.40100620e+07  3.06260728e+07 -1.02818028e+07]\n",
            " [-2.55203066e+07 -6.25704194e+06 -2.65033528e+07]\n",
            " [-3.11710272e+07 -9.05365173e+06 -2.74957970e+07]\n",
            " [-4.42758710e+07  3.29675750e+05 -1.91322378e+07]\n",
            " [-4.17571609e+07  1.21618683e+07 -2.47481242e+07]\n",
            " [-4.21838008e+07  1.01156162e+07 -1.56985346e+07]\n",
            " [-3.18948833e+07  5.52232372e+06 -2.23586547e+07]\n",
            " [-2.77923343e+07 -3.57331393e+04 -2.22351362e+07]\n",
            " [-5.10759341e+07 -2.24191511e+07  1.60151009e+07]\n",
            " [-6.08508410e+07 -2.05782089e+07  1.90239985e+07]\n",
            " [-5.98257223e+07 -1.90936952e+07  2.02339916e+07]\n",
            " [-5.67967641e+07 -1.84478792e+07  1.93128640e+07]\n",
            " [-5.11110340e+07 -1.67543033e+07  2.03192815e+07]\n",
            " [-4.71316413e+07 -2.46629729e+07 -1.98563136e+07]\n",
            " [-3.51627687e+07 -2.51411520e+07  1.63199052e+07]\n",
            " [-3.74349065e+07 -2.43561053e+07 -2.28086421e+07]\n",
            " [-3.02300476e+07 -3.31062626e+07  3.36831183e+06]\n",
            " [-3.91608885e+07 -3.11969583e+07  1.23652103e+07]\n",
            " [ 7.45020402e+07 -2.04053274e+07 -1.06155480e+07]\n",
            " [ 7.51493064e+07 -1.70188260e+07 -1.10835402e+07]\n",
            " [ 7.34976125e+07 -2.59668733e+07 -1.05767620e+07]\n",
            " [ 6.40576346e+07  3.79096491e+06 -5.48152176e+05]\n",
            " [ 5.05397133e+07  1.84805059e+06 -2.07680459e+06]\n",
            " [ 1.94025598e+06  1.49992699e+07 -7.40843117e+06]\n",
            " [ 4.78676852e+06  1.87595524e+07 -6.19572418e+06]\n",
            " [-2.30046951e+06  1.91473411e+07 -3.07904904e+06]\n",
            " [-2.08562468e+07  1.51762863e+06 -1.47217825e+07]\n",
            " [-2.55025307e+07 -5.31038061e+06 -1.96159038e+07]\n",
            " [ 5.88098611e+07  7.45561770e+06  3.15694845e+06]\n",
            " [ 6.86063565e+07 -3.65657392e+06 -8.88698032e+05]\n",
            " [ 6.89012835e+07  8.02119860e+06 -2.60470354e+06]\n",
            " [ 6.90420930e+07 -1.39161976e+07 -1.94461403e+06]\n",
            " [ 7.38622218e+07 -1.79065994e+07 -9.42873434e+06]\n",
            " [ 5.43488351e+07  5.58260583e+06 -8.68254082e+06]\n",
            " [ 1.53449458e+07 -2.77533877e+07  9.66921823e+06]\n",
            " [-8.96209114e+06 -3.78516460e+07  6.49866566e+06]\n",
            " [-8.49340238e+06 -3.90985627e+07  3.76166307e+06]\n",
            " [-1.55017407e+07 -3.84251319e+07  8.18092487e+05]\n",
            " [-5.48752678e+07  1.35467700e+07  1.18412459e+07]\n",
            " [-6.47854062e+07 -4.48667063e+06  5.81693092e+06]\n",
            " [-6.12385036e+07 -5.06125572e+06  2.34551791e+06]\n",
            " [-6.11893430e+07  1.47649347e+06  8.91878976e+06]\n",
            " [-4.51931284e+07  5.89709214e+06  1.24977900e+07]\n",
            " [ 7.31163203e+07 -2.61315738e+07 -5.34329346e+06]\n",
            " [ 7.65275136e+07 -3.15692287e+07 -6.60358251e+06]\n",
            " [ 7.83912677e+07 -2.87540943e+07 -6.89005707e+06]\n",
            " [ 7.57292060e+07 -3.18631700e+07 -8.90255112e+06]\n",
            " [ 7.07248330e+07 -1.06039504e+07  1.03464205e+07]\n",
            " [ 9.65956148e+06 -6.22354788e+07 -1.04826375e+06]\n",
            " [ 8.21319854e+06 -5.88268078e+07  2.95880246e+05]\n",
            " [ 4.86557932e+06 -5.69003487e+07  3.29100715e+05]\n",
            " [ 4.78123360e+06 -6.42495939e+07 -3.12185473e+06]\n",
            " [-3.66598041e+05 -7.26033216e+07 -1.10256288e+07]\n",
            " [ 1.26283390e+07  1.04971433e+07 -2.96208465e+07]\n",
            " [-1.16192982e+06  9.80986791e+06 -2.12653837e+07]\n",
            " [-1.49468135e+07 -1.57225005e+07 -1.47397107e+07]\n",
            " [ 2.59824763e+06 -8.53619878e+05 -2.30397046e+07]\n",
            " [-4.09459792e+07  8.97857714e+06 -7.52433996e+06]\n",
            " [-1.04482306e+07  4.92149235e+07  2.41568142e+07]\n",
            " [ 3.80581363e+07  1.96981441e+07  1.87898507e+07]\n",
            " [ 3.25682633e+07  2.31240431e+07  2.62370240e+07]\n",
            " [ 3.33647239e+07  2.38165188e+07  2.88733172e+07]\n",
            " [-9.04402002e+06  4.17807146e+07  2.00661451e+07]\n",
            " [-4.00644295e+07 -7.14909212e+06 -2.11319565e+07]\n",
            " [-3.89958782e+07 -5.01759854e+07 -3.62627931e+06]\n",
            " [-4.33877573e+07 -1.08166463e+07 -2.33190753e+07]\n",
            " [-4.29281181e+07 -5.15843169e+07 -6.38529969e+06]\n",
            " [-2.88030285e+07 -5.04689558e+07 -2.72640065e+06]\n",
            " [ 4.71647126e+07  2.58363914e+07 -9.86848516e+06]\n",
            " [ 4.84769477e+07  2.36752830e+07 -7.90913750e+06]\n",
            " [ 4.25603767e+07  1.08975084e+07 -1.37868549e+07]\n",
            " [ 3.26688979e+07  2.93788193e+07  1.86019643e+06]\n",
            " [ 4.89779279e+07  1.89048067e+07 -8.24857743e+06]\n",
            " [ 5.48284118e+07 -5.48510365e+07 -9.49674479e+06]\n",
            " [ 6.26094716e+07 -5.61042459e+07 -7.74415245e+06]\n",
            " [ 7.48544012e+07 -6.01441920e+07 -9.86200109e+06]\n",
            " [ 6.82949546e+07 -6.34205673e+07 -7.16068044e+06]\n",
            " [ 6.55059070e+07 -4.22091877e+07 -1.18692010e+07]\n",
            " [ 8.15423279e+06  1.74223410e+07 -6.70310150e+06]\n",
            " [ 3.39326859e+06  1.41703678e+07  2.63472980e+06]\n",
            " [-2.16034129e+06  7.70531430e+06 -6.42819179e+06]\n",
            " [-3.46410567e+06  3.42141432e+07  7.92875883e+06]\n",
            " [-5.85480345e+06  3.38138561e+07  1.16137645e+07]\n",
            " [-1.21703225e+07  2.46759593e+07 -2.26149478e+07]\n",
            " [-1.81475109e+07  3.71384566e+07 -1.03116725e+07]\n",
            " [-1.61818838e+07  4.20443703e+07 -1.14657413e+07]\n",
            " [-1.10117538e+07  3.59704619e+06 -3.62559431e+07]\n",
            " [-2.18306887e+07  3.70182319e+07 -1.48309973e+07]\n",
            " [-2.51387922e+07  1.05342201e+07 -3.28574111e+07]\n",
            " [-2.63916645e+07  1.51715929e+07 -2.76938198e+07]\n",
            " [-2.16575795e+07  2.26440276e+07 -2.52751446e+07]\n",
            " [-2.28751396e+07  6.67118963e+06 -3.34208149e+07]\n",
            " [-3.61685153e+07  4.08095945e+07 -1.65011779e+07]\n",
            " [ 2.83769782e+07  4.41718353e+07 -1.84083854e+07]\n",
            " [ 2.89372310e+07  3.91245112e+07 -2.04752500e+07]\n",
            " [ 2.57794177e+07  4.59283114e+07 -1.72680224e+07]\n",
            " [ 1.36234595e+07  6.12386372e+07 -9.36998828e+06]\n",
            " [ 1.20748740e+07  6.89101396e+07 -1.00018763e+07]\n",
            " [ 2.34683784e+07  2.85494643e+07  2.21392323e+07]\n",
            " [ 2.37657636e+07  9.21523918e+06  2.10647712e+07]\n",
            " [ 1.88897646e+07  3.21356201e+07  2.33791248e+07]\n",
            " [ 1.40878569e+07  3.37896184e+07  1.32471566e+07]\n",
            " [ 1.03219569e+07  3.57294141e+07  1.99926674e+07]\n",
            " [ 3.69814963e+06  1.37313244e+07  8.88535568e+06]\n",
            " [ 2.95644936e+06  4.62540509e+06  7.84504169e+06]\n",
            " [-7.62081205e+06  3.62007024e+07  2.09497062e+07]\n",
            " [-3.30955714e+05  1.48589080e+07  6.85748568e+06]\n",
            " [-2.31861738e+07  2.40117866e+07  1.88893704e+07]\n",
            " [ 3.79004732e+07  1.81360315e+07 -7.63608712e+06]\n",
            " [ 3.27312529e+07  2.12452279e+07 -1.08325911e+07]\n",
            " [ 3.19705943e+07  1.66973993e+07 -6.43382159e+06]\n",
            " [ 2.71283753e+07  2.73095758e+07 -3.92664839e+06]\n",
            " [ 3.52738280e+07  3.23707913e+07 -2.83611034e+06]]\n"
          ]
        }
      ]
    },
    {
      "cell_type": "code",
      "source": [
        "fig = px.scatter_3d(\n",
        "      kpca_train_linear, x=0, y=1, z=2, color=train_y,\n",
        "      labels={'0': 'PC 1', '1': 'PC 2', '2': 'PC 3'}\n",
        "  )\n",
        "fig.show()"
      ],
      "metadata": {
        "colab": {
          "base_uri": "https://localhost:8080/",
          "height": 542
        },
        "id": "YmmqPchqCs58",
        "outputId": "59b0c93a-5d98-49da-fec7-9eb7b09f7118"
      },
      "id": "YmmqPchqCs58",
      "execution_count": null,
      "outputs": [
        {
          "output_type": "display_data",
          "data": {
            "text/html": [
              "<html>\n",
              "<head><meta charset=\"utf-8\" /></head>\n",
              "<body>\n",
              "    <div>            <script src=\"https://cdnjs.cloudflare.com/ajax/libs/mathjax/2.7.5/MathJax.js?config=TeX-AMS-MML_SVG\"></script><script type=\"text/javascript\">if (window.MathJax && window.MathJax.Hub && window.MathJax.Hub.Config) {window.MathJax.Hub.Config({SVG: {font: \"STIX-Web\"}});}</script>                <script type=\"text/javascript\">window.PlotlyConfig = {MathJaxConfig: 'local'};</script>\n",
              "        <script charset=\"utf-8\" src=\"https://cdn.plot.ly/plotly-2.24.1.min.js\"></script>                <div id=\"d4e5b301-fcf9-48cc-851d-d8addfebbb11\" class=\"plotly-graph-div\" style=\"height:525px; width:100%;\"></div>            <script type=\"text/javascript\">                                    window.PLOTLYENV=window.PLOTLYENV || {};                                    if (document.getElementById(\"d4e5b301-fcf9-48cc-851d-d8addfebbb11\")) {                    Plotly.newPlot(                        \"d4e5b301-fcf9-48cc-851d-d8addfebbb11\",                        [{\"hovertemplate\":\"PC 1=%{x}\\u003cbr\\u003ePC 2=%{y}\\u003cbr\\u003ePC 3=%{z}\\u003cbr\\u003ecolor=%{marker.color}\\u003cextra\\u003e\\u003c\\u002fextra\\u003e\",\"legendgroup\":\"\",\"marker\":{\"color\":[1,1,1,1,1,2,2,2,2,2,3,3,3,3,3,4,4,4,4,4,5,5,5,5,5,6,6,6,6,6,7,7,7,7,7,8,8,8,8,8,9,9,9,9,9,10,10,10,10,10,11,11,11,11,11,12,12,12,12,12,13,13,13,13,13,14,14,14,14,14,15,15,15,15,15,16,16,16,16,16,17,17,17,17,17,18,18,18,18,18,19,19,19,19,19,20,20,20,20,20,21,21,21,21,21,22,22,22,22,22,23,23,23,23,23,24,24,24,24,24,25,25,25,25,25,26,26,26,26,26,27,27,27,27,27,28,28,28,28,28,29,29,29,29,29,30,30,30,30,30,31,31,31,31,31,32,32,32,32,32,33,33,33,33,33,34,34,34,34,34,35,35,35,35,35,36,36,36,36,36,37,37,37,37,37,38,38,38,38,38,39,39,39,39,39,40,40,40,40,40],\"coloraxis\":\"coloraxis\",\"symbol\":\"circle\"},\"mode\":\"markers\",\"name\":\"\",\"scene\":\"scene\",\"showlegend\":false,\"x\":[-33701875.88793526,-71829016.6974308,-63630064.9579061,-76448159.34239846,-87718298.83627404,70599893.45997474,66657172.53813602,62926993.44042445,56975117.66271343,44319815.59524743,25089747.935771402,16699681.960597634,5607764.8757508155,-23112803.97278646,-19345230.021454442,-50758381.033317275,-29326551.086804383,-33187779.46291869,-22658845.29799859,-20952980.46936206,-58946014.9195812,-58831631.662349224,-64668779.141625814,-59500231.63605246,-58657202.95368796,-51931533.65626429,-47746400.72789568,-50448793.98659879,-47487152.18553059,-44526504.30262752,-5551723.97137529,14427081.540722335,-2359127.521413174,4238965.693412235,14027976.052337231,-14946613.111782484,-18310647.61558453,-27650340.020502016,-93295446.34631301,-86878855.44852136,-22733940.851892482,-6863165.177214176,13810866.440209249,21654592.875815548,-16277967.606011989,-50104611.59893587,-46362993.54274422,-49688860.29776286,-52818205.740573265,-46910735.63020162,-55051032.09521387,-60943199.80098963,-73046085.83669385,-64990497.758655585,-64448019.647575416,-22741466.017556284,-19055893.798422247,-25802395.69863963,-18342721.16170608,-22677801.201357,68922794.0885943,72329267.89778483,64177270.09665138,50373722.27216114,22227353.988909516,52791735.428651415,56645381.50929413,60634087.00847868,42913547.24994294,47189105.02860625,41697246.81337919,32557539.39640111,44541828.78647749,37322612.267931834,25255776.560801722,38906023.00342182,38189340.29342398,52583275.26563267,44999192.29958536,53501267.3872611,23029495.05801187,24177699.908550132,36299499.719593465,13347824.495378748,18551127.45871801,-4560445.076404791,-13894374.10637032,-14010061.999617146,-25520306.61084526,-31171027.232861288,-44275871.03004023,-41757160.93270915,-42183800.8242392,-31894883.340316996,-27792334.258773163,-51075934.140305825,-60850840.99196897,-59825722.30797101,-56796764.08922151,-51111034.026999734,-47131641.335996784,-35162768.675735325,-37434906.4518618,-30230047.617105193,-39160888.504021555,74502040.19154043,75149306.35813434,73497612.53534308,64057634.59646073,50539713.25160057,1940255.9780642653,4786768.515559955,-2300469.5092873364,-20856246.76248097,-25502530.727103043,58809861.14413214,68606356.53174163,68901283.46799336,69042092.97707906,73862221.81558505,54348835.099793985,15344945.768810421,-8962091.141807958,-8493402.382716069,-15501740.697768224,-54875267.762673244,-64785406.1752141,-61238503.625965394,-61189342.96231802,-45193128.39927705,73116320.27039266,76527513.55668882,78391267.70934351,75729205.9749693,70724832.97073215,9659561.48310726,8213198.544472385,4865579.315018489,4781233.5980836125,-366598.0411428745,12628338.96743869,-1161929.8244907635,-14946813.536319606,2598247.6331964717,-40945979.170192435,-10448230.600522898,38058136.308490105,32568263.262851603,33364723.869357184,-9044020.023399644,-40064429.51978883,-38995878.18566257,-43387757.257088326,-42928118.10198995,-28803028.523226444,47164712.630930744,48476947.66939372,42560376.71936369,32668897.87548289,48977927.86966202,54828411.78066756,62609471.63252099,74854401.16221505,68294954.58927824,65505906.96905277,8154232.794651279,3393268.5925467717,-2160341.294281898,-3464105.6715371255,-5854803.450753327,-12170322.453867162,-18147510.867764916,-16181883.795022901,-11011753.837536445,-21830688.666175857,-25138792.165436856,-26391664.482907053,-21657579.462154556,-22875139.6407704,-36168515.27318131,28376978.17599533,28937230.980915006,25779417.711694993,13623459.506765567,12074873.98425926,23468378.411999557,23765763.557757102,18889764.58783366,14087856.860500008,10321956.908566974,3698149.6319186757,2956449.356711173,-7620812.048847765,-330955.71350056527,-23186173.791346006,37900473.20495482,32731252.906600356,31970594.339617256,27128375.34309244,35273828.02964776],\"y\":[28485091.961699523,22930795.720272414,16329351.859237988,28410000.713820744,24986928.660440657,16798667.341083262,26732967.572721183,30353796.0690694,28718810.598794144,45723275.158745684,-10344423.516528498,-19242340.38647499,-15530410.971841747,-27819570.781576414,-25285445.26542725,33146939.07221861,14833204.647596203,6787003.013774314,10086031.533988694,18607805.694085974,-884263.6417102519,-3091752.8664571196,3393946.161334375,1046279.8843629746,14271262.555558044,-56173388.73442985,-54221148.7596952,-54020358.46520996,-55197083.48893589,-63647157.29822091,-13346236.844136475,7891479.485558149,-14201905.614999212,-12158232.800638556,2024144.5867055613,-29869577.863210745,12903114.170335675,11693457.704140607,2073888.3555294618,2555129.885812608,10633790.965431072,25333567.54928129,20693294.592776846,21559526.005775288,17227632.428574488,41551677.76759185,34115845.95867537,27409441.687712673,25884933.12255252,31833656.0568459,-21393476.78886729,-24011931.265827026,-25940055.683592115,-17419574.30677868,-17220261.046961337,-9303825.918728912,-6945160.691488742,-9709475.745168641,-10177101.695189517,-5653560.6559083825,6486688.226205249,6967525.2180905035,859519.5724165699,3779392.1921324837,24715821.17852236,-1447360.7713579761,-10790679.33579254,-12654659.021671772,9341253.559459576,13683519.51406943,-51249025.2106915,-56662680.31076881,-43673251.22328024,-52124812.66871493,-55204673.43426266,40229689.359434,45224174.23165677,19528785.714999594,12435593.701326856,18957548.39116247,1245621.9818625196,-328176.07158806775,-2052749.618097294,-6456594.645082924,-19731846.91623629,28403489.267468058,19475795.141895924,30626072.75989675,-6257041.935391417,-9053651.73100713,329675.75023171684,12161868.326085925,10115616.189999292,5522323.7167010605,-35733.139301930154,-22419151.1114367,-20578208.904927492,-19093695.22949138,-18447879.15282712,-16754303.343854113,-24662972.884471275,-25141151.997017074,-24356105.32364945,-33106262.64665109,-31196958.25277632,-20405327.389986362,-17018826.00740979,-25966873.330442183,3790964.9093180024,1848050.5854623055,14999269.895990988,18759552.42857979,19147341.05132128,1517628.6336579653,-5310380.60748345,7455617.704700313,-3656573.9193038926,8021198.598323189,-13916197.624141634,-17906599.421270587,5582605.828497625,-27753387.684554707,-37851646.009956576,-39098562.67253115,-38425131.91633183,13546770.026971359,-4486670.6311462335,-5061255.717669983,1476493.4749710904,5897092.142118442,-26131573.808783833,-31569228.742167085,-28754094.346799973,-31863169.995645985,-10603950.436666654,-62235478.8056315,-58826807.84749301,-56900348.68930269,-64249593.86908969,-72603321.55179237,10497143.326295795,9809867.907708606,-15722500.4991315,-853619.8776825869,8978577.144792983,49214923.53710436,19698144.068693917,23124043.05067591,23816518.78834755,41780714.62993626,-7149092.115427878,-50175985.44147292,-10816646.331938108,-51584316.94905166,-50468955.75202899,25836391.398440193,23675283.001623545,10897508.438928194,29378819.263083577,18904806.690137472,-54851036.53750174,-56104245.94093212,-60144192.00953083,-63420567.2762283,-42209187.73710654,17422340.99205322,14170367.82367987,7705314.298221799,34214143.24925133,33813856.138428286,24675959.30470328,37138456.61753614,42044370.317429826,3597046.189697609,37018231.863418564,10534220.059480801,15171592.854039308,22644027.620260756,6671189.626518502,40809594.54381084,44171835.2609168,39124511.19638059,45928311.412056826,61238637.174235016,68910139.58561347,28549464.279977795,9215239.17536344,32135620.051805034,33789618.40394295,35729414.10374766,13731324.40871493,4625405.0856060665,36200702.425108746,14858907.991485704,24011786.58545601,18136031.484723948,21245227.881964233,16697399.33879899,27309575.756456412,32370791.30968606],\"z\":[27272767.719433796,-4786861.644301163,12144005.442160798,5965048.652075205,8447610.878740951,-5077879.205151418,5621887.548939047,11668189.132393468,8887340.591078894,18067230.764787868,20496078.056915075,11083391.735407593,19053283.909946494,19616421.617125493,20174974.12942422,5315088.354936178,-13072211.632935897,-17782236.163989097,-17749213.556980703,-11884832.970018819,-27457620.305223957,-30829630.042968974,-26999565.729022205,-27023337.047641877,-16430028.032671124,-11310277.30333857,-8444907.03496646,-8562524.730461435,-11766303.559638089,-18907172.7477677,22057975.749753635,-14992560.261490073,23081002.18398114,22346585.53479832,-13962244.720233122,31481300.42498025,29229822.007420525,23675355.956632636,17046119.95520461,19010799.58150702,22208342.753317736,23527329.412904434,12829466.951340636,11660397.359230457,24907375.376561023,-3490847.815556045,-11178626.313934721,-21829440.789920464,-11230523.527645048,-14231917.716418391,17844005.18194035,13498353.87182649,11992510.75721234,22376915.420780137,23788970.364340942,23477841.957540452,24058980.31594463,20255248.74713562,23487544.054367177,22079310.734683074,5566992.250443746,3934127.3910783227,8584574.82281749,11228095.182290684,21915189.58771702,-5076378.890664447,-11190804.899118928,-14697472.257501122,-4183848.6738160863,-3017643.917364761,3950015.9172087586,-1198863.7161717054,3735532.8165855105,2241111.371812644,3089371.210157031,-4406165.484344835,6219698.222898809,-8773470.711478902,-16807907.261692002,-7391383.430720622,32746220.570224065,32770567.106248524,25961931.59947429,33015771.83450853,24101004.238702767,-15555700.439725861,-11762723.41403371,-10281802.832023319,-26503352.773786914,-27495797.01882761,-19132237.75801228,-24748124.226775374,-15698534.612122612,-22358654.724237796,-22235136.227537554,16015100.856264737,19023998.539310466,20233991.618333653,19312863.958577756,20319281.542468324,-19856313.607885696,16319905.237705287,-22808642.14373439,3368311.8278666423,12365210.281294582,-10615548.0122939,-11083540.204513412,-10576761.990565034,-548152.1759102575,-2076804.5889421182,-7408431.171368981,-6195724.179360353,-3079049.042425122,-14721782.519566925,-19615903.816501737,3156948.4523405903,-888698.0322008221,-2604703.5388995903,-1944614.025527811,-9428734.338188775,-8682540.82105061,9669218.225029033,6498665.6618442675,3761663.066890767,818092.4869544536,11841245.87073709,5816930.924315781,2345517.913902937,8918789.759486241,12497790.024511822,-5343293.459488297,-6603582.513899762,-6890057.070126164,-8902551.119608063,10346420.461126084,-1048263.7536431362,295880.2455565034,329100.7149748372,-3121854.7329233033,-11025628.754962036,-29620846.53875677,-21265383.664725475,-14739710.705386816,-23039704.58052757,-7524339.958069449,24156814.241655447,18789850.747928932,26237024.013934623,28873317.150280442,20066145.050472926,-21131956.530290537,-3626279.3115267963,-23319075.25812188,-6385299.685994687,-2726400.6542352256,-9868485.161024272,-7909137.502163228,-13786854.926028356,1860196.4260054051,-8248577.426208248,-9496744.787035331,-7744152.445238861,-9862001.094627306,-7160680.4355102,-11869201.040717332,-6703101.4960836405,2634729.797360157,-6428191.786594804,7928758.832013239,11613764.540677207,-22614947.780597985,-10311672.466685431,-11465741.269538509,-36255943.09027019,-14830997.26393731,-32857411.062768415,-27693819.781988796,-25275144.562497776,-33420814.929086126,-16501177.854514208,-18408385.35660482,-20475249.99478061,-17268022.443831332,-9369988.276283221,-10001876.32187778,22139232.29561686,21064771.167483784,23379124.79957002,13247156.574543878,19992667.412561353,8885355.677309915,7845041.687672129,20949706.212011162,6857485.680713185,18889370.41922007,-7636087.116499644,-10832591.086941134,-6433821.5928082885,-3926648.388480314,-2836110.3407647074],\"type\":\"scatter3d\"}],                        {\"template\":{\"data\":{\"histogram2dcontour\":[{\"type\":\"histogram2dcontour\",\"colorbar\":{\"outlinewidth\":0,\"ticks\":\"\"},\"colorscale\":[[0.0,\"#0d0887\"],[0.1111111111111111,\"#46039f\"],[0.2222222222222222,\"#7201a8\"],[0.3333333333333333,\"#9c179e\"],[0.4444444444444444,\"#bd3786\"],[0.5555555555555556,\"#d8576b\"],[0.6666666666666666,\"#ed7953\"],[0.7777777777777778,\"#fb9f3a\"],[0.8888888888888888,\"#fdca26\"],[1.0,\"#f0f921\"]]}],\"choropleth\":[{\"type\":\"choropleth\",\"colorbar\":{\"outlinewidth\":0,\"ticks\":\"\"}}],\"histogram2d\":[{\"type\":\"histogram2d\",\"colorbar\":{\"outlinewidth\":0,\"ticks\":\"\"},\"colorscale\":[[0.0,\"#0d0887\"],[0.1111111111111111,\"#46039f\"],[0.2222222222222222,\"#7201a8\"],[0.3333333333333333,\"#9c179e\"],[0.4444444444444444,\"#bd3786\"],[0.5555555555555556,\"#d8576b\"],[0.6666666666666666,\"#ed7953\"],[0.7777777777777778,\"#fb9f3a\"],[0.8888888888888888,\"#fdca26\"],[1.0,\"#f0f921\"]]}],\"heatmap\":[{\"type\":\"heatmap\",\"colorbar\":{\"outlinewidth\":0,\"ticks\":\"\"},\"colorscale\":[[0.0,\"#0d0887\"],[0.1111111111111111,\"#46039f\"],[0.2222222222222222,\"#7201a8\"],[0.3333333333333333,\"#9c179e\"],[0.4444444444444444,\"#bd3786\"],[0.5555555555555556,\"#d8576b\"],[0.6666666666666666,\"#ed7953\"],[0.7777777777777778,\"#fb9f3a\"],[0.8888888888888888,\"#fdca26\"],[1.0,\"#f0f921\"]]}],\"heatmapgl\":[{\"type\":\"heatmapgl\",\"colorbar\":{\"outlinewidth\":0,\"ticks\":\"\"},\"colorscale\":[[0.0,\"#0d0887\"],[0.1111111111111111,\"#46039f\"],[0.2222222222222222,\"#7201a8\"],[0.3333333333333333,\"#9c179e\"],[0.4444444444444444,\"#bd3786\"],[0.5555555555555556,\"#d8576b\"],[0.6666666666666666,\"#ed7953\"],[0.7777777777777778,\"#fb9f3a\"],[0.8888888888888888,\"#fdca26\"],[1.0,\"#f0f921\"]]}],\"contourcarpet\":[{\"type\":\"contourcarpet\",\"colorbar\":{\"outlinewidth\":0,\"ticks\":\"\"}}],\"contour\":[{\"type\":\"contour\",\"colorbar\":{\"outlinewidth\":0,\"ticks\":\"\"},\"colorscale\":[[0.0,\"#0d0887\"],[0.1111111111111111,\"#46039f\"],[0.2222222222222222,\"#7201a8\"],[0.3333333333333333,\"#9c179e\"],[0.4444444444444444,\"#bd3786\"],[0.5555555555555556,\"#d8576b\"],[0.6666666666666666,\"#ed7953\"],[0.7777777777777778,\"#fb9f3a\"],[0.8888888888888888,\"#fdca26\"],[1.0,\"#f0f921\"]]}],\"surface\":[{\"type\":\"surface\",\"colorbar\":{\"outlinewidth\":0,\"ticks\":\"\"},\"colorscale\":[[0.0,\"#0d0887\"],[0.1111111111111111,\"#46039f\"],[0.2222222222222222,\"#7201a8\"],[0.3333333333333333,\"#9c179e\"],[0.4444444444444444,\"#bd3786\"],[0.5555555555555556,\"#d8576b\"],[0.6666666666666666,\"#ed7953\"],[0.7777777777777778,\"#fb9f3a\"],[0.8888888888888888,\"#fdca26\"],[1.0,\"#f0f921\"]]}],\"mesh3d\":[{\"type\":\"mesh3d\",\"colorbar\":{\"outlinewidth\":0,\"ticks\":\"\"}}],\"scatter\":[{\"fillpattern\":{\"fillmode\":\"overlay\",\"size\":10,\"solidity\":0.2},\"type\":\"scatter\"}],\"parcoords\":[{\"type\":\"parcoords\",\"line\":{\"colorbar\":{\"outlinewidth\":0,\"ticks\":\"\"}}}],\"scatterpolargl\":[{\"type\":\"scatterpolargl\",\"marker\":{\"colorbar\":{\"outlinewidth\":0,\"ticks\":\"\"}}}],\"bar\":[{\"error_x\":{\"color\":\"#2a3f5f\"},\"error_y\":{\"color\":\"#2a3f5f\"},\"marker\":{\"line\":{\"color\":\"#E5ECF6\",\"width\":0.5},\"pattern\":{\"fillmode\":\"overlay\",\"size\":10,\"solidity\":0.2}},\"type\":\"bar\"}],\"scattergeo\":[{\"type\":\"scattergeo\",\"marker\":{\"colorbar\":{\"outlinewidth\":0,\"ticks\":\"\"}}}],\"scatterpolar\":[{\"type\":\"scatterpolar\",\"marker\":{\"colorbar\":{\"outlinewidth\":0,\"ticks\":\"\"}}}],\"histogram\":[{\"marker\":{\"pattern\":{\"fillmode\":\"overlay\",\"size\":10,\"solidity\":0.2}},\"type\":\"histogram\"}],\"scattergl\":[{\"type\":\"scattergl\",\"marker\":{\"colorbar\":{\"outlinewidth\":0,\"ticks\":\"\"}}}],\"scatter3d\":[{\"type\":\"scatter3d\",\"line\":{\"colorbar\":{\"outlinewidth\":0,\"ticks\":\"\"}},\"marker\":{\"colorbar\":{\"outlinewidth\":0,\"ticks\":\"\"}}}],\"scattermapbox\":[{\"type\":\"scattermapbox\",\"marker\":{\"colorbar\":{\"outlinewidth\":0,\"ticks\":\"\"}}}],\"scatterternary\":[{\"type\":\"scatterternary\",\"marker\":{\"colorbar\":{\"outlinewidth\":0,\"ticks\":\"\"}}}],\"scattercarpet\":[{\"type\":\"scattercarpet\",\"marker\":{\"colorbar\":{\"outlinewidth\":0,\"ticks\":\"\"}}}],\"carpet\":[{\"aaxis\":{\"endlinecolor\":\"#2a3f5f\",\"gridcolor\":\"white\",\"linecolor\":\"white\",\"minorgridcolor\":\"white\",\"startlinecolor\":\"#2a3f5f\"},\"baxis\":{\"endlinecolor\":\"#2a3f5f\",\"gridcolor\":\"white\",\"linecolor\":\"white\",\"minorgridcolor\":\"white\",\"startlinecolor\":\"#2a3f5f\"},\"type\":\"carpet\"}],\"table\":[{\"cells\":{\"fill\":{\"color\":\"#EBF0F8\"},\"line\":{\"color\":\"white\"}},\"header\":{\"fill\":{\"color\":\"#C8D4E3\"},\"line\":{\"color\":\"white\"}},\"type\":\"table\"}],\"barpolar\":[{\"marker\":{\"line\":{\"color\":\"#E5ECF6\",\"width\":0.5},\"pattern\":{\"fillmode\":\"overlay\",\"size\":10,\"solidity\":0.2}},\"type\":\"barpolar\"}],\"pie\":[{\"automargin\":true,\"type\":\"pie\"}]},\"layout\":{\"autotypenumbers\":\"strict\",\"colorway\":[\"#636efa\",\"#EF553B\",\"#00cc96\",\"#ab63fa\",\"#FFA15A\",\"#19d3f3\",\"#FF6692\",\"#B6E880\",\"#FF97FF\",\"#FECB52\"],\"font\":{\"color\":\"#2a3f5f\"},\"hovermode\":\"closest\",\"hoverlabel\":{\"align\":\"left\"},\"paper_bgcolor\":\"white\",\"plot_bgcolor\":\"#E5ECF6\",\"polar\":{\"bgcolor\":\"#E5ECF6\",\"angularaxis\":{\"gridcolor\":\"white\",\"linecolor\":\"white\",\"ticks\":\"\"},\"radialaxis\":{\"gridcolor\":\"white\",\"linecolor\":\"white\",\"ticks\":\"\"}},\"ternary\":{\"bgcolor\":\"#E5ECF6\",\"aaxis\":{\"gridcolor\":\"white\",\"linecolor\":\"white\",\"ticks\":\"\"},\"baxis\":{\"gridcolor\":\"white\",\"linecolor\":\"white\",\"ticks\":\"\"},\"caxis\":{\"gridcolor\":\"white\",\"linecolor\":\"white\",\"ticks\":\"\"}},\"coloraxis\":{\"colorbar\":{\"outlinewidth\":0,\"ticks\":\"\"}},\"colorscale\":{\"sequential\":[[0.0,\"#0d0887\"],[0.1111111111111111,\"#46039f\"],[0.2222222222222222,\"#7201a8\"],[0.3333333333333333,\"#9c179e\"],[0.4444444444444444,\"#bd3786\"],[0.5555555555555556,\"#d8576b\"],[0.6666666666666666,\"#ed7953\"],[0.7777777777777778,\"#fb9f3a\"],[0.8888888888888888,\"#fdca26\"],[1.0,\"#f0f921\"]],\"sequentialminus\":[[0.0,\"#0d0887\"],[0.1111111111111111,\"#46039f\"],[0.2222222222222222,\"#7201a8\"],[0.3333333333333333,\"#9c179e\"],[0.4444444444444444,\"#bd3786\"],[0.5555555555555556,\"#d8576b\"],[0.6666666666666666,\"#ed7953\"],[0.7777777777777778,\"#fb9f3a\"],[0.8888888888888888,\"#fdca26\"],[1.0,\"#f0f921\"]],\"diverging\":[[0,\"#8e0152\"],[0.1,\"#c51b7d\"],[0.2,\"#de77ae\"],[0.3,\"#f1b6da\"],[0.4,\"#fde0ef\"],[0.5,\"#f7f7f7\"],[0.6,\"#e6f5d0\"],[0.7,\"#b8e186\"],[0.8,\"#7fbc41\"],[0.9,\"#4d9221\"],[1,\"#276419\"]]},\"xaxis\":{\"gridcolor\":\"white\",\"linecolor\":\"white\",\"ticks\":\"\",\"title\":{\"standoff\":15},\"zerolinecolor\":\"white\",\"automargin\":true,\"zerolinewidth\":2},\"yaxis\":{\"gridcolor\":\"white\",\"linecolor\":\"white\",\"ticks\":\"\",\"title\":{\"standoff\":15},\"zerolinecolor\":\"white\",\"automargin\":true,\"zerolinewidth\":2},\"scene\":{\"xaxis\":{\"backgroundcolor\":\"#E5ECF6\",\"gridcolor\":\"white\",\"linecolor\":\"white\",\"showbackground\":true,\"ticks\":\"\",\"zerolinecolor\":\"white\",\"gridwidth\":2},\"yaxis\":{\"backgroundcolor\":\"#E5ECF6\",\"gridcolor\":\"white\",\"linecolor\":\"white\",\"showbackground\":true,\"ticks\":\"\",\"zerolinecolor\":\"white\",\"gridwidth\":2},\"zaxis\":{\"backgroundcolor\":\"#E5ECF6\",\"gridcolor\":\"white\",\"linecolor\":\"white\",\"showbackground\":true,\"ticks\":\"\",\"zerolinecolor\":\"white\",\"gridwidth\":2}},\"shapedefaults\":{\"line\":{\"color\":\"#2a3f5f\"}},\"annotationdefaults\":{\"arrowcolor\":\"#2a3f5f\",\"arrowhead\":0,\"arrowwidth\":1},\"geo\":{\"bgcolor\":\"white\",\"landcolor\":\"#E5ECF6\",\"subunitcolor\":\"white\",\"showland\":true,\"showlakes\":true,\"lakecolor\":\"white\"},\"title\":{\"x\":0.05},\"mapbox\":{\"style\":\"light\"}}},\"scene\":{\"domain\":{\"x\":[0.0,1.0],\"y\":[0.0,1.0]},\"xaxis\":{\"title\":{\"text\":\"PC 1\"}},\"yaxis\":{\"title\":{\"text\":\"PC 2\"}},\"zaxis\":{\"title\":{\"text\":\"PC 3\"}}},\"coloraxis\":{\"colorbar\":{\"title\":{\"text\":\"color\"}},\"colorscale\":[[0.0,\"#0d0887\"],[0.1111111111111111,\"#46039f\"],[0.2222222222222222,\"#7201a8\"],[0.3333333333333333,\"#9c179e\"],[0.4444444444444444,\"#bd3786\"],[0.5555555555555556,\"#d8576b\"],[0.6666666666666666,\"#ed7953\"],[0.7777777777777778,\"#fb9f3a\"],[0.8888888888888888,\"#fdca26\"],[1.0,\"#f0f921\"]]},\"legend\":{\"tracegroupgap\":0},\"margin\":{\"t\":60}},                        {\"responsive\": true}                    ).then(function(){\n",
              "                            \n",
              "var gd = document.getElementById('d4e5b301-fcf9-48cc-851d-d8addfebbb11');\n",
              "var x = new MutationObserver(function (mutations, observer) {{\n",
              "        var display = window.getComputedStyle(gd).display;\n",
              "        if (!display || display === 'none') {{\n",
              "            console.log([gd, 'removed!']);\n",
              "            Plotly.purge(gd);\n",
              "            observer.disconnect();\n",
              "        }}\n",
              "}});\n",
              "\n",
              "// Listen for the removal of the full notebook cells\n",
              "var notebookContainer = gd.closest('#notebook-container');\n",
              "if (notebookContainer) {{\n",
              "    x.observe(notebookContainer, {childList: true});\n",
              "}}\n",
              "\n",
              "// Listen for the clearing of the current output cell\n",
              "var outputEl = gd.closest('.output');\n",
              "if (outputEl) {{\n",
              "    x.observe(outputEl, {childList: true});\n",
              "}}\n",
              "\n",
              "                        })                };                            </script>        </div>\n",
              "</body>\n",
              "</html>"
            ]
          },
          "metadata": {}
        }
      ]
    },
    {
      "cell_type": "code",
      "source": [
        "kpca_train_linear, kpca_train_linear_eigenvectors = my_kpca(train_x, 110, 'linear')\n",
        "print(kpca_train_linear)"
      ],
      "metadata": {
        "colab": {
          "base_uri": "https://localhost:8080/"
        },
        "id": "gSaAiXK2_ZlX",
        "outputId": "7e4efd24-b5e0-4ee4-f6f3-3693e275b0fc"
      },
      "id": "gSaAiXK2_ZlX",
      "execution_count": null,
      "outputs": [
        {
          "output_type": "stream",
          "name": "stdout",
          "text": [
            "[[-3.37018759e+07  2.84850920e+07  2.72727677e+07 ... -2.66435334e+05\n",
            "  -1.84138146e+05  3.97982695e+05]\n",
            " [-7.18290167e+07  2.29307957e+07 -4.78686164e+06 ... -5.03219641e+04\n",
            "  -4.31873285e+05  9.81972200e+04]\n",
            " [-6.36300650e+07  1.63293519e+07  1.21440054e+07 ...  1.44390047e+05\n",
            "   5.94174839e+05  2.62396603e+05]\n",
            " ...\n",
            " [ 3.19705943e+07  1.66973993e+07 -6.43382159e+06 ... -1.60989972e+05\n",
            "   5.70624619e+04 -6.57359329e+04]\n",
            " [ 2.71283753e+07  2.73095758e+07 -3.92664839e+06 ...  2.29121053e+05\n",
            "   2.49820039e+05  5.25329035e+04]\n",
            " [ 3.52738280e+07  3.23707913e+07 -2.83611034e+06 ... -5.88752110e+04\n",
            "   1.75768148e+04 -2.51727512e+05]]\n"
          ]
        }
      ]
    },
    {
      "cell_type": "markdown",
      "source": [
        "### c. Apply KPCA to the Train dataset using sklearn."
      ],
      "metadata": {
        "id": "PdFyRARLFzaD"
      },
      "id": "PdFyRARLFzaD"
    },
    {
      "cell_type": "code",
      "source": [
        "# Create a KernelPCA object with the desired kernel and number of components\n",
        "kpca = KernelPCA(kernel='linear', n_components=3)\n",
        "\n",
        "# Fit and transform the data using scikit-learn\n",
        "data_kpca_sklearn = kpca.fit_transform(train_x)\n",
        "\n",
        "print(\"Kernel PCA with Scikit-Learn:\")\n",
        "print(data_kpca_sklearn)"
      ],
      "metadata": {
        "id": "qRb2OcjIU7I-",
        "colab": {
          "base_uri": "https://localhost:8080/"
        },
        "outputId": "fd0db9e7-949e-4fda-b063-0a4cb69f9456"
      },
      "id": "qRb2OcjIU7I-",
      "execution_count": null,
      "outputs": [
        {
          "output_type": "stream",
          "name": "stdout",
          "text": [
            "Kernel PCA with Scikit-Learn:\n",
            "[[ 1.36240472e+03 -1.41001500e+03 -1.78687541e+03]\n",
            " [ 2.90370161e+03 -1.13507676e+03  3.13628798e+02]\n",
            " [ 2.57225743e+03 -8.08304607e+02 -7.95659059e+02]\n",
            " [ 3.09043133e+03 -1.40629798e+03 -3.90822041e+02]\n",
            " [ 3.54602885e+03 -1.23685556e+03 -5.53476211e+02]\n",
            " [-2.85401407e+03 -8.31535772e+02  3.32695881e+02]\n",
            " [-2.69462883e+03 -1.32328466e+03 -3.68338583e+02]\n",
            " [-2.54383563e+03 -1.50251605e+03 -7.64484208e+02]\n",
            " [-2.30322993e+03 -1.42158410e+03 -5.82286716e+02]\n",
            " [-1.79163694e+03 -2.26330685e+03 -1.18374089e+03]\n",
            " [-1.01425781e+03  5.12050035e+02 -1.34287573e+03]\n",
            " [-6.75087808e+02  9.52497841e+02 -7.26169061e+02]\n",
            " [-2.26694958e+02  7.68756951e+02 -1.24834578e+03]\n",
            " [ 9.34339480e+02  1.37707163e+03 -1.28524181e+03]\n",
            " [ 7.82034589e+02  1.25163216e+03 -1.32183743e+03]\n",
            " [ 2.05191717e+03 -1.64077692e+03 -3.48237508e+02]\n",
            " [ 1.18553138e+03 -7.34245165e+02  8.56473892e+02]\n",
            " [ 1.34162227e+03 -3.35957352e+02  1.16506842e+03]\n",
            " [ 9.15988115e+02 -4.99259605e+02  1.16290483e+03]\n",
            " [ 8.47028206e+02 -9.21088308e+02  7.78678424e+02]\n",
            " [ 2.38290382e+03  4.37711418e+01  1.79898670e+03]\n",
            " [ 2.37827986e+03  1.53042087e+02  2.01991629e+03]\n",
            " [ 2.61424765e+03 -1.68000686e+02  1.76897558e+03]\n",
            " [ 2.40530814e+03 -5.17909626e+01  1.77053304e+03]\n",
            " [ 2.37122854e+03 -7.06428974e+02  1.07647355e+03]\n",
            " [ 2.09934209e+03  2.78058856e+03  7.41034302e+02]\n",
            " [ 1.93015730e+03  2.68395248e+03  5.53299059e+02]\n",
            " [ 2.03940206e+03  2.67401334e+03  5.61005214e+02]\n",
            " [ 1.91967713e+03  2.73226135e+03  7.70912534e+02]\n",
            " [ 1.79999237e+03  3.15054087e+03  1.23877277e+03]\n",
            " [ 2.24429494e+02  6.60640105e+02 -1.44520919e+03]\n",
            " [-5.83217505e+02 -3.90629051e+02  9.82292576e+02]\n",
            " [ 9.53681771e+01  7.02995798e+02 -1.51223652e+03]\n",
            " [-1.71360991e+02  6.01833782e+02 -1.46411851e+03]\n",
            " [-5.67083590e+02 -1.00195367e+02  9.14787674e+02]\n",
            " [ 6.04219667e+02  1.47854720e+03 -2.06261287e+03]\n",
            " [ 7.40211400e+02 -6.38705487e+02 -1.91509900e+03]\n",
            " [ 1.11777023e+03 -5.78827367e+02 -1.55117778e+03]\n",
            " [ 3.77148610e+03 -1.02657688e+02 -1.11683907e+03]\n",
            " [ 3.51209419e+03 -1.26479194e+02 -1.24556226e+03]\n",
            " [ 9.19023867e+02 -5.26373754e+02 -1.45506103e+03]\n",
            " [ 2.77444753e+02 -1.25401422e+03 -1.54147928e+03]\n",
            " [-5.58306893e+02 -1.02432022e+03 -8.40569584e+02]\n",
            " [-8.75391020e+02 -1.06719877e+03 -7.63973701e+02]\n",
            " [ 6.58039925e+02 -8.52769588e+02 -1.63189805e+03]\n",
            " [ 2.02548842e+03 -2.05681235e+03  2.28715698e+02]\n",
            " [ 1.87423280e+03 -1.68873791e+03  7.32408704e+02]\n",
            " [ 2.00868159e+03 -1.35677020e+03  1.43023588e+03]\n",
            " [ 2.13518598e+03 -1.28130687e+03  7.35808941e+02]\n",
            " [ 1.89637538e+03 -1.57576927e+03  9.32456289e+02]\n",
            " [ 2.22544840e+03  1.05897932e+03 -1.16911545e+03]\n",
            " [ 2.46364040e+03  1.18859308e+03 -8.84394164e+02]\n",
            " [ 2.95290186e+03  1.28403544e+03 -7.85733329e+02]\n",
            " [ 2.62725319e+03  8.62270731e+02 -1.46610569e+03]\n",
            " [ 2.60532341e+03  8.52404704e+02 -1.55862165e+03]\n",
            " [ 9.19328073e+02  4.60540346e+02 -1.53823693e+03]\n",
            " [ 7.70338118e+02  3.43786173e+02 -1.57631234e+03]\n",
            " [ 1.04306674e+03  4.80620054e+02 -1.32709691e+03]\n",
            " [ 7.41507979e+02  5.03767587e+02 -1.53887260e+03]\n",
            " [ 9.16754411e+02  2.79851838e+02 -1.44660703e+03]\n",
            " [-2.78621701e+03 -3.21091739e+02 -3.64741916e+02]\n",
            " [-2.92392436e+03 -3.44893220e+02 -2.57758786e+02]\n",
            " [-2.59437830e+03 -4.25463078e+01 -5.62449906e+02]\n",
            " [-2.03636727e+03 -1.87080305e+02 -7.35649839e+02]\n",
            " [-8.98544997e+02 -1.22343571e+03 -1.43585403e+03]\n",
            " [-2.13411591e+03  7.16445080e+01  3.32597582e+02]\n",
            " [-2.28990028e+03  5.34139744e+02  7.33206629e+02]\n",
            " [-2.45114446e+03  6.26406931e+02  9.62958803e+02]\n",
            " [-1.73478828e+03 -4.62393018e+02  2.74120191e+02]\n",
            " [-1.90762851e+03 -6.77335632e+02  1.97712009e+02]\n",
            " [-1.68561910e+03  2.53683205e+03 -2.58799781e+02]\n",
            " [-1.31614470e+03  2.80480854e+03  7.85479536e+01]\n",
            " [-1.80061187e+03  2.16183046e+03 -2.44747134e+02]\n",
            " [-1.50877367e+03  2.58018362e+03 -1.46834632e+02]\n",
            " [-1.02096955e+03  2.73263705e+03 -2.02411486e+02]\n",
            " [-1.57278335e+03 -1.99137379e+03  2.88686093e+02]\n",
            " [-1.54381132e+03 -2.23860131e+03 -4.07506342e+02]\n",
            " [-2.12568887e+03 -9.66676914e+02  5.74826113e+02]\n",
            " [-1.81910088e+03 -6.15563175e+02  1.10123169e+03]\n",
            " [-2.16279887e+03 -9.38400608e+02  4.84273596e+02]\n",
            " [-9.30971702e+02 -6.16584170e+01 -2.14548875e+03]\n",
            " [-9.77388100e+02  1.62447495e+01 -2.14708390e+03]\n",
            " [-1.46741415e+03  1.01611319e+02 -1.70099117e+03]\n",
            " [-5.39588335e+02  3.19602103e+02 -2.16314939e+03]\n",
            " [-7.49932843e+02  9.76728465e+02 -1.57906569e+03]\n",
            " [ 1.84356856e+02 -1.40597566e+03  1.01918877e+03]\n",
            " [ 5.61682706e+02 -9.64053876e+02  7.70677968e+02]\n",
            " [ 5.66359411e+02 -1.51599377e+03  6.73650024e+02]\n",
            " [ 1.03166323e+03  3.09724223e+02  1.73646437e+03]\n",
            " [ 1.26009468e+03  4.48156698e+02  1.80148799e+03]\n",
            " [ 1.78986048e+03 -1.63189838e+01  1.25351873e+03]\n",
            " [ 1.68804114e+03 -6.02013741e+02  1.62146413e+03]\n",
            " [ 1.70528814e+03 -5.00724048e+02  1.02854707e+03]\n",
            " [ 1.28935670e+03 -2.73355596e+02  1.46490927e+03]\n",
            " [ 1.12351038e+03  1.76879409e+00  1.45681650e+03]\n",
            " [ 2.06475432e+03  1.10975030e+03 -1.04928807e+03]\n",
            " [ 2.45990678e+03  1.01862347e+03 -1.24642704e+03]\n",
            " [ 2.41846616e+03  9.45139890e+02 -1.32570418e+03]\n",
            " [ 2.29601995e+03  9.13171928e+02 -1.26535312e+03]\n",
            " [ 2.06617324e+03  8.29339750e+02 -1.33129226e+03]\n",
            " [ 1.90530553e+03  1.22081971e+03  1.30095922e+03]\n",
            " [ 1.42146159e+03  1.24448963e+03 -1.06925845e+03]\n",
            " [ 1.51331319e+03  1.20562973e+03  1.49439185e+03]\n",
            " [ 1.22205540e+03  1.63876343e+03 -2.20687304e+02]\n",
            " [ 1.58308634e+03  1.54425266e+03 -8.10152105e+02]\n",
            " [-3.01175909e+03  1.01006582e+03  6.95516564e+02]\n",
            " [-3.03792495e+03  8.42433649e+02  7.26178789e+02]\n",
            " [-2.97115491e+03  1.28536292e+03  6.92975356e+02]\n",
            " [-2.58954202e+03 -1.87653155e+02  3.59142003e+01]\n",
            " [-2.04307749e+03 -9.14786953e+01  1.36069470e+02]\n",
            " [-7.84352156e+01 -7.42465412e+02  4.85390541e+02]\n",
            " [-1.93506024e+02 -9.28599787e+02  4.05935594e+02]\n",
            " [ 9.29969158e+01 -9.47795364e+02  2.01735191e+02]\n",
            " [ 8.43117728e+02 -7.51227745e+01  9.64551579e+02]\n",
            " [ 1.03094464e+03  2.62864390e+02  1.28520789e+03]\n",
            " [-2.37739978e+03 -3.69053848e+02 -2.06839057e+02]\n",
            " [-2.77342496e+03  1.81000788e+02  5.82263112e+01]\n",
            " [-2.78534744e+03 -3.97050161e+02  1.70656706e+02]\n",
            " [-2.79103969e+03  6.88853223e+02  1.27408520e+02]\n",
            " [-2.98589431e+03  8.86378525e+02  6.17758113e+02]\n",
            " [-2.19706196e+03 -2.76339566e+02  5.68868508e+02]\n",
            " [-6.20322340e+02  1.37379556e+03 -6.33514297e+02]\n",
            " [ 3.62294233e+02  1.87366040e+03 -4.25783917e+02]\n",
            " [ 3.43347401e+02  1.93538290e+03 -2.46459153e+02]\n",
            " [ 6.26660805e+02  1.90204801e+03 -5.36003299e+01]\n",
            " [ 2.21834310e+03 -6.70566519e+02 -7.75822655e+02]\n",
            " [ 2.61896232e+03  2.22090661e+02 -3.81117565e+02]\n",
            " [ 2.47557811e+03  2.50532682e+02 -1.53675209e+02]\n",
            " [ 2.47359078e+03 -7.30865798e+01 -5.84347224e+02]\n",
            " [ 1.82694078e+03 -2.91906671e+02 -8.18838553e+02]\n",
            " [-2.95574110e+03  1.29351561e+03  3.50085469e+02]\n",
            " [-3.09363924e+03  1.56268009e+03  4.32657929e+02]\n",
            " [-3.16898185e+03  1.42333065e+03  4.51427360e+02]\n",
            " [-3.06136750e+03  1.57723021e+03  5.83283290e+02]\n",
            " [-2.85906477e+03  5.24896644e+02 -6.77883685e+02]\n",
            " [-3.90489603e+02  3.08066264e+03  6.86808447e+01]\n",
            " [-3.32020108e+02  2.91193308e+03 -1.93856795e+01]\n",
            " [-1.96691966e+02  2.81657315e+03 -2.15622404e+01]\n",
            " [-1.93282274e+02  3.18036155e+03  2.04539763e+02]\n",
            " [ 1.48197953e+01  3.59387193e+03  7.22384508e+02]\n",
            " [-5.10502996e+02 -5.19609681e+02  1.94071841e+03]\n",
            " [ 4.69712333e+01 -4.85589477e+02  1.39327961e+03]\n",
            " [ 6.04227770e+02  7.78265402e+02  9.65726210e+02]\n",
            " [-1.05034653e+02  4.22542723e+01  1.50953075e+03]\n",
            " [ 1.65524897e+03 -4.44440498e+02  4.92984730e+02]\n",
            " [ 4.22371702e+02 -2.43614381e+03 -1.58272229e+03]\n",
            " [-1.53850737e+03 -9.75060170e+02 -1.23108599e+03]\n",
            " [-1.31657821e+03 -1.14464252e+03 -1.71901486e+03]\n",
            " [-1.34877528e+03 -1.17892015e+03 -1.89174128e+03]\n",
            " [ 3.65606223e+02 -2.06814970e+03 -1.31470709e+03]\n",
            " [ 1.61961216e+03  3.53880800e+02  1.38453764e+03]\n",
            " [ 1.57641577e+03  2.48371647e+03  2.37588990e+02]\n",
            " [ 1.75395831e+03  5.35425113e+02  1.52783475e+03]\n",
            " [ 1.73537731e+03  2.55342903e+03  4.18356329e+02]\n",
            " [ 1.16436789e+03  2.49821853e+03  1.78630139e+02]\n",
            " [-1.90664245e+03 -1.27890405e+03  6.46570001e+02]\n",
            " [-1.95968980e+03 -1.17192896e+03  5.18196153e+02]\n",
            " [-1.72051129e+03 -5.39427796e+02  9.03296368e+02]\n",
            " [-1.32064639e+03 -1.45425459e+03 -1.21877592e+02]\n",
            " [-1.97994202e+03 -9.35789888e+02  5.40435804e+02]\n",
            " [-2.21644894e+03  2.71513199e+03  6.22214067e+02]\n",
            " [-2.53099975e+03  2.77716598e+03  5.07386552e+02]\n",
            " [-3.02600335e+03  2.97714373e+03  6.46145174e+02]\n",
            " [-2.76083648e+03  3.13932465e+03  4.69158243e+02]\n",
            " [-2.64808870e+03  2.08935916e+03  7.77654240e+02]\n",
            " [-3.29636406e+02 -8.62407683e+02  4.39178280e+02]\n",
            " [-1.37173526e+02 -7.01434674e+02 -1.72623986e+02]\n",
            " [ 8.73322062e+01 -3.81413855e+02  4.21166562e+02]\n",
            " [ 1.40037128e+02 -1.69360363e+03 -5.19481716e+02]\n",
            " [ 2.36681539e+02 -1.67378938e+03 -7.60918381e+02]\n",
            " [ 4.91987591e+02 -1.22146254e+03  1.48170125e+03]\n",
            " [ 7.33616566e+02 -1.83835745e+03  6.75607043e+02]\n",
            " [ 6.54155719e+02 -2.08120068e+03  7.51220094e+02]\n",
            " [ 4.45152236e+02 -1.78054159e+02  2.37544109e+03]\n",
            " [ 8.82509726e+02 -1.83240631e+03  9.71707183e+02]\n",
            " [ 1.01624044e+03 -5.21444983e+02  2.15277380e+03]\n",
            " [ 1.06688804e+03 -7.50995417e+02  1.81446218e+03]\n",
            " [ 8.75511754e+02 -1.12088171e+03  1.65599380e+03]\n",
            " [ 9.24731855e+02 -3.30224577e+02  2.18968727e+03]\n",
            " [ 1.46211908e+03 -2.02007915e+03  1.08113519e+03]\n",
            " [-1.14714472e+03 -2.18651042e+03  1.20609289e+03]\n",
            " [-1.16979305e+03 -1.93666735e+03  1.34151110e+03]\n",
            " [-1.04213785e+03 -2.27345617e+03  1.13137783e+03]\n",
            " [-5.50730932e+02 -3.03131888e+03  6.13909149e+02]\n",
            " [-4.88129069e+02 -3.41105904e+03  6.55309612e+02]\n",
            " [-9.48713644e+02 -1.41320144e+03 -1.45053301e+03]\n",
            " [-9.60735495e+02 -4.56155293e+02 -1.38013574e+03]\n",
            " [-7.63622313e+02 -1.59071652e+03 -1.53176911e+03]\n",
            " [-5.69504283e+02 -1.67258961e+03 -8.67936051e+02]\n",
            " [-4.17267064e+02 -1.76860970e+03 -1.30989294e+03]\n",
            " [-1.49498400e+02 -6.79701980e+02 -5.82156667e+02]\n",
            " [-1.19515025e+02 -2.28958031e+02 -5.13996680e+02]\n",
            " [ 3.08072771e+02 -1.79193852e+03 -1.37259684e+03]\n",
            " [ 1.33789474e+01 -7.35517484e+02 -4.49293326e+02]\n",
            " [ 9.37305469e+02 -1.18858592e+03 -1.23760639e+03]\n",
            " [-1.53213381e+03 -8.97735436e+02  5.00306255e+02]\n",
            " [-1.32316710e+03 -1.05164098e+03  7.09736937e+02]\n",
            " [-1.29241733e+03 -8.26522996e+02  4.21535420e+02]\n",
            " [-1.09666971e+03 -1.35182683e+03  2.57268771e+02]\n",
            " [-1.42595118e+03 -1.60235752e+03  1.85818171e+02]]\n"
          ]
        }
      ]
    },
    {
      "cell_type": "code",
      "source": [
        "fig = px.scatter_3d(\n",
        "      data_kpca_sklearn, x=0, y=1, z=2, color=train_y,\n",
        "      labels={'0': 'PC 1', '1': 'PC 2', '2': 'PC 3'}\n",
        "  )\n",
        "fig.show()"
      ],
      "metadata": {
        "colab": {
          "base_uri": "https://localhost:8080/",
          "height": 542
        },
        "id": "XLzTgInZCzvr",
        "outputId": "172aeee9-c2bf-4d1e-9da1-10cb7da7416f"
      },
      "id": "XLzTgInZCzvr",
      "execution_count": null,
      "outputs": [
        {
          "output_type": "display_data",
          "data": {
            "text/html": [
              "<html>\n",
              "<head><meta charset=\"utf-8\" /></head>\n",
              "<body>\n",
              "    <div>            <script src=\"https://cdnjs.cloudflare.com/ajax/libs/mathjax/2.7.5/MathJax.js?config=TeX-AMS-MML_SVG\"></script><script type=\"text/javascript\">if (window.MathJax && window.MathJax.Hub && window.MathJax.Hub.Config) {window.MathJax.Hub.Config({SVG: {font: \"STIX-Web\"}});}</script>                <script type=\"text/javascript\">window.PlotlyConfig = {MathJaxConfig: 'local'};</script>\n",
              "        <script charset=\"utf-8\" src=\"https://cdn.plot.ly/plotly-2.24.1.min.js\"></script>                <div id=\"20253b5c-3584-4c4f-a82a-a2127e7e3e48\" class=\"plotly-graph-div\" style=\"height:525px; width:100%;\"></div>            <script type=\"text/javascript\">                                    window.PLOTLYENV=window.PLOTLYENV || {};                                    if (document.getElementById(\"20253b5c-3584-4c4f-a82a-a2127e7e3e48\")) {                    Plotly.newPlot(                        \"20253b5c-3584-4c4f-a82a-a2127e7e3e48\",                        [{\"hovertemplate\":\"PC 1=%{x}\\u003cbr\\u003ePC 2=%{y}\\u003cbr\\u003ePC 3=%{z}\\u003cbr\\u003ecolor=%{marker.color}\\u003cextra\\u003e\\u003c\\u002fextra\\u003e\",\"legendgroup\":\"\",\"marker\":{\"color\":[1,1,1,1,1,2,2,2,2,2,3,3,3,3,3,4,4,4,4,4,5,5,5,5,5,6,6,6,6,6,7,7,7,7,7,8,8,8,8,8,9,9,9,9,9,10,10,10,10,10,11,11,11,11,11,12,12,12,12,12,13,13,13,13,13,14,14,14,14,14,15,15,15,15,15,16,16,16,16,16,17,17,17,17,17,18,18,18,18,18,19,19,19,19,19,20,20,20,20,20,21,21,21,21,21,22,22,22,22,22,23,23,23,23,23,24,24,24,24,24,25,25,25,25,25,26,26,26,26,26,27,27,27,27,27,28,28,28,28,28,29,29,29,29,29,30,30,30,30,30,31,31,31,31,31,32,32,32,32,32,33,33,33,33,33,34,34,34,34,34,35,35,35,35,35,36,36,36,36,36,37,37,37,37,37,38,38,38,38,38,39,39,39,39,39,40,40,40,40,40],\"coloraxis\":\"coloraxis\",\"symbol\":\"circle\"},\"mode\":\"markers\",\"name\":\"\",\"scene\":\"scene\",\"showlegend\":false,\"x\":[1362.4047190793915,2903.701611174837,2572.2574334508536,3090.431327898337,3546.028852564191,-2854.0140713889605,-2694.628831000932,-2543.8356341286835,-2303.2299279688464,-1791.636943785346,-1014.2578146649691,-675.0878077498295,-226.69495774107628,934.3394803419155,782.0345894259532,2051.9171716900514,1185.5313848950543,1341.6222736798115,915.9881148910856,847.0282059419835,2382.9038230513047,2378.2798582027403,2614.247651158018,2405.3081388355035,2371.2285446018823,2099.342088778287,1930.157297090622,2039.40205666151,1919.67712563942,1799.9923739474955,224.42949356227444,-583.2175051318015,95.36817709408365,-171.3609914155494,-567.0835901356627,604.2196673401239,740.2113996213094,1117.7702349075278,3771.4860974945545,3512.0941945446466,919.0238668874185,277.4447528187974,-558.3068929243793,-875.3910204243352,658.0399250532909,2025.4884184196749,1874.2327994832526,2008.6815932873008,2135.185975805684,1896.3753771626587,2225.4484042996473,2463.640400337169,2952.901861757072,2627.2531872152563,2605.323406778391,919.3280731353519,770.338117782344,1043.0667355215319,741.5079788010235,916.7544108763839,-2786.217011500326,-2923.924360743842,-2594.3783048768178,-2036.3672683797104,-898.5449969560609,-2134.115908430272,-2289.9002814837877,-2451.144457124835,-1734.7882794467332,-1907.6285128425461,-1685.6191038167813,-1316.1446995640058,-1800.6118691110319,-1508.7736733492486,-1020.9695532932806,-1572.7833523785628,-1543.8113180196933,-2125.6888668382503,-1819.1008757961429,-2162.7988723092485,-930.9717016755934,-977.3881003367494,-1467.4141547087877,-539.5883345608484,-749.9328428495073,184.35685639150168,561.6827061531603,566.3594111598472,1031.6632306931997,1260.0946826169136,1789.8604764096058,1688.0411434440737,1705.2881419049547,1289.3567029273354,1123.510378896719,2064.754316214531,2459.906777981051,2418.466160926401,2296.0199509634745,2066.1732357853584,1905.3055321797765,1421.4615868569008,1513.3131870137145,1222.0554033398064,1583.086338535842,-3011.7590924466313,-3037.9249498843683,-2971.1549141116507,-2589.542017111377,-2043.0774851778774,-78.43521558047799,-193.50602430632313,92.99691583854339,843.1177275108397,1030.9446372244943,-2377.3997808784247,-2773.424963301476,-2785.347440586396,-2791.039691673765,-2985.894313356771,-2197.0619576975464,-620.3223404821982,362.29423267177225,343.34740077168624,626.6608051970488,2218.343097850372,2618.96232109097,2475.578113420174,2473.5907842765664,1826.9407793759458,-2955.7411020483632,-3093.6392370481876,-3168.981851839832,-3061.367501782528,-2859.0647747866415,-390.48960338536875,-332.0201075136835,-196.69196580862294,-193.28227421850633,14.819795281400628,-510.5029957555466,46.97123333398897,604.2277695400161,-105.03465292479177,1655.248966980107,422.37170190511364,-1538.5073720663484,-1316.5782138973764,-1348.7752848400203,365.6062232351631,1619.612155314004,1576.4157651476835,1753.9583088456277,1735.377308901828,1164.367886057933,-1906.642445544296,-1959.6897956350758,-1720.5112938243053,-1320.6463871826716,-1979.9420151637576,-2216.448935898856,-2530.99975487565,-3026.0033514565084,-2760.836480768537,-2648.088702212609,-329.63640590349837,-137.17352585837855,87.33220619346687,140.0371281997814,236.68153894793073,491.9875914029525,733.6165656772343,654.1557187867322,445.1522355457639,882.5097261187833,1016.2404369427948,1066.8880377885491,875.5117537430332,924.7318546841561,1462.1190836417884,-1147.1447200370476,-1169.7930458405765,-1042.1378460450953,-550.7309321273931,-488.12906893211994,-948.713644426392,-960.7354952963975,-763.6223129637764,-569.5042831527078,-417.26706397966154,-149.49839964817141,-119.51502547501674,308.0727711742648,13.378947432446713,937.3054691603404,-1532.1338112296935,-1323.1671011315107,-1292.4173344208416,-1096.6697139139667,-1425.951182283911],\"y\":[-1410.0150006714505,-1135.0767617808935,-808.3046073267475,-1406.2979761285646,-1236.8555551549819,-831.5357722581782,-1323.2846620499872,-1502.5160474207742,-1421.5840974004716,-2263.3068532952416,512.0500348468362,952.4978409561327,768.7569507001409,1377.0716333654912,1251.6321580020633,-1640.77691520229,-734.2451654803183,-335.9573517224907,-499.25960496428434,-921.0883080005152,43.771141797126546,153.04208692515397,-168.00068630241054,-51.79096257917147,-706.4289737563156,2780.5885570105384,2683.9524761796433,2674.0133358182875,2732.2613462986446,3150.540874547778,660.6401052890814,-390.62905140307697,702.995798019327,601.833782162489,-100.19536656649589,1478.5471961080532,-638.705487067146,-578.8273667757438,-102.65768827238637,-126.47919383598779,-526.3737535207111,-1254.0142160341088,-1024.3202243601943,-1067.1987689695247,-852.7695884923062,-2056.8123506200295,-1688.7379063760152,-1356.770200765692,-1281.3068689843462,-1575.769269999936,1058.97931554438,1188.593083197045,1284.0354414616838,862.2707313318213,852.4047043394197,460.5403460407445,343.7861731406699,480.62005443939915,503.7675873706328,279.8518376825012,-321.0917386514451,-344.8932195224751,-42.5463078057719,-187.0803047254586,-1223.4357067369785,71.64450800236332,534.139744093529,626.4069314900249,-462.3930181311512,-677.3356323637906,2536.832052851577,2804.8085406871805,2161.830456286288,2580.183622678819,2732.6370493779746,-1991.3737875736952,-2238.601305741081,-966.6769143688226,-615.5631754569265,-938.4006077085952,-61.65841703983023,16.244749513980857,101.61131858136383,319.6021032708151,976.7284648494348,-1405.9756588600835,-964.0538755149955,-1515.993771800807,309.724223484857,448.1566978523227,-16.31898376208181,-602.0137410484613,-500.724048499194,-273.3555956070601,1.7687940942752198,1109.7503006818313,1018.6234708988218,945.1398902987905,913.1719276537775,829.3397498030959,1220.8197107109786,1244.4896262795817,1205.6297346856222,1638.763427926167,1544.2526627922098,1010.0658180138088,842.4336490305411,1285.3629177567245,-187.65315542406543,-91.47869527699879,-742.4654124657147,-928.5997870656655,-947.7953640323968,-75.12277445983236,262.8643897619913,-369.05384813340663,181.0007875071914,-397.05016091251446,688.8532228974844,886.3785249124297,-276.3395663809524,1373.7955632121282,1873.660395616991,1935.3828994860776,1902.0480073456106,-670.5665185971325,222.09066066889912,250.53268192864812,-73.08657984682111,-291.9066714584926,1293.515608483221,1562.6800905517564,1423.3306465790652,1577.2302130255991,524.8966442579933,3080.6626430380184,2911.9330777696064,2816.5731500262914,3180.361547165587,3593.87193217585,-519.6096812387568,-485.5894768769905,778.2654021846803,42.25427230573917,-444.4404980635569,-2436.1438094537666,-975.0601704074223,-1144.6425246394092,-1178.9201453341536,-2068.149699014289,353.8807997351392,2483.716473202069,535.425113090648,2553.4290286073438,2498.2185339007274,-1278.904048616104,-1171.9289592716254,-539.427795756914,-1454.2545946020439,-935.7898880484261,2715.131986382416,2777.1659815752446,2977.1437301564015,3139.324645004208,2089.3591621715987,-862.407682539303,-701.4346740844658,-381.41385535947495,-1693.6036324345403,-1673.7893790140195,-1221.4625398567262,-1838.35744686806,-2081.2006828369194,-178.05415872981325,-1832.406309094458,-521.4449833693246,-750.9954167267123,-1120.8817111461888,-330.2245770651773,-2020.0791542278694,-2186.5104177590565,-1936.6673541026328,-2273.456169057989,-3031.318879098181,-3411.059042558951,-1413.2014370895756,-456.15529307430904,-1590.7165190075068,-1672.5896086480832,-1768.6096965818076,-679.7019795971539,-228.95803052543508,-1791.9385172734846,-735.51748366347,-1188.5859215037094,-897.7354358024985,-1051.6409793070477,-826.522995662588,-1351.8268268311222,-1602.3575206158187],\"z\":[-1786.8754088952346,313.62879800023904,-795.659058637607,-390.822041199052,-553.4762110844209,332.69588090101485,-368.33858287199746,-764.4842078919474,-582.286716040161,-1183.7408910071968,-1342.8757299392662,-726.1690614935352,-1248.345779483266,-1285.2418118600142,-1321.8374283764886,-348.23750839095015,856.4738917247133,1165.068424425372,1162.9048272060534,778.6784235258051,1798.986704060342,2019.9162899724577,1768.9755784361669,1770.5330435645883,1076.4735490384294,741.0343016532448,553.2990588423266,561.0052135638784,770.9125344595017,1238.7727707828658,-1445.2091860539801,982.2925756283657,-1512.2365151749755,-1464.1185146915507,914.7876739251627,-2062.6128652632488,-1915.0989987065689,-1551.177782576238,-1116.839071060948,-1245.562262880444,-1455.0610318124325,-1541.479280628333,-840.5695835648223,-763.9737012943067,-1631.8980537052582,228.71569845725907,732.4087042095783,1430.2358799341346,735.8089405157407,932.4562893837684,-1169.1154481944257,-884.3941635210473,-785.7333286971269,-1466.1056884163834,-1558.6216472150863,-1538.2369284788065,-1576.3123395438247,-1327.096914389152,-1538.8725969380068,-1446.6070258446362,-364.7419160446921,-257.758785719781,-562.4499062404675,-735.6498385630936,-1435.8540269334055,332.59758229450694,733.2066288868493,962.9588027156838,274.12019149247993,197.71200943787176,-258.7997807855608,78.54795358806362,-244.74713376161353,-146.83463153003532,-202.4114861083476,288.6860927535663,-407.5063418417835,574.826113223316,1101.231692722854,484.27359576928154,-2145.488748085427,-2147.0839006919177,-1700.9911725777647,-2163.14938783206,-1579.0656909797442,1019.1887699054648,770.6779680888812,673.6500243999984,1736.4643666513298,1801.487991477613,1253.5187304282513,1621.4641305216094,1028.5470746008764,1464.90927190537,1456.8165045497462,-1049.2880731956204,-1246.4270410124138,-1325.7041756282485,-1265.353118463698,-1331.2922578365024,1300.9592155166713,-1069.2584502150235,1494.3918481690814,-220.68730378314143,-810.152105014242,695.5165640045532,726.1787889915745,692.9753555306221,35.914200331367425,136.06947000165556,485.3905410259973,405.93559444676094,201.73519142949192,964.5515787007273,1285.2078862529577,-206.83905699154334,58.22631116906728,170.65670594942085,127.40852038763133,617.7581131199397,568.8685079369234,-633.5142970192334,-425.7839168082195,-246.45915295156465,-53.600329903409296,-775.8226548464712,-381.11756499489735,-153.67520908007512,-584.3472236584352,-818.8385531705011,350.08546926709977,432.6579291873674,451.42736047726,583.2832896063272,-677.8836853768498,68.68084466860151,-19.38567952477754,-21.562240425608998,204.5397632462889,722.3845079651165,1940.7184050868748,1393.2796085138043,965.7262095521761,1509.5307512123172,492.98473031989755,-1582.7222880245483,-1231.0859896467791,-1719.0148611021439,-1891.7412753933827,-1314.7070921029087,1384.5376404138362,237.5889896548956,1527.8347458378387,418.35632909381167,178.63013882443235,646.5700012073477,518.1961527914981,903.2963682586534,-121.87759172587307,540.4358044217623,622.2140671265886,507.3865516506791,646.1451738149257,469.15824285971087,777.6542403424282,439.178280323417,-172.62398640353297,421.1665623853753,-519.4817161842261,-760.9183811457432,1481.7012515310498,675.607043071498,751.2200936135548,2375.4410920364876,971.7071832587909,2152.7738010318217,1814.4621791190848,1655.9938008351612,2189.6872718007676,1081.1351905816189,1206.0928853856517,1341.5111030548392,1131.3778265029728,613.9091494038859,655.3096123661833,-1450.5330066910503,-1380.1357449453449,-1531.769111797051,-867.936051241689,-1309.892935151968,-582.1566671342697,-513.9966804128335,-1372.596842349363,-449.2933264336814,-1237.6063859322223,500.3062552735461,709.7369371162195,421.5354197886,257.26877143290716,185.81817133341357],\"type\":\"scatter3d\"}],                        {\"template\":{\"data\":{\"histogram2dcontour\":[{\"type\":\"histogram2dcontour\",\"colorbar\":{\"outlinewidth\":0,\"ticks\":\"\"},\"colorscale\":[[0.0,\"#0d0887\"],[0.1111111111111111,\"#46039f\"],[0.2222222222222222,\"#7201a8\"],[0.3333333333333333,\"#9c179e\"],[0.4444444444444444,\"#bd3786\"],[0.5555555555555556,\"#d8576b\"],[0.6666666666666666,\"#ed7953\"],[0.7777777777777778,\"#fb9f3a\"],[0.8888888888888888,\"#fdca26\"],[1.0,\"#f0f921\"]]}],\"choropleth\":[{\"type\":\"choropleth\",\"colorbar\":{\"outlinewidth\":0,\"ticks\":\"\"}}],\"histogram2d\":[{\"type\":\"histogram2d\",\"colorbar\":{\"outlinewidth\":0,\"ticks\":\"\"},\"colorscale\":[[0.0,\"#0d0887\"],[0.1111111111111111,\"#46039f\"],[0.2222222222222222,\"#7201a8\"],[0.3333333333333333,\"#9c179e\"],[0.4444444444444444,\"#bd3786\"],[0.5555555555555556,\"#d8576b\"],[0.6666666666666666,\"#ed7953\"],[0.7777777777777778,\"#fb9f3a\"],[0.8888888888888888,\"#fdca26\"],[1.0,\"#f0f921\"]]}],\"heatmap\":[{\"type\":\"heatmap\",\"colorbar\":{\"outlinewidth\":0,\"ticks\":\"\"},\"colorscale\":[[0.0,\"#0d0887\"],[0.1111111111111111,\"#46039f\"],[0.2222222222222222,\"#7201a8\"],[0.3333333333333333,\"#9c179e\"],[0.4444444444444444,\"#bd3786\"],[0.5555555555555556,\"#d8576b\"],[0.6666666666666666,\"#ed7953\"],[0.7777777777777778,\"#fb9f3a\"],[0.8888888888888888,\"#fdca26\"],[1.0,\"#f0f921\"]]}],\"heatmapgl\":[{\"type\":\"heatmapgl\",\"colorbar\":{\"outlinewidth\":0,\"ticks\":\"\"},\"colorscale\":[[0.0,\"#0d0887\"],[0.1111111111111111,\"#46039f\"],[0.2222222222222222,\"#7201a8\"],[0.3333333333333333,\"#9c179e\"],[0.4444444444444444,\"#bd3786\"],[0.5555555555555556,\"#d8576b\"],[0.6666666666666666,\"#ed7953\"],[0.7777777777777778,\"#fb9f3a\"],[0.8888888888888888,\"#fdca26\"],[1.0,\"#f0f921\"]]}],\"contourcarpet\":[{\"type\":\"contourcarpet\",\"colorbar\":{\"outlinewidth\":0,\"ticks\":\"\"}}],\"contour\":[{\"type\":\"contour\",\"colorbar\":{\"outlinewidth\":0,\"ticks\":\"\"},\"colorscale\":[[0.0,\"#0d0887\"],[0.1111111111111111,\"#46039f\"],[0.2222222222222222,\"#7201a8\"],[0.3333333333333333,\"#9c179e\"],[0.4444444444444444,\"#bd3786\"],[0.5555555555555556,\"#d8576b\"],[0.6666666666666666,\"#ed7953\"],[0.7777777777777778,\"#fb9f3a\"],[0.8888888888888888,\"#fdca26\"],[1.0,\"#f0f921\"]]}],\"surface\":[{\"type\":\"surface\",\"colorbar\":{\"outlinewidth\":0,\"ticks\":\"\"},\"colorscale\":[[0.0,\"#0d0887\"],[0.1111111111111111,\"#46039f\"],[0.2222222222222222,\"#7201a8\"],[0.3333333333333333,\"#9c179e\"],[0.4444444444444444,\"#bd3786\"],[0.5555555555555556,\"#d8576b\"],[0.6666666666666666,\"#ed7953\"],[0.7777777777777778,\"#fb9f3a\"],[0.8888888888888888,\"#fdca26\"],[1.0,\"#f0f921\"]]}],\"mesh3d\":[{\"type\":\"mesh3d\",\"colorbar\":{\"outlinewidth\":0,\"ticks\":\"\"}}],\"scatter\":[{\"fillpattern\":{\"fillmode\":\"overlay\",\"size\":10,\"solidity\":0.2},\"type\":\"scatter\"}],\"parcoords\":[{\"type\":\"parcoords\",\"line\":{\"colorbar\":{\"outlinewidth\":0,\"ticks\":\"\"}}}],\"scatterpolargl\":[{\"type\":\"scatterpolargl\",\"marker\":{\"colorbar\":{\"outlinewidth\":0,\"ticks\":\"\"}}}],\"bar\":[{\"error_x\":{\"color\":\"#2a3f5f\"},\"error_y\":{\"color\":\"#2a3f5f\"},\"marker\":{\"line\":{\"color\":\"#E5ECF6\",\"width\":0.5},\"pattern\":{\"fillmode\":\"overlay\",\"size\":10,\"solidity\":0.2}},\"type\":\"bar\"}],\"scattergeo\":[{\"type\":\"scattergeo\",\"marker\":{\"colorbar\":{\"outlinewidth\":0,\"ticks\":\"\"}}}],\"scatterpolar\":[{\"type\":\"scatterpolar\",\"marker\":{\"colorbar\":{\"outlinewidth\":0,\"ticks\":\"\"}}}],\"histogram\":[{\"marker\":{\"pattern\":{\"fillmode\":\"overlay\",\"size\":10,\"solidity\":0.2}},\"type\":\"histogram\"}],\"scattergl\":[{\"type\":\"scattergl\",\"marker\":{\"colorbar\":{\"outlinewidth\":0,\"ticks\":\"\"}}}],\"scatter3d\":[{\"type\":\"scatter3d\",\"line\":{\"colorbar\":{\"outlinewidth\":0,\"ticks\":\"\"}},\"marker\":{\"colorbar\":{\"outlinewidth\":0,\"ticks\":\"\"}}}],\"scattermapbox\":[{\"type\":\"scattermapbox\",\"marker\":{\"colorbar\":{\"outlinewidth\":0,\"ticks\":\"\"}}}],\"scatterternary\":[{\"type\":\"scatterternary\",\"marker\":{\"colorbar\":{\"outlinewidth\":0,\"ticks\":\"\"}}}],\"scattercarpet\":[{\"type\":\"scattercarpet\",\"marker\":{\"colorbar\":{\"outlinewidth\":0,\"ticks\":\"\"}}}],\"carpet\":[{\"aaxis\":{\"endlinecolor\":\"#2a3f5f\",\"gridcolor\":\"white\",\"linecolor\":\"white\",\"minorgridcolor\":\"white\",\"startlinecolor\":\"#2a3f5f\"},\"baxis\":{\"endlinecolor\":\"#2a3f5f\",\"gridcolor\":\"white\",\"linecolor\":\"white\",\"minorgridcolor\":\"white\",\"startlinecolor\":\"#2a3f5f\"},\"type\":\"carpet\"}],\"table\":[{\"cells\":{\"fill\":{\"color\":\"#EBF0F8\"},\"line\":{\"color\":\"white\"}},\"header\":{\"fill\":{\"color\":\"#C8D4E3\"},\"line\":{\"color\":\"white\"}},\"type\":\"table\"}],\"barpolar\":[{\"marker\":{\"line\":{\"color\":\"#E5ECF6\",\"width\":0.5},\"pattern\":{\"fillmode\":\"overlay\",\"size\":10,\"solidity\":0.2}},\"type\":\"barpolar\"}],\"pie\":[{\"automargin\":true,\"type\":\"pie\"}]},\"layout\":{\"autotypenumbers\":\"strict\",\"colorway\":[\"#636efa\",\"#EF553B\",\"#00cc96\",\"#ab63fa\",\"#FFA15A\",\"#19d3f3\",\"#FF6692\",\"#B6E880\",\"#FF97FF\",\"#FECB52\"],\"font\":{\"color\":\"#2a3f5f\"},\"hovermode\":\"closest\",\"hoverlabel\":{\"align\":\"left\"},\"paper_bgcolor\":\"white\",\"plot_bgcolor\":\"#E5ECF6\",\"polar\":{\"bgcolor\":\"#E5ECF6\",\"angularaxis\":{\"gridcolor\":\"white\",\"linecolor\":\"white\",\"ticks\":\"\"},\"radialaxis\":{\"gridcolor\":\"white\",\"linecolor\":\"white\",\"ticks\":\"\"}},\"ternary\":{\"bgcolor\":\"#E5ECF6\",\"aaxis\":{\"gridcolor\":\"white\",\"linecolor\":\"white\",\"ticks\":\"\"},\"baxis\":{\"gridcolor\":\"white\",\"linecolor\":\"white\",\"ticks\":\"\"},\"caxis\":{\"gridcolor\":\"white\",\"linecolor\":\"white\",\"ticks\":\"\"}},\"coloraxis\":{\"colorbar\":{\"outlinewidth\":0,\"ticks\":\"\"}},\"colorscale\":{\"sequential\":[[0.0,\"#0d0887\"],[0.1111111111111111,\"#46039f\"],[0.2222222222222222,\"#7201a8\"],[0.3333333333333333,\"#9c179e\"],[0.4444444444444444,\"#bd3786\"],[0.5555555555555556,\"#d8576b\"],[0.6666666666666666,\"#ed7953\"],[0.7777777777777778,\"#fb9f3a\"],[0.8888888888888888,\"#fdca26\"],[1.0,\"#f0f921\"]],\"sequentialminus\":[[0.0,\"#0d0887\"],[0.1111111111111111,\"#46039f\"],[0.2222222222222222,\"#7201a8\"],[0.3333333333333333,\"#9c179e\"],[0.4444444444444444,\"#bd3786\"],[0.5555555555555556,\"#d8576b\"],[0.6666666666666666,\"#ed7953\"],[0.7777777777777778,\"#fb9f3a\"],[0.8888888888888888,\"#fdca26\"],[1.0,\"#f0f921\"]],\"diverging\":[[0,\"#8e0152\"],[0.1,\"#c51b7d\"],[0.2,\"#de77ae\"],[0.3,\"#f1b6da\"],[0.4,\"#fde0ef\"],[0.5,\"#f7f7f7\"],[0.6,\"#e6f5d0\"],[0.7,\"#b8e186\"],[0.8,\"#7fbc41\"],[0.9,\"#4d9221\"],[1,\"#276419\"]]},\"xaxis\":{\"gridcolor\":\"white\",\"linecolor\":\"white\",\"ticks\":\"\",\"title\":{\"standoff\":15},\"zerolinecolor\":\"white\",\"automargin\":true,\"zerolinewidth\":2},\"yaxis\":{\"gridcolor\":\"white\",\"linecolor\":\"white\",\"ticks\":\"\",\"title\":{\"standoff\":15},\"zerolinecolor\":\"white\",\"automargin\":true,\"zerolinewidth\":2},\"scene\":{\"xaxis\":{\"backgroundcolor\":\"#E5ECF6\",\"gridcolor\":\"white\",\"linecolor\":\"white\",\"showbackground\":true,\"ticks\":\"\",\"zerolinecolor\":\"white\",\"gridwidth\":2},\"yaxis\":{\"backgroundcolor\":\"#E5ECF6\",\"gridcolor\":\"white\",\"linecolor\":\"white\",\"showbackground\":true,\"ticks\":\"\",\"zerolinecolor\":\"white\",\"gridwidth\":2},\"zaxis\":{\"backgroundcolor\":\"#E5ECF6\",\"gridcolor\":\"white\",\"linecolor\":\"white\",\"showbackground\":true,\"ticks\":\"\",\"zerolinecolor\":\"white\",\"gridwidth\":2}},\"shapedefaults\":{\"line\":{\"color\":\"#2a3f5f\"}},\"annotationdefaults\":{\"arrowcolor\":\"#2a3f5f\",\"arrowhead\":0,\"arrowwidth\":1},\"geo\":{\"bgcolor\":\"white\",\"landcolor\":\"#E5ECF6\",\"subunitcolor\":\"white\",\"showland\":true,\"showlakes\":true,\"lakecolor\":\"white\"},\"title\":{\"x\":0.05},\"mapbox\":{\"style\":\"light\"}}},\"scene\":{\"domain\":{\"x\":[0.0,1.0],\"y\":[0.0,1.0]},\"xaxis\":{\"title\":{\"text\":\"PC 1\"}},\"yaxis\":{\"title\":{\"text\":\"PC 2\"}},\"zaxis\":{\"title\":{\"text\":\"PC 3\"}}},\"coloraxis\":{\"colorbar\":{\"title\":{\"text\":\"color\"}},\"colorscale\":[[0.0,\"#0d0887\"],[0.1111111111111111,\"#46039f\"],[0.2222222222222222,\"#7201a8\"],[0.3333333333333333,\"#9c179e\"],[0.4444444444444444,\"#bd3786\"],[0.5555555555555556,\"#d8576b\"],[0.6666666666666666,\"#ed7953\"],[0.7777777777777778,\"#fb9f3a\"],[0.8888888888888888,\"#fdca26\"],[1.0,\"#f0f921\"]]},\"legend\":{\"tracegroupgap\":0},\"margin\":{\"t\":60}},                        {\"responsive\": true}                    ).then(function(){\n",
              "                            \n",
              "var gd = document.getElementById('20253b5c-3584-4c4f-a82a-a2127e7e3e48');\n",
              "var x = new MutationObserver(function (mutations, observer) {{\n",
              "        var display = window.getComputedStyle(gd).display;\n",
              "        if (!display || display === 'none') {{\n",
              "            console.log([gd, 'removed!']);\n",
              "            Plotly.purge(gd);\n",
              "            observer.disconnect();\n",
              "        }}\n",
              "}});\n",
              "\n",
              "// Listen for the removal of the full notebook cells\n",
              "var notebookContainer = gd.closest('#notebook-container');\n",
              "if (notebookContainer) {{\n",
              "    x.observe(notebookContainer, {childList: true});\n",
              "}}\n",
              "\n",
              "// Listen for the clearing of the current output cell\n",
              "var outputEl = gd.closest('.output');\n",
              "if (outputEl) {{\n",
              "    x.observe(outputEl, {childList: true});\n",
              "}}\n",
              "\n",
              "                        })                };                            </script>        </div>\n",
              "</body>\n",
              "</html>"
            ]
          },
          "metadata": {}
        }
      ]
    },
    {
      "cell_type": "code",
      "source": [
        "# Create a KernelPCA object with the desired kernel and number of components\n",
        "kpca = KernelPCA(kernel='linear', n_components=110)\n",
        "\n",
        "# Fit and transform the data using scikit-learn\n",
        "data_kpca_sklearn = kpca.fit_transform(train_x)\n",
        "\n",
        "print(\"Kernel PCA with Scikit-Learn:\")\n",
        "print(data_kpca_sklearn)"
      ],
      "metadata": {
        "colab": {
          "base_uri": "https://localhost:8080/"
        },
        "id": "Zh1DJ8mySALW",
        "outputId": "e015a3c5-736d-4d44-f1df-d950dcb3f446"
      },
      "id": "Zh1DJ8mySALW",
      "execution_count": null,
      "outputs": [
        {
          "output_type": "stream",
          "name": "stdout",
          "text": [
            "Kernel PCA with Scikit-Learn:\n",
            "[[ 1362.40471908 -1410.01500067 -1786.8754089  ...  -150.11133984\n",
            "   -104.67869886   227.85254569]\n",
            " [ 2903.70161117 -1135.07676178   313.628798   ...   -28.35171053\n",
            "   -245.51096308    56.21974735]\n",
            " [ 2572.25743345  -808.30460733  -795.65905864 ...    81.35025913\n",
            "    337.77601404   150.22696891]\n",
            " ...\n",
            " [-1292.41733442  -826.52299566   421.53541979 ...   -90.70276079\n",
            "     32.43882049   -37.63505263]\n",
            " [-1096.66971391 -1351.82682683   257.26877143 ...   129.08823955\n",
            "    142.0174865     30.07607103]\n",
            " [-1425.95118228 -1602.35752062   185.81817133 ...   -33.17066351\n",
            "      9.99205292  -144.11871477]]\n"
          ]
        }
      ]
    },
    {
      "cell_type": "markdown",
      "source": [
        "#Part 3: Testing and Evaluation"
      ],
      "metadata": {
        "id": "YpfszKkm7hcq"
      },
      "id": "YpfszKkm7hcq"
    },
    {
      "cell_type": "markdown",
      "source": [
        "##3.1 Applying PCA and KPCA to the Test Dataset:"
      ],
      "metadata": {
        "id": "F5-W9L1B7kCA"
      },
      "id": "F5-W9L1B7kCA"
    },
    {
      "cell_type": "markdown",
      "source": [
        "The first step to testing the PCA and KPCA in a classification experiment is to train the PCA and KPCAs on the training data and then project the testing data. The following code does this using the PCA and KPCA models (rbf and poly) built from scratch, with 110 components being retained."
      ],
      "metadata": {
        "id": "v0ZjztLOSu7f"
      },
      "id": "v0ZjztLOSu7f"
    },
    {
      "cell_type": "markdown",
      "source": [
        "###a. Use the PCA and KPCA models (both RBF and Polynomial) trained on the Train dataset to transform the Test dataset."
      ],
      "metadata": {
        "id": "K212api67ls8"
      },
      "id": "K212api67ls8"
    },
    {
      "cell_type": "code",
      "source": [
        "pca_test_data_centered = test_x - np.mean(test_x, axis=0)\n",
        "test_data_pca = np.dot(pca_test_data_centered, pca_train_eigenvector[:, :component_number])\n",
        "print(test_data_pca)"
      ],
      "metadata": {
        "colab": {
          "base_uri": "https://localhost:8080/"
        },
        "id": "lmgRg0fEtwqN",
        "outputId": "ea695d45-b18c-4577-e51c-521f6506962a"
      },
      "id": "lmgRg0fEtwqN",
      "execution_count": null,
      "outputs": [
        {
          "output_type": "stream",
          "name": "stdout",
          "text": [
            "[[-2646.45465876 -1061.46659057  1057.59508674 ...  -159.90103997\n",
            "    -14.3673851    -34.49274397]\n",
            " [-2562.42024767  -982.3651124    158.63246564 ...    55.41757265\n",
            "     94.01650066   125.19168299]\n",
            " [-2395.85244385  -694.7917804   1047.11967803 ...  -124.95570397\n",
            "    -68.16888119    10.71168832]\n",
            " ...\n",
            " [  918.23727285  -703.4178647  -1292.8119478  ...   -18.23498103\n",
            "   -127.97590135    34.93920812]\n",
            " [  844.42589368 -1323.18695901  -789.65202154 ...     4.43809156\n",
            "   -103.85975152    52.82745706]\n",
            " [ 1377.52242952 -1353.13378391  -544.50666228 ...   -20.50214154\n",
            "     86.54804743   -48.5163899 ]]\n"
          ]
        }
      ]
    },
    {
      "cell_type": "code",
      "source": [
        "n_samples = test_x.shape[0]\n",
        "kernel_matrix = np.zeros((n_samples, n_samples))\n",
        "\n",
        "for i in range(n_samples):\n",
        "    for j in range(n_samples):\n",
        "        kernel_matrix[i, j] = rbf_kernel(test_x[i], test_x[j], 1)\n",
        "\n",
        "# Center the kernel matrix\n",
        "one_n = np.ones((n_samples, n_samples)) / n_samples\n",
        "centered_kernel_matrix = kernel_matrix - one_n.dot(kernel_matrix) - kernel_matrix.dot(one_n) + one_n.dot(kernel_matrix).dot(one_n)\n",
        "\n",
        "test_data_kpca_rbf = np.dot(centered_kernel_matrix, kpca_train_rbf_eigenvectors[:, :component_number])\n",
        "print(test_data_kpca_rbf)"
      ],
      "metadata": {
        "colab": {
          "base_uri": "https://localhost:8080/"
        },
        "id": "mcyssUoEuBc-",
        "outputId": "112aa61a-b30d-45b5-c102-8afc58065349"
      },
      "id": "mcyssUoEuBc-",
      "execution_count": null,
      "outputs": [
        {
          "output_type": "stream",
          "name": "stdout",
          "text": [
            "[[-2.34009374e-18  1.53915821e-18 -1.89078037e-18 ...  8.73375933e-19\n",
            "  -4.00299885e-20 -1.36985913e-18]\n",
            " [-4.94993398e-02  3.48636452e-02 -1.00631918e-02 ...  1.78436343e-02\n",
            "  -2.57646184e-02 -1.62635796e-02]\n",
            " [-4.14861312e-02  3.65139023e-02  3.94963707e-04 ...  1.18432098e-02\n",
            "  -2.50737991e-02 -6.06877686e-04]\n",
            " ...\n",
            " [-9.39775070e-02 -5.43938569e-02  3.43547186e-02 ...  3.07622810e-02\n",
            "   5.76424427e-02 -6.87508821e-03]\n",
            " [ 5.02257364e-03  3.19667009e-02  2.67249554e-03 ...  2.39261454e-03\n",
            "  -4.02389482e-02  4.32499197e-03]\n",
            " [ 2.22185874e-02 -4.97922910e-02 -3.15809965e-02 ... -8.09343067e-03\n",
            "  -6.76699041e-02  2.05917913e-02]]\n"
          ]
        }
      ]
    },
    {
      "cell_type": "code",
      "source": [
        "n_samples = test_x.shape[0]\n",
        "kernel_matrix = np.zeros((n_samples, n_samples))\n",
        "\n",
        "for i in range(n_samples):\n",
        "    for j in range(n_samples):\n",
        "        kernel_matrix[i, j] = poly_kernel(test_x[i], test_x[j], 2)\n",
        "\n",
        "# Center the kernel matrix\n",
        "one_n = np.ones((n_samples, n_samples)) / n_samples\n",
        "centered_kernel_matrix = kernel_matrix - one_n.dot(kernel_matrix) - kernel_matrix.dot(one_n) + one_n.dot(kernel_matrix).dot(one_n)\n",
        "\n",
        "test_data_kpca_poly = np.dot(centered_kernel_matrix, kpca_train_poly_eigenvectors[:, :component_number])\n",
        "print(test_data_kpca_poly)"
      ],
      "metadata": {
        "colab": {
          "base_uri": "https://localhost:8080/"
        },
        "id": "4ADhZHF_vZ-F",
        "outputId": "daf7a3c5-2323-411e-de23-8803774bd144"
      },
      "id": "4ADhZHF_vZ-F",
      "execution_count": null,
      "outputs": [
        {
          "output_type": "stream",
          "name": "stdout",
          "text": [
            "[[-2.62098493e+16  3.27101350e+15 -2.50488551e+15 ...  7.90155713e+14\n",
            "  -9.27255678e+13 -2.31883994e+15]\n",
            " [-3.12862277e+16  9.07043164e+15 -6.36619443e+15 ...  2.22527279e+15\n",
            "  -6.94349741e+14  4.73860431e+14]\n",
            " [-2.71766355e+16  4.55675350e+15 -8.74864874e+14 ...  1.37100154e+15\n",
            "  -3.79849420e+14 -5.76352862e+13]\n",
            " ...\n",
            " [ 3.40249565e+15  6.18675678e+15 -3.12940633e+15 ... -2.49488505e+14\n",
            "  -2.51902210e+14  5.02496580e+14]\n",
            " [ 8.79532587e+14  8.28522291e+15 -2.36345491e+15 ... -5.84084538e+14\n",
            "  -1.68938136e+14  5.23865045e+14]\n",
            " [ 4.75901154e+15  8.52979399e+15 -1.02790873e+15 ... -1.07401744e+15\n",
            "  -6.91784224e+13 -3.17396411e+13]]\n"
          ]
        }
      ]
    },
    {
      "cell_type": "markdown",
      "source": [
        "###b. Ensure that the dimensionality reduction is consistent with the training data.\n",
        "\n"
      ],
      "metadata": {
        "id": "6nKylvtB7oCq"
      },
      "id": "6nKylvtB7oCq"
    },
    {
      "cell_type": "markdown",
      "source": [
        "The shape of the transformed data shows that the dimensionality was reduced to 110 components, which is the same number as I determined to retain at least 95% variance earlier."
      ],
      "metadata": {
        "id": "jLHF_52MS762"
      },
      "id": "jLHF_52MS762"
    },
    {
      "cell_type": "code",
      "source": [
        "print(np.shape(test_data_pca))\n",
        "print(np.shape(test_data_kpca_rbf))\n",
        "print(np.shape(test_data_kpca_poly))"
      ],
      "metadata": {
        "colab": {
          "base_uri": "https://localhost:8080/"
        },
        "id": "-dlQ3bGTwMrz",
        "outputId": "e1b7bff4-44f3-46d9-e528-6613261cff8b"
      },
      "id": "-dlQ3bGTwMrz",
      "execution_count": null,
      "outputs": [
        {
          "output_type": "stream",
          "name": "stdout",
          "text": [
            "(200, 110)\n",
            "(200, 110)\n",
            "(200, 110)\n"
          ]
        }
      ]
    },
    {
      "cell_type": "markdown",
      "source": [
        "##3.2 Classification Experiment:\n",
        "\n"
      ],
      "metadata": {
        "id": "ybw5Pqqr7plm"
      },
      "id": "ybw5Pqqr7plm"
    },
    {
      "cell_type": "markdown",
      "source": [
        "###a. Choose a minimum distance classifier to classify the  TestDataset .\n",
        "\n"
      ],
      "metadata": {
        "id": "NpxaD-Jb7rpS"
      },
      "id": "NpxaD-Jb7rpS"
    },
    {
      "cell_type": "markdown",
      "source": [
        "The classifier below classifies test data by finding the closest training datapoint to it and assigning the test data the same label. This is known as a minimum distance classifier, which is a special case of a KNN classifier where k=1."
      ],
      "metadata": {
        "id": "DmcrdJhRTY25"
      },
      "id": "DmcrdJhRTY25"
    },
    {
      "cell_type": "code",
      "source": [
        "# Function to calculate distance between two points\n",
        "def dis(x1, x2):\n",
        "    return np.linalg.norm(x1 - x2)\n",
        "\n",
        "# Function to perform classification using minimum distance\n",
        "def myclassifier(Train, Trainlabel, Test):\n",
        "    pred = []\n",
        "\n",
        "    for testpoint in Test:\n",
        "        pred_dis = []\n",
        "        for trainpoint in Train:\n",
        "            pred_dis.append(dis(testpoint, trainpoint))\n",
        "\n",
        "        # Since there are 5 labels per class in ascending order\n",
        "        # (e.g. train_y[0] = class 1)\n",
        "        pred.append(np.ceil((np.argmin(pred_dis)+1)/5))\n",
        "\n",
        "    return np.array(pred)"
      ],
      "metadata": {
        "id": "Kvd3h_0hwmjB"
      },
      "id": "Kvd3h_0hwmjB",
      "execution_count": null,
      "outputs": []
    },
    {
      "cell_type": "code",
      "source": [
        "def calculate_accuracy(true_labels, predicted_labels):\n",
        "\n",
        "    #If the difference is not zero, the predicion is wrong\n",
        "    difference = predicted_labels - true_labels\n",
        "    correct_predictions = 0\n",
        "    for x in difference:\n",
        "      if x == 0:\n",
        "        correct_predictions = correct_predictions + 1\n",
        "\n",
        "    accuracy = correct_predictions / len(true_labels)\n",
        "\n",
        "    return accuracy"
      ],
      "metadata": {
        "id": "k86R7khhws3w"
      },
      "id": "k86R7khhws3w",
      "execution_count": null,
      "outputs": []
    },
    {
      "cell_type": "markdown",
      "source": [
        "### b. Evaluate the classification performance on the Test dataset using accuracy metrics.\n",
        "\n"
      ],
      "metadata": {
        "id": "p1g1dVhI7wW2"
      },
      "id": "p1g1dVhI7wW2"
    },
    {
      "cell_type": "markdown",
      "source": [
        "Finally, the code below creates predictions using the classifier and prints the predictions and accuracy of the classifier on the test data."
      ],
      "metadata": {
        "id": "NR7MKQRUT-5j"
      },
      "id": "NR7MKQRUT-5j"
    },
    {
      "cell_type": "markdown",
      "source": [
        "No PCA or KPCA applied"
      ],
      "metadata": {
        "id": "ncsVAHcpUabL"
      },
      "id": "ncsVAHcpUabL"
    },
    {
      "cell_type": "code",
      "source": [
        "predictions = myclassifier(train_x, train_y, test_x)\n",
        "print(\"Predictions:\")\n",
        "print(predictions)\n",
        "\n",
        "accuracy = calculate_accuracy(test_y, predictions)\n",
        "\n",
        "print(\"Accuracy:\")\n",
        "print(\"\")\n",
        "print(accuracy)"
      ],
      "metadata": {
        "colab": {
          "base_uri": "https://localhost:8080/"
        },
        "id": "3FmmLY0F1SLY",
        "outputId": "901f25f4-7269-4034-8c53-f0049098a54f"
      },
      "id": "3FmmLY0F1SLY",
      "execution_count": null,
      "outputs": [
        {
          "output_type": "stream",
          "name": "stdout",
          "text": [
            "Predictions:\n",
            "[ 1.  1.  1.  1.  1. 32.  2.  2.  2.  2.  3.  3.  3.  7.  3.  4.  4.  4.\n",
            "  4.  4.  5.  5.  5.  5.  5.  6.  6.  6.  6. 15.  7.  7.  7.  7.  7.  8.\n",
            "  8.  8.  1.  8. 30. 30. 17.  9.  9. 10. 10. 10. 10. 10. 11. 11. 11. 11.\n",
            "  7. 12. 12. 12. 12. 12. 13. 13. 13. 32. 13. 14. 14. 14. 14. 14. 15. 15.\n",
            " 15. 15. 15. 16. 16. 16. 16. 16. 17. 17. 17. 17. 17. 18. 18. 18. 18. 18.\n",
            " 19. 19. 19. 19. 19. 20.  9.  9.  9. 20. 21. 21. 21. 31. 21. 22. 22. 22.\n",
            " 22. 22. 23. 23. 23. 23. 23. 24. 24. 24. 24. 24. 25. 25. 25. 25. 25. 26.\n",
            " 26. 12. 26. 26. 27. 27. 27. 27. 27. 28. 28. 28. 28. 28. 29. 29. 29. 29.\n",
            " 29.  9. 17. 30. 30. 30. 31. 31. 31. 31. 31. 32. 32. 32. 32. 32. 33. 33.\n",
            " 33. 33. 33. 34. 34. 34. 34. 34. 36. 36. 35. 35. 35. 35. 36. 36. 36. 36.\n",
            " 37. 37. 37. 37. 37. 38. 38. 38. 38. 38. 39. 39. 39. 39. 39. 40. 40. 40.\n",
            " 40. 40.]\n",
            "Accuracy:\n",
            "\n",
            "0.905\n"
          ]
        }
      ]
    },
    {
      "cell_type": "markdown",
      "source": [
        "PCA"
      ],
      "metadata": {
        "id": "Nm_AFaeRUuHa"
      },
      "id": "Nm_AFaeRUuHa"
    },
    {
      "cell_type": "code",
      "source": [
        "predictions = myclassifier(pca_train_110, train_y, test_data_pca)\n",
        "print(\"Predictions:\")\n",
        "print(predictions)\n",
        "\n",
        "accuracy = calculate_accuracy(test_y, predictions)\n",
        "\n",
        "print(\"Accuracy:\")\n",
        "print(\"\")\n",
        "print(accuracy)"
      ],
      "metadata": {
        "colab": {
          "base_uri": "https://localhost:8080/"
        },
        "id": "th78IPiow2ol",
        "outputId": "07988cb8-086d-400a-ce46-5e1cc0237b53"
      },
      "id": "th78IPiow2ol",
      "execution_count": null,
      "outputs": [
        {
          "output_type": "stream",
          "name": "stdout",
          "text": [
            "Predictions:\n",
            "[ 1.  1.  1.  1.  1. 32.  2.  2.  2. 32.  3.  3.  3.  7.  3.  4.  4.  4.\n",
            "  4.  4.  5.  5.  5.  5.  5.  6.  6.  6.  6. 15.  7.  7.  7.  7.  7.  8.\n",
            "  8.  8. 20.  8. 30. 30. 17.  9.  9. 10. 10. 10. 10. 10. 11. 11. 11. 11.\n",
            "  7. 12. 12. 12. 12. 12. 13. 13. 13. 32. 13. 14. 14. 14. 14. 14. 15. 15.\n",
            " 15. 15. 15. 16. 16. 16. 16. 16. 17. 17. 17. 17. 17. 18. 18. 18. 18. 18.\n",
            " 19. 19. 19. 19. 19. 20.  9.  9. 20. 20. 21. 21. 21. 31. 21. 22. 22. 22.\n",
            " 22. 22. 23. 23. 23. 23. 23. 24. 24. 24. 24. 24. 25. 25. 14. 25. 25. 26.\n",
            " 26. 12. 26. 26. 27. 27. 27. 27. 27. 28. 28. 28. 28. 28. 29. 29. 29. 29.\n",
            " 29.  9. 17. 30. 30. 30. 31. 31. 31. 31. 31. 32. 32. 32. 32. 32. 33. 33.\n",
            " 33. 33. 33. 34. 34. 34. 34. 34. 35. 36. 35. 35. 35. 35. 36. 36. 36. 36.\n",
            " 37. 37. 37. 37. 37. 38. 38. 38. 38. 38. 39. 39. 39. 39. 39. 40. 40. 16.\n",
            " 40. 40.]\n",
            "Accuracy:\n",
            "\n",
            "0.9\n"
          ]
        }
      ]
    },
    {
      "cell_type": "markdown",
      "source": [
        "KPCA RBF"
      ],
      "metadata": {
        "id": "uIxmj8rrUvP2"
      },
      "id": "uIxmj8rrUvP2"
    },
    {
      "cell_type": "code",
      "source": [
        "predictions = myclassifier(kpca_train_rbf_110, train_y, test_data_kpca_rbf)\n",
        "print(\"Predictions:\")\n",
        "print(predictions)\n",
        "\n",
        "accuracy = calculate_accuracy(test_y, predictions)\n",
        "\n",
        "print(\"Accuracy:\")\n",
        "print(\"\")\n",
        "print(accuracy)"
      ],
      "metadata": {
        "colab": {
          "base_uri": "https://localhost:8080/"
        },
        "id": "B2yNXSSk0O5e",
        "outputId": "77f83917-1112-4f92-a1b8-ef10f6867bb0"
      },
      "id": "B2yNXSSk0O5e",
      "execution_count": null,
      "outputs": [
        {
          "output_type": "stream",
          "name": "stdout",
          "text": [
            "Predictions:\n",
            "[ 1.  1.  1.  1.  1.  2.  2.  2.  2.  2.  3.  3.  3.  3.  3.  4.  4.  4.\n",
            "  4.  4.  5.  5.  5.  5.  5.  6.  6.  6.  6.  6.  7.  7.  7.  7.  7.  8.\n",
            "  8.  8.  8.  8.  9.  9.  9.  9.  9. 10. 10. 10. 10. 10. 11. 11. 11. 11.\n",
            " 11. 12. 12. 12. 12. 12. 13. 13. 13. 13. 13. 14. 14. 14. 14. 14. 15. 15.\n",
            " 15. 15. 15. 16. 16. 16. 16. 16. 17. 17. 17. 17. 17. 18. 18. 18. 18. 18.\n",
            " 19. 19. 19. 19. 19. 20. 20. 20. 20. 20. 21. 21. 21. 21. 21. 22. 22. 22.\n",
            " 22. 22. 23. 23. 23. 23. 23. 24. 24. 24. 24. 24. 25. 25. 25. 25. 25. 26.\n",
            " 26. 26. 26. 26. 27. 27. 27. 27. 27. 28. 28. 28. 28. 28. 29. 29. 29. 29.\n",
            " 29. 30. 30. 30. 30. 30. 31. 31. 31. 31. 31. 32. 32. 32. 32. 32. 33. 33.\n",
            " 33. 33. 33. 34. 34. 34. 34. 34. 35. 35. 35. 35. 35. 36. 36. 36. 36. 36.\n",
            " 37. 37. 37. 37. 37. 38. 38. 38. 38. 38. 39. 39. 39. 39. 39. 40. 40. 40.\n",
            " 40. 40.]\n",
            "Accuracy:\n",
            "\n",
            "1.0\n"
          ]
        }
      ]
    },
    {
      "cell_type": "markdown",
      "source": [
        "KPCA Poly"
      ],
      "metadata": {
        "id": "SEmKSgJqUxw7"
      },
      "id": "SEmKSgJqUxw7"
    },
    {
      "cell_type": "code",
      "source": [
        "predictions = myclassifier(kpca_train_poly_110, train_y, test_data_kpca_poly)\n",
        "print(\"Predictions:\")\n",
        "print(predictions)\n",
        "\n",
        "accuracy = calculate_accuracy(test_y, predictions)\n",
        "\n",
        "print(\"Accuracy:\")\n",
        "print(\"\")\n",
        "print(accuracy)"
      ],
      "metadata": {
        "colab": {
          "base_uri": "https://localhost:8080/"
        },
        "id": "WvwK7fol03WY",
        "outputId": "164cfd75-bed4-48c8-df93-13ddee6820b9"
      },
      "id": "WvwK7fol03WY",
      "execution_count": null,
      "outputs": [
        {
          "output_type": "stream",
          "name": "stdout",
          "text": [
            "Predictions:\n",
            "[ 5. 36.  1.  5. 10. 34.  2.  2.  2. 30.  3.  3.  3.  3.  3.  4. 19.  4.\n",
            " 36. 36.  5.  5.  5.  5.  5. 31. 31. 31. 31. 31.  7.  7.  7.  7.  7.  8.\n",
            " 12.  8.  8.  8.  9.  9.  9.  9.  9. 36. 10. 10. 10. 10. 11. 11. 11. 11.\n",
            " 12. 12. 12. 12. 12. 12. 27. 13. 38. 14. 13. 14. 14. 14. 14. 14. 15. 15.\n",
            " 15. 15. 15.  9. 16. 40. 40. 40. 17. 17. 17. 17. 17. 18. 18. 18. 36. 18.\n",
            " 19. 19. 19. 19. 19. 20. 12.  3. 12. 12. 21. 21. 21. 21. 21. 15. 13. 22.\n",
            " 22. 15. 23. 18. 23. 23. 23. 24. 24. 27. 27. 24. 25. 25. 14. 25. 14. 12.\n",
            " 12. 12. 26. 26. 15. 27. 27. 27. 27. 28. 28. 28. 28. 28. 35. 36. 18. 18.\n",
            " 29. 12. 12.  9. 38.  9. 31. 31. 31. 31. 31. 14. 32. 32. 32.  9. 15. 15.\n",
            " 15. 15. 15. 34. 18. 34. 34. 34. 35. 35. 36. 35. 36. 36. 36. 36. 36. 36.\n",
            " 37. 37. 37. 37. 37. 23. 38. 38. 38. 38. 39. 39. 39. 39. 39. 23. 40. 40.\n",
            " 40. 40.]\n",
            "Accuracy:\n",
            "\n",
            "0.69\n"
          ]
        }
      ]
    },
    {
      "cell_type": "markdown",
      "source": [
        "#Conclusions"
      ],
      "metadata": {
        "id": "uRYG8Obh72_w"
      },
      "id": "uRYG8Obh72_w"
    },
    {
      "cell_type": "markdown",
      "source": [
        "Overall, the notebook showed that PCA and KPCA can be used to reduce the dimensionality of a data set. The original image data was high dimensional and thus difficult to visualize. By using PCA and KPCA, the data was reduced to three dimensions so that it could be plotted and visualized. The graphs showed that the classes were found in localized regions, demonstrating a degree of similarity between the images within a class and the likelihood of successful class separation during classification. To retain 95% variance, the data was transformed to 100 dimensions, which is a large reduction from the original 10304 dimensions. A significant reduction of dimensionality makes data much easier to work with. KPCA also allows the nonlinear separation of classes while reducing dimensionality. In this case, the rbf kernel KPCA was the most effective at separating the data, as highlighted by the 100 percent accuracy on the test data.\n",
        "\n",
        "\n",
        "\n",
        "The classification results show that if a minimum distance classifier is used without any PCA, the baseline accuracy is 90.5%. The classifier with PCA caused the accuracy to decrease to 90%. This makes sense because some information was lost as the original dimensionality was reduced to 110 principal components. However, this makes for a more computationally efficient classifier. On the other hand, the rbf KPCA had 100% classification accuracy, which suggests that the relationship present in the data is gaussian. The KPCA allowed the data to be separated as well as the dimensionality to be reduced. Finally, the poly KPCA accuracy was 69%, which suggests that the data does not follow a quadratic relationship (degree used was 2). Clearly, the rbf KPCA was highly effective in both dimensionality reduction and classification.\n",
        "\n",
        "\n",
        "\n",
        "Finally, implementing KPCA and PCA from scratch offers more control over sklearn. It allows you to change any of the details that you like with the implementation. However, Sklearn allows you to run a PCA very simply and quickly on your data. You can rapidly experiment with running different kernels and changing hyperparameters. Sklearn PCA and KPCA objects also provide a number of features that are more complex than one would typically include in a scratch built KPCA or PCA function. Sklearn also utilizes algorithmic differences that make their library functions computational more efficient. This means that code using Sklearn will run significantly faster than most built from scratch implementations. This was true in this notebook, where the PCA takes over 10 minutes to execute while the sklearn version takes a few seconds. While implementing these methods from scratch gives you a deeper understanding of how these techniques work, library such as Sklearn are more practical for production.\n"
      ],
      "metadata": {
        "id": "-YY-PeyK75Ml"
      },
      "id": "-YY-PeyK75Ml"
    },
    {
      "cell_type": "markdown",
      "source": [
        "#Extra 2 points:\n",
        "\n"
      ],
      "metadata": {
        "id": "XfUbVZhb79Xv"
      },
      "id": "XfUbVZhb79Xv"
    },
    {
      "cell_type": "markdown",
      "source": [
        "##Compute the covariance matrix of the label attribute in the TrainData and print it."
      ],
      "metadata": {
        "id": "LxXRrnEo8Brw"
      },
      "id": "LxXRrnEo8Brw"
    },
    {
      "cell_type": "markdown",
      "source": [
        "The covariance matrix of a single attribute is simply the variance of that attribute. The code below finds the variance (covariance matrix) of the label attribute in TrainData and prints it."
      ],
      "metadata": {
        "id": "DJd44OppVa5g"
      },
      "id": "DJd44OppVa5g"
    },
    {
      "cell_type": "code",
      "source": [
        "label_cov_matrix = np.cov(train_y, rowvar=False)\n",
        "\n",
        "# Print the covariance matrix\n",
        "print(\"Covariance Matrix of the Label Attribute:\")\n",
        "print(label_cov_matrix)"
      ],
      "metadata": {
        "colab": {
          "base_uri": "https://localhost:8080/"
        },
        "id": "PPZhOuc1nfQQ",
        "outputId": "5369a6b9-9ad7-4ab9-fe83-44e237606cf2"
      },
      "id": "PPZhOuc1nfQQ",
      "execution_count": null,
      "outputs": [
        {
          "output_type": "stream",
          "name": "stdout",
          "text": [
            "Covariance Matrix of the Label Attribute:\n",
            "133.91959798994975\n"
          ]
        }
      ]
    }
  ],
  "metadata": {
    "kernelspec": {
      "display_name": "Python 3",
      "name": "python3"
    },
    "language_info": {
      "codemirror_mode": {
        "name": "ipython",
        "version": 3
      },
      "file_extension": ".py",
      "mimetype": "text/x-python",
      "name": "python",
      "nbconvert_exporter": "python",
      "pygments_lexer": "ipython3",
      "version": "3.10.9"
    },
    "colab": {
      "provenance": [],
      "toc_visible": true
    }
  },
  "nbformat": 4,
  "nbformat_minor": 5
}